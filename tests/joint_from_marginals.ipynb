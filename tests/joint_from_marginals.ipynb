{
 "cells": [
  {
   "cell_type": "code",
   "execution_count": 1,
   "metadata": {},
   "outputs": [
    {
     "name": "stdout",
     "output_type": "stream",
     "text": [
      "/home/tommy/Scrivania/Polimi/Honours Programme/SCFR\n"
     ]
    }
   ],
   "source": [
    "cd .."
   ]
  },
  {
   "cell_type": "code",
   "execution_count": 2,
   "metadata": {},
   "outputs": [],
   "source": [
    "from data_structures.cfr_trees import *\n",
    "from data_structures.trees import *\n",
    "from cfr_code.reconstruction_cfr import *\n",
    "from cfr_code.sample_cfr import *\n",
    "from utilities.graphs import *\n",
    "from games.kuhn import build_kuhn_tree\n",
    "from games.leduc import build_leduc_tree\n",
    "from games.goofspiel import build_goofspiel_tree, TieSolver"
   ]
  },
  {
   "cell_type": "code",
   "execution_count": 3,
   "metadata": {},
   "outputs": [],
   "source": [
    "%load_ext autoreload\n",
    "%autoreload 2"
   ]
  },
  {
   "cell_type": "code",
   "execution_count": 4,
   "metadata": {},
   "outputs": [],
   "source": [
    "def test_random(d, p, i, RCFR_it, RCFR_rec_every, SCFR_it, xaxis, ybottom = 0, reconstructPlayersTogether = False,\n",
    "                show_perc = False):\n",
    "    tree = randomTree(d, p, i)\n",
    "    cfr_tree = CFRTree(tree)\n",
    "    ct1 = CFRTree(tree)\n",
    "    res1 = SolveWithReconstructionCFR(ct1, RCFR_it, show_perc = show_perc, checkEveryIteration = 1, \n",
    "                                      reconstructEveryIteration = RCFR_rec_every,\n",
    "                                      reconstructPlayersTogether = reconstructPlayersTogether,\n",
    "                                      reconstructWithOptimalPlan = False)\n",
    "    \n",
    "    #ct3 = CFRTree(tree)\n",
    "    #res3 = SolveWithReconstructionCFR(ct3, RCFR_it, show_perc = show_perc, checkEveryIteration = 1, \n",
    "    #                                  reconstructEveryIteration = RCFR_rec_every,\n",
    "    #                                  reconstructPlayersTogether = reconstructPlayersTogether,\n",
    "    #                                  reconstructWithOptimalPlan = False)\n",
    "    ct2 = CFRTree(tree)\n",
    "    res2 = SolveWithSampleCFR(ct2, SCFR_it, show_perc = show_perc, checkEveryIteration = 1)\n",
    "    comparative_epsilon_graph([res1, res2], xaxis = xaxis, ybottom = ybottom)\n",
    "    return (res1, res2, tree, ct1, ct2)"
   ]
  },
  {
   "cell_type": "code",
   "execution_count": null,
   "metadata": {},
   "outputs": [],
   "source": [
    "def test_kuhn():\n",
    "    tree = build_kuhn_tree(3, 6)\n",
    "    cfr_tree = CFRTree(tree)\n",
    "    print(\"------------ RCFR -------------\")\n",
    "    ct1 = CFRTree(tree)\n",
    "    res1 = SolveWithReconstructionCFR(ct1, 100, show_perc = True, checkEveryIteration = 1, \n",
    "                                      reconstructEveryIteration = 10)\n",
    "    print(\"------------ RCFR+ -------------\")\n",
    "    ct2 = CFRTree(tree)\n",
    "    res2 = SolveWithReconstructionCFR(ct2, 100, show_perc = True, checkEveryIteration = 1, \n",
    "                                      reconstructEveryIteration = 10, use_cfr_plus = True)\n",
    "    print(\"------------ SCFR -------------\")\n",
    "    ct3 = CFRTree(tree)\n",
    "    res3 = SolveWithSampleCFR(ct3, 100, show_perc = True, checkEveryIteration = 1)\n",
    "    comparative_epsilon_graph([res1, res2, res3], xaxis = 'time')\n",
    "    return (res1, res2, res3, tree)\n",
    "\n",
    "\n",
    "(res1, res2, res3, tree) = test_kuhn()\n",
    "    \n",
    "print(res1[\"tot_time\"])\n",
    "print(res2[\"tot_time\"])\n",
    "print(res3[\"tot_time\"])"
   ]
  },
  {
   "cell_type": "markdown",
   "metadata": {},
   "source": [
    "# Multiple players at once"
   ]
  },
  {
   "cell_type": "code",
   "execution_count": null,
   "metadata": {
    "scrolled": true
   },
   "outputs": [],
   "source": [
    "test_random(8, 3, 1, 100, 1, 100, 'iterations')"
   ]
  },
  {
   "cell_type": "code",
   "execution_count": null,
   "metadata": {},
   "outputs": [],
   "source": [
    "ct1.root.buildRealizationForm(None, 1)"
   ]
  },
  {
   "cell_type": "code",
   "execution_count": null,
   "metadata": {},
   "outputs": [],
   "source": [
    "leaves = set()\n",
    "ct1.root.find_terminals(leaves)"
   ]
  },
  {
   "cell_type": "code",
   "execution_count": null,
   "metadata": {},
   "outputs": [],
   "source": [
    "for l in leaves:\n",
    "    print(l.omega)"
   ]
  },
  {
   "cell_type": "code",
   "execution_count": null,
   "metadata": {
    "scrolled": false
   },
   "outputs": [],
   "source": [
    "(res1, res2, tree) = test_random(3, 2, 1, 100, 1, 300, 'time', ybottom = -0.5, reconstructPlayersTogether = True)"
   ]
  },
  {
   "cell_type": "code",
   "execution_count": null,
   "metadata": {},
   "outputs": [],
   "source": [
    "tree.display()"
   ]
  },
  {
   "cell_type": "code",
   "execution_count": null,
   "metadata": {},
   "outputs": [],
   "source": [
    "res1['joint'].plans"
   ]
  },
  {
   "cell_type": "code",
   "execution_count": null,
   "metadata": {},
   "outputs": [],
   "source": [
    "res1['graph_data'][-1:]"
   ]
  },
  {
   "cell_type": "code",
   "execution_count": null,
   "metadata": {},
   "outputs": [],
   "source": [
    "res2['joint'].plans"
   ]
  },
  {
   "cell_type": "code",
   "execution_count": null,
   "metadata": {},
   "outputs": [],
   "source": [
    "c_tree = CFRTree(tree)\n",
    "rrr = SolveWithReconstructionCFR(c_tree, 100, reconstructPlayersTogether = True)\n",
    "c_tree2 = CFRTree(tree)\n",
    "rrr2 = SolveWithSampleCFR(c_tree2, 100)"
   ]
  },
  {
   "cell_type": "code",
   "execution_count": null,
   "metadata": {},
   "outputs": [],
   "source": [
    "for iset in c_tree.information_sets.values():\n",
    "    print(str(iset) + \" - \" + str(iset.current_strategy))\n",
    "    \n",
    "print(\"----------------------\")\n",
    "    \n",
    "for iset in c_tree2.information_sets.values():\n",
    "    print(str(iset) + \" - \" + str(iset.current_strategy))"
   ]
  },
  {
   "cell_type": "markdown",
   "metadata": {},
   "source": [
    "# Profiling"
   ]
  },
  {
   "cell_type": "code",
   "execution_count": null,
   "metadata": {},
   "outputs": [],
   "source": [
    "%load_ext line_profiler"
   ]
  },
  {
   "cell_type": "code",
   "execution_count": null,
   "metadata": {},
   "outputs": [],
   "source": [
    "%lprun -f CFRInformationSet.updateSupportingPlan test_random(6, 3, 0, 100, 1, 100, xaxis = 'time', show_perc = True)"
   ]
  },
  {
   "cell_type": "markdown",
   "metadata": {},
   "source": [
    "# Do not optimize over plans"
   ]
  },
  {
   "cell_type": "code",
   "execution_count": null,
   "metadata": {
    "scrolled": true
   },
   "outputs": [],
   "source": [
    "dims = [(6, 2, 1),(8, 2, 1),(10, 2, 1),(12, 2, 1),(13, 2, 1),\n",
    "        (6, 2, 0),(8, 2, 0),(10, 2, 0),(12, 2, 0),(13, 2, 0)]\n",
    "\n",
    "for (d, p, i) in dims:\n",
    "    print(\"----------------\" + str((d, p, i)) + \"----------------\")\n",
    "    _ = test_random(d, p, i, 100, 1, 200, xaxis = 'time')"
   ]
  },
  {
   "cell_type": "code",
   "execution_count": null,
   "metadata": {
    "scrolled": true
   },
   "outputs": [],
   "source": [
    "dims = [(5, 3, 1),(6, 3, 1),(7, 3, 1),(8, 3, 1),(9, 3, 1),\n",
    "       (5, 3, 0),(6, 3, 0),(7, 3, 0),(8, 3, 0),(9, 3, 0)]\n",
    "\n",
    "for (d, p, i) in dims:\n",
    "    print(\"----------------\" + str((d, p, i)) + \"----------------\")\n",
    "    _ = test_random(d, p, i, 100, 1, 500, xaxis = 'time')"
   ]
  },
  {
   "cell_type": "markdown",
   "metadata": {},
   "source": [
    "# Leduc"
   ]
  },
  {
   "cell_type": "code",
   "execution_count": null,
   "metadata": {},
   "outputs": [],
   "source": [
    "def test_leduc(players, rank, show_perc = False, iterations = (100, 100, 200), reconstructEveryIteration = 1):\n",
    "    tree = build_kuhn_tree(players, rank)\n",
    "    cfr_tree = CFRTree(tree)\n",
    "    print(\"------------ RCFR -------------\")\n",
    "    ct1 = CFRTree(tree)\n",
    "    res1 = SolveWithReconstructionCFR(ct1, iterations[0], show_perc = show_perc, checkEveryIteration = 1, \n",
    "                                      reconstructEveryIteration = reconstructEveryIteration)\n",
    "    print(\"------------ RCFR_nopt -------------\")\n",
    "    ct2 = CFRTree(tree)\n",
    "    res2 = SolveWithReconstructionCFR(ct2, iterations[1], show_perc = show_perc, checkEveryIteration = 1, \n",
    "                                      reconstructEveryIteration = reconstructEveryIteration, \n",
    "                                      reconstructWithOptimalPlan = False)\n",
    "    print(\"------------ SCFR -------------\")\n",
    "    ct3 = CFRTree(tree)\n",
    "    res3 = SolveWithSampleCFR(ct3, iterations[2], show_perc = show_perc, checkEveryIteration = 1)\n",
    "    comparative_epsilon_graph([res1, res2, res3], xaxis = 'time', legend = ['RCFR','RCFR_nopt', 'SCFR'])\n",
    "    comparative_epsilon_graph([res1, res2, res3], xaxis = 'time', legend = ['RCFR','RCFR_nopt'], ylims = (0, 0.1))\n",
    "    return (res1, res2, res3, tree)"
   ]
  },
  {
   "cell_type": "code",
   "execution_count": null,
   "metadata": {},
   "outputs": [],
   "source": [
    "_ = test_leduc(3, 5, iterations = (100, 400, 500), show_perc = True)"
   ]
  },
  {
   "cell_type": "markdown",
   "metadata": {},
   "source": [
    "# Goofspiel"
   ]
  },
  {
   "cell_type": "code",
   "execution_count": 5,
   "metadata": {},
   "outputs": [],
   "source": [
    "def test_goofspiel(players, rank, show_perc = False, iterations = (100, 100, 200), reconstructEveryIteration = 1):\n",
    "    tree = build_goofspiel_tree(players, rank, tie_solver = TieSolver.Accumulate)\n",
    "    cfr_tree = CFRTree(tree)\n",
    "    print(\"------------ SCFR -------------\")\n",
    "    ct3 = CFRTree(tree)\n",
    "    res3 = SolveWithSampleCFR(ct3, iterations[2], show_perc = show_perc, checkEveryIteration = 1)\n",
    "    print(\"------------ RCFR -------------\")\n",
    "    #ct1 = CFRTree(tree)\n",
    "    #res1 = SolveWithReconstructionCFR(ct1, iterations[0], show_perc = show_perc, checkEveryIteration = 1, \n",
    "    #                                  reconstructEveryIteration = reconstructEveryIteration)\n",
    "    print(\"------------ RCFR_nopt -------------\")\n",
    "    ct2 = CFRTree(tree)\n",
    "    res2 = SolveWithReconstructionCFR(ct2, iterations[1], show_perc = show_perc, checkEveryIteration = 1, \n",
    "                                      reconstructEveryIteration = reconstructEveryIteration, \n",
    "                                      reconstructWithOptimalPlan = False)\n",
    "    comparative_epsilon_graph([res1, res2, res3], xaxis = 'time', legend = ['RCFR','RCFR_nopt', 'SCFR'])\n",
    "    comparative_epsilon_graph([res1, res2, res3], xaxis = 'time', legend = ['RCFR','RCFR_nopt'], ylims = (0, 0.1))\n",
    "    return (res1, res2, res3, tree)"
   ]
  },
  {
   "cell_type": "code",
   "execution_count": null,
   "metadata": {},
   "outputs": [
    {
     "name": "stdout",
     "output_type": "stream",
     "text": [
      "------------ SCFR -------------\n",
      "20.0%\n",
      "30.0%\n",
      "40.0%\n",
      "50.0%\n",
      "60.0%\n",
      "70.0%\n",
      "80.0%\n",
      "90.0%\n",
      "100.0%\n",
      "110.0%\n",
      "------------ RCFR -------------\n",
      "------------ RCFR_nopt -------------\n"
     ]
    }
   ],
   "source": [
    "_ = _ = test_goofspiel(3, 4, iterations = (10, 10, 10), show_perc = True)"
   ]
  },
  {
   "cell_type": "code",
   "execution_count": null,
   "metadata": {},
   "outputs": [],
   "source": []
  }
 ],
 "metadata": {
  "kernelspec": {
   "display_name": "Python 3",
   "language": "python",
   "name": "python3"
  },
  "language_info": {
   "codemirror_mode": {
    "name": "ipython",
    "version": 3
   },
   "file_extension": ".py",
   "mimetype": "text/x-python",
   "name": "python",
   "nbconvert_exporter": "python",
   "pygments_lexer": "ipython3",
   "version": "3.5.2"
  }
 },
 "nbformat": 4,
 "nbformat_minor": 2
}
