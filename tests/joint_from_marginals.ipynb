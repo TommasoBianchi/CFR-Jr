{
 "cells": [
  {
   "cell_type": "code",
   "execution_count": 1,
   "metadata": {},
   "outputs": [
    {
     "name": "stdout",
     "output_type": "stream",
     "text": [
      "/home/tommy/Scrivania/Polimi/Honours Programme/SCFR\n"
     ]
    }
   ],
   "source": [
    "cd .."
   ]
  },
  {
   "cell_type": "code",
   "execution_count": 2,
   "metadata": {},
   "outputs": [],
   "source": [
    "from data_structures.cfr_trees import *\n",
    "from data_structures.trees import *"
   ]
  },
  {
   "cell_type": "code",
   "execution_count": 3,
   "metadata": {},
   "outputs": [],
   "source": [
    "tree = randomTree(4,2,1)\n",
    "cfr_tree = CFRTree(tree)"
   ]
  },
  {
   "cell_type": "code",
   "execution_count": 4,
   "metadata": {},
   "outputs": [
    {
     "name": "stdout",
     "output_type": "stream",
     "text": [
      "(<data_structures.cfr_trees.CFRNode object at 0x7f3c6842cc18>, {2: 1, 14: 0}, 0.25)\n",
      "(<data_structures.cfr_trees.CFRNode object at 0x7f3c6842c828>, {1: 1, 9: 0}, 0.25)\n",
      "(<data_structures.cfr_trees.CFRNode object at 0x7f3c6842ca20>, {2: 0, 11: 1}, 0.25)\n",
      "(<data_structures.cfr_trees.CFRNode object at 0x7f3c6842cc50>, {2: 1, 14: 1}, 0.25)\n",
      "(<data_structures.cfr_trees.CFRNode object at 0x7f3c6842c860>, {1: 1, 9: 1}, 0.25)\n",
      "(<data_structures.cfr_trees.CFRNode object at 0x7f3c6842ca90>, {2: 0, 12: 0}, 0.25)\n",
      "(<data_structures.cfr_trees.CFRNode object at 0x7f3c6842c6a0>, {1: 0, 7: 0}, 0.25)\n",
      "(<data_structures.cfr_trees.CFRNode object at 0x7f3c6842cac8>, {2: 0, 12: 1}, 0.25)\n",
      "(<data_structures.cfr_trees.CFRNode object at 0x7f3c6842c6d8>, {1: 0, 7: 1}, 0.25)\n",
      "(<data_structures.cfr_trees.CFRNode object at 0x7f3c6842c8d0>, {1: 1, 10: 0}, 0.25)\n",
      "(<data_structures.cfr_trees.CFRNode object at 0x7f3c6842c908>, {1: 1, 10: 1}, 0.25)\n",
      "(<data_structures.cfr_trees.CFRNode object at 0x7f3c6842c748>, {8: 0, 1: 0}, 0.25)\n",
      "(<data_structures.cfr_trees.CFRNode object at 0x7f3c6842cb70>, {2: 1, 13: 0}, 0.25)\n",
      "(<data_structures.cfr_trees.CFRNode object at 0x7f3c6842c780>, {8: 1, 1: 0}, 0.25)\n",
      "(<data_structures.cfr_trees.CFRNode object at 0x7f3c6842cba8>, {2: 1, 13: 1}, 0.25)\n",
      "(<data_structures.cfr_trees.CFRNode object at 0x7f3c6842c9e8>, {2: 0, 11: 0}, 0.25)\n",
      "---------------------------\n",
      "Built plan for leaf (<data_structures.cfr_trees.CFRNode object at 0x7f3c6842c9e8>, 0.25)\n",
      "(<data_structures.cfr_trees.CFRNode object at 0x7f3c6842cc18>, {2: 1, 14: 0}, 0.0)\n",
      "(<data_structures.cfr_trees.CFRNode object at 0x7f3c6842c828>, {1: 1, 9: 0}, 0.25)\n",
      "(<data_structures.cfr_trees.CFRNode object at 0x7f3c6842ca20>, {2: 0, 11: 1}, 0.25)\n",
      "(<data_structures.cfr_trees.CFRNode object at 0x7f3c6842cc50>, {2: 1, 14: 1}, 0.25)\n",
      "(<data_structures.cfr_trees.CFRNode object at 0x7f3c6842c860>, {1: 1, 9: 1}, 0.25)\n",
      "(<data_structures.cfr_trees.CFRNode object at 0x7f3c6842ca90>, {2: 0, 12: 0}, 0.25)\n",
      "(<data_structures.cfr_trees.CFRNode object at 0x7f3c6842c6a0>, {1: 0, 7: 0}, 0.0)\n",
      "(<data_structures.cfr_trees.CFRNode object at 0x7f3c6842cac8>, {2: 0, 12: 1}, 0.25)\n",
      "(<data_structures.cfr_trees.CFRNode object at 0x7f3c6842c6d8>, {1: 0, 7: 1}, 0.25)\n",
      "(<data_structures.cfr_trees.CFRNode object at 0x7f3c6842c8d0>, {1: 1, 10: 0}, 0.25)\n",
      "(<data_structures.cfr_trees.CFRNode object at 0x7f3c6842c908>, {1: 1, 10: 1}, 0.25)\n",
      "(<data_structures.cfr_trees.CFRNode object at 0x7f3c6842c748>, {8: 0, 1: 0}, 0.0)\n",
      "(<data_structures.cfr_trees.CFRNode object at 0x7f3c6842cb70>, {2: 1, 13: 0}, 0.0)\n",
      "(<data_structures.cfr_trees.CFRNode object at 0x7f3c6842c780>, {8: 1, 1: 0}, 0.25)\n",
      "(<data_structures.cfr_trees.CFRNode object at 0x7f3c6842cba8>, {2: 1, 13: 1}, 0.25)\n",
      "(<data_structures.cfr_trees.CFRNode object at 0x7f3c6842c9e8>, {2: 0, 11: 0}, 0.25)\n",
      "---------------------------\n",
      "Built plan for leaf (<data_structures.cfr_trees.CFRNode object at 0x7f3c6842c9e8>, 0.0)\n",
      "(<data_structures.cfr_trees.CFRNode object at 0x7f3c6842cc18>, {2: 1, 14: 0}, 0.0)\n",
      "(<data_structures.cfr_trees.CFRNode object at 0x7f3c6842c828>, {1: 1, 9: 0}, 0.0)\n",
      "(<data_structures.cfr_trees.CFRNode object at 0x7f3c6842ca20>, {2: 0, 11: 1}, 0.25)\n",
      "(<data_structures.cfr_trees.CFRNode object at 0x7f3c6842cc50>, {2: 1, 14: 1}, 0.25)\n",
      "(<data_structures.cfr_trees.CFRNode object at 0x7f3c6842c860>, {1: 1, 9: 1}, 0.25)\n",
      "(<data_structures.cfr_trees.CFRNode object at 0x7f3c6842ca90>, {2: 0, 12: 0}, 0.0)\n",
      "(<data_structures.cfr_trees.CFRNode object at 0x7f3c6842c6a0>, {1: 0, 7: 0}, 0.0)\n",
      "(<data_structures.cfr_trees.CFRNode object at 0x7f3c6842cac8>, {2: 0, 12: 1}, 0.25)\n",
      "(<data_structures.cfr_trees.CFRNode object at 0x7f3c6842c6d8>, {1: 0, 7: 1}, 0.25)\n",
      "(<data_structures.cfr_trees.CFRNode object at 0x7f3c6842c8d0>, {1: 1, 10: 0}, 0.0)\n",
      "(<data_structures.cfr_trees.CFRNode object at 0x7f3c6842c908>, {1: 1, 10: 1}, 0.25)\n",
      "(<data_structures.cfr_trees.CFRNode object at 0x7f3c6842c748>, {8: 0, 1: 0}, 0.0)\n",
      "(<data_structures.cfr_trees.CFRNode object at 0x7f3c6842cb70>, {2: 1, 13: 0}, 0.0)\n",
      "(<data_structures.cfr_trees.CFRNode object at 0x7f3c6842c780>, {8: 1, 1: 0}, 0.25)\n",
      "(<data_structures.cfr_trees.CFRNode object at 0x7f3c6842cba8>, {2: 1, 13: 1}, 0.25)\n",
      "(<data_structures.cfr_trees.CFRNode object at 0x7f3c6842c9e8>, {2: 0, 11: 0}, 0.0)\n",
      "---------------------------\n",
      "Built plan for leaf (<data_structures.cfr_trees.CFRNode object at 0x7f3c6842c9e8>, 0.0)\n",
      "(<data_structures.cfr_trees.CFRNode object at 0x7f3c6842cc18>, {2: 1, 14: 0}, 0.0)\n",
      "(<data_structures.cfr_trees.CFRNode object at 0x7f3c6842c828>, {1: 1, 9: 0}, 0.0)\n",
      "(<data_structures.cfr_trees.CFRNode object at 0x7f3c6842ca20>, {2: 0, 11: 1}, 0.0)\n",
      "(<data_structures.cfr_trees.CFRNode object at 0x7f3c6842cc50>, {2: 1, 14: 1}, 0.25)\n",
      "(<data_structures.cfr_trees.CFRNode object at 0x7f3c6842c860>, {1: 1, 9: 1}, 0.25)\n",
      "(<data_structures.cfr_trees.CFRNode object at 0x7f3c6842ca90>, {2: 0, 12: 0}, 0.0)\n",
      "(<data_structures.cfr_trees.CFRNode object at 0x7f3c6842c6a0>, {1: 0, 7: 0}, 0.0)\n",
      "(<data_structures.cfr_trees.CFRNode object at 0x7f3c6842cac8>, {2: 0, 12: 1}, 0.0)\n",
      "(<data_structures.cfr_trees.CFRNode object at 0x7f3c6842c6d8>, {1: 0, 7: 1}, 0.0)\n",
      "(<data_structures.cfr_trees.CFRNode object at 0x7f3c6842c8d0>, {1: 1, 10: 0}, 0.0)\n",
      "(<data_structures.cfr_trees.CFRNode object at 0x7f3c6842c908>, {1: 1, 10: 1}, 0.25)\n",
      "(<data_structures.cfr_trees.CFRNode object at 0x7f3c6842c748>, {8: 0, 1: 0}, 0.0)\n",
      "(<data_structures.cfr_trees.CFRNode object at 0x7f3c6842cb70>, {2: 1, 13: 0}, 0.0)\n",
      "(<data_structures.cfr_trees.CFRNode object at 0x7f3c6842c780>, {8: 1, 1: 0}, 0.0)\n",
      "(<data_structures.cfr_trees.CFRNode object at 0x7f3c6842cba8>, {2: 1, 13: 1}, 0.25)\n",
      "(<data_structures.cfr_trees.CFRNode object at 0x7f3c6842c9e8>, {2: 0, 11: 0}, 0.0)\n",
      "---------------------------\n",
      "Built plan for leaf (<data_structures.cfr_trees.CFRNode object at 0x7f3c6842c9e8>, 0.0)\n",
      "(<data_structures.cfr_trees.CFRNode object at 0x7f3c6842cc18>, {2: 1, 14: 0}, 0.0)\n",
      "(<data_structures.cfr_trees.CFRNode object at 0x7f3c6842c828>, {1: 1, 9: 0}, 0.0)\n",
      "(<data_structures.cfr_trees.CFRNode object at 0x7f3c6842ca20>, {2: 0, 11: 1}, 0.0)\n",
      "(<data_structures.cfr_trees.CFRNode object at 0x7f3c6842cc50>, {2: 1, 14: 1}, 0.25)\n",
      "(<data_structures.cfr_trees.CFRNode object at 0x7f3c6842c860>, {1: 1, 9: 1}, 0.25)\n",
      "(<data_structures.cfr_trees.CFRNode object at 0x7f3c6842ca90>, {2: 0, 12: 0}, 0.0)\n",
      "(<data_structures.cfr_trees.CFRNode object at 0x7f3c6842c6a0>, {1: 0, 7: 0}, 0.0)\n",
      "(<data_structures.cfr_trees.CFRNode object at 0x7f3c6842cac8>, {2: 0, 12: 1}, 0.0)\n",
      "(<data_structures.cfr_trees.CFRNode object at 0x7f3c6842c6d8>, {1: 0, 7: 1}, 0.0)\n",
      "(<data_structures.cfr_trees.CFRNode object at 0x7f3c6842c8d0>, {1: 1, 10: 0}, 0.0)\n",
      "(<data_structures.cfr_trees.CFRNode object at 0x7f3c6842c908>, {1: 1, 10: 1}, 0.25)\n",
      "(<data_structures.cfr_trees.CFRNode object at 0x7f3c6842c748>, {8: 0, 1: 0}, 0.0)\n",
      "(<data_structures.cfr_trees.CFRNode object at 0x7f3c6842cb70>, {2: 1, 13: 0}, 0.0)\n",
      "(<data_structures.cfr_trees.CFRNode object at 0x7f3c6842c780>, {8: 1, 1: 0}, 0.0)\n",
      "(<data_structures.cfr_trees.CFRNode object at 0x7f3c6842cba8>, {2: 1, 13: 1}, 0.25)\n",
      "(<data_structures.cfr_trees.CFRNode object at 0x7f3c6842c9e8>, {2: 0, 11: 0}, 0.0)\n",
      "---------------------------\n",
      "Built plan for leaf (<data_structures.cfr_trees.CFRNode object at 0x7f3c6842c9e8>, 0.0)\n",
      "(<data_structures.cfr_trees.CFRNode object at 0x7f3c6842cc18>, {2: 1, 14: 0}, 0.0)\n",
      "(<data_structures.cfr_trees.CFRNode object at 0x7f3c6842c828>, {1: 1, 9: 0}, 0.0)\n",
      "(<data_structures.cfr_trees.CFRNode object at 0x7f3c6842ca20>, {2: 0, 11: 1}, 0.0)\n",
      "(<data_structures.cfr_trees.CFRNode object at 0x7f3c6842cc50>, {2: 1, 14: 1}, 0.25)\n",
      "(<data_structures.cfr_trees.CFRNode object at 0x7f3c6842c860>, {1: 1, 9: 1}, 0.25)\n",
      "(<data_structures.cfr_trees.CFRNode object at 0x7f3c6842ca90>, {2: 0, 12: 0}, 0.0)\n",
      "(<data_structures.cfr_trees.CFRNode object at 0x7f3c6842c6a0>, {1: 0, 7: 0}, 0.0)\n",
      "(<data_structures.cfr_trees.CFRNode object at 0x7f3c6842cac8>, {2: 0, 12: 1}, 0.0)\n",
      "(<data_structures.cfr_trees.CFRNode object at 0x7f3c6842c6d8>, {1: 0, 7: 1}, 0.0)\n",
      "(<data_structures.cfr_trees.CFRNode object at 0x7f3c6842c8d0>, {1: 1, 10: 0}, 0.0)\n",
      "(<data_structures.cfr_trees.CFRNode object at 0x7f3c6842c908>, {1: 1, 10: 1}, 0.25)\n",
      "(<data_structures.cfr_trees.CFRNode object at 0x7f3c6842c748>, {8: 0, 1: 0}, 0.0)\n",
      "(<data_structures.cfr_trees.CFRNode object at 0x7f3c6842cb70>, {2: 1, 13: 0}, 0.0)\n",
      "(<data_structures.cfr_trees.CFRNode object at 0x7f3c6842c780>, {8: 1, 1: 0}, 0.0)\n",
      "(<data_structures.cfr_trees.CFRNode object at 0x7f3c6842cba8>, {2: 1, 13: 1}, 0.25)\n",
      "(<data_structures.cfr_trees.CFRNode object at 0x7f3c6842c9e8>, {2: 0, 11: 0}, 0.0)\n",
      "---------------------------\n",
      "Built plan for leaf (<data_structures.cfr_trees.CFRNode object at 0x7f3c6842c9e8>, 0.0)\n",
      "(<data_structures.cfr_trees.CFRNode object at 0x7f3c6842cc18>, {2: 1, 14: 0}, 0.0)\n",
      "(<data_structures.cfr_trees.CFRNode object at 0x7f3c6842c828>, {1: 1, 9: 0}, 0.0)\n",
      "(<data_structures.cfr_trees.CFRNode object at 0x7f3c6842ca20>, {2: 0, 11: 1}, 0.0)\n",
      "(<data_structures.cfr_trees.CFRNode object at 0x7f3c6842cc50>, {2: 1, 14: 1}, 0.25)\n",
      "(<data_structures.cfr_trees.CFRNode object at 0x7f3c6842c860>, {1: 1, 9: 1}, 0.25)\n",
      "(<data_structures.cfr_trees.CFRNode object at 0x7f3c6842ca90>, {2: 0, 12: 0}, 0.0)\n",
      "(<data_structures.cfr_trees.CFRNode object at 0x7f3c6842c6a0>, {1: 0, 7: 0}, 0.0)\n",
      "(<data_structures.cfr_trees.CFRNode object at 0x7f3c6842cac8>, {2: 0, 12: 1}, 0.0)\n",
      "(<data_structures.cfr_trees.CFRNode object at 0x7f3c6842c6d8>, {1: 0, 7: 1}, 0.0)\n",
      "(<data_structures.cfr_trees.CFRNode object at 0x7f3c6842c8d0>, {1: 1, 10: 0}, 0.0)\n",
      "(<data_structures.cfr_trees.CFRNode object at 0x7f3c6842c908>, {1: 1, 10: 1}, 0.25)\n",
      "(<data_structures.cfr_trees.CFRNode object at 0x7f3c6842c748>, {8: 0, 1: 0}, 0.0)\n",
      "(<data_structures.cfr_trees.CFRNode object at 0x7f3c6842cb70>, {2: 1, 13: 0}, 0.0)\n",
      "(<data_structures.cfr_trees.CFRNode object at 0x7f3c6842c780>, {8: 1, 1: 0}, 0.0)\n",
      "(<data_structures.cfr_trees.CFRNode object at 0x7f3c6842cba8>, {2: 1, 13: 1}, 0.25)\n",
      "(<data_structures.cfr_trees.CFRNode object at 0x7f3c6842c9e8>, {2: 0, 11: 0}, 0.0)\n",
      "---------------------------\n",
      "Built plan for leaf (<data_structures.cfr_trees.CFRNode object at 0x7f3c6842c9e8>, 0.0)\n",
      "(<data_structures.cfr_trees.CFRNode object at 0x7f3c6842cc18>, {2: 1, 14: 0}, 0.0)\n",
      "(<data_structures.cfr_trees.CFRNode object at 0x7f3c6842c828>, {1: 1, 9: 0}, 0.0)\n",
      "(<data_structures.cfr_trees.CFRNode object at 0x7f3c6842ca20>, {2: 0, 11: 1}, 0.0)\n",
      "(<data_structures.cfr_trees.CFRNode object at 0x7f3c6842cc50>, {2: 1, 14: 1}, 0.25)\n",
      "(<data_structures.cfr_trees.CFRNode object at 0x7f3c6842c860>, {1: 1, 9: 1}, 0.25)\n",
      "(<data_structures.cfr_trees.CFRNode object at 0x7f3c6842ca90>, {2: 0, 12: 0}, 0.0)\n",
      "(<data_structures.cfr_trees.CFRNode object at 0x7f3c6842c6a0>, {1: 0, 7: 0}, 0.0)\n",
      "(<data_structures.cfr_trees.CFRNode object at 0x7f3c6842cac8>, {2: 0, 12: 1}, 0.0)\n",
      "(<data_structures.cfr_trees.CFRNode object at 0x7f3c6842c6d8>, {1: 0, 7: 1}, 0.0)\n",
      "(<data_structures.cfr_trees.CFRNode object at 0x7f3c6842c8d0>, {1: 1, 10: 0}, 0.0)\n",
      "(<data_structures.cfr_trees.CFRNode object at 0x7f3c6842c908>, {1: 1, 10: 1}, 0.25)\n",
      "(<data_structures.cfr_trees.CFRNode object at 0x7f3c6842c748>, {8: 0, 1: 0}, 0.0)\n",
      "(<data_structures.cfr_trees.CFRNode object at 0x7f3c6842cb70>, {2: 1, 13: 0}, 0.0)\n",
      "(<data_structures.cfr_trees.CFRNode object at 0x7f3c6842c780>, {8: 1, 1: 0}, 0.0)\n",
      "(<data_structures.cfr_trees.CFRNode object at 0x7f3c6842cba8>, {2: 1, 13: 1}, 0.25)\n",
      "(<data_structures.cfr_trees.CFRNode object at 0x7f3c6842c9e8>, {2: 0, 11: 0}, 0.0)\n",
      "---------------------------\n",
      "Built plan for leaf (<data_structures.cfr_trees.CFRNode object at 0x7f3c6842c9e8>, 0.0)\n",
      "(<data_structures.cfr_trees.CFRNode object at 0x7f3c6842cc18>, {2: 1, 14: 0}, 0.0)\n",
      "(<data_structures.cfr_trees.CFRNode object at 0x7f3c6842c828>, {1: 1, 9: 0}, 0.0)\n",
      "(<data_structures.cfr_trees.CFRNode object at 0x7f3c6842ca20>, {2: 0, 11: 1}, 0.0)\n",
      "(<data_structures.cfr_trees.CFRNode object at 0x7f3c6842cc50>, {2: 1, 14: 1}, 0.25)\n",
      "(<data_structures.cfr_trees.CFRNode object at 0x7f3c6842c860>, {1: 1, 9: 1}, 0.25)\n",
      "(<data_structures.cfr_trees.CFRNode object at 0x7f3c6842ca90>, {2: 0, 12: 0}, 0.0)\n",
      "(<data_structures.cfr_trees.CFRNode object at 0x7f3c6842c6a0>, {1: 0, 7: 0}, 0.0)\n",
      "(<data_structures.cfr_trees.CFRNode object at 0x7f3c6842cac8>, {2: 0, 12: 1}, 0.0)\n",
      "(<data_structures.cfr_trees.CFRNode object at 0x7f3c6842c6d8>, {1: 0, 7: 1}, 0.0)\n",
      "(<data_structures.cfr_trees.CFRNode object at 0x7f3c6842c8d0>, {1: 1, 10: 0}, 0.0)\n",
      "(<data_structures.cfr_trees.CFRNode object at 0x7f3c6842c908>, {1: 1, 10: 1}, 0.25)\n",
      "(<data_structures.cfr_trees.CFRNode object at 0x7f3c6842c748>, {8: 0, 1: 0}, 0.0)\n",
      "(<data_structures.cfr_trees.CFRNode object at 0x7f3c6842cb70>, {2: 1, 13: 0}, 0.0)\n",
      "(<data_structures.cfr_trees.CFRNode object at 0x7f3c6842c780>, {8: 1, 1: 0}, 0.0)\n",
      "(<data_structures.cfr_trees.CFRNode object at 0x7f3c6842cba8>, {2: 1, 13: 1}, 0.25)\n",
      "(<data_structures.cfr_trees.CFRNode object at 0x7f3c6842c9e8>, {2: 0, 11: 0}, 0.0)\n",
      "---------------------------\n",
      "Built plan for leaf (<data_structures.cfr_trees.CFRNode object at 0x7f3c6842c9e8>, 0.0)\n",
      "(<data_structures.cfr_trees.CFRNode object at 0x7f3c6842cc18>, {2: 1, 14: 0}, 0.0)\n",
      "(<data_structures.cfr_trees.CFRNode object at 0x7f3c6842c828>, {1: 1, 9: 0}, 0.0)\n",
      "(<data_structures.cfr_trees.CFRNode object at 0x7f3c6842ca20>, {2: 0, 11: 1}, 0.0)\n",
      "(<data_structures.cfr_trees.CFRNode object at 0x7f3c6842cc50>, {2: 1, 14: 1}, 0.25)\n",
      "(<data_structures.cfr_trees.CFRNode object at 0x7f3c6842c860>, {1: 1, 9: 1}, 0.25)\n",
      "(<data_structures.cfr_trees.CFRNode object at 0x7f3c6842ca90>, {2: 0, 12: 0}, 0.0)\n",
      "(<data_structures.cfr_trees.CFRNode object at 0x7f3c6842c6a0>, {1: 0, 7: 0}, 0.0)\n",
      "(<data_structures.cfr_trees.CFRNode object at 0x7f3c6842cac8>, {2: 0, 12: 1}, 0.0)\n",
      "(<data_structures.cfr_trees.CFRNode object at 0x7f3c6842c6d8>, {1: 0, 7: 1}, 0.0)\n",
      "(<data_structures.cfr_trees.CFRNode object at 0x7f3c6842c8d0>, {1: 1, 10: 0}, 0.0)\n",
      "(<data_structures.cfr_trees.CFRNode object at 0x7f3c6842c908>, {1: 1, 10: 1}, 0.25)\n",
      "(<data_structures.cfr_trees.CFRNode object at 0x7f3c6842c748>, {8: 0, 1: 0}, 0.0)\n",
      "(<data_structures.cfr_trees.CFRNode object at 0x7f3c6842cb70>, {2: 1, 13: 0}, 0.0)\n",
      "(<data_structures.cfr_trees.CFRNode object at 0x7f3c6842c780>, {8: 1, 1: 0}, 0.0)\n",
      "(<data_structures.cfr_trees.CFRNode object at 0x7f3c6842cba8>, {2: 1, 13: 1}, 0.25)\n",
      "(<data_structures.cfr_trees.CFRNode object at 0x7f3c6842c9e8>, {2: 0, 11: 0}, 0.0)\n",
      "---------------------------\n",
      "Built plan for leaf (<data_structures.cfr_trees.CFRNode object at 0x7f3c6842c9e8>, 0.0)\n"
     ]
    },
    {
     "data": {
      "text/plain": [
       "[({1: 0, 2: 1, 7: 0, 8: 0, 9: 0, 10: 0, 11: 0, 12: 0, 13: 0, 14: 0}, 0.25),\n",
       " ({1: 1, 2: 0, 7: 1, 8: 1, 9: 0, 10: 0, 11: 0, 12: 0, 13: 1, 14: 1}, 0.25),\n",
       " ({1: 0, 2: 0, 7: 1, 8: 1, 9: 1, 10: 1, 11: 1, 12: 1, 13: 1, 14: 1}, 0.25),\n",
       " ({1: 1, 2: 1, 7: 0, 8: 0, 9: 1, 10: 1, 11: 0, 12: 0, 13: 1, 14: 1}, 0.0),\n",
       " ({1: 1, 2: 1, 7: 0, 8: 0, 9: 1, 10: 1, 11: 0, 12: 0, 13: 1, 14: 1}, 0.0),\n",
       " ({1: 1, 2: 1, 7: 0, 8: 0, 9: 1, 10: 1, 11: 0, 12: 0, 13: 1, 14: 1}, 0.0),\n",
       " ({1: 1, 2: 1, 7: 0, 8: 0, 9: 1, 10: 1, 11: 0, 12: 0, 13: 1, 14: 1}, 0.0),\n",
       " ({1: 1, 2: 1, 7: 0, 8: 0, 9: 1, 10: 1, 11: 0, 12: 0, 13: 1, 14: 1}, 0.0),\n",
       " ({1: 1, 2: 1, 7: 0, 8: 0, 9: 1, 10: 1, 11: 0, 12: 0, 13: 1, 14: 1}, 0.0),\n",
       " ({1: 1, 2: 1, 7: 0, 8: 0, 9: 1, 10: 1, 11: 0, 12: 0, 13: 1, 14: 1}, 0.0)]"
      ]
     },
     "execution_count": 4,
     "metadata": {},
     "output_type": "execute_result"
    }
   ],
   "source": [
    "cfr_tree.buildJointFromMarginals()"
   ]
  },
  {
   "cell_type": "code",
   "execution_count": 5,
   "metadata": {},
   "outputs": [],
   "source": [
    "cfr_tree.root.buildRealizationForm(0, 1)"
   ]
  },
  {
   "cell_type": "code",
   "execution_count": 6,
   "metadata": {},
   "outputs": [],
   "source": [
    "leaves = set()\n",
    "cfr_tree.root.find_terminals(leaves)"
   ]
  },
  {
   "cell_type": "code",
   "execution_count": 7,
   "metadata": {},
   "outputs": [],
   "source": [
    "(plan, w) = cfr_tree.builSupportingPlan(leaves.pop(), 0)"
   ]
  },
  {
   "cell_type": "code",
   "execution_count": 8,
   "metadata": {},
   "outputs": [
    {
     "data": {
      "text/plain": [
       "[<data_structures.cfr_trees.CFRNode at 0x7f3c6842c6a0>,\n",
       " <data_structures.cfr_trees.CFRNode at 0x7f3c6842c748>,\n",
       " <data_structures.cfr_trees.CFRNode at 0x7f3c6842cb70>,\n",
       " <data_structures.cfr_trees.CFRNode at 0x7f3c6842cc18>]"
      ]
     },
     "execution_count": 8,
     "metadata": {},
     "output_type": "execute_result"
    }
   ],
   "source": [
    "cfr_tree.root.terminalsUnderPlan(0, plan)"
   ]
  },
  {
   "cell_type": "code",
   "execution_count": 9,
   "metadata": {
    "scrolled": true
   },
   "outputs": [
    {
     "name": "stdout",
     "output_type": "stream",
     "text": [
      "0.25\n",
      "0.25\n",
      "0.25\n",
      "0.25\n",
      "0.25\n",
      "0.25\n",
      "0.25\n",
      "0.25\n",
      "0.25\n",
      "0.25\n",
      "0.25\n",
      "0.25\n",
      "0.25\n",
      "0.25\n",
      "0.25\n"
     ]
    }
   ],
   "source": [
    "for l in leaves:\n",
    "    print(l.omega)"
   ]
  },
  {
   "cell_type": "code",
   "execution_count": 10,
   "metadata": {},
   "outputs": [
    {
     "name": "stdout",
     "output_type": "stream",
     "text": [
      "Player 1 - Infoset 0 - Node 0\n",
      "Player 0 - Infoset 1 - Node 1 (children of Node0 via Action 0.0)\n",
      "Player 0 - Infoset 2 - Node 2 (children of Node0 via Action 0.1)\n",
      "Player 1 - Infoset 3 - Node 3 (children of Node1 via Action 1.0)\n",
      "Player 1 - Infoset 4 - Node 4 (children of Node1 via Action 1.1)\n",
      "Player 0 - Infoset 7 - Node 7 (children of Node3 via Action 3.0)\n",
      "Player 0 - Infoset 8 - Node 8 (children of Node3 via Action 3.1)\n",
      "Leaf15 (children of Node7 via Action 7.0) -  utility is [32, 12]\n",
      "Leaf16 (children of Node7 via Action 7.1) -  utility is [12, 61]\n",
      "Leaf17 (children of Node8 via Action 8.0) -  utility is [73, 11]\n",
      "Leaf18 (children of Node8 via Action 8.1) -  utility is [34, 74]\n",
      "Player 0 - Infoset 9 - Node 9 (children of Node4 via Action 4.0)\n",
      "Player 0 - Infoset 10 - Node 10 (children of Node4 via Action 4.1)\n",
      "Leaf19 (children of Node9 via Action 9.0) -  utility is [46, 90]\n",
      "Leaf20 (children of Node9 via Action 9.1) -  utility is [12, 3]\n",
      "Leaf21 (children of Node10 via Action 10.0) -  utility is [8, 99]\n",
      "Leaf22 (children of Node10 via Action 10.1) -  utility is [31, 48]\n",
      "Player 1 - Infoset 5 - Node 5 (children of Node2 via Action 2.0)\n",
      "Player 1 - Infoset 6 - Node 6 (children of Node2 via Action 2.1)\n",
      "Player 0 - Infoset 11 - Node 11 (children of Node5 via Action 5.0)\n",
      "Player 0 - Infoset 12 - Node 12 (children of Node5 via Action 5.1)\n",
      "Leaf23 (children of Node11 via Action 11.0) -  utility is [18, 77]\n",
      "Leaf24 (children of Node11 via Action 11.1) -  utility is [50, 12]\n",
      "Leaf25 (children of Node12 via Action 12.0) -  utility is [6, 32]\n",
      "Leaf26 (children of Node12 via Action 12.1) -  utility is [9, 12]\n",
      "Player 0 - Infoset 13 - Node 13 (children of Node6 via Action 6.0)\n",
      "Player 0 - Infoset 14 - Node 14 (children of Node6 via Action 6.1)\n",
      "Leaf27 (children of Node13 via Action 13.0) -  utility is [37, 81]\n",
      "Leaf28 (children of Node13 via Action 13.1) -  utility is [38, 35]\n",
      "Leaf29 (children of Node14 via Action 14.0) -  utility is [94, 34]\n",
      "Leaf30 (children of Node14 via Action 14.1) -  utility is [26, 3]\n"
     ]
    }
   ],
   "source": [
    "tree.display()"
   ]
  },
  {
   "cell_type": "code",
   "execution_count": 11,
   "metadata": {},
   "outputs": [
    {
     "data": {
      "text/plain": [
       "{0: 0}"
      ]
     },
     "execution_count": 11,
     "metadata": {},
     "output_type": "execute_result"
    }
   ],
   "source": [
    "tree.root.children[0].getSequence(1)"
   ]
  },
  {
   "cell_type": "code",
   "execution_count": 12,
   "metadata": {},
   "outputs": [
    {
     "data": {
      "text/plain": [
       "[[<InfoSet8 - Player0>, <InfoSet7 - Player0>],\n",
       " [<InfoSet9 - Player0>, <InfoSet10 - Player0>]]"
      ]
     },
     "execution_count": 12,
     "metadata": {},
     "output_type": "execute_result"
    }
   ],
   "source": [
    "cfr_tree.information_sets[1].children_infoset"
   ]
  },
  {
   "cell_type": "code",
   "execution_count": 13,
   "metadata": {},
   "outputs": [
    {
     "data": {
      "text/plain": [
       "[[<data_structures.cfr_trees.CFRNode at 0x7f3c6842cc18>],\n",
       " [<data_structures.cfr_trees.CFRNode at 0x7f3c6842cc50>]]"
      ]
     },
     "execution_count": 13,
     "metadata": {},
     "output_type": "execute_result"
    }
   ],
   "source": [
    "cfr_tree.information_sets[14].children_leaves"
   ]
  },
  {
   "cell_type": "code",
   "execution_count": null,
   "metadata": {},
   "outputs": [],
   "source": []
  }
 ],
 "metadata": {
  "kernelspec": {
   "display_name": "Python 3",
   "language": "python",
   "name": "python3"
  },
  "language_info": {
   "codemirror_mode": {
    "name": "ipython",
    "version": 3
   },
   "file_extension": ".py",
   "mimetype": "text/x-python",
   "name": "python",
   "nbconvert_exporter": "python",
   "pygments_lexer": "ipython3",
   "version": "3.5.2"
  }
 },
 "nbformat": 4,
 "nbformat_minor": 2
}
