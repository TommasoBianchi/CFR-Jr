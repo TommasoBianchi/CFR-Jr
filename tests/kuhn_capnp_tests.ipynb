{
 "cells": [
  {
   "cell_type": "code",
   "execution_count": 1,
   "metadata": {},
   "outputs": [
    {
     "name": "stdout",
     "output_type": "stream",
     "text": [
      "importing Jupyter notebook from cfr.ipynb\n",
      "importing Jupyter notebook from trees.ipynb\n"
     ]
    }
   ],
   "source": [
    "import notebook_importer\n",
    "from cfr import CFRTree, SolveWithSampleCFR\n",
    "import capnp\n",
    "from functools import reduce"
   ]
  },
  {
   "cell_type": "code",
   "execution_count": null,
   "metadata": {},
   "outputs": [],
   "source": [
    "capnp.remove_import_hook()\n",
    "kuhn_schema = capnp.load(\"kuhn_instances/game.capnp\")"
   ]
  },
  {
   "cell_type": "code",
   "execution_count": null,
   "metadata": {},
   "outputs": [],
   "source": [
    "f = open(\"kuhn_instances/kuhn_rank3.bin\", \"rb\")\n",
    "game = kuhn_schema.Game.read_packed(f)\n",
    "f.close()"
   ]
  },
  {
   "cell_type": "code",
   "execution_count": null,
   "metadata": {},
   "outputs": [],
   "source": [
    "class KuhnNode:\n",
    "    def __init__(self, id, player):\n",
    "        self.id = id\n",
    "        self.parent = None\n",
    "        self.children = []\n",
    "        self.information_set = -1\n",
    "        self.incoming_action = -1\n",
    "        self.player = player\n",
    "        self.utility = None\n",
    "        \n",
    "    def addChild(self, node):\n",
    "        node.incoming_action = len(self.children)\n",
    "        self.children.append(node)\n",
    "        node.parent = self\n",
    "        \n",
    "    def isLeaf(self):\n",
    "        return len(self.children) == 0\n",
    "    \n",
    "    def getSequence(self, player):\n",
    "        if(self.parent == None):\n",
    "            return {}\n",
    "        if(self.parent.player != player):\n",
    "            return self.parent.getSequence(player)\n",
    "        \n",
    "        sequence = self.parent.getSequence(player) \n",
    "        sequence[self.parent.information_set] = self.incoming_action\n",
    "        return sequence"
   ]
  },
  {
   "cell_type": "code",
   "execution_count": null,
   "metadata": {},
   "outputs": [],
   "source": [
    "class KuhnTree:\n",
    "    def __init__(self, root):\n",
    "        self.root = root\n",
    "        self.numOfPlayers = 1"
   ]
  },
  {
   "cell_type": "code",
   "execution_count": null,
   "metadata": {},
   "outputs": [],
   "source": [
    "def build_tree_from_treeplex(treeplex, player):\n",
    "    infosets = treeplex.infosets\n",
    "    max_sequence_id = max(infosets, key = lambda el: el.parentSequenceId).parentSequenceId\n",
    "    nodes = [KuhnNode(id, player) for id in range(max_sequence_id+1)]\n",
    "    \n",
    "    iset_id = 0\n",
    "    for iset in infosets:\n",
    "        parent = iset.parentSequenceId\n",
    "        for child in range(iset.startSequenceId, iset.endSequenceId+1):\n",
    "            nodes[child].information_set = iset_id\n",
    "            nodes[parent].addChild(nodes[child])\n",
    "        iset_id += 1\n",
    "    \n",
    "    root = list(filter(lambda el: el.parent == None, nodes))[0]\n",
    "    root.information_set = iset_id\n",
    "    \n",
    "    return KuhnTree(root)"
   ]
  },
  {
   "cell_type": "code",
   "execution_count": null,
   "metadata": {},
   "outputs": [],
   "source": [
    "def build_payoff_dict(payoffMatrix):\n",
    "    payoffDict = {}\n",
    "    \n",
    "    for e in payoffMatrix.entries:\n",
    "        payoffDict[(e.sequencePl1, e.sequencePl2, e.sequencePl3)] = \\\n",
    "                ((e.payoffPl1, e.payoffPl2, e.payoffPl3), e.chanceFactor)\n",
    "        \n",
    "    return payoffDict"
   ]
  },
  {
   "cell_type": "code",
   "execution_count": null,
   "metadata": {},
   "outputs": [],
   "source": [
    "def sampleTreeplexCFR(node, player, pi, action_plan):\n",
    "    n_players = len(pi)\n",
    "    node.visits += reduce(lambda x, y: x * y, pi, 1)\n",
    "    \n",
    "    if(node.isLeaf()):\n",
    "        return 42 # TODO: fetch real utility\n",
    "    \n",
    "    iset = node.information_set\n",
    "    v = 0\n",
    "    v_alt = [0 for a in node.children]\n",
    "    \n",
    "    sampled_action = action_plan[iset.id]\n",
    "    \n",
    "    if(max(pi) == 0):\n",
    "        return sampleTreeplexCFR(node.children[sampled_action], player, pi, action_plan)\n",
    "    \n",
    "    for a in range(len(node.children)):\n",
    "        if(a == sampled_action):\n",
    "            v_alt[a] = sampleTreeplexCFR(node.children[a], player, pi, action_plan)\n",
    "        else:\n",
    "            old_pi = pi[iset.player]\n",
    "            pi[iset.player] = 0\n",
    "            v_alt[a] = sampleTreeplexCFR(node.children[a], player, pi, action_plan)\n",
    "            pi[iset.player] = old_pi\n",
    "        \n",
    "    v = v_alt[sampled_action]\n",
    "    \n",
    "    if(iset.player == player):\n",
    "        pi_other = 1\n",
    "        for i in range(len(pi)):\n",
    "            if(i != player):\n",
    "                pi_other *= pi[i]\n",
    "\n",
    "        for a in range(len(node.children)):                        \n",
    "            ##### CFR+ #####\n",
    "            iset.cumulative_regret[a] = max(iset.cumulative_regret[a] + pi_other * (v_alt[a] - v), 0)\n",
    "            \n",
    "            ##### This is useless for NFCCE #####\n",
    "            iset.cumulative_strategy[a] += pi[player] * iset.current_strategy[a]\n",
    "    \n",
    "    return v"
   ]
  },
  {
   "cell_type": "code",
   "execution_count": null,
   "metadata": {},
   "outputs": [],
   "source": [
    "cfr_tree = CFRTree(build_tree_from_treeplex(game.treeplexPl1, 1))"
   ]
  },
  {
   "cell_type": "code",
   "execution_count": null,
   "metadata": {},
   "outputs": [],
   "source": [
    "sampleTreeplexCFR(cfr_tree.root, 1, [1,1,1], cfr_tree.sampleActionPlan())"
   ]
  },
  {
   "cell_type": "code",
   "execution_count": null,
   "metadata": {},
   "outputs": [],
   "source": [
    "cfr_tree.sampleActionPlan()"
   ]
  },
  {
   "cell_type": "code",
   "execution_count": null,
   "metadata": {},
   "outputs": [],
   "source": [
    "print(cfr_tree.information_sets[0].sampleAction())"
   ]
  },
  {
   "cell_type": "code",
   "execution_count": null,
   "metadata": {},
   "outputs": [],
   "source": [
    "cfr_tree.information_sets[3].nodes[1].children"
   ]
  },
  {
   "cell_type": "code",
   "execution_count": null,
   "metadata": {},
   "outputs": [],
   "source": []
  },
  {
   "cell_type": "code",
   "execution_count": null,
   "metadata": {},
   "outputs": [],
   "source": []
  },
  {
   "cell_type": "code",
   "execution_count": null,
   "metadata": {},
   "outputs": [],
   "source": [
    "list(game.treeplexPl1.infosets)"
   ]
  },
  {
   "cell_type": "code",
   "execution_count": null,
   "metadata": {},
   "outputs": [],
   "source": [
    "list(game.treeplexPl2.infosets)"
   ]
  },
  {
   "cell_type": "code",
   "execution_count": null,
   "metadata": {},
   "outputs": [],
   "source": [
    "list(game.treeplexPl3.infosets)"
   ]
  },
  {
   "cell_type": "code",
   "execution_count": null,
   "metadata": {},
   "outputs": [],
   "source": [
    "len(game.payoffMatrix.entries)"
   ]
  },
  {
   "cell_type": "code",
   "execution_count": null,
   "metadata": {},
   "outputs": [],
   "source": [
    "list(game.payoffMatrix.entries)"
   ]
  },
  {
   "cell_type": "code",
   "execution_count": null,
   "metadata": {},
   "outputs": [],
   "source": [
    "list(filter(lambda el: el.sequencePl1 == 14, game.payoffMatrix.entries))"
   ]
  }
 ],
 "metadata": {
  "kernelspec": {
   "display_name": "Python 3",
   "language": "python",
   "name": "python3"
  },
  "language_info": {
   "codemirror_mode": {
    "name": "ipython",
    "version": 3
   },
   "file_extension": ".py",
   "mimetype": "text/x-python",
   "name": "python",
   "nbconvert_exporter": "python",
   "pygments_lexer": "ipython3",
   "version": "3.5.2"
  }
 },
 "nbformat": 4,
 "nbformat_minor": 2
}
