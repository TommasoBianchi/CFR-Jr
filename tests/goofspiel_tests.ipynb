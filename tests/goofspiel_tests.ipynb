{
 "cells": [
  {
   "cell_type": "code",
   "execution_count": 7,
   "metadata": {},
   "outputs": [
    {
     "name": "stdout",
     "output_type": "stream",
     "text": [
      "/home/tommy/Scrivania/Polimi/Honours Programme\n"
     ]
    }
   ],
   "source": [
    "cd .."
   ]
  },
  {
   "cell_type": "code",
   "execution_count": 13,
   "metadata": {},
   "outputs": [],
   "source": [
    "from games.goofspiel import build_goofspiel_tree, TieSolver\n",
    "from data_structures.cfr_trees import CFRTree\n",
    "from cfr_code.sample_cfr import SolveWithSampleCFR\n",
    "from utilities.graphs import graphs_from_cfr_results, epsilon_graph"
   ]
  },
  {
   "cell_type": "code",
   "execution_count": 9,
   "metadata": {},
   "outputs": [],
   "source": [
    "goofspiel_tree = build_goofspiel_tree(2, 3, TieSolver.Accumulate)"
   ]
  },
  {
   "cell_type": "code",
   "execution_count": 10,
   "metadata": {},
   "outputs": [],
   "source": [
    "cfr_tree = CFRTree(goofspiel_tree)"
   ]
  },
  {
   "cell_type": "code",
   "execution_count": 11,
   "metadata": {
    "scrolled": true
   },
   "outputs": [
    {
     "name": "stdout",
     "output_type": "stream",
     "text": [
      "10.0%\n",
      "20.0%\n",
      "30.0%\n",
      "40.0%\n",
      "50.0%\n",
      "60.0%\n",
      "70.0%\n",
      "80.0%\n",
      "90.0%\n",
      "100.0%\n",
      "CPU times: user 8.48 s, sys: 0 ns, total: 8.48 s\n",
      "Wall time: 8.47 s\n"
     ]
    }
   ],
   "source": [
    "%time res = SolveWithSampleCFR(cfr_tree, iterations = 100, bootstrap_iterations = 0, \\\n",
    "                               show_perc = True, perc = 10, checkEveryIteration = 1)"
   ]
  },
  {
   "cell_type": "code",
   "execution_count": 14,
   "metadata": {},
   "outputs": [
    {
     "data": {
      "image/png": "[encoded data removed]",
      "text/plain": [
       "<matplotlib.figure.Figure at 0x7f2277ee09b0>"
      ]
     },
     "metadata": {},
     "output_type": "display_data"
    }
   ],
   "source": [
    "epsilon_graph(res)"
   ]
  },
  {
   "cell_type": "code",
   "execution_count": null,
   "metadata": {},
   "outputs": [],
   "source": [
    "cfr_tree2 = CFRTree(goofspiel_tree)\n",
    "%time res2 = SolveWithSampleCFR(cfr_tree2, iterations = 10000, bootstrap_iterations = 1000, \\\n",
    "                               show_perc = True, perc = 10, checkEveryIteration = 1000, bound_joint_size = False)"
   ]
  },
  {
   "cell_type": "code",
   "execution_count": null,
   "metadata": {},
   "outputs": [],
   "source": [
    "graphs_from_cfr_results(res2)"
   ]
  },
  {
   "cell_type": "code",
   "execution_count": null,
   "metadata": {},
   "outputs": [],
   "source": []
  }
 ],
 "metadata": {
  "kernelspec": {
   "display_name": "Python 3",
   "language": "python",
   "name": "python3"
  },
  "language_info": {
   "codemirror_mode": {
    "name": "ipython",
    "version": 3
   },
   "file_extension": ".py",
   "mimetype": "text/x-python",
   "name": "python",
   "nbconvert_exporter": "python",
   "pygments_lexer": "ipython3",
   "version": "3.5.2"
  }
 },
 "nbformat": 4,
 "nbformat_minor": 2
}
