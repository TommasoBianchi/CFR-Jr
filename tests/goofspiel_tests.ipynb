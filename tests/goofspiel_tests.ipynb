{
 "cells": [
  {
   "cell_type": "code",
   "execution_count": 1,
   "metadata": {},
   "outputs": [
    {
     "name": "stdout",
     "output_type": "stream",
     "text": [
      "/home/tommy/Scrivania/Polimi/Honours Programme/SCFR\n"
     ]
    }
   ],
   "source": [
    "cd .."
   ]
  },
  {
   "cell_type": "code",
   "execution_count": 8,
   "metadata": {},
   "outputs": [],
   "source": [
    "from games.goofspiel import build_goofspiel_tree, TieSolver\n",
    "from data_structures.cfr_trees import CFRTree\n",
    "from cfr_code.sample_cfr import SolveWithSampleCFR\n",
    "from utilities.graphs import graphs_from_cfr_results, epsilon_graph"
   ]
  },
  {
   "cell_type": "code",
   "execution_count": 3,
   "metadata": {},
   "outputs": [
    {
     "name": "stdout",
     "output_type": "stream",
     "text": [
      "|Hands| = 24\n",
      "Processed all hands\n",
      "|Isets| = 48966\n"
     ]
    }
   ],
   "source": [
    "goofspiel_tree = build_goofspiel_tree(3, 4, TieSolver.Accumulate)"
   ]
  },
  {
   "cell_type": "code",
   "execution_count": 9,
   "metadata": {},
   "outputs": [],
   "source": [
    "cfr_tree = CFRTree(goofspiel_tree)"
   ]
  },
  {
   "cell_type": "code",
   "execution_count": null,
   "metadata": {
    "scrolled": true
   },
   "outputs": [],
   "source": [
    "%time res = SolveWithSampleCFR(cfr_tree, iterations = 1000, bootstrap_iterations = 0, \\\n",
    "                               show_perc = True, perc = 10, checkEveryIteration = 100)"
   ]
  },
  {
   "cell_type": "code",
   "execution_count": null,
   "metadata": {},
   "outputs": [],
   "source": [
    "epsilon_graph(res)"
   ]
  },
  {
   "cell_type": "code",
   "execution_count": null,
   "metadata": {},
   "outputs": [],
   "source": []
  },
  {
   "cell_type": "code",
   "execution_count": null,
   "metadata": {},
   "outputs": [],
   "source": [
    "cfr_tree2 = CFRTree(goofspiel_tree)\n",
    "%time res2 = SolveWithSampleCFR(cfr_tree2, iterations = 10000, bootstrap_iterations = 1000, \\\n",
    "                               show_perc = True, perc = 10, checkEveryIteration = 1000, bound_joint_size = False)"
   ]
  },
  {
   "cell_type": "code",
   "execution_count": null,
   "metadata": {},
   "outputs": [],
   "source": [
    "graphs_from_cfr_results(res2)"
   ]
  },
  {
   "cell_type": "code",
   "execution_count": null,
   "metadata": {},
   "outputs": [],
   "source": []
  },
  {
   "cell_type": "code",
   "execution_count": null,
   "metadata": {},
   "outputs": [],
   "source": []
  },
  {
   "cell_type": "code",
   "execution_count": null,
   "metadata": {},
   "outputs": [],
   "source": [
    "goofspiel_tree_acc = build_goofspiel_tree(3, 2, TieSolver.Accumulate)\n",
    "goofspiel_tree_disc = build_goofspiel_tree(3, 2, TieSolver.DiscardAlways)"
   ]
  },
  {
   "cell_type": "code",
   "execution_count": null,
   "metadata": {},
   "outputs": [],
   "source": [
    "goofspiel_tree_acc.display()"
   ]
  },
  {
   "cell_type": "code",
   "execution_count": null,
   "metadata": {},
   "outputs": [],
   "source": [
    "goofspiel_tree_disc.display()"
   ]
  }
 ],
 "metadata": {
  "kernelspec": {
   "display_name": "Python 3",
   "language": "python",
   "name": "python3"
  },
  "language_info": {
   "codemirror_mode": {
    "name": "ipython",
    "version": 3
   },
   "file_extension": ".py",
   "mimetype": "text/x-python",
   "name": "python",
   "nbconvert_exporter": "python",
   "pygments_lexer": "ipython3",
   "version": "3.5.2"
  }
 },
 "nbformat": 4,
 "nbformat_minor": 2
}
