{
 "cells": [
  {
   "cell_type": "code",
   "execution_count": 1,
   "metadata": {},
   "outputs": [
    {
     "name": "stdout",
     "output_type": "stream",
     "text": [
      "/home/tommy/Scrivania/Polimi/Honours Programme/SCFR\n"
     ]
    }
   ],
   "source": [
    "cd .."
   ]
  },
  {
   "cell_type": "code",
   "execution_count": 2,
   "metadata": {},
   "outputs": [],
   "source": [
    "from data_structures.trees import *\n",
    "from games.goofspiel import *\n",
    "from utilities.drawing import draw_tree\n",
    "from data_structures.cfr_trees import CFRTree, CFRJointStrategy\n",
    "from cfr_code.reconstruction_cfr import SolveWithReconstructionCFR\n",
    "from cfr_code.sample_cfr import SolveWithSampleCFR\n",
    "from cfr_code.cfr import SolveWithCFR\n",
    "from utilities.graphs import epsilon_graph, comparative_epsilon_graph"
   ]
  },
  {
   "cell_type": "code",
   "execution_count": 3,
   "metadata": {},
   "outputs": [],
   "source": [
    "%load_ext line_profiler\n",
    "%load_ext autoreload\n",
    "%autoreload 2"
   ]
  },
  {
   "cell_type": "code",
   "execution_count": 4,
   "metadata": {},
   "outputs": [],
   "source": [
    "tree = build_goofspiel_tree(3, 4, TieSolver.DiscardAlways)"
   ]
  },
  {
   "cell_type": "code",
   "execution_count": 5,
   "metadata": {},
   "outputs": [],
   "source": [
    "cfr_tree = CFRTree(tree)"
   ]
  },
  {
   "cell_type": "code",
   "execution_count": 6,
   "metadata": {},
   "outputs": [
    {
     "name": "stdout",
     "output_type": "stream",
     "text": [
      "10.0%\n",
      "20.0%\n",
      "30.0%\n",
      "40.0%\n",
      "50.0%\n",
      "60.0%\n",
      "70.0%\n",
      "80.0%\n",
      "90.0%\n"
     ]
    }
   ],
   "source": [
    "%time res = SolveWithReconstructionCFR(cfr_tree, 20, checkEveryIteration = 10, show_perc = True)"
   ]
  },
  {
   "cell_type": "code",
   "execution_count": 7,
   "metadata": {},
   "outputs": [
    {
     "data": {
      "text/plain": [
       "{'graph_data': [{'duration': 9.550012588500977,\n",
       "   'epsilon': [-0.2500000000000002, -4.440892098500626e-16, 0.0],\n",
       "   'iteration_number': 0,\n",
       "   'utility': [1.2499999999999998, 1.2499999999999998, 1.2499999999999998]},\n",
       "  {'duration': 52.46337962150574,\n",
       "   'epsilon': [-0.28216523324057574,\n",
       "    -0.24783571294165863,\n",
       "    -0.27526155921695517],\n",
       "   'iteration_number': 10,\n",
       "   'utility': [3.8261399609743862, 2.2406451751300263, 2.195381822283887]}],\n",
       " 'tot_time': 99.47606945037842,\n",
       " 'utility': [4.709948587744708, 2.098924500051775, 2.0281712673831653]}"
      ]
     },
     "execution_count": 7,
     "metadata": {},
     "output_type": "execute_result"
    }
   ],
   "source": [
    "res"
   ]
  },
  {
   "cell_type": "code",
   "execution_count": 8,
   "metadata": {},
   "outputs": [
    {
     "name": "stdout",
     "output_type": "stream",
     "text": [
      "Tree ok\n",
      "\n",
      "20.0%\n",
      "40.0%\n",
      "60.0%\n",
      "80.0%\n"
     ]
    },
    {
     "ename": "KeyboardInterrupt",
     "evalue": "",
     "output_type": "error",
     "traceback": [
      "\u001b[0;31m---------------------------------------------------------------------------\u001b[0m",
      "\u001b[0;31mKeyboardInterrupt\u001b[0m                         Traceback (most recent call last)",
      "\u001b[0;32m<ipython-input-8-340aaebbc2e5>\u001b[0m in \u001b[0;36m<module>\u001b[0;34m()\u001b[0m\n\u001b[1;32m      2\u001b[0m \u001b[0mprint\u001b[0m\u001b[0;34m(\u001b[0m\u001b[0;34m\"Tree ok\\n\"\u001b[0m\u001b[0;34m)\u001b[0m\u001b[0;34m\u001b[0m\u001b[0m\n\u001b[1;32m      3\u001b[0m res2 = SolveWithReconstructionCFR(cfr_tree2, 5, checkEveryIteration = 1, reconstructEveryIteration = 4,\n\u001b[0;32m----> 4\u001b[0;31m                                   show_perc = True)\n\u001b[0m",
      "\u001b[0;32m~/Scrivania/Polimi/Honours Programme/SCFR/cfr_code/reconstruction_cfr.py\u001b[0m in \u001b[0;36mSolveWithReconstructionCFR\u001b[0;34m(cfr_tree, iterations, perc, show_perc, checkEveryIteration, reconstructEveryIteration, check_callback, use_cfr_plus, reconstructPlayersTogether, reconstructWithOptimalPlan)\u001b[0m\n\u001b[1;32m     40\u001b[0m                 \u001b[0mjointStrategy\u001b[0m\u001b[0;34m.\u001b[0m\u001b[0maddJointDistribution\u001b[0m\u001b[0;34m(\u001b[0m\u001b[0mcfr_tree\u001b[0m\u001b[0;34m.\u001b[0m\u001b[0mbuildJointFromMarginals_AllPlayersTogether\u001b[0m\u001b[0;34m(\u001b[0m\u001b[0;34m)\u001b[0m\u001b[0;34m)\u001b[0m\u001b[0;34m\u001b[0m\u001b[0m\n\u001b[1;32m     41\u001b[0m             \u001b[0;32melse\u001b[0m\u001b[0;34m:\u001b[0m\u001b[0;34m\u001b[0m\u001b[0m\n\u001b[0;32m---> 42\u001b[0;31m                 \u001b[0mjointStrategy\u001b[0m\u001b[0;34m.\u001b[0m\u001b[0maddJointDistribution\u001b[0m\u001b[0;34m(\u001b[0m\u001b[0mcfr_tree\u001b[0m\u001b[0;34m.\u001b[0m\u001b[0mbuildJointFromMarginals\u001b[0m\u001b[0;34m(\u001b[0m\u001b[0mselect_optimal_plan\u001b[0m \u001b[0;34m=\u001b[0m \u001b[0mreconstructWithOptimalPlan\u001b[0m\u001b[0;34m)\u001b[0m\u001b[0;34m)\u001b[0m\u001b[0;34m\u001b[0m\u001b[0m\n\u001b[0m\u001b[1;32m     43\u001b[0m             \u001b[0mreconstruction_time\u001b[0m \u001b[0;34m+=\u001b[0m \u001b[0;34m(\u001b[0m\u001b[0mtime\u001b[0m\u001b[0;34m.\u001b[0m\u001b[0mtime\u001b[0m\u001b[0;34m(\u001b[0m\u001b[0;34m)\u001b[0m \u001b[0;34m-\u001b[0m \u001b[0mreconstruction_start_time\u001b[0m\u001b[0;34m)\u001b[0m\u001b[0;34m\u001b[0m\u001b[0m\n\u001b[1;32m     44\u001b[0m \u001b[0;34m\u001b[0m\u001b[0m\n",
      "\u001b[0;32m~/Scrivania/Polimi/Honours Programme/SCFR/data_structures/cfr_trees.py\u001b[0m in \u001b[0;36mbuildJointFromMarginals\u001b[0;34m(self, select_optimal_plan)\u001b[0m\n\u001b[1;32m    156\u001b[0m                         \u001b[0;32mcontinue\u001b[0m\u001b[0;34m\u001b[0m\u001b[0m\n\u001b[1;32m    157\u001b[0m \u001b[0;34m\u001b[0m\u001b[0m\n\u001b[0;32m--> 158\u001b[0;31m                     \u001b[0;34m(\u001b[0m\u001b[0mplan\u001b[0m\u001b[0;34m,\u001b[0m \u001b[0mval\u001b[0m\u001b[0;34m)\u001b[0m \u001b[0;34m=\u001b[0m \u001b[0mself\u001b[0m\u001b[0;34m.\u001b[0m\u001b[0mbuilSupportingPlan\u001b[0m\u001b[0;34m(\u001b[0m\u001b[0ml\u001b[0m\u001b[0;34m,\u001b[0m \u001b[0mp\u001b[0m\u001b[0;34m)\u001b[0m\u001b[0;34m\u001b[0m\u001b[0m\n\u001b[0m\u001b[1;32m    159\u001b[0m                     \u001b[0;32mif\u001b[0m \u001b[0mval\u001b[0m \u001b[0;34m>\u001b[0m \u001b[0mbest_plan_value\u001b[0m\u001b[0;34m:\u001b[0m\u001b[0;34m\u001b[0m\u001b[0m\n\u001b[1;32m    160\u001b[0m                         \u001b[0mbest_plan\u001b[0m \u001b[0;34m=\u001b[0m \u001b[0mplan\u001b[0m\u001b[0;34m\u001b[0m\u001b[0m\n",
      "\u001b[0;32m~/Scrivania/Polimi/Honours Programme/SCFR/data_structures/cfr_trees.py\u001b[0m in \u001b[0;36mbuilSupportingPlan\u001b[0;34m(self, leaf, targetPlayer)\u001b[0m\n\u001b[1;32m    266\u001b[0m \u001b[0;34m\u001b[0m\u001b[0m\n\u001b[1;32m    267\u001b[0m         \u001b[0;32mfor\u001b[0m \u001b[0miset\u001b[0m \u001b[0;32min\u001b[0m \u001b[0mplayer_infosets\u001b[0m\u001b[0;34m:\u001b[0m\u001b[0;34m\u001b[0m\u001b[0m\n\u001b[0;32m--> 268\u001b[0;31m             \u001b[0miset\u001b[0m\u001b[0;34m.\u001b[0m\u001b[0mupdateSupportingPlan\u001b[0m\u001b[0;34m(\u001b[0m\u001b[0mtargetPlayer\u001b[0m\u001b[0;34m)\u001b[0m\u001b[0;34m\u001b[0m\u001b[0m\n\u001b[0m\u001b[1;32m    269\u001b[0m             \u001b[0;34m(\u001b[0m\u001b[0ma\u001b[0m\u001b[0;34m,\u001b[0m \u001b[0mw\u001b[0m\u001b[0;34m)\u001b[0m \u001b[0;34m=\u001b[0m \u001b[0miset\u001b[0m\u001b[0;34m.\u001b[0m\u001b[0msupportingPlanInfo\u001b[0m\u001b[0;34m\u001b[0m\u001b[0m\n\u001b[1;32m    270\u001b[0m             \u001b[0mplan\u001b[0m\u001b[0;34m[\u001b[0m\u001b[0miset\u001b[0m\u001b[0;34m.\u001b[0m\u001b[0mid\u001b[0m\u001b[0;34m]\u001b[0m \u001b[0;34m=\u001b[0m \u001b[0ma\u001b[0m\u001b[0;34m\u001b[0m\u001b[0m\n",
      "\u001b[0;32m~/Scrivania/Polimi/Honours Programme/SCFR/data_structures/cfr_trees.py\u001b[0m in \u001b[0;36mupdateSupportingPlan\u001b[0;34m(self, targetPlayer)\u001b[0m\n\u001b[1;32m    868\u001b[0m             \u001b[0ma_omega\u001b[0m \u001b[0;34m=\u001b[0m \u001b[0;36m1\u001b[0m\u001b[0;34m\u001b[0m\u001b[0m\n\u001b[1;32m    869\u001b[0m             \u001b[0;32mfor\u001b[0m \u001b[0miset\u001b[0m \u001b[0;32min\u001b[0m \u001b[0mchildren_infosets\u001b[0m\u001b[0;34m:\u001b[0m\u001b[0;34m\u001b[0m\u001b[0m\n\u001b[0;32m--> 870\u001b[0;31m                 \u001b[0miset\u001b[0m\u001b[0;34m.\u001b[0m\u001b[0mupdateSupportingPlan\u001b[0m\u001b[0;34m(\u001b[0m\u001b[0mtargetPlayer\u001b[0m\u001b[0;34m)\u001b[0m\u001b[0;34m\u001b[0m\u001b[0m\n\u001b[0m\u001b[1;32m    871\u001b[0m                 \u001b[0;34m(\u001b[0m\u001b[0m_\u001b[0m\u001b[0;34m,\u001b[0m \u001b[0mw\u001b[0m\u001b[0;34m)\u001b[0m \u001b[0;34m=\u001b[0m \u001b[0miset\u001b[0m\u001b[0;34m.\u001b[0m\u001b[0msupportingPlanInfo\u001b[0m\u001b[0;34m\u001b[0m\u001b[0m\n\u001b[1;32m    872\u001b[0m                 \u001b[0ma_omega\u001b[0m \u001b[0;34m=\u001b[0m \u001b[0mmin\u001b[0m\u001b[0;34m(\u001b[0m\u001b[0ma_omega\u001b[0m\u001b[0;34m,\u001b[0m \u001b[0mw\u001b[0m\u001b[0;34m)\u001b[0m\u001b[0;34m\u001b[0m\u001b[0m\n",
      "\u001b[0;32m~/Scrivania/Polimi/Honours Programme/SCFR/data_structures/cfr_trees.py\u001b[0m in \u001b[0;36mupdateSupportingPlan\u001b[0;34m(self, targetPlayer)\u001b[0m\n\u001b[1;32m    868\u001b[0m             \u001b[0ma_omega\u001b[0m \u001b[0;34m=\u001b[0m \u001b[0;36m1\u001b[0m\u001b[0;34m\u001b[0m\u001b[0m\n\u001b[1;32m    869\u001b[0m             \u001b[0;32mfor\u001b[0m \u001b[0miset\u001b[0m \u001b[0;32min\u001b[0m \u001b[0mchildren_infosets\u001b[0m\u001b[0;34m:\u001b[0m\u001b[0;34m\u001b[0m\u001b[0m\n\u001b[0;32m--> 870\u001b[0;31m                 \u001b[0miset\u001b[0m\u001b[0;34m.\u001b[0m\u001b[0mupdateSupportingPlan\u001b[0m\u001b[0;34m(\u001b[0m\u001b[0mtargetPlayer\u001b[0m\u001b[0;34m)\u001b[0m\u001b[0;34m\u001b[0m\u001b[0m\n\u001b[0m\u001b[1;32m    871\u001b[0m                 \u001b[0;34m(\u001b[0m\u001b[0m_\u001b[0m\u001b[0;34m,\u001b[0m \u001b[0mw\u001b[0m\u001b[0;34m)\u001b[0m \u001b[0;34m=\u001b[0m \u001b[0miset\u001b[0m\u001b[0;34m.\u001b[0m\u001b[0msupportingPlanInfo\u001b[0m\u001b[0;34m\u001b[0m\u001b[0m\n\u001b[1;32m    872\u001b[0m                 \u001b[0ma_omega\u001b[0m \u001b[0;34m=\u001b[0m \u001b[0mmin\u001b[0m\u001b[0;34m(\u001b[0m\u001b[0ma_omega\u001b[0m\u001b[0;34m,\u001b[0m \u001b[0mw\u001b[0m\u001b[0;34m)\u001b[0m\u001b[0;34m\u001b[0m\u001b[0m\n",
      "\u001b[0;32m~/Scrivania/Polimi/Honours Programme/SCFR/data_structures/cfr_trees.py\u001b[0m in \u001b[0;36mupdateSupportingPlan\u001b[0;34m(self, targetPlayer)\u001b[0m\n\u001b[1;32m    872\u001b[0m                 \u001b[0ma_omega\u001b[0m \u001b[0;34m=\u001b[0m \u001b[0mmin\u001b[0m\u001b[0;34m(\u001b[0m\u001b[0ma_omega\u001b[0m\u001b[0;34m,\u001b[0m \u001b[0mw\u001b[0m\u001b[0;34m)\u001b[0m\u001b[0;34m\u001b[0m\u001b[0m\n\u001b[1;32m    873\u001b[0m             \u001b[0;32mfor\u001b[0m \u001b[0mleaf\u001b[0m \u001b[0;32min\u001b[0m \u001b[0mchildren_leaves\u001b[0m\u001b[0;34m:\u001b[0m\u001b[0;34m\u001b[0m\u001b[0m\n\u001b[0;32m--> 874\u001b[0;31m                 \u001b[0ma_omega\u001b[0m \u001b[0;34m=\u001b[0m \u001b[0mmin\u001b[0m\u001b[0;34m(\u001b[0m\u001b[0ma_omega\u001b[0m\u001b[0;34m,\u001b[0m \u001b[0mleaf\u001b[0m\u001b[0;34m.\u001b[0m\u001b[0momega\u001b[0m\u001b[0;34m)\u001b[0m\u001b[0;34m\u001b[0m\u001b[0m\n\u001b[0m\u001b[1;32m    875\u001b[0m \u001b[0;34m\u001b[0m\u001b[0m\n\u001b[1;32m    876\u001b[0m             \u001b[0;32mif\u001b[0m \u001b[0maction\u001b[0m \u001b[0;34m==\u001b[0m \u001b[0;34m-\u001b[0m\u001b[0;36m1\u001b[0m \u001b[0;32mor\u001b[0m \u001b[0ma_omega\u001b[0m \u001b[0;34m>\u001b[0m \u001b[0momega\u001b[0m\u001b[0;34m:\u001b[0m\u001b[0;34m\u001b[0m\u001b[0m\n",
      "\u001b[0;31mKeyboardInterrupt\u001b[0m: "
     ]
    }
   ],
   "source": [
    "cfr_tree2 = CFRTree(tree)\n",
    "print(\"Tree ok\\n\")\n",
    "res2 = SolveWithReconstructionCFR(cfr_tree2, 5, checkEveryIteration = 1, reconstructEveryIteration = 4,\n",
    "                                  show_perc = True)"
   ]
  },
  {
   "cell_type": "code",
   "execution_count": null,
   "metadata": {},
   "outputs": [],
   "source": [
    "res2"
   ]
  },
  {
   "cell_type": "code",
   "execution_count": null,
   "metadata": {},
   "outputs": [],
   "source": []
  }
 ],
 "metadata": {
  "kernelspec": {
   "display_name": "Python 3",
   "language": "python",
   "name": "python3"
  },
  "language_info": {
   "codemirror_mode": {
    "name": "ipython",
    "version": 3
   },
   "file_extension": ".py",
   "mimetype": "text/x-python",
   "name": "python",
   "nbconvert_exporter": "python",
   "pygments_lexer": "ipython3",
   "version": "3.5.2"
  }
 },
 "nbformat": 4,
 "nbformat_minor": 2
}
