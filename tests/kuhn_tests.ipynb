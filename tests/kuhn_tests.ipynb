{
 "cells": [
  {
   "cell_type": "code",
   "execution_count": 1,
   "metadata": {},
   "outputs": [
    {
     "name": "stdout",
     "output_type": "stream",
     "text": [
      "/home/tommy/Scrivania/Polimi/Honours Programme/SCFR\n"
     ]
    }
   ],
   "source": [
    "cd .."
   ]
  },
  {
   "cell_type": "code",
   "execution_count": 2,
   "metadata": {},
   "outputs": [],
   "source": [
    "from data_structures.cfr_trees import CFRTree, CFRJointStrategy\n",
    "from games.kuhn import build_kuhn_tree\n",
    "from cfr_code.sample_cfr import SolveWithSampleCFR\n",
    "from utilities.graphs import graphs_from_cfr_results, epsilon_graph"
   ]
  },
  {
   "cell_type": "code",
   "execution_count": 3,
   "metadata": {},
   "outputs": [],
   "source": [
    "kuhn_tree = build_kuhn_tree(2, 3)"
   ]
  },
  {
   "cell_type": "code",
   "execution_count": 4,
   "metadata": {},
   "outputs": [],
   "source": [
    "cfr_tree = CFRTree(kuhn_tree)"
   ]
  },
  {
   "cell_type": "code",
   "execution_count": 5,
   "metadata": {},
   "outputs": [
    {
     "name": "stdout",
     "output_type": "stream",
     "text": [
      "10.0%\n",
      "20.0%\n",
      "30.0%\n",
      "40.0%\n",
      "50.0%\n",
      "60.0%\n",
      "70.0%\n",
      "80.0%\n",
      "90.0%\n",
      "100.0%\n",
      "CPU times: user 13.2 s, sys: 20 ms, total: 13.2 s\n",
      "Wall time: 13.2 s\n"
     ]
    }
   ],
   "source": [
    "%time res = SolveWithSampleCFR(cfr_tree, 100000, checkEveryIteration = 1000, bootstrap_iterations = 1000, \\\n",
    "                               show_perc = True)"
   ]
  },
  {
   "cell_type": "code",
   "execution_count": 6,
   "metadata": {},
   "outputs": [
    {
     "data": {
      "image/png": "[encoded data removed]",
      "text/plain": [
       "<matplotlib.figure.Figure at 0x7f03f33e18d0>"
      ]
     },
     "metadata": {},
     "output_type": "display_data"
    }
   ],
   "source": [
    "epsilon_graph(res)"
   ]
  },
  {
   "cell_type": "code",
   "execution_count": 7,
   "metadata": {},
   "outputs": [
    {
     "name": "stdout",
     "output_type": "stream",
     "text": [
      "Player -42 - Infoset -42 - Node 0\n",
      "Player 0 - Infoset 1 - Node 1 (children of Node0 via Action None)\n",
      "Player 0 - Infoset 1 - Node 10 (children of Node0 via Action None)\n",
      "Player 0 - Infoset 9 - Node 19 (children of Node0 via Action None)\n",
      "Player 0 - Infoset 9 - Node 28 (children of Node0 via Action None)\n",
      "Player 0 - Infoset 17 - Node 37 (children of Node0 via Action None)\n",
      "Player 0 - Infoset 17 - Node 46 (children of Node0 via Action None)\n",
      "Player 1 - Infoset 2 - Node 2 (children of Node1 via Action p0c)\n",
      "Player 1 - Infoset 4 - Node 7 (children of Node1 via Action p0b)\n",
      "Leaf3 (children of Node2 via Action 2.0) -  utility is [-1, 1]\n",
      "Player 0 - Infoset 3 - Node 4 (children of Node2 via Action p1b)\n",
      "Leaf5 (children of Node4 via Action 3.0) -  utility is [-2, 2]\n",
      "Leaf6 (children of Node4 via Action 3.1) -  utility is [-1, 1]\n",
      "Leaf8 (children of Node7 via Action 4.0) -  utility is [-2, 2]\n",
      "Leaf9 (children of Node7 via Action 4.1) -  utility is [1, -1]\n",
      "Player 1 - Infoset 6 - Node 11 (children of Node10 via Action p0c)\n",
      "Player 1 - Infoset 8 - Node 16 (children of Node10 via Action p0b)\n",
      "Leaf12 (children of Node11 via Action 6.0) -  utility is [-1, 1]\n",
      "Player 0 - Infoset 3 - Node 13 (children of Node11 via Action p1b)\n",
      "Leaf14 (children of Node13 via Action 3.0) -  utility is [-2, 2]\n",
      "Leaf15 (children of Node13 via Action 3.1) -  utility is [-1, 1]\n",
      "Leaf17 (children of Node16 via Action 8.0) -  utility is [-2, 2]\n",
      "Leaf18 (children of Node16 via Action 8.1) -  utility is [1, -1]\n",
      "Player 1 - Infoset 10 - Node 20 (children of Node19 via Action p0c)\n",
      "Player 1 - Infoset 12 - Node 25 (children of Node19 via Action p0b)\n",
      "Leaf21 (children of Node20 via Action 10.0) -  utility is [1, -1]\n",
      "Player 0 - Infoset 11 - Node 22 (children of Node20 via Action p1b)\n",
      "Leaf23 (children of Node22 via Action 11.0) -  utility is [2, -2]\n",
      "Leaf24 (children of Node22 via Action 11.1) -  utility is [-1, 1]\n",
      "Leaf26 (children of Node25 via Action 12.0) -  utility is [2, -2]\n",
      "Leaf27 (children of Node25 via Action 12.1) -  utility is [1, -1]\n",
      "Player 1 - Infoset 6 - Node 29 (children of Node28 via Action p0c)\n",
      "Player 1 - Infoset 8 - Node 34 (children of Node28 via Action p0b)\n",
      "Leaf30 (children of Node29 via Action 6.0) -  utility is [-1, 1]\n",
      "Player 0 - Infoset 11 - Node 31 (children of Node29 via Action p1b)\n",
      "Leaf32 (children of Node31 via Action 11.0) -  utility is [-2, 2]\n",
      "Leaf33 (children of Node31 via Action 11.1) -  utility is [-1, 1]\n",
      "Leaf35 (children of Node34 via Action 8.0) -  utility is [-2, 2]\n",
      "Leaf36 (children of Node34 via Action 8.1) -  utility is [1, -1]\n",
      "Player 1 - Infoset 10 - Node 38 (children of Node37 via Action p0c)\n",
      "Player 1 - Infoset 12 - Node 43 (children of Node37 via Action p0b)\n",
      "Leaf39 (children of Node38 via Action 10.0) -  utility is [1, -1]\n",
      "Player 0 - Infoset 19 - Node 40 (children of Node38 via Action p1b)\n",
      "Leaf41 (children of Node40 via Action 19.0) -  utility is [2, -2]\n",
      "Leaf42 (children of Node40 via Action 19.1) -  utility is [-1, 1]\n",
      "Leaf44 (children of Node43 via Action 12.0) -  utility is [2, -2]\n",
      "Leaf45 (children of Node43 via Action 12.1) -  utility is [1, -1]\n",
      "Player 1 - Infoset 2 - Node 47 (children of Node46 via Action p0c)\n",
      "Player 1 - Infoset 4 - Node 52 (children of Node46 via Action p0b)\n",
      "Leaf48 (children of Node47 via Action 2.0) -  utility is [1, -1]\n",
      "Player 0 - Infoset 19 - Node 49 (children of Node47 via Action p1b)\n",
      "Leaf50 (children of Node49 via Action 19.0) -  utility is [2, -2]\n",
      "Leaf51 (children of Node49 via Action 19.1) -  utility is [-1, 1]\n",
      "Leaf53 (children of Node52 via Action 4.0) -  utility is [2, -2]\n",
      "Leaf54 (children of Node52 via Action 4.1) -  utility is [1, -1]\n"
     ]
    }
   ],
   "source": [
    "kuhn_tree.display()"
   ]
  },
  {
   "cell_type": "code",
   "execution_count": 8,
   "metadata": {},
   "outputs": [
    {
     "data": {
      "text/plain": [
       "[-0.055890000000000016, 0.055890000000000016]"
      ]
     },
     "execution_count": 8,
     "metadata": {},
     "output_type": "execute_result"
    }
   ],
   "source": [
    "res['utility']"
   ]
  },
  {
   "cell_type": "code",
   "execution_count": 9,
   "metadata": {},
   "outputs": [
    {
     "name": "stdout",
     "output_type": "stream",
     "text": [
      "-0.3497366666666667\n",
      "-0.3497366666666667\n",
      "0.10925000000000003\n",
      "0.10925000000000003\n",
      "0.5055833333333333\n",
      "0.5055833333333333\n"
     ]
    }
   ],
   "source": [
    "for c in cfr_tree.root.children:\n",
    "    print(c.information_set.V(res['joint']))"
   ]
  },
  {
   "cell_type": "code",
   "execution_count": 10,
   "metadata": {},
   "outputs": [
    {
     "data": {
      "text/plain": [
       "0.5055833333333333"
      ]
     },
     "execution_count": 10,
     "metadata": {},
     "output_type": "execute_result"
    }
   ],
   "source": [
    "cfr_tree.root.children[5].information_set.V(res['joint'])"
   ]
  },
  {
   "cell_type": "code",
   "execution_count": 11,
   "metadata": {},
   "outputs": [
    {
     "data": {
      "text/plain": [
       "[-0.055890000000000016, 0.055890000000000016]"
      ]
     },
     "execution_count": 11,
     "metadata": {},
     "output_type": "execute_result"
    }
   ],
   "source": [
    "res['utility']"
   ]
  },
  {
   "cell_type": "code",
   "execution_count": 12,
   "metadata": {},
   "outputs": [
    {
     "name": "stdout",
     "output_type": "stream",
     "text": [
      "[0.9999999999999999, 0.9999999999999999]\n"
     ]
    },
    {
     "data": {
      "text/plain": [
       "[0.5055833333333333, 0.3943566666666667]"
      ]
     },
     "execution_count": 12,
     "metadata": {},
     "output_type": "execute_result"
    }
   ],
   "source": [
    "self = cfr_tree.root.children[5].information_set\n",
    "joint = res['joint']\n",
    "\n",
    "v = [0] * self.action_count\n",
    "\n",
    "this_player_infosets = self.cfr_tree.infosets_by_player[self.player]\n",
    "\n",
    "sequence = self.sequence.copy()\n",
    "modification_sequence = self.sequence.copy()\n",
    "\n",
    "# Delete from actionPlan all the actions by the current player\n",
    "for iset in this_player_infosets:\n",
    "    if(iset.id not in sequence):\n",
    "        modification_sequence[iset.id] = -1\n",
    "\n",
    "tot_freq = [0, 0]\n",
    "        \n",
    "for a in range(self.action_count):\n",
    "    sequence[self.id] = a\n",
    "    modification_sequence[self.id] = a\n",
    "\n",
    "    children = list(filter(lambda iset: iset.sequence == sequence, this_player_infosets))\n",
    "\n",
    "    # \"Leaves\" part of the sum\n",
    "    # TODO: optimize this loop, it is too much to loop over all plans in the joint\n",
    "    for actionPlanString in joint.plans:\n",
    "        actionPlan = CFRJointStrategy.stringToActionPlan(actionPlanString)\n",
    "\n",
    "        updatedPlan = actionPlan.copy()\n",
    "        updatedPlan.update(modification_sequence)\n",
    "        if(not self.cfr_tree.root.isActionPlanLeadingToInfoset(actionPlan, self)):\n",
    "            continue\n",
    "\n",
    "        frequency = joint.plans[actionPlanString] / joint.frequencyCount\n",
    "        tot_freq[a] += frequency\n",
    "        \n",
    "        for n in self.nodes:\n",
    "            u = n.utilityFromModifiedActionPlan(actionPlan, modification_sequence, \\\n",
    "                                                default = [0] * self.cfr_tree.numOfPlayers)\n",
    "\n",
    "            if(u != None):\n",
    "                p = self.cfr_tree.root.distribution[self.cfr_tree.root.base_node.getActionLeadingToNode(n.base_node)]\n",
    "                v[a] += frequency * u[self.player] * p\n",
    "\n",
    "    # \"Recursive\" part of the sum\n",
    "    for child in children:\n",
    "        v[a] += child.V(joint)\n",
    "        \n",
    "print(tot_freq)\n",
    "v"
   ]
  },
  {
   "cell_type": "code",
   "execution_count": null,
   "metadata": {},
   "outputs": [],
   "source": []
  },
  {
   "cell_type": "code",
   "execution_count": null,
   "metadata": {},
   "outputs": [],
   "source": [
    "cfr_tree.checkEquilibrium(res['joint'])"
   ]
  },
  {
   "cell_type": "code",
   "execution_count": null,
   "metadata": {},
   "outputs": [],
   "source": [
    "print(cfr_tree.root.children[0].information_set.V(res['joint']))\n",
    "print(cfr_tree.root.children[1].information_set.V(res['joint']))"
   ]
  },
  {
   "cell_type": "code",
   "execution_count": null,
   "metadata": {},
   "outputs": [],
   "source": [
    "cfr_tree.root.children[0].children[0].children[1].information_set.V(res['joint'], True)"
   ]
  },
  {
   "cell_type": "code",
   "execution_count": null,
   "metadata": {},
   "outputs": [],
   "source": [
    "self = cfr_tree.root.children[0].children[0].children[1].information_set\n",
    "joint = res['joint']\n",
    "\n",
    "v = [0] * self.action_count\n",
    "\n",
    "this_player_infosets = self.cfr_tree.infosets_by_player[self.player]\n",
    "\n",
    "sequence = self.sequence.copy()\n",
    "modification_sequence = self.sequence.copy()\n",
    "\n",
    "# Delete from actionPlan all the actions by the current player\n",
    "for iset in this_player_infosets:\n",
    "    if(iset.id not in sequence):\n",
    "        modification_sequence[iset.id] = -1\n",
    "\n",
    "for a in range(self.action_count):\n",
    "    sequence[self.id] = a\n",
    "    modification_sequence[self.id] = a\n",
    "\n",
    "    children = list(filter(lambda iset: iset.sequence == sequence, this_player_infosets))\n",
    "\n",
    "    # \"Leaves\" part of the sum\n",
    "    # TODO: optimize this loop, it is too much to loop over all plans in the joint\n",
    "    for actionPlanString in joint.plans:\n",
    "        actionPlan = CFRJointStrategy.stringToActionPlan(actionPlanString)\n",
    "\n",
    "        #updatedPlan = actionPlan.copy()\n",
    "        #updatedPlan.update(modification_sequence)\n",
    "        if(not self.cfr_tree.root.isActionPlanLeadingToInfoset(actionPlan, self)):\n",
    "            continue\n",
    "\n",
    "        frequency = joint.plans[actionPlanString] / joint.frequencyCount\n",
    "\n",
    "        for n in self.nodes:\n",
    "            u = n.utilityFromModifiedActionPlan(actionPlan, modification_sequence, \\\n",
    "                                                default = [0] * self.cfr_tree.numOfPlayers)\n",
    "\n",
    "            if(u != None):\n",
    "                print(\"Action plan = \" + actionPlanString)\n",
    "                print(\"Frequency = \" + str(frequency))\n",
    "                print(\"U = \" + str(u))\n",
    "                print(\"v[\" + str(a) + \"] += \" + str(frequency * u[self.player]))\n",
    "                v[a] += frequency * u[self.player]\n",
    "\n",
    "    # \"Recursive\" part of the sum\n",
    "    for child in children:\n",
    "        v[a] += child.V(joint)\n",
    "v"
   ]
  },
  {
   "cell_type": "code",
   "execution_count": null,
   "metadata": {},
   "outputs": [],
   "source": []
  },
  {
   "cell_type": "code",
   "execution_count": null,
   "metadata": {},
   "outputs": [],
   "source": []
  },
  {
   "cell_type": "code",
   "execution_count": null,
   "metadata": {},
   "outputs": [],
   "source": []
  },
  {
   "cell_type": "code",
   "execution_count": null,
   "metadata": {},
   "outputs": [],
   "source": [
    "cfr_tree.root.children[1].information_set.V(res['joint'])"
   ]
  },
  {
   "cell_type": "code",
   "execution_count": null,
   "metadata": {},
   "outputs": [],
   "source": [
    "cfr_tree.getUtility(res['joint'])"
   ]
  },
  {
   "cell_type": "code",
   "execution_count": null,
   "metadata": {},
   "outputs": [],
   "source": [
    "res['joint'].plans"
   ]
  },
  {
   "cell_type": "code",
   "execution_count": null,
   "metadata": {},
   "outputs": [],
   "source": [
    "kuhn_tree.display()"
   ]
  },
  {
   "cell_type": "code",
   "execution_count": null,
   "metadata": {},
   "outputs": [],
   "source": []
  },
  {
   "cell_type": "code",
   "execution_count": null,
   "metadata": {},
   "outputs": [],
   "source": []
  },
  {
   "cell_type": "code",
   "execution_count": null,
   "metadata": {},
   "outputs": [],
   "source": []
  },
  {
   "cell_type": "code",
   "execution_count": null,
   "metadata": {},
   "outputs": [],
   "source": [
    "epsilon_graph(SolveWithSampleCFR(CFRTree(build_kuhn_tree(2,3)), 100000, checkEveryIteration = 1000, \\\n",
    "                               bootstrap_iterations = 1000, show_perc = True))"
   ]
  },
  {
   "cell_type": "code",
   "execution_count": null,
   "metadata": {},
   "outputs": [],
   "source": [
    "epsilon_graph(SolveWithSampleCFR(CFRTree(build_kuhn_tree(2,4)), 100000, checkEveryIteration = 1000, \\\n",
    "                               bootstrap_iterations = 1000, show_perc = True))"
   ]
  },
  {
   "cell_type": "code",
   "execution_count": null,
   "metadata": {},
   "outputs": [],
   "source": [
    "epsilon_graph(SolveWithSampleCFR(CFRTree(build_kuhn_tree(3,3)), 100000, checkEveryIteration = 1000, \\\n",
    "                               bootstrap_iterations = 1000, show_perc = True))"
   ]
  },
  {
   "cell_type": "code",
   "execution_count": null,
   "metadata": {},
   "outputs": [],
   "source": []
  },
  {
   "cell_type": "code",
   "execution_count": null,
   "metadata": {},
   "outputs": [],
   "source": []
  },
  {
   "cell_type": "markdown",
   "metadata": {},
   "source": [
    "# Kuhn equilibrium plans interpretation"
   ]
  },
  {
   "cell_type": "code",
   "execution_count": null,
   "metadata": {},
   "outputs": [],
   "source": [
    "from data_structures.cfr_trees import CFRJointStrategy"
   ]
  },
  {
   "cell_type": "code",
   "execution_count": null,
   "metadata": {},
   "outputs": [],
   "source": [
    "big_plans = list(map(lambda el: (CFRJointStrategy.stringToActionPlan(el[0]), el[1]), \n",
    "                     filter(lambda el: el[1] > 0, res['joint'].plans.items())))\n",
    "print(\"There are \" + str(len(big_plans)) + \" big plans\")\n",
    "print(\"They cover \" + str(sum(map(lambda el: el[1], big_plans)) / res['joint'].frequencyCount * 100) + \n",
    "      \"% of samples\")"
   ]
  },
  {
   "cell_type": "code",
   "execution_count": null,
   "metadata": {},
   "outputs": [],
   "source": [
    "def kuhn_tree_traverse_via_action_plan(node, action_plan):\n",
    "    if(node.isChance()):\n",
    "        results = []\n",
    "        for i in range(len(node.children)):\n",
    "            r = node.actionNames[i] + \" - \" + kuhn_tree_traverse_via_action_plan(node.children[i], action_plan)\n",
    "            results.append(r)\n",
    "        return results\n",
    "    \n",
    "    if(node.isLeaf()):\n",
    "        return \"\"\n",
    "    \n",
    "    a = action_plan[node.information_set]\n",
    "    action_name = node.actionNames[a]\n",
    "    return action_name + \" - \" + kuhn_tree_traverse_via_action_plan(node.children[a], action_plan)"
   ]
  },
  {
   "cell_type": "code",
   "execution_count": null,
   "metadata": {
    "scrolled": true
   },
   "outputs": [],
   "source": [
    "plans = {}\n",
    "total_frequency = res['joint'].frequencyCount\n",
    "for p in big_plans:\n",
    "    for s in kuhn_tree_traverse_via_action_plan(kuhn_tree.root, p[0]):\n",
    "        #print(s + str(p[1]))\n",
    "        if(s in plans):\n",
    "            plans[s] += p[1] / total_frequency\n",
    "        else:\n",
    "            plans[s] = p[1] / total_frequency"
   ]
  },
  {
   "cell_type": "code",
   "execution_count": null,
   "metadata": {
    "scrolled": true
   },
   "outputs": [],
   "source": [
    "to_del = []\n",
    "for (p, f) in plans.items():\n",
    "    if(f < 0.01):\n",
    "        to_del.append(p)\n",
    "for p in to_del:\n",
    "    del plans[p]\n",
    "plans"
   ]
  },
  {
   "cell_type": "code",
   "execution_count": null,
   "metadata": {},
   "outputs": [],
   "source": []
  }
 ],
 "metadata": {
  "kernelspec": {
   "display_name": "Python 3",
   "language": "python",
   "name": "python3"
  },
  "language_info": {
   "codemirror_mode": {
    "name": "ipython",
    "version": 3
   },
   "file_extension": ".py",
   "mimetype": "text/x-python",
   "name": "python",
   "nbconvert_exporter": "python",
   "pygments_lexer": "ipython3",
   "version": "3.5.2"
  }
 },
 "nbformat": 4,
 "nbformat_minor": 2
}
