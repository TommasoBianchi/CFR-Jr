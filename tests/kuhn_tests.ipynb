{
 "cells": [
  {
   "cell_type": "code",
   "execution_count": 1,
   "metadata": {},
   "outputs": [
    {
     "name": "stdout",
     "output_type": "stream",
     "text": [
      "/home/tommy/Scrivania/Polimi/Honours Programme/SCFR\n"
     ]
    }
   ],
   "source": [
    "cd .."
   ]
  },
  {
   "cell_type": "code",
   "execution_count": 2,
   "metadata": {},
   "outputs": [],
   "source": [
    "from data_structures.cfr_trees import CFRTree, CFRJointStrategy\n",
    "from games.kuhn import build_kuhn_tree\n",
    "from cfr_code.sample_cfr import SolveWithSampleCFR\n",
    "from utilities.graphs import graphs_from_cfr_results, epsilon_graph"
   ]
  },
  {
   "cell_type": "code",
   "execution_count": 30,
   "metadata": {},
   "outputs": [],
   "source": [
    "kuhn_tree = build_kuhn_tree(3, 4)"
   ]
  },
  {
   "cell_type": "code",
   "execution_count": 31,
   "metadata": {},
   "outputs": [],
   "source": [
    "cfr_tree = CFRTree(kuhn_tree)"
   ]
  },
  {
   "cell_type": "code",
   "execution_count": 32,
   "metadata": {},
   "outputs": [
    {
     "name": "stdout",
     "output_type": "stream",
     "text": [
      "10.0%\n",
      "20.0%\n",
      "30.0%\n",
      "40.0%\n",
      "50.0%\n",
      "60.0%\n",
      "70.0%\n",
      "80.0%\n",
      "90.0%\n",
      "100.0%\n",
      "CPU times: user 1min 55s, sys: 28 ms, total: 1min 55s\n",
      "Wall time: 1min 55s\n"
     ]
    }
   ],
   "source": [
    "%time res = SolveWithSampleCFR(cfr_tree, 100000, checkEveryIteration = 1000, bootstrap_iterations = 10000, \\\n",
    "                               show_perc = True)"
   ]
  },
  {
   "cell_type": "code",
   "execution_count": 33,
   "metadata": {},
   "outputs": [
    {
     "data": {
      "image/png": "[encoded data removed]",
      "text/plain": [
       "<matplotlib.figure.Figure at 0x7f2c62cccf28>"
      ]
     },
     "metadata": {},
     "output_type": "display_data"
    }
   ],
   "source": [
    "epsilon_graph(res)"
   ]
  },
  {
   "cell_type": "code",
   "execution_count": 27,
   "metadata": {},
   "outputs": [
    {
     "data": {
      "text/plain": [
       "[-0.04674999999999997, -0.003708333333333307, 0.05045833333333337]"
      ]
     },
     "execution_count": 27,
     "metadata": {},
     "output_type": "execute_result"
    }
   ],
   "source": [
    "res['utility']"
   ]
  },
  {
   "cell_type": "markdown",
   "metadata": {},
   "source": [
    "# Kuhn equilibrium plans interpretation"
   ]
  },
  {
   "cell_type": "code",
   "execution_count": null,
   "metadata": {},
   "outputs": [],
   "source": [
    "from data_structures.cfr_trees import CFRJointStrategy"
   ]
  },
  {
   "cell_type": "code",
   "execution_count": null,
   "metadata": {},
   "outputs": [],
   "source": [
    "big_plans = list(map(lambda el: (CFRJointStrategy.stringToActionPlan(el[0]), el[1]), \n",
    "                     filter(lambda el: el[1] > 0, res['joint'].plans.items())))\n",
    "print(\"There are \" + str(len(big_plans)) + \" big plans\")\n",
    "print(\"They cover \" + str(sum(map(lambda el: el[1], big_plans)) / res['joint'].frequencyCount * 100) + \n",
    "      \"% of samples\")"
   ]
  },
  {
   "cell_type": "code",
   "execution_count": null,
   "metadata": {},
   "outputs": [],
   "source": [
    "def kuhn_tree_traverse_via_action_plan(node, action_plan):\n",
    "    if(node.isChance()):\n",
    "        results = []\n",
    "        for i in range(len(node.children)):\n",
    "            r = node.actionNames[i] + \" - \" + kuhn_tree_traverse_via_action_plan(node.children[i], action_plan)\n",
    "            results.append(r)\n",
    "        return results\n",
    "    \n",
    "    if(node.isLeaf()):\n",
    "        return \"\"\n",
    "    \n",
    "    a = action_plan[node.information_set]\n",
    "    action_name = node.actionNames[a]\n",
    "    return action_name + \" - \" + kuhn_tree_traverse_via_action_plan(node.children[a], action_plan)"
   ]
  },
  {
   "cell_type": "code",
   "execution_count": null,
   "metadata": {
    "scrolled": true
   },
   "outputs": [],
   "source": [
    "plans = {}\n",
    "total_frequency = res['joint'].frequencyCount\n",
    "for p in big_plans:\n",
    "    for s in kuhn_tree_traverse_via_action_plan(kuhn_tree.root, p[0]):\n",
    "        #print(s + str(p[1]))\n",
    "        if(s in plans):\n",
    "            plans[s] += p[1] / total_frequency\n",
    "        else:\n",
    "            plans[s] = p[1] / total_frequency"
   ]
  },
  {
   "cell_type": "code",
   "execution_count": null,
   "metadata": {
    "scrolled": true
   },
   "outputs": [],
   "source": [
    "to_del = []\n",
    "for (p, f) in plans.items():\n",
    "    if(f < 0.01):\n",
    "        to_del.append(p)\n",
    "for p in to_del:\n",
    "    del plans[p]\n",
    "plans"
   ]
  },
  {
   "cell_type": "code",
   "execution_count": null,
   "metadata": {},
   "outputs": [],
   "source": []
  }
 ],
 "metadata": {
  "kernelspec": {
   "display_name": "Python 3",
   "language": "python",
   "name": "python3"
  },
  "language_info": {
   "codemirror_mode": {
    "name": "ipython",
    "version": 3
   },
   "file_extension": ".py",
   "mimetype": "text/x-python",
   "name": "python",
   "nbconvert_exporter": "python",
   "pygments_lexer": "ipython3",
   "version": "3.5.2"
  }
 },
 "nbformat": 4,
 "nbformat_minor": 2
}
