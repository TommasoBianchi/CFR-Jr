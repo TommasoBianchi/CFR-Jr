{
 "cells": [
  {
   "cell_type": "code",
   "execution_count": 1,
   "metadata": {},
   "outputs": [
    {
     "name": "stdout",
     "output_type": "stream",
     "text": [
      "/home/tommy/Scrivania/Polimi/Honours Programme/SCFR\n"
     ]
    }
   ],
   "source": [
    "cd .."
   ]
  },
  {
   "cell_type": "code",
   "execution_count": 2,
   "metadata": {},
   "outputs": [],
   "source": [
    "from games.hanabi import *\n",
    "from utilities.drawing import draw_tree\n",
    "from data_structures.cfr_trees import CFRTree\n",
    "from cfr_code.reconstruction_cfr import SolveWithReconstructionCFR\n",
    "import ast"
   ]
  },
  {
   "cell_type": "code",
   "execution_count": 3,
   "metadata": {},
   "outputs": [],
   "source": [
    "%load_ext autoreload\n",
    "%autoreload 2"
   ]
  },
  {
   "cell_type": "code",
   "execution_count": null,
   "metadata": {},
   "outputs": [
    {
     "name": "stdout",
     "output_type": "stream",
     "text": [
      "--- Processing deck [(1, 2), (2, 1), (1, 1), (1, 1), (2, 2), (1, 2)] (1/180) ---\n",
      "--- Processing deck [(1, 1), (1, 2), (2, 2), (1, 1), (1, 2), (2, 1)] (2/180) ---\n",
      "--- Processing deck [(1, 2), (1, 2), (2, 1), (2, 2), (1, 1), (1, 1)] (3/180) ---\n",
      "--- Processing deck [(1, 2), (1, 1), (2, 1), (2, 2), (1, 2), (1, 1)] (4/180) ---\n",
      "--- Processing deck [(2, 1), (1, 1), (1, 1), (1, 2), (2, 2), (1, 2)] (5/180) ---\n",
      "--- Processing deck [(1, 1), (2, 2), (1, 2), (2, 1), (1, 2), (1, 1)] (6/180) ---\n",
      "--- Processing deck [(1, 1), (1, 2), (2, 2), (2, 1), (1, 2), (1, 1)] (7/180) ---\n",
      "--- Processing deck [(2, 1), (1, 2), (1, 2), (1, 1), (1, 1), (2, 2)] (8/180) ---\n",
      "--- Processing deck [(2, 2), (1, 1), (1, 2), (2, 1), (1, 1), (1, 2)] (9/180) ---\n",
      "--- Processing deck [(1, 1), (1, 2), (2, 2), (1, 2), (2, 1), (1, 1)] (10/180) ---\n",
      "--- Processing deck [(1, 1), (2, 1), (2, 2), (1, 2), (1, 2), (1, 1)] (11/180) ---\n",
      "--- Processing deck [(2, 1), (1, 2), (1, 1), (2, 2), (1, 1), (1, 2)] (12/180) ---\n",
      "--- Processing deck [(2, 2), (1, 2), (2, 1), (1, 1), (1, 1), (1, 2)] (13/180) ---\n",
      "--- Processing deck [(1, 1), (1, 1), (1, 2), (1, 2), (2, 2), (2, 1)] (14/180) ---\n",
      "--- Processing deck [(1, 1), (1, 2), (1, 1), (2, 1), (1, 2), (2, 2)] (15/180) ---\n",
      "--- Processing deck [(1, 1), (1, 2), (1, 1), (2, 1), (2, 2), (1, 2)] (16/180) ---\n",
      "--- Processing deck [(1, 1), (1, 2), (1, 1), (1, 2), (2, 2), (2, 1)] (17/180) ---\n",
      "--- Processing deck [(2, 2), (1, 1), (2, 1), (1, 1), (1, 2), (1, 2)] (18/180) ---\n",
      "--- Processing deck [(1, 1), (2, 2), (1, 2), (1, 1), (2, 1), (1, 2)] (19/180) ---\n",
      "--- Processing deck [(1, 2), (1, 1), (2, 2), (1, 1), (1, 2), (2, 1)] (20/180) ---\n",
      "--- Processing deck [(2, 2), (1, 2), (1, 2), (1, 1), (2, 1), (1, 1)] (21/180) ---\n",
      "--- Processing deck [(1, 1), (2, 2), (2, 1), (1, 2), (1, 2), (1, 1)] (22/180) ---\n",
      "--- Processing deck [(1, 1), (1, 2), (1, 1), (1, 2), (2, 1), (2, 2)] (23/180) ---\n",
      "--- Processing deck [(1, 1), (1, 1), (1, 2), (2, 2), (2, 1), (1, 2)] (24/180) ---\n",
      "--- Processing deck [(2, 1), (1, 2), (2, 2), (1, 1), (1, 2), (1, 1)] (25/180) ---\n",
      "--- Processing deck [(1, 2), (1, 1), (2, 1), (1, 1), (2, 2), (1, 2)] (26/180) ---\n",
      "--- Processing deck [(2, 1), (1, 1), (1, 1), (2, 2), (1, 2), (1, 2)] (27/180) ---\n",
      "--- Processing deck [(1, 2), (1, 1), (1, 2), (1, 1), (2, 2), (2, 1)] (28/180) ---\n",
      "--- Processing deck [(1, 2), (1, 1), (1, 1), (2, 2), (1, 2), (2, 1)] (29/180) ---\n",
      "--- Processing deck [(1, 2), (1, 2), (1, 1), (1, 1), (2, 2), (2, 1)] (30/180) ---\n",
      "--- Processing deck [(1, 2), (1, 1), (2, 1), (2, 2), (1, 1), (1, 2)] (31/180) ---\n",
      "--- Processing deck [(2, 2), (1, 2), (1, 1), (1, 1), (2, 1), (1, 2)] (32/180) ---\n",
      "--- Processing deck [(2, 1), (2, 2), (1, 1), (1, 1), (1, 2), (1, 2)] (33/180) ---\n",
      "--- Processing deck [(1, 2), (1, 1), (1, 2), (1, 1), (2, 1), (2, 2)] (34/180) ---\n",
      "--- Processing deck [(1, 2), (2, 2), (2, 1), (1, 2), (1, 1), (1, 1)] (35/180) ---\n",
      "--- Processing deck [(1, 2), (2, 2), (2, 1), (1, 1), (1, 2), (1, 1)] (36/180) ---\n",
      "--- Processing deck [(1, 2), (2, 2), (1, 2), (1, 1), (2, 1), (1, 1)] (37/180) ---\n",
      "--- Processing deck [(1, 1), (1, 2), (2, 1), (1, 2), (1, 1), (2, 2)] (38/180) ---\n",
      "--- Processing deck [(2, 1), (2, 2), (1, 1), (1, 2), (1, 1), (1, 2)] (39/180) ---\n",
      "--- Processing deck [(1, 2), (2, 1), (2, 2), (1, 1), (1, 1), (1, 2)] (40/180) ---\n",
      "--- Processing deck [(1, 1), (2, 1), (1, 1), (2, 2), (1, 2), (1, 2)] (41/180) ---\n",
      "--- Processing deck [(1, 2), (2, 1), (1, 1), (1, 2), (2, 2), (1, 1)] (42/180) ---\n",
      "--- Processing deck [(1, 1), (2, 2), (1, 1), (2, 1), (1, 2), (1, 2)] (43/180) ---\n",
      "--- Processing deck [(1, 2), (1, 2), (1, 1), (2, 2), (2, 1), (1, 1)] (44/180) ---\n",
      "--- Processing deck [(1, 1), (1, 2), (2, 2), (1, 1), (2, 1), (1, 2)] (45/180) ---\n",
      "--- Processing deck [(1, 1), (2, 2), (1, 2), (1, 2), (2, 1), (1, 1)] (46/180) ---\n",
      "--- Processing deck [(1, 2), (2, 2), (1, 1), (1, 1), (2, 1), (1, 2)] (47/180) ---\n",
      "--- Processing deck [(2, 2), (2, 1), (1, 1), (1, 2), (1, 2), (1, 1)] (48/180) ---\n",
      "--- Processing deck [(2, 2), (1, 1), (2, 1), (1, 2), (1, 1), (1, 2)] (49/180) ---\n",
      "--- Processing deck [(1, 2), (1, 1), (2, 2), (2, 1), (1, 2), (1, 1)] (50/180) ---\n",
      "--- Processing deck [(1, 1), (2, 2), (1, 2), (1, 2), (1, 1), (2, 1)] (51/180) ---\n",
      "--- Processing deck [(2, 2), (1, 2), (1, 1), (1, 2), (1, 1), (2, 1)] (52/180) ---\n",
      "--- Processing deck [(2, 1), (2, 2), (1, 2), (1, 2), (1, 1), (1, 1)] (53/180) ---\n",
      "--- Processing deck [(2, 1), (2, 2), (1, 2), (1, 1), (1, 2), (1, 1)] (54/180) ---\n",
      "--- Processing deck [(1, 1), (1, 2), (1, 2), (2, 2), (1, 1), (2, 1)] (55/180) ---\n",
      "--- Processing deck [(1, 2), (1, 1), (2, 1), (1, 2), (2, 2), (1, 1)] (56/180) ---\n",
      "--- Processing deck [(2, 1), (1, 1), (1, 1), (1, 2), (1, 2), (2, 2)] (57/180) ---\n",
      "--- Processing deck [(2, 2), (1, 2), (2, 1), (1, 1), (1, 2), (1, 1)] (58/180) ---\n",
      "--- Processing deck [(1, 1), (1, 2), (1, 2), (2, 1), (2, 2), (1, 1)] (59/180) ---\n",
      "--- Processing deck [(1, 2), (1, 2), (2, 2), (1, 1), (2, 1), (1, 1)] (60/180) ---\n",
      "--- Processing deck [(1, 2), (2, 1), (1, 1), (2, 2), (1, 1), (1, 2)] (61/180) ---\n",
      "--- Processing deck [(1, 1), (2, 1), (1, 2), (1, 2), (1, 1), (2, 2)] (62/180) ---\n",
      "--- Processing deck [(1, 1), (2, 1), (1, 1), (1, 2), (2, 2), (1, 2)] (63/180) ---\n",
      "--- Processing deck [(1, 1), (1, 2), (2, 2), (2, 1), (1, 1), (1, 2)] (64/180) ---\n",
      "--- Processing deck [(2, 2), (1, 1), (1, 2), (1, 1), (1, 2), (2, 1)] (65/180) ---\n",
      "--- Processing deck [(1, 1), (2, 2), (1, 1), (1, 2), (1, 2), (2, 1)] (66/180) ---\n",
      "--- Processing deck [(1, 2), (1, 1), (2, 1), (1, 2), (1, 1), (2, 2)] (67/180) ---\n",
      "--- Processing deck [(1, 2), (2, 2), (2, 1), (1, 1), (1, 1), (1, 2)] (68/180) ---\n",
      "--- Processing deck [(1, 2), (2, 2), (1, 2), (1, 1), (1, 1), (2, 1)] (69/180) ---\n",
      "--- Processing deck [(1, 1), (2, 1), (1, 2), (1, 1), (1, 2), (2, 2)] (70/180) ---\n",
      "--- Processing deck [(1, 2), (2, 2), (1, 2), (2, 1), (1, 1), (1, 1)] (71/180) ---\n",
      "--- Processing deck [(2, 2), (2, 1), (1, 2), (1, 2), (1, 1), (1, 1)] (72/180) ---\n"
     ]
    }
   ],
   "source": [
    "tree = build_hanabi_tree(num_players = 3, num_colors = 2, color_distribution = [2, 1], num_cards_per_player = 1,\n",
    "                        display_progress = True)"
   ]
  },
  {
   "cell_type": "code",
   "execution_count": null,
   "metadata": {},
   "outputs": [],
   "source": [
    "CFRTree(tree)"
   ]
  },
  {
   "cell_type": "code",
   "execution_count": null,
   "metadata": {},
   "outputs": [],
   "source": [
    "(n, a) = find_node_by_id(tree.root, 32, [])\n",
    "a_names = get_action_names(tree.root.children[a[0]], a[1:])\n",
    "a_names"
   ]
  },
  {
   "cell_type": "code",
   "execution_count": null,
   "metadata": {
    "scrolled": true
   },
   "outputs": [],
   "source": [
    "s = buildHanabiState(HanabiState.createBaseState(ast.literal_eval(a_names[0]), 3, 1, 1, 1), a_names[1:], \n",
    "                     print_intermediate_states = True)"
   ]
  },
  {
   "cell_type": "code",
   "execution_count": null,
   "metadata": {},
   "outputs": [],
   "source": [
    "s.getLegalActions(2)"
   ]
  },
  {
   "cell_type": "code",
   "execution_count": null,
   "metadata": {},
   "outputs": [],
   "source": [
    "draw_tree(tree, title = \"3-card 1-color Hanabi\")"
   ]
  },
  {
   "cell_type": "code",
   "execution_count": null,
   "metadata": {},
   "outputs": [],
   "source": [
    "tree.display()"
   ]
  },
  {
   "cell_type": "code",
   "execution_count": null,
   "metadata": {},
   "outputs": [],
   "source": [
    "tree = build_hanabi_tree(num_players = 2, num_colors = 1, color_distribution = [2, 1], num_cards_per_player = 1)"
   ]
  },
  {
   "cell_type": "code",
   "execution_count": null,
   "metadata": {},
   "outputs": [],
   "source": [
    "draw_tree(tree)"
   ]
  },
  {
   "cell_type": "code",
   "execution_count": null,
   "metadata": {},
   "outputs": [],
   "source": [
    "tree.root.children"
   ]
  },
  {
   "cell_type": "markdown",
   "metadata": {},
   "source": [
    "---"
   ]
  },
  {
   "cell_type": "code",
   "execution_count": null,
   "metadata": {
    "scrolled": true
   },
   "outputs": [],
   "source": [
    "_t = build_hanabi_tree(2, 2, [2, 1], 1, display_progress = True)"
   ]
  },
  {
   "cell_type": "code",
   "execution_count": null,
   "metadata": {
    "scrolled": false
   },
   "outputs": [],
   "source": [
    "CFRTree(_t)"
   ]
  },
  {
   "cell_type": "code",
   "execution_count": null,
   "metadata": {},
   "outputs": [],
   "source": [
    "(_t.node_count, _t.infoset_count, _t.max_depth)"
   ]
  },
  {
   "cell_type": "code",
   "execution_count": null,
   "metadata": {},
   "outputs": [],
   "source": [
    "def get_action_names(node, actions):\n",
    "    if len(actions) == 0:\n",
    "        return [ node.incoming_action_name ]\n",
    "    return [ node.incoming_action_name ] + get_action_names(node.children[actions[0]], actions[1:])"
   ]
  },
  {
   "cell_type": "code",
   "execution_count": null,
   "metadata": {},
   "outputs": [],
   "source": [
    "def find_node_by_id(node, node_id, actions):    \n",
    "    if node.id == node_id:\n",
    "        return (node, actions)\n",
    "    \n",
    "    for i in range(0, len(node.children)- 1):\n",
    "        if node.children[i].id <= node_id and node.children[i+1].id > node_id:\n",
    "            return find_node_by_id(node.children[i], node_id, actions + [i])\n",
    "        \n",
    "    if len(node.children) == 0:\n",
    "        print(node)\n",
    "        \n",
    "    return find_node_by_id(node.children[len(node.children)- 1], node_id, actions + [len(node.children)- 1])"
   ]
  },
  {
   "cell_type": "code",
   "execution_count": null,
   "metadata": {},
   "outputs": [],
   "source": [
    "def buildHanabiState(baseState, actions, print_intermediate_states = False):\n",
    "    if print_intermediate_states:\n",
    "        baseState.print()\n",
    "    \n",
    "    if len(actions) == 0:\n",
    "        return baseState\n",
    "    return buildHanabiState(baseState.getChildState(actions[0]), actions[1:], print_intermediate_states)"
   ]
  },
  {
   "cell_type": "code",
   "execution_count": null,
   "metadata": {},
   "outputs": [],
   "source": [
    "(n1, a1) = find_node_by_id(_t.root, 4629, [])\n",
    "(n2, a2) = find_node_by_id(_t.root, 625614, [])\n",
    "\n",
    "(n3, a3) = find_node_by_id(_t.root, 4512, [])\n",
    "(n4, a4) = find_node_by_id(_t.root, 625529, [])"
   ]
  },
  {
   "cell_type": "code",
   "execution_count": null,
   "metadata": {},
   "outputs": [],
   "source": [
    "an1 = get_action_names(_t.root.children[a1[0]], a1[1:])\n",
    "an2 = get_action_names(_t.root.children[a2[0]], a2[1:])\n",
    "\n",
    "an3 = get_action_names(_t.root.children[a3[0]], a3[1:])\n",
    "an4 = get_action_names(_t.root.children[a4[0]], a4[1:])"
   ]
  },
  {
   "cell_type": "code",
   "execution_count": null,
   "metadata": {},
   "outputs": [],
   "source": [
    "s1 = buildHanabiState(HanabiState.createBaseState(ast.literal_eval(an1[0]), 2, 1, 2, 1), an1[1:])\n",
    "s2 = buildHanabiState(HanabiState.createBaseState(ast.literal_eval(an2[0]), 2, 1, 2, 1), an2[1:])\n",
    "\n",
    "s3 = buildHanabiState(HanabiState.createBaseState(ast.literal_eval(an3[0]), 2, 1, 2, 1), an3[1:])\n",
    "s4 = buildHanabiState(HanabiState.createBaseState(ast.literal_eval(an4[0]), 2, 1, 2, 1), an4[1:])"
   ]
  },
  {
   "cell_type": "code",
   "execution_count": null,
   "metadata": {
    "scrolled": false
   },
   "outputs": [],
   "source": [
    "s1.print()\n",
    "print(\"\\n\")\n",
    "s2.print()\n",
    "print(\"\\n\")\n",
    "s3.print()\n",
    "print(\"\\n\")\n",
    "s4.print()"
   ]
  },
  {
   "cell_type": "code",
   "execution_count": null,
   "metadata": {},
   "outputs": [],
   "source": [
    "an3[1:4]"
   ]
  },
  {
   "cell_type": "code",
   "execution_count": null,
   "metadata": {},
   "outputs": [],
   "source": [
    "buildHanabiState(HanabiState.createBaseState(ast.literal_eval(an3[0]), 2, 1, 2, 1), an3[1:4]).print()"
   ]
  },
  {
   "cell_type": "code",
   "execution_count": null,
   "metadata": {},
   "outputs": [],
   "source": [
    "(n1.parent.incoming_action, n1.parent.incoming_action_name)"
   ]
  },
  {
   "cell_type": "code",
   "execution_count": null,
   "metadata": {},
   "outputs": [],
   "source": [
    "(n2.parent.incoming_action, n2.parent.incoming_action_name)"
   ]
  },
  {
   "cell_type": "code",
   "execution_count": null,
   "metadata": {},
   "outputs": [],
   "source": [
    "(n1.parent.parent, n1.parent.parent.actionNames)"
   ]
  },
  {
   "cell_type": "code",
   "execution_count": null,
   "metadata": {},
   "outputs": [],
   "source": [
    "(n2.parent.parent, n2.parent.parent.actionNames)"
   ]
  },
  {
   "cell_type": "code",
   "execution_count": null,
   "metadata": {},
   "outputs": [],
   "source": [
    "an1"
   ]
  },
  {
   "cell_type": "code",
   "execution_count": null,
   "metadata": {},
   "outputs": [],
   "source": [
    "an2"
   ]
  },
  {
   "cell_type": "code",
   "execution_count": null,
   "metadata": {},
   "outputs": [],
   "source": [
    "n1.getSequence(1)"
   ]
  },
  {
   "cell_type": "code",
   "execution_count": null,
   "metadata": {},
   "outputs": [],
   "source": [
    "n2.getSequence(1)"
   ]
  },
  {
   "cell_type": "code",
   "execution_count": null,
   "metadata": {},
   "outputs": [],
   "source": [
    "_t.root.children[0].children[0].children[3].children[0].children[0].children[2]"
   ]
  },
  {
   "cell_type": "code",
   "execution_count": null,
   "metadata": {},
   "outputs": [],
   "source": [
    "_t.root.children[0].children[0].children[3].children[0].children[0].children[2].children"
   ]
  },
  {
   "cell_type": "code",
   "execution_count": null,
   "metadata": {},
   "outputs": [],
   "source": [
    "(en1, ea1) = find_node_by_id(_t.root, 4572, [])\n",
    "(en2, ea2) = find_node_by_id(_t.root, 4589, [])"
   ]
  },
  {
   "cell_type": "code",
   "execution_count": null,
   "metadata": {},
   "outputs": [],
   "source": [
    "ean1 = get_action_names(_t.root.children[ea1[0]], ea1[1:])\n",
    "ean2 = get_action_names(_t.root.children[ea2[0]], ea2[1:])"
   ]
  },
  {
   "cell_type": "code",
   "execution_count": null,
   "metadata": {},
   "outputs": [],
   "source": [
    "es1 = buildHanabiState(HanabiState.createBaseState(ast.literal_eval(ean1[0]), 2, 1, 2, 1), ean1[1:])\n",
    "es2 = buildHanabiState(HanabiState.createBaseState(ast.literal_eval(ean2[0]), 2, 1, 2, 1), ean2[1:])"
   ]
  },
  {
   "cell_type": "code",
   "execution_count": null,
   "metadata": {},
   "outputs": [],
   "source": [
    "ea1"
   ]
  },
  {
   "cell_type": "code",
   "execution_count": null,
   "metadata": {},
   "outputs": [],
   "source": [
    "ean1"
   ]
  },
  {
   "cell_type": "code",
   "execution_count": null,
   "metadata": {},
   "outputs": [],
   "source": [
    "ean2"
   ]
  },
  {
   "cell_type": "code",
   "execution_count": null,
   "metadata": {},
   "outputs": [],
   "source": [
    "es1.print()"
   ]
  },
  {
   "cell_type": "code",
   "execution_count": null,
   "metadata": {},
   "outputs": [],
   "source": [
    "es2.print()"
   ]
  },
  {
   "cell_type": "code",
   "execution_count": null,
   "metadata": {},
   "outputs": [],
   "source": [
    "es1.toPlayerState(1) == es2.toPlayerState(1)"
   ]
  },
  {
   "cell_type": "code",
   "execution_count": null,
   "metadata": {},
   "outputs": [],
   "source": [
    "s1.toPlayerState(1) == s2.toPlayerState(1)"
   ]
  },
  {
   "cell_type": "code",
   "execution_count": null,
   "metadata": {},
   "outputs": [],
   "source": []
  }
 ],
 "metadata": {
  "kernelspec": {
   "display_name": "Python 3",
   "language": "python",
   "name": "python3"
  },
  "language_info": {
   "codemirror_mode": {
    "name": "ipython",
    "version": 3
   },
   "file_extension": ".py",
   "mimetype": "text/x-python",
   "name": "python",
   "nbconvert_exporter": "python",
   "pygments_lexer": "ipython3",
   "version": "3.5.2"
  }
 },
 "nbformat": 4,
 "nbformat_minor": 2
}
