{
 "cells": [
  {
   "cell_type": "code",
   "execution_count": 1,
   "metadata": {},
   "outputs": [
    {
     "name": "stdout",
     "output_type": "stream",
     "text": [
      "/home/tommy/Scrivania/Polimi/Honours Programme/SCFR\n"
     ]
    }
   ],
   "source": [
    "cd .."
   ]
  },
  {
   "cell_type": "code",
   "execution_count": 34,
   "metadata": {},
   "outputs": [],
   "source": [
    "from games.hanabi import *\n",
    "from utilities.drawing import draw_tree\n",
    "from data_structures.cfr_trees import CFRTree, CFRJointStrategy\n",
    "from cfr_code.reconstruction_cfr import SolveWithReconstructionCFR\n",
    "from cfr_code.sample_cfr import SolveWithSampleCFR\n",
    "import ast\n",
    "from utilities.graphs import epsilon_graph"
   ]
  },
  {
   "cell_type": "code",
   "execution_count": 3,
   "metadata": {},
   "outputs": [],
   "source": [
    "%load_ext autoreload\n",
    "%autoreload 2"
   ]
  },
  {
   "cell_type": "code",
   "execution_count": 70,
   "metadata": {},
   "outputs": [
    {
     "name": "stdout",
     "output_type": "stream",
     "text": [
      "--- Processing deck [(1, 1), (3, 1), (2, 1), (1, 1), (2, 1)] (1/30) ---\n",
      "--- Processing deck [(1, 1), (3, 1), (1, 1), (2, 1), (2, 1)] (2/30) ---\n",
      "--- Processing deck [(2, 1), (1, 1), (2, 1), (3, 1), (1, 1)] (3/30) ---\n",
      "--- Processing deck [(2, 1), (1, 1), (3, 1), (2, 1), (1, 1)] (4/30) ---\n",
      "--- Processing deck [(3, 1), (1, 1), (2, 1), (2, 1), (1, 1)] (5/30) ---\n",
      "--- Processing deck [(2, 1), (1, 1), (1, 1), (2, 1), (3, 1)] (6/30) ---\n",
      "--- Processing deck [(2, 1), (1, 1), (2, 1), (1, 1), (3, 1)] (7/30) ---\n",
      "--- Processing deck [(2, 1), (1, 1), (1, 1), (3, 1), (2, 1)] (8/30) ---\n",
      "--- Processing deck [(2, 1), (1, 1), (3, 1), (1, 1), (2, 1)] (9/30) ---\n",
      "--- Processing deck [(3, 1), (2, 1), (1, 1), (1, 1), (2, 1)] (10/30) ---\n",
      "--- Processing deck [(3, 1), (1, 1), (2, 1), (1, 1), (2, 1)] (11/30) ---\n",
      "--- Processing deck [(3, 1), (1, 1), (1, 1), (2, 1), (2, 1)] (12/30) ---\n",
      "--- Processing deck [(1, 1), (2, 1), (1, 1), (2, 1), (3, 1)] (13/30) ---\n",
      "--- Processing deck [(1, 1), (2, 1), (2, 1), (1, 1), (3, 1)] (14/30) ---\n",
      "--- Processing deck [(1, 1), (2, 1), (3, 1), (1, 1), (2, 1)] (15/30) ---\n",
      "--- Processing deck [(1, 1), (2, 1), (1, 1), (3, 1), (2, 1)] (16/30) ---\n",
      "--- Processing deck [(2, 1), (3, 1), (2, 1), (1, 1), (1, 1)] (17/30) ---\n",
      "--- Processing deck [(2, 1), (3, 1), (1, 1), (2, 1), (1, 1)] (18/30) ---\n",
      "--- Processing deck [(3, 1), (2, 1), (1, 1), (2, 1), (1, 1)] (19/30) ---\n",
      "--- Processing deck [(3, 1), (2, 1), (2, 1), (1, 1), (1, 1)] (20/30) ---\n",
      "--- Processing deck [(1, 1), (1, 1), (2, 1), (2, 1), (3, 1)] (21/30) ---\n",
      "--- Processing deck [(2, 1), (2, 1), (1, 1), (3, 1), (1, 1)] (22/30) ---\n",
      "--- Processing deck [(2, 1), (2, 1), (3, 1), (1, 1), (1, 1)] (23/30) ---\n",
      "--- Processing deck [(1, 1), (2, 1), (2, 1), (3, 1), (1, 1)] (24/30) ---\n",
      "--- Processing deck [(1, 1), (2, 1), (3, 1), (2, 1), (1, 1)] (25/30) ---\n",
      "--- Processing deck [(2, 1), (3, 1), (1, 1), (1, 1), (2, 1)] (26/30) ---\n",
      "--- Processing deck [(2, 1), (2, 1), (1, 1), (1, 1), (3, 1)] (27/30) ---\n",
      "--- Processing deck [(1, 1), (1, 1), (3, 1), (2, 1), (2, 1)] (28/30) ---\n",
      "--- Processing deck [(1, 1), (1, 1), (2, 1), (3, 1), (2, 1)] (29/30) ---\n",
      "--- Processing deck [(1, 1), (3, 1), (2, 1), (2, 1), (1, 1)] (30/30) ---\n"
     ]
    }
   ],
   "source": [
    "tree = build_hanabi_tree(num_players = 2, num_colors = 1, color_distribution = [2, 2, 1], num_cards_per_player = 1,\n",
    "                        display_progress = True)"
   ]
  },
  {
   "cell_type": "code",
   "execution_count": 71,
   "metadata": {},
   "outputs": [
    {
     "name": "stdout",
     "output_type": "stream",
     "text": [
      "10.0%\n",
      "20.0%\n",
      "30.0%\n",
      "40.0%\n",
      "50.0%\n",
      "60.0%\n",
      "70.0%\n",
      "80.0%\n",
      "90.0%\n",
      "100.0%\n"
     ]
    }
   ],
   "source": [
    "cfr_tree1 = CFRTree(tree)\n",
    "res1 = SolveWithReconstructionCFR(cfr_tree1, iterations = 100, show_perc = True, reconstructEveryIteration = 1,\n",
    "                                 reconstructWithOptimalPlan = False, checkEveryIteration = 1)"
   ]
  },
  {
   "cell_type": "code",
   "execution_count": 72,
   "metadata": {},
   "outputs": [
    {
     "name": "stdout",
     "output_type": "stream",
     "text": [
      "10.0%\n",
      "20.0%\n",
      "30.0%\n",
      "40.0%\n",
      "50.0%\n",
      "60.0%\n",
      "70.0%\n",
      "80.0%\n",
      "90.0%\n",
      "100.0%\n"
     ]
    }
   ],
   "source": [
    "cfr_tree2 = CFRTree(tree)\n",
    "res2 = SolveWithReconstructionCFR(cfr_tree2, iterations = 100, show_perc = True, reconstructEveryIteration = 1,\n",
    "                                 reconstructWithOptimalPlan = False, checkEveryIteration = 1)"
   ]
  },
  {
   "cell_type": "code",
   "execution_count": 73,
   "metadata": {},
   "outputs": [
    {
     "data": {
      "image/png": "[encoded data removed]",
      "text/plain": [
       "<matplotlib.figure.Figure at 0x7f6fa201bdd8>"
      ]
     },
     "metadata": {},
     "output_type": "display_data"
    },
    {
     "data": {
      "image/png": "[encoded data removed]",
      "text/plain": [
       "<matplotlib.figure.Figure at 0x7f6fa201b0b8>"
      ]
     },
     "metadata": {},
     "output_type": "display_data"
    }
   ],
   "source": [
    "epsilon_graph(res1)\n",
    "epsilon_graph(res2)"
   ]
  },
  {
   "cell_type": "code",
   "execution_count": 74,
   "metadata": {},
   "outputs": [],
   "source": [
    "plan_lengths_1 = list(map(lambda p: len(p), res1['joint'].plans.keys()))\n",
    "plan_lengths_2 = list(map(lambda p: len(p), res2['joint'].plans.keys()))"
   ]
  },
  {
   "cell_type": "code",
   "execution_count": 75,
   "metadata": {},
   "outputs": [
    {
     "data": {
      "text/plain": [
       "(400, 390)"
      ]
     },
     "execution_count": 75,
     "metadata": {},
     "output_type": "execute_result"
    }
   ],
   "source": [
    "len(res1['joint'].plans), len(res2['joint'].plans)"
   ]
  },
  {
   "cell_type": "code",
   "execution_count": 76,
   "metadata": {},
   "outputs": [
    {
     "data": {
      "text/plain": [
       "(12664000, 1869146)"
      ]
     },
     "execution_count": 76,
     "metadata": {},
     "output_type": "execute_result"
    }
   ],
   "source": [
    "sum(plan_lengths_1), sum(plan_lengths_2)"
   ]
  },
  {
   "cell_type": "code",
   "execution_count": 61,
   "metadata": {},
   "outputs": [
    {
     "data": {
      "text/plain": [
       "3576"
      ]
     },
     "execution_count": 61,
     "metadata": {},
     "output_type": "execute_result"
    }
   ],
   "source": [
    "len(list(res2['joint'].plans.items())[1][0])"
   ]
  },
  {
   "cell_type": "code",
   "execution_count": 63,
   "metadata": {},
   "outputs": [
    {
     "data": {
      "text/plain": [
       "827"
      ]
     },
     "execution_count": 63,
     "metadata": {},
     "output_type": "execute_result"
    }
   ],
   "source": [
    "len(list(res1['joint'].plans.items())[7][0])"
   ]
  },
  {
   "cell_type": "code",
   "execution_count": 43,
   "metadata": {},
   "outputs": [
    {
     "data": {
      "text/plain": [
       "{1: 1,\n",
       " 2: 1,\n",
       " 9: 1,\n",
       " 10: 2,\n",
       " 11: 0,\n",
       " 13: 0,\n",
       " 14: 1,\n",
       " 16: 0,\n",
       " 17: 1,\n",
       " 18: 1,\n",
       " 22: 1,\n",
       " 23: 0,\n",
       " 25: 1,\n",
       " 26: 1,\n",
       " 27: 0,\n",
       " 29: 1,\n",
       " 31: 1,\n",
       " 32: 0,\n",
       " 34: 0,\n",
       " 36: 1,\n",
       " 37: 0,\n",
       " 38: 1}"
      ]
     },
     "execution_count": 43,
     "metadata": {},
     "output_type": "execute_result"
    }
   ],
   "source": [
    "ap1 = CFRJointStrategy.stringToActionPlan(list(res1['joint'].plans.items())[7][0])\n",
    "ap1"
   ]
  },
  {
   "cell_type": "code",
   "execution_count": 52,
   "metadata": {},
   "outputs": [
    {
     "data": {
      "text/plain": [
       "{1: 1,\n",
       " 2: 1,\n",
       " 9: 1,\n",
       " 10: 2,\n",
       " 11: 0,\n",
       " 13: 0,\n",
       " 14: 1,\n",
       " 16: 1,\n",
       " 17: 1,\n",
       " 18: 1,\n",
       " 22: 1,\n",
       " 23: 0,\n",
       " 25: 1,\n",
       " 26: 1,\n",
       " 27: 0,\n",
       " 29: 1,\n",
       " 31: 1,\n",
       " 32: 0,\n",
       " 34: 0,\n",
       " 36: 1,\n",
       " 37: 0,\n",
       " 38: 1}"
      ]
     },
     "execution_count": 52,
     "metadata": {},
     "output_type": "execute_result"
    }
   ],
   "source": [
    "ap2 = CFRJointStrategy.stringToActionPlan(list(res2['joint'].plans.items())[1][0])\n",
    "CFRJointStrategy.reduceActionPlan(ap2, cfr_tree2)"
   ]
  },
  {
   "cell_type": "code",
   "execution_count": null,
   "metadata": {},
   "outputs": [],
   "source": []
  },
  {
   "cell_type": "code",
   "execution_count": 4,
   "metadata": {},
   "outputs": [],
   "source": [
    "tree = build_hanabi_tree(num_players = 2, num_colors = 1, color_distribution = [2, 2, 1], num_cards_per_player = 1,\n",
    "                        display_progress = False)"
   ]
  },
  {
   "cell_type": "code",
   "execution_count": 5,
   "metadata": {},
   "outputs": [
    {
     "name": "stdout",
     "output_type": "stream",
     "text": [
      "10.0%\n",
      "20.0%\n",
      "30.0%\n",
      "40.0%\n",
      "50.0%\n",
      "60.0%\n",
      "70.0%\n",
      "80.0%\n",
      "90.0%\n",
      "100.0%\n"
     ]
    }
   ],
   "source": [
    "cfr_tree1 = CFRTree(tree)\n",
    "res1 = SolveWithSampleCFR(cfr_tree1, iterations = 1000, show_perc = True, checkEveryIteration = 1)"
   ]
  },
  {
   "cell_type": "code",
   "execution_count": 6,
   "metadata": {},
   "outputs": [
    {
     "name": "stdout",
     "output_type": "stream",
     "text": [
      "10.0%\n",
      "20.0%\n",
      "30.0%\n",
      "40.0%\n",
      "50.0%\n",
      "60.0%\n",
      "70.0%\n",
      "80.0%\n",
      "90.0%\n",
      "100.0%\n"
     ]
    }
   ],
   "source": [
    "cfr_tree2 = CFRTree(tree)\n",
    "res2 = SolveWithReconstructionCFR(cfr_tree2, iterations = 100, show_perc = True, reconstructEveryIteration = 1,\n",
    "                                 reconstructWithOptimalPlan = False, checkEveryIteration = 1)"
   ]
  },
  {
   "cell_type": "code",
   "execution_count": 7,
   "metadata": {},
   "outputs": [],
   "source": [
    "from utilities.graphs import epsilon_graph"
   ]
  },
  {
   "cell_type": "code",
   "execution_count": 8,
   "metadata": {},
   "outputs": [
    {
     "data": {
      "image/png": "[encoded data removed]",
      "text/plain": [
       "<matplotlib.figure.Figure at 0x7fba8398f4e0>"
      ]
     },
     "metadata": {},
     "output_type": "display_data"
    }
   ],
   "source": [
    "epsilon_graph(res1)"
   ]
  },
  {
   "cell_type": "code",
   "execution_count": 9,
   "metadata": {},
   "outputs": [
    {
     "data": {
      "image/png": "[encoded data removed]",
      "text/plain": [
       "<matplotlib.figure.Figure at 0x7fba835fe390>"
      ]
     },
     "metadata": {},
     "output_type": "display_data"
    }
   ],
   "source": [
    "epsilon_graph(res2)"
   ]
  },
  {
   "cell_type": "markdown",
   "metadata": {},
   "source": [
    "---"
   ]
  },
  {
   "cell_type": "code",
   "execution_count": null,
   "metadata": {
    "scrolled": true
   },
   "outputs": [],
   "source": [
    "_t = build_hanabi_tree(2, 2, [2, 1], 1, display_progress = True)"
   ]
  },
  {
   "cell_type": "code",
   "execution_count": null,
   "metadata": {
    "scrolled": false
   },
   "outputs": [],
   "source": [
    "CFRTree(_t)"
   ]
  },
  {
   "cell_type": "code",
   "execution_count": null,
   "metadata": {},
   "outputs": [],
   "source": [
    "(_t.node_count, _t.infoset_count, _t.max_depth)"
   ]
  },
  {
   "cell_type": "code",
   "execution_count": null,
   "metadata": {},
   "outputs": [],
   "source": [
    "def get_action_names(node, actions):\n",
    "    if len(actions) == 0:\n",
    "        return [ node.incoming_action_name ]\n",
    "    return [ node.incoming_action_name ] + get_action_names(node.children[actions[0]], actions[1:])"
   ]
  },
  {
   "cell_type": "code",
   "execution_count": null,
   "metadata": {},
   "outputs": [],
   "source": [
    "def find_node_by_id(node, node_id, actions):    \n",
    "    if node.id == node_id:\n",
    "        return (node, actions)\n",
    "    \n",
    "    for i in range(0, len(node.children)- 1):\n",
    "        if node.children[i].id <= node_id and node.children[i+1].id > node_id:\n",
    "            return find_node_by_id(node.children[i], node_id, actions + [i])\n",
    "        \n",
    "    if len(node.children) == 0:\n",
    "        print(node)\n",
    "        \n",
    "    return find_node_by_id(node.children[len(node.children)- 1], node_id, actions + [len(node.children)- 1])"
   ]
  },
  {
   "cell_type": "code",
   "execution_count": null,
   "metadata": {},
   "outputs": [],
   "source": [
    "def buildHanabiState(baseState, actions, print_intermediate_states = False):\n",
    "    if print_intermediate_states:\n",
    "        baseState.print()\n",
    "    \n",
    "    if len(actions) == 0:\n",
    "        return baseState\n",
    "    return buildHanabiState(baseState.getChildState(actions[0]), actions[1:], print_intermediate_states)"
   ]
  },
  {
   "cell_type": "code",
   "execution_count": null,
   "metadata": {},
   "outputs": [],
   "source": [
    "(n1, a1) = find_node_by_id(_t.root, 4629, [])\n",
    "(n2, a2) = find_node_by_id(_t.root, 625614, [])\n",
    "\n",
    "(n3, a3) = find_node_by_id(_t.root, 4512, [])\n",
    "(n4, a4) = find_node_by_id(_t.root, 625529, [])"
   ]
  },
  {
   "cell_type": "code",
   "execution_count": null,
   "metadata": {},
   "outputs": [],
   "source": [
    "an1 = get_action_names(_t.root.children[a1[0]], a1[1:])\n",
    "an2 = get_action_names(_t.root.children[a2[0]], a2[1:])\n",
    "\n",
    "an3 = get_action_names(_t.root.children[a3[0]], a3[1:])\n",
    "an4 = get_action_names(_t.root.children[a4[0]], a4[1:])"
   ]
  },
  {
   "cell_type": "code",
   "execution_count": null,
   "metadata": {},
   "outputs": [],
   "source": [
    "s1 = buildHanabiState(HanabiState.createBaseState(ast.literal_eval(an1[0]), 2, 1, 2, 1), an1[1:])\n",
    "s2 = buildHanabiState(HanabiState.createBaseState(ast.literal_eval(an2[0]), 2, 1, 2, 1), an2[1:])\n",
    "\n",
    "s3 = buildHanabiState(HanabiState.createBaseState(ast.literal_eval(an3[0]), 2, 1, 2, 1), an3[1:])\n",
    "s4 = buildHanabiState(HanabiState.createBaseState(ast.literal_eval(an4[0]), 2, 1, 2, 1), an4[1:])"
   ]
  },
  {
   "cell_type": "code",
   "execution_count": null,
   "metadata": {
    "scrolled": false
   },
   "outputs": [],
   "source": [
    "s1.print()\n",
    "print(\"\\n\")\n",
    "s2.print()\n",
    "print(\"\\n\")\n",
    "s3.print()\n",
    "print(\"\\n\")\n",
    "s4.print()"
   ]
  },
  {
   "cell_type": "code",
   "execution_count": null,
   "metadata": {},
   "outputs": [],
   "source": [
    "an3[1:4]"
   ]
  },
  {
   "cell_type": "code",
   "execution_count": null,
   "metadata": {},
   "outputs": [],
   "source": [
    "buildHanabiState(HanabiState.createBaseState(ast.literal_eval(an3[0]), 2, 1, 2, 1), an3[1:4]).print()"
   ]
  },
  {
   "cell_type": "code",
   "execution_count": null,
   "metadata": {},
   "outputs": [],
   "source": [
    "(n1.parent.incoming_action, n1.parent.incoming_action_name)"
   ]
  },
  {
   "cell_type": "code",
   "execution_count": null,
   "metadata": {},
   "outputs": [],
   "source": [
    "(n2.parent.incoming_action, n2.parent.incoming_action_name)"
   ]
  },
  {
   "cell_type": "code",
   "execution_count": null,
   "metadata": {},
   "outputs": [],
   "source": [
    "(n1.parent.parent, n1.parent.parent.actionNames)"
   ]
  },
  {
   "cell_type": "code",
   "execution_count": null,
   "metadata": {},
   "outputs": [],
   "source": [
    "(n2.parent.parent, n2.parent.parent.actionNames)"
   ]
  },
  {
   "cell_type": "code",
   "execution_count": null,
   "metadata": {},
   "outputs": [],
   "source": [
    "an1"
   ]
  },
  {
   "cell_type": "code",
   "execution_count": null,
   "metadata": {},
   "outputs": [],
   "source": [
    "an2"
   ]
  },
  {
   "cell_type": "code",
   "execution_count": null,
   "metadata": {},
   "outputs": [],
   "source": [
    "n1.getSequence(1)"
   ]
  },
  {
   "cell_type": "code",
   "execution_count": null,
   "metadata": {},
   "outputs": [],
   "source": [
    "n2.getSequence(1)"
   ]
  },
  {
   "cell_type": "code",
   "execution_count": null,
   "metadata": {},
   "outputs": [],
   "source": [
    "_t.root.children[0].children[0].children[3].children[0].children[0].children[2]"
   ]
  },
  {
   "cell_type": "code",
   "execution_count": null,
   "metadata": {},
   "outputs": [],
   "source": [
    "_t.root.children[0].children[0].children[3].children[0].children[0].children[2].children"
   ]
  },
  {
   "cell_type": "code",
   "execution_count": null,
   "metadata": {},
   "outputs": [],
   "source": [
    "(en1, ea1) = find_node_by_id(_t.root, 4572, [])\n",
    "(en2, ea2) = find_node_by_id(_t.root, 4589, [])"
   ]
  },
  {
   "cell_type": "code",
   "execution_count": null,
   "metadata": {},
   "outputs": [],
   "source": [
    "ean1 = get_action_names(_t.root.children[ea1[0]], ea1[1:])\n",
    "ean2 = get_action_names(_t.root.children[ea2[0]], ea2[1:])"
   ]
  },
  {
   "cell_type": "code",
   "execution_count": null,
   "metadata": {},
   "outputs": [],
   "source": [
    "es1 = buildHanabiState(HanabiState.createBaseState(ast.literal_eval(ean1[0]), 2, 1, 2, 1), ean1[1:])\n",
    "es2 = buildHanabiState(HanabiState.createBaseState(ast.literal_eval(ean2[0]), 2, 1, 2, 1), ean2[1:])"
   ]
  },
  {
   "cell_type": "code",
   "execution_count": null,
   "metadata": {},
   "outputs": [],
   "source": [
    "ea1"
   ]
  },
  {
   "cell_type": "code",
   "execution_count": null,
   "metadata": {},
   "outputs": [],
   "source": [
    "ean1"
   ]
  },
  {
   "cell_type": "code",
   "execution_count": null,
   "metadata": {},
   "outputs": [],
   "source": [
    "ean2"
   ]
  },
  {
   "cell_type": "code",
   "execution_count": null,
   "metadata": {},
   "outputs": [],
   "source": [
    "es1.print()"
   ]
  },
  {
   "cell_type": "code",
   "execution_count": null,
   "metadata": {},
   "outputs": [],
   "source": [
    "es2.print()"
   ]
  },
  {
   "cell_type": "code",
   "execution_count": null,
   "metadata": {},
   "outputs": [],
   "source": [
    "es1.toPlayerState(1) == es2.toPlayerState(1)"
   ]
  },
  {
   "cell_type": "code",
   "execution_count": null,
   "metadata": {},
   "outputs": [],
   "source": [
    "s1.toPlayerState(1) == s2.toPlayerState(1)"
   ]
  },
  {
   "cell_type": "code",
   "execution_count": null,
   "metadata": {},
   "outputs": [],
   "source": []
  }
 ],
 "metadata": {
  "kernelspec": {
   "display_name": "Python 3",
   "language": "python",
   "name": "python3"
  },
  "language_info": {
   "codemirror_mode": {
    "name": "ipython",
    "version": 3
   },
   "file_extension": ".py",
   "mimetype": "text/x-python",
   "name": "python",
   "nbconvert_exporter": "python",
   "pygments_lexer": "ipython3",
   "version": "3.5.2"
  }
 },
 "nbformat": 4,
 "nbformat_minor": 2
}
