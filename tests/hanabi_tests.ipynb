{
 "cells": [
  {
   "cell_type": "code",
   "execution_count": 1,
   "metadata": {},
   "outputs": [
    {
     "name": "stdout",
     "output_type": "stream",
     "text": [
      "/home/tommy/Scrivania/Polimi/Honours Programme/SCFR\n"
     ]
    }
   ],
   "source": [
    "cd .."
   ]
  },
  {
   "cell_type": "code",
   "execution_count": 2,
   "metadata": {},
   "outputs": [],
   "source": [
    "from games.hanabi import *\n",
    "from utilities.drawing import draw_tree\n",
    "from data_structures.cfr_trees import CFRTree\n",
    "from cfr_code.reconstruction_cfr import SolveWithReconstructionCFR"
   ]
  },
  {
   "cell_type": "code",
   "execution_count": 3,
   "metadata": {},
   "outputs": [],
   "source": [
    "%load_ext autoreload\n",
    "%autoreload 2"
   ]
  },
  {
   "cell_type": "code",
   "execution_count": 4,
   "metadata": {},
   "outputs": [],
   "source": [
    "tree = build_hanabi_tree(num_players = 2, num_colors = 1, color_distribution = [1, 1], num_cards_per_player = 1)"
   ]
  },
  {
   "cell_type": "code",
   "execution_count": 5,
   "metadata": {},
   "outputs": [
    {
     "data": {
      "image/png": "[encoded data removed]",
      "text/plain": [
       "<matplotlib.figure.Figure at 0x7fe3aaad0ba8>"
      ]
     },
     "metadata": {},
     "output_type": "display_data"
    }
   ],
   "source": [
    "draw_tree(tree, title = \"3-card 1-color Hanabi\")"
   ]
  },
  {
   "cell_type": "code",
   "execution_count": null,
   "metadata": {},
   "outputs": [],
   "source": [
    "tree.display()"
   ]
  },
  {
   "cell_type": "code",
   "execution_count": null,
   "metadata": {},
   "outputs": [],
   "source": [
    "c_tree = CFRTree(tree)"
   ]
  },
  {
   "cell_type": "code",
   "execution_count": null,
   "metadata": {},
   "outputs": [],
   "source": []
  },
  {
   "cell_type": "code",
   "execution_count": null,
   "metadata": {},
   "outputs": [],
   "source": []
  },
  {
   "cell_type": "code",
   "execution_count": null,
   "metadata": {},
   "outputs": [],
   "source": [
    "tree = build_hanabi_tree(num_players = 2, num_colors = 1, color_distribution = [2, 1], num_cards_per_player = 1)"
   ]
  },
  {
   "cell_type": "code",
   "execution_count": null,
   "metadata": {},
   "outputs": [],
   "source": [
    "draw_tree(tree)"
   ]
  },
  {
   "cell_type": "code",
   "execution_count": null,
   "metadata": {},
   "outputs": [],
   "source": [
    "tree.root.children"
   ]
  },
  {
   "cell_type": "code",
   "execution_count": 6,
   "metadata": {
    "scrolled": true
   },
   "outputs": [
    {
     "name": "stdout",
     "output_type": "stream",
     "text": [
      "--- Processing deck [(1, 2), (2, 1), (1, 1), (1, 1), (2, 2), (1, 2)] (1/180) ---\n",
      "--- Processing deck [(1, 1), (1, 2), (2, 2), (1, 1), (1, 2), (2, 1)] (2/180) ---\n",
      "--- Processing deck [(1, 2), (1, 2), (2, 1), (2, 2), (1, 1), (1, 1)] (3/180) ---\n",
      "--- Processing deck [(1, 2), (1, 1), (2, 1), (2, 2), (1, 2), (1, 1)] (4/180) ---\n",
      "--- Processing deck [(2, 1), (1, 1), (1, 1), (1, 2), (2, 2), (1, 2)] (5/180) ---\n",
      "--- Processing deck [(1, 1), (2, 2), (1, 2), (2, 1), (1, 2), (1, 1)] (6/180) ---\n",
      "--- Processing deck [(1, 1), (1, 2), (2, 2), (2, 1), (1, 2), (1, 1)] (7/180) ---\n",
      "--- Processing deck [(2, 1), (1, 2), (1, 2), (1, 1), (1, 1), (2, 2)] (8/180) ---\n",
      "--- Processing deck [(2, 2), (1, 1), (1, 2), (2, 1), (1, 1), (1, 2)] (9/180) ---\n",
      "--- Processing deck [(1, 1), (1, 2), (2, 2), (1, 2), (2, 1), (1, 1)] (10/180) ---\n",
      "--- Processing deck [(1, 1), (2, 1), (2, 2), (1, 2), (1, 2), (1, 1)] (11/180) ---\n",
      "--- Processing deck [(2, 1), (1, 2), (1, 1), (2, 2), (1, 1), (1, 2)] (12/180) ---\n",
      "--- Processing deck [(2, 2), (1, 2), (2, 1), (1, 1), (1, 1), (1, 2)] (13/180) ---\n",
      "--- Processing deck [(1, 1), (1, 1), (1, 2), (1, 2), (2, 2), (2, 1)] (14/180) ---\n",
      "--- Processing deck [(1, 1), (1, 2), (1, 1), (2, 1), (1, 2), (2, 2)] (15/180) ---\n",
      "--- Processing deck [(1, 1), (1, 2), (1, 1), (2, 1), (2, 2), (1, 2)] (16/180) ---\n",
      "--- Processing deck [(1, 1), (1, 2), (1, 1), (1, 2), (2, 2), (2, 1)] (17/180) ---\n",
      "--- Processing deck [(2, 2), (1, 1), (2, 1), (1, 1), (1, 2), (1, 2)] (18/180) ---\n",
      "--- Processing deck [(1, 1), (2, 2), (1, 2), (1, 1), (2, 1), (1, 2)] (19/180) ---\n",
      "--- Processing deck [(1, 2), (1, 1), (2, 2), (1, 1), (1, 2), (2, 1)] (20/180) ---\n",
      "--- Processing deck [(2, 2), (1, 2), (1, 2), (1, 1), (2, 1), (1, 1)] (21/180) ---\n",
      "--- Processing deck [(1, 1), (2, 2), (2, 1), (1, 2), (1, 2), (1, 1)] (22/180) ---\n",
      "--- Processing deck [(1, 1), (1, 2), (1, 1), (1, 2), (2, 1), (2, 2)] (23/180) ---\n",
      "--- Processing deck [(1, 1), (1, 1), (1, 2), (2, 2), (2, 1), (1, 2)] (24/180) ---\n",
      "--- Processing deck [(2, 1), (1, 2), (2, 2), (1, 1), (1, 2), (1, 1)] (25/180) ---\n",
      "--- Processing deck [(1, 2), (1, 1), (2, 1), (1, 1), (2, 2), (1, 2)] (26/180) ---\n",
      "--- Processing deck [(2, 1), (1, 1), (1, 1), (2, 2), (1, 2), (1, 2)] (27/180) ---\n",
      "--- Processing deck [(1, 2), (1, 1), (1, 2), (1, 1), (2, 2), (2, 1)] (28/180) ---\n",
      "--- Processing deck [(1, 2), (1, 1), (1, 1), (2, 2), (1, 2), (2, 1)] (29/180) ---\n",
      "--- Processing deck [(1, 2), (1, 2), (1, 1), (1, 1), (2, 2), (2, 1)] (30/180) ---\n",
      "--- Processing deck [(1, 2), (1, 1), (2, 1), (2, 2), (1, 1), (1, 2)] (31/180) ---\n",
      "--- Processing deck [(2, 2), (1, 2), (1, 1), (1, 1), (2, 1), (1, 2)] (32/180) ---\n",
      "--- Processing deck [(2, 1), (2, 2), (1, 1), (1, 1), (1, 2), (1, 2)] (33/180) ---\n",
      "--- Processing deck [(1, 2), (1, 1), (1, 2), (1, 1), (2, 1), (2, 2)] (34/180) ---\n",
      "--- Processing deck [(1, 2), (2, 2), (2, 1), (1, 2), (1, 1), (1, 1)] (35/180) ---\n",
      "--- Processing deck [(1, 2), (2, 2), (2, 1), (1, 1), (1, 2), (1, 1)] (36/180) ---\n",
      "--- Processing deck [(1, 2), (2, 2), (1, 2), (1, 1), (2, 1), (1, 1)] (37/180) ---\n",
      "--- Processing deck [(1, 1), (1, 2), (2, 1), (1, 2), (1, 1), (2, 2)] (38/180) ---\n",
      "--- Processing deck [(2, 1), (2, 2), (1, 1), (1, 2), (1, 1), (1, 2)] (39/180) ---\n",
      "--- Processing deck [(1, 2), (2, 1), (2, 2), (1, 1), (1, 1), (1, 2)] (40/180) ---\n",
      "--- Processing deck [(1, 1), (2, 1), (1, 1), (2, 2), (1, 2), (1, 2)] (41/180) ---\n",
      "--- Processing deck [(1, 2), (2, 1), (1, 1), (1, 2), (2, 2), (1, 1)] (42/180) ---\n",
      "--- Processing deck [(1, 1), (2, 2), (1, 1), (2, 1), (1, 2), (1, 2)] (43/180) ---\n",
      "--- Processing deck [(1, 2), (1, 2), (1, 1), (2, 2), (2, 1), (1, 1)] (44/180) ---\n",
      "--- Processing deck [(1, 1), (1, 2), (2, 2), (1, 1), (2, 1), (1, 2)] (45/180) ---\n",
      "--- Processing deck [(1, 1), (2, 2), (1, 2), (1, 2), (2, 1), (1, 1)] (46/180) ---\n",
      "--- Processing deck [(1, 2), (2, 2), (1, 1), (1, 1), (2, 1), (1, 2)] (47/180) ---\n",
      "--- Processing deck [(2, 2), (2, 1), (1, 1), (1, 2), (1, 2), (1, 1)] (48/180) ---\n",
      "--- Processing deck [(2, 2), (1, 1), (2, 1), (1, 2), (1, 1), (1, 2)] (49/180) ---\n",
      "--- Processing deck [(1, 2), (1, 1), (2, 2), (2, 1), (1, 2), (1, 1)] (50/180) ---\n",
      "--- Processing deck [(1, 1), (2, 2), (1, 2), (1, 2), (1, 1), (2, 1)] (51/180) ---\n",
      "--- Processing deck [(2, 2), (1, 2), (1, 1), (1, 2), (1, 1), (2, 1)] (52/180) ---\n",
      "--- Processing deck [(2, 1), (2, 2), (1, 2), (1, 2), (1, 1), (1, 1)] (53/180) ---\n",
      "--- Processing deck [(2, 1), (2, 2), (1, 2), (1, 1), (1, 2), (1, 1)] (54/180) ---\n",
      "--- Processing deck [(1, 1), (1, 2), (1, 2), (2, 2), (1, 1), (2, 1)] (55/180) ---\n",
      "--- Processing deck [(1, 2), (1, 1), (2, 1), (1, 2), (2, 2), (1, 1)] (56/180) ---\n",
      "--- Processing deck [(2, 1), (1, 1), (1, 1), (1, 2), (1, 2), (2, 2)] (57/180) ---\n",
      "--- Processing deck [(2, 2), (1, 2), (2, 1), (1, 1), (1, 2), (1, 1)] (58/180) ---\n",
      "--- Processing deck [(1, 1), (1, 2), (1, 2), (2, 1), (2, 2), (1, 1)] (59/180) ---\n",
      "--- Processing deck [(1, 2), (1, 2), (2, 2), (1, 1), (2, 1), (1, 1)] (60/180) ---\n",
      "--- Processing deck [(1, 2), (2, 1), (1, 1), (2, 2), (1, 1), (1, 2)] (61/180) ---\n",
      "--- Processing deck [(1, 1), (2, 1), (1, 2), (1, 2), (1, 1), (2, 2)] (62/180) ---\n",
      "--- Processing deck [(1, 1), (2, 1), (1, 1), (1, 2), (2, 2), (1, 2)] (63/180) ---\n",
      "--- Processing deck [(1, 1), (1, 2), (2, 2), (2, 1), (1, 1), (1, 2)] (64/180) ---\n",
      "--- Processing deck [(2, 2), (1, 1), (1, 2), (1, 1), (1, 2), (2, 1)] (65/180) ---\n",
      "--- Processing deck [(1, 1), (2, 2), (1, 1), (1, 2), (1, 2), (2, 1)] (66/180) ---\n",
      "--- Processing deck [(1, 2), (1, 1), (2, 1), (1, 2), (1, 1), (2, 2)] (67/180) ---\n",
      "--- Processing deck [(1, 2), (2, 2), (2, 1), (1, 1), (1, 1), (1, 2)] (68/180) ---\n",
      "--- Processing deck [(1, 2), (2, 2), (1, 2), (1, 1), (1, 1), (2, 1)] (69/180) ---\n",
      "--- Processing deck [(1, 1), (2, 1), (1, 2), (1, 1), (1, 2), (2, 2)] (70/180) ---\n",
      "--- Processing deck [(1, 2), (2, 2), (1, 2), (2, 1), (1, 1), (1, 1)] (71/180) ---\n",
      "--- Processing deck [(2, 2), (2, 1), (1, 2), (1, 2), (1, 1), (1, 1)] (72/180) ---\n",
      "--- Processing deck [(2, 2), (2, 1), (1, 1), (1, 1), (1, 2), (1, 2)] (73/180) ---\n",
      "--- Processing deck [(1, 2), (1, 1), (1, 1), (1, 2), (2, 2), (2, 1)] (74/180) ---\n",
      "--- Processing deck [(1, 1), (2, 1), (1, 1), (1, 2), (1, 2), (2, 2)] (75/180) ---\n",
      "--- Processing deck [(1, 1), (1, 2), (1, 1), (2, 2), (1, 2), (2, 1)] (76/180) ---\n",
      "--- Processing deck [(2, 2), (1, 1), (1, 2), (1, 2), (2, 1), (1, 1)] (77/180) ---\n",
      "--- Processing deck [(1, 2), (2, 2), (1, 1), (1, 2), (2, 1), (1, 1)] (78/180) ---\n",
      "--- Processing deck [(2, 2), (2, 1), (1, 2), (1, 1), (1, 2), (1, 1)] (79/180) ---\n",
      "--- Processing deck [(2, 1), (1, 1), (1, 2), (1, 1), (2, 2), (1, 2)] (80/180) ---\n",
      "--- Processing deck [(1, 2), (1, 1), (2, 2), (2, 1), (1, 1), (1, 2)] (81/180) ---\n",
      "--- Processing deck [(1, 2), (1, 1), (1, 2), (2, 2), (2, 1), (1, 1)] (82/180) ---\n",
      "--- Processing deck [(2, 2), (1, 1), (1, 2), (1, 2), (1, 1), (2, 1)] (83/180) ---\n",
      "--- Processing deck [(2, 1), (1, 1), (1, 2), (2, 2), (1, 1), (1, 2)] (84/180) ---\n",
      "--- Processing deck [(1, 2), (2, 2), (1, 1), (2, 1), (1, 1), (1, 2)] (85/180) ---\n",
      "--- Processing deck [(1, 1), (1, 2), (2, 1), (1, 1), (2, 2), (1, 2)] (86/180) ---\n",
      "--- Processing deck [(1, 2), (1, 1), (1, 1), (2, 1), (2, 2), (1, 2)] (87/180) ---\n",
      "--- Processing deck [(2, 2), (1, 1), (2, 1), (1, 2), (1, 2), (1, 1)] (88/180) ---\n",
      "--- Processing deck [(1, 2), (1, 2), (2, 2), (2, 1), (1, 1), (1, 1)] (89/180) ---\n",
      "--- Processing deck [(1, 2), (2, 1), (1, 1), (1, 2), (1, 1), (2, 2)] (90/180) ---\n",
      "--- Processing deck [(1, 1), (1, 2), (1, 2), (1, 1), (2, 2), (2, 1)] (91/180) ---\n",
      "--- Processing deck [(1, 2), (2, 2), (1, 1), (1, 1), (1, 2), (2, 1)] (92/180) ---\n",
      "--- Processing deck [(2, 1), (1, 1), (2, 2), (1, 1), (1, 2), (1, 2)] (93/180) ---\n",
      "--- Processing deck [(2, 2), (1, 2), (1, 1), (2, 1), (1, 1), (1, 2)] (94/180) ---\n",
      "--- Processing deck [(1, 2), (2, 1), (1, 2), (1, 1), (2, 2), (1, 1)] (95/180) ---\n",
      "--- Processing deck [(2, 1), (2, 2), (1, 1), (1, 2), (1, 2), (1, 1)] (96/180) ---\n",
      "--- Processing deck [(1, 2), (2, 1), (2, 2), (1, 2), (1, 1), (1, 1)] (97/180) ---\n",
      "--- Processing deck [(1, 2), (2, 1), (2, 2), (1, 1), (1, 2), (1, 1)] (98/180) ---\n",
      "--- Processing deck [(2, 2), (2, 1), (1, 1), (1, 2), (1, 1), (1, 2)] (99/180) ---\n",
      "--- Processing deck [(2, 1), (1, 2), (1, 1), (1, 1), (2, 2), (1, 2)] (100/180) ---\n",
      "--- Processing deck [(1, 1), (2, 1), (1, 2), (2, 2), (1, 2), (1, 1)] (101/180) ---\n"
     ]
    },
    {
     "name": "stdout",
     "output_type": "stream",
     "text": [
      "--- Processing deck [(2, 1), (1, 2), (1, 1), (1, 2), (2, 2), (1, 1)] (102/180) ---\n",
      "--- Processing deck [(2, 2), (1, 1), (1, 1), (1, 2), (1, 2), (2, 1)] (103/180) ---\n",
      "--- Processing deck [(1, 2), (2, 1), (1, 2), (1, 1), (1, 1), (2, 2)] (104/180) ---\n",
      "--- Processing deck [(1, 1), (2, 1), (1, 2), (1, 1), (2, 2), (1, 2)] (105/180) ---\n",
      "--- Processing deck [(2, 2), (1, 1), (1, 2), (1, 1), (2, 1), (1, 2)] (106/180) ---\n",
      "--- Processing deck [(1, 1), (1, 2), (2, 2), (1, 2), (1, 1), (2, 1)] (107/180) ---\n",
      "--- Processing deck [(1, 1), (2, 2), (1, 1), (1, 2), (2, 1), (1, 2)] (108/180) ---\n",
      "--- Processing deck [(1, 1), (1, 1), (1, 2), (2, 1), (2, 2), (1, 2)] (109/180) ---\n",
      "--- Processing deck [(2, 1), (1, 1), (2, 2), (1, 2), (1, 2), (1, 1)] (110/180) ---\n",
      "--- Processing deck [(1, 2), (1, 1), (1, 2), (2, 2), (1, 1), (2, 1)] (111/180) ---\n",
      "--- Processing deck [(1, 1), (1, 1), (2, 1), (1, 2), (1, 2), (2, 2)] (112/180) ---\n",
      "--- Processing deck [(1, 1), (2, 2), (2, 1), (1, 1), (1, 2), (1, 2)] (113/180) ---\n",
      "--- Processing deck [(2, 1), (1, 2), (1, 1), (1, 2), (1, 1), (2, 2)] (114/180) ---\n",
      "--- Processing deck [(2, 1), (1, 2), (2, 2), (1, 2), (1, 1), (1, 1)] (115/180) ---\n",
      "--- Processing deck [(1, 2), (1, 1), (2, 2), (1, 2), (1, 1), (2, 1)] (116/180) ---\n",
      "--- Processing deck [(2, 1), (1, 1), (1, 2), (1, 2), (1, 1), (2, 2)] (117/180) ---\n",
      "--- Processing deck [(1, 1), (1, 1), (2, 2), (1, 2), (1, 2), (2, 1)] (118/180) ---\n",
      "--- Processing deck [(1, 2), (2, 1), (1, 1), (2, 2), (1, 2), (1, 1)] (119/180) ---\n",
      "--- Processing deck [(2, 2), (1, 2), (1, 2), (1, 1), (1, 1), (2, 1)] (120/180) ---\n",
      "--- Processing deck [(1, 2), (1, 2), (1, 1), (2, 2), (1, 1), (2, 1)] (121/180) ---\n",
      "--- Processing deck [(1, 1), (1, 2), (1, 1), (2, 2), (2, 1), (1, 2)] (122/180) ---\n",
      "--- Processing deck [(1, 2), (1, 2), (1, 1), (1, 1), (2, 1), (2, 2)] (123/180) ---\n",
      "--- Processing deck [(1, 1), (2, 1), (2, 2), (1, 1), (1, 2), (1, 2)] (124/180) ---\n",
      "--- Processing deck [(1, 2), (1, 2), (1, 1), (2, 1), (1, 1), (2, 2)] (125/180) ---\n",
      "--- Processing deck [(2, 2), (2, 1), (1, 2), (1, 1), (1, 1), (1, 2)] (126/180) ---\n",
      "--- Processing deck [(2, 1), (1, 1), (1, 2), (1, 1), (1, 2), (2, 2)] (127/180) ---\n",
      "--- Processing deck [(1, 2), (1, 1), (2, 2), (1, 2), (2, 1), (1, 1)] (128/180) ---\n",
      "--- Processing deck [(1, 1), (1, 2), (2, 1), (2, 2), (1, 1), (1, 2)] (129/180) ---\n",
      "--- Processing deck [(1, 2), (1, 2), (2, 2), (1, 1), (1, 1), (2, 1)] (130/180) ---\n",
      "--- Processing deck [(1, 1), (1, 2), (2, 1), (1, 1), (1, 2), (2, 2)] (131/180) ---\n",
      "--- Processing deck [(1, 2), (1, 1), (1, 1), (2, 1), (1, 2), (2, 2)] (132/180) ---\n",
      "--- Processing deck [(2, 2), (1, 2), (1, 1), (2, 1), (1, 2), (1, 1)] (133/180) ---\n",
      "--- Processing deck [(1, 1), (1, 2), (1, 2), (1, 1), (2, 1), (2, 2)] (134/180) ---\n",
      "--- Processing deck [(1, 1), (1, 2), (2, 1), (1, 2), (2, 2), (1, 1)] (135/180) ---\n",
      "--- Processing deck [(2, 2), (1, 2), (2, 1), (1, 2), (1, 1), (1, 1)] (136/180) ---\n",
      "--- Processing deck [(2, 2), (1, 2), (1, 1), (1, 2), (2, 1), (1, 1)] (137/180) ---\n",
      "--- Processing deck [(1, 1), (1, 2), (1, 2), (2, 1), (1, 1), (2, 2)] (138/180) ---\n",
      "--- Processing deck [(1, 2), (2, 1), (1, 1), (1, 1), (1, 2), (2, 2)] (139/180) ---\n",
      "--- Processing deck [(1, 1), (1, 2), (1, 2), (2, 2), (2, 1), (1, 1)] (140/180) ---\n",
      "--- Processing deck [(2, 1), (1, 1), (2, 2), (1, 2), (1, 1), (1, 2)] (141/180) ---\n",
      "--- Processing deck [(2, 2), (1, 1), (1, 2), (2, 1), (1, 2), (1, 1)] (142/180) ---\n",
      "--- Processing deck [(2, 1), (1, 2), (1, 2), (1, 1), (2, 2), (1, 1)] (143/180) ---\n",
      "--- Processing deck [(1, 2), (2, 2), (1, 1), (2, 1), (1, 2), (1, 1)] (144/180) ---\n",
      "--- Processing deck [(2, 1), (1, 1), (1, 2), (2, 2), (1, 2), (1, 1)] (145/180) ---\n",
      "--- Processing deck [(1, 2), (1, 2), (2, 1), (1, 1), (2, 2), (1, 1)] (146/180) ---\n",
      "--- Processing deck [(2, 1), (1, 1), (1, 2), (1, 2), (2, 2), (1, 1)] (147/180) ---\n",
      "--- Processing deck [(1, 1), (1, 1), (2, 1), (2, 2), (1, 2), (1, 2)] (148/180) ---\n",
      "--- Processing deck [(2, 1), (1, 2), (2, 2), (1, 1), (1, 1), (1, 2)] (149/180) ---\n",
      "--- Processing deck [(1, 1), (2, 2), (1, 2), (2, 1), (1, 1), (1, 2)] (150/180) ---\n",
      "--- Processing deck [(2, 1), (1, 2), (1, 1), (1, 1), (1, 2), (2, 2)] (151/180) ---\n",
      "--- Processing deck [(2, 1), (1, 2), (1, 2), (2, 2), (1, 1), (1, 1)] (152/180) ---\n",
      "--- Processing deck [(2, 2), (1, 1), (1, 1), (1, 2), (2, 1), (1, 2)] (153/180) ---\n",
      "--- Processing deck [(1, 1), (1, 1), (2, 1), (1, 2), (2, 2), (1, 2)] (154/180) ---\n",
      "--- Processing deck [(1, 2), (2, 2), (1, 1), (1, 2), (1, 1), (2, 1)] (155/180) ---\n",
      "--- Processing deck [(1, 1), (2, 1), (1, 2), (2, 2), (1, 1), (1, 2)] (156/180) ---\n",
      "--- Processing deck [(1, 2), (1, 2), (2, 1), (1, 1), (1, 1), (2, 2)] (157/180) ---\n",
      "--- Processing deck [(1, 1), (2, 1), (2, 2), (1, 2), (1, 1), (1, 2)] (158/180) ---\n",
      "--- Processing deck [(1, 2), (2, 1), (1, 2), (2, 2), (1, 1), (1, 1)] (159/180) ---\n",
      "--- Processing deck [(1, 1), (2, 2), (1, 2), (1, 1), (1, 2), (2, 1)] (160/180) ---\n",
      "--- Processing deck [(1, 2), (1, 1), (2, 2), (1, 1), (2, 1), (1, 2)] (161/180) ---\n",
      "--- Processing deck [(1, 2), (1, 2), (1, 1), (2, 1), (2, 2), (1, 1)] (162/180) ---\n",
      "--- Processing deck [(2, 2), (1, 2), (1, 2), (2, 1), (1, 1), (1, 1)] (163/180) ---\n",
      "--- Processing deck [(1, 1), (2, 1), (1, 2), (1, 2), (2, 2), (1, 1)] (164/180) ---\n",
      "--- Processing deck [(1, 1), (1, 1), (1, 2), (2, 1), (1, 2), (2, 2)] (165/180) ---\n",
      "--- Processing deck [(1, 1), (1, 1), (1, 2), (2, 2), (1, 2), (2, 1)] (166/180) ---\n",
      "--- Processing deck [(1, 1), (1, 1), (1, 2), (1, 2), (2, 1), (2, 2)] (167/180) ---\n",
      "--- Processing deck [(1, 1), (1, 1), (2, 2), (1, 2), (2, 1), (1, 2)] (168/180) ---\n",
      "--- Processing deck [(2, 2), (1, 1), (1, 1), (2, 1), (1, 2), (1, 2)] (169/180) ---\n",
      "--- Processing deck [(2, 1), (1, 2), (1, 1), (2, 2), (1, 2), (1, 1)] (170/180) ---\n",
      "--- Processing deck [(1, 1), (2, 2), (2, 1), (1, 2), (1, 1), (1, 2)] (171/180) ---\n",
      "--- Processing deck [(1, 2), (1, 1), (1, 1), (2, 2), (2, 1), (1, 2)] (172/180) ---\n",
      "--- Processing deck [(1, 2), (1, 1), (1, 1), (1, 2), (2, 1), (2, 2)] (173/180) ---\n",
      "--- Processing deck [(1, 2), (1, 1), (1, 2), (2, 1), (2, 2), (1, 1)] (174/180) ---\n",
      "--- Processing deck [(1, 2), (1, 1), (2, 1), (1, 1), (1, 2), (2, 2)] (175/180) ---\n",
      "--- Processing deck [(2, 2), (1, 2), (1, 1), (1, 1), (1, 2), (2, 1)] (176/180) ---\n",
      "--- Processing deck [(1, 1), (1, 2), (2, 1), (2, 2), (1, 2), (1, 1)] (177/180) ---\n",
      "--- Processing deck [(1, 1), (1, 1), (2, 2), (2, 1), (1, 2), (1, 2)] (178/180) ---\n",
      "--- Processing deck [(2, 1), (2, 2), (1, 2), (1, 1), (1, 1), (1, 2)] (179/180) ---\n",
      "--- Processing deck [(1, 2), (1, 1), (1, 2), (2, 1), (1, 1), (2, 2)] (180/180) ---\n"
     ]
    }
   ],
   "source": [
    "_t = build_hanabi_tree(2, 2, [2, 1], 1, display_progress = True)"
   ]
  },
  {
   "cell_type": "code",
   "execution_count": 7,
   "metadata": {
    "scrolled": true
   },
   "outputs": [
    {
     "name": "stdout",
     "output_type": "stream",
     "text": [
      "Sequences = \n",
      "{393696: 1, 1: 0, 604606: 3, 604495: 1}\n",
      "{1: 0, 3: 0, 5: 0, 59: 2}\n"
     ]
    },
    {
     "ename": "Exception",
     "evalue": "ERROR: This tree is not a game with perfect recall. Nodes of information set 64(137, 1437985, ) have different sequences.",
     "output_type": "error",
     "traceback": [
      "\u001b[0;31m---------------------------------------------------------------------------\u001b[0m",
      "\u001b[0;31mException\u001b[0m                                 Traceback (most recent call last)",
      "\u001b[0;32m<ipython-input-7-8017632d1d8e>\u001b[0m in \u001b[0;36m<module>\u001b[0;34m()\u001b[0m\n\u001b[0;32m----> 1\u001b[0;31m \u001b[0mCFRTree\u001b[0m\u001b[0;34m(\u001b[0m\u001b[0m_t\u001b[0m\u001b[0;34m)\u001b[0m\u001b[0;34m\u001b[0m\u001b[0m\n\u001b[0m",
      "\u001b[0;32m~/Scrivania/Polimi/Honours Programme/SCFR/data_structures/cfr_trees.py\u001b[0m in \u001b[0;36m__init__\u001b[0;34m(self, base_tree)\u001b[0m\n\u001b[1;32m     64\u001b[0m                     raise Exception(\"ERROR: This tree is not a game with perfect recall. Nodes of information set \"\n\u001b[1;32m     65\u001b[0m                                     \u001b[0;34m+\u001b[0m \u001b[0mstr\u001b[0m\u001b[0;34m(\u001b[0m\u001b[0miset\u001b[0m\u001b[0;34m.\u001b[0m\u001b[0mid\u001b[0m\u001b[0;34m)\u001b[0m \u001b[0;34m+\u001b[0m \u001b[0;34m\"(\"\u001b[0m \u001b[0;34m+\u001b[0m \u001b[0mreduce\u001b[0m\u001b[0;34m(\u001b[0m\u001b[0;32mlambda\u001b[0m \u001b[0macc\u001b[0m\u001b[0;34m,\u001b[0m \u001b[0mel\u001b[0m\u001b[0;34m:\u001b[0m \u001b[0mstr\u001b[0m\u001b[0;34m(\u001b[0m\u001b[0mel\u001b[0m\u001b[0;34m.\u001b[0m\u001b[0mbase_node\u001b[0m\u001b[0;34m.\u001b[0m\u001b[0mid\u001b[0m\u001b[0;34m)\u001b[0m \u001b[0;34m+\u001b[0m \u001b[0;34m', '\u001b[0m \u001b[0;34m+\u001b[0m \u001b[0macc\u001b[0m\u001b[0;34m,\u001b[0m \u001b[0miset\u001b[0m\u001b[0;34m.\u001b[0m\u001b[0mnodes\u001b[0m\u001b[0;34m,\u001b[0m \u001b[0;34m\"\"\u001b[0m\u001b[0;34m)\u001b[0m \u001b[0;34m+\u001b[0m\u001b[0;31m \u001b[0m\u001b[0;31m\\\u001b[0m\u001b[0;34m\u001b[0m\u001b[0m\n\u001b[0;32m---> 66\u001b[0;31m                                     \") have different sequences.\")\n\u001b[0m\u001b[1;32m     67\u001b[0m \u001b[0;34m\u001b[0m\u001b[0m\n\u001b[1;32m     68\u001b[0m             \u001b[0;31m# Setup children leaves and children infosets for this information set\u001b[0m\u001b[0;34m\u001b[0m\u001b[0;34m\u001b[0m\u001b[0m\n",
      "\u001b[0;31mException\u001b[0m: ERROR: This tree is not a game with perfect recall. Nodes of information set 64(137, 1437985, ) have different sequences."
     ]
    }
   ],
   "source": [
    "CFRTree(_t)"
   ]
  },
  {
   "cell_type": "code",
   "execution_count": 96,
   "metadata": {},
   "outputs": [],
   "source": [
    "def get_action_names(node, actions):\n",
    "    if len(actions) == 0:\n",
    "        return [ node.incoming_action_name ]\n",
    "    return [ node.incoming_action_name ] + get_action_names(node.children[actions[0]], actions[1:])"
   ]
  },
  {
   "cell_type": "code",
   "execution_count": 75,
   "metadata": {},
   "outputs": [
    {
     "data": {
      "text/plain": [
       "Player 0 - Infoset 64 - Node 137 (children of Node131 via Action p.0-P1)"
      ]
     },
     "execution_count": 75,
     "metadata": {},
     "output_type": "execute_result"
    }
   ],
   "source": [
    "_t.root.children[0].children[0].children[1].children[0].children[0].children[0].children[2].children[2].children[1]"
   ]
  },
  {
   "cell_type": "code",
   "execution_count": 97,
   "metadata": {},
   "outputs": [
    {
     "data": {
      "text/plain": [
       "['[(1, 2), (2, 1), (1, 1), (1, 1), (2, 2), (1, 2)]',\n",
       " 'c1.n2-P0',\n",
       " 'd.0-P1',\n",
       " 'd.0-P0',\n",
       " 'c0.c1-P1',\n",
       " 'd.0-P0',\n",
       " 'p.0-P1',\n",
       " 'c1.n1-P0',\n",
       " 'p.0-P1']"
      ]
     },
     "execution_count": 97,
     "metadata": {},
     "output_type": "execute_result"
    }
   ],
   "source": [
    "actions = get_action_names(_t.root.children[0], [0, 1, 0, 0, 0, 2, 2, 1])\n",
    "actions"
   ]
  },
  {
   "cell_type": "code",
   "execution_count": 77,
   "metadata": {},
   "outputs": [],
   "source": [
    "def buildHanabiState(baseState, actions):\n",
    "    if len(actions) == 0:\n",
    "        return baseState\n",
    "    return buildHanabiState(baseState.getChildState(actions[0]), actions[1:])"
   ]
  },
  {
   "cell_type": "code",
   "execution_count": 98,
   "metadata": {},
   "outputs": [
    {
     "name": "stdout",
     "output_type": "stream",
     "text": [
      "--- Hanabi State ---\n",
      "Player hands = [[(2, 2)], [(0, 0)]]\n",
      "Remaining deck = []\n",
      "Cards in play (highest per color) = [1, 1]\n",
      "Discarded cards = [(2, 1), (1, 2), (1, 1)]\n",
      "Clue tokens available = 1\n",
      "Clue history = ['c1.n2-P0', 'c0.c1-P1', 'c1.n1-P0']\n",
      "Player clued hands = [[(0, 0)], [(0, 0)]]\n",
      "Action history = ['c1.n2', 'd.0', 'd.0', 'c0.c1', 'd.0', 'p.0', 'c1.n1', 'p.0']\n",
      "Remaining turns after deck end = 1\n",
      "--- Hanabi State ---\n"
     ]
    }
   ],
   "source": [
    "s = buildHanabiState(HanabiState.createBaseState([(1, 2), (2, 1), (1, 1), (1, 1), (2, 2), (1, 2)],\n",
    "                                                 2, 1, 2, 1), actions[1:])\n",
    "s.print()"
   ]
  },
  {
   "cell_type": "code",
   "execution_count": null,
   "metadata": {},
   "outputs": [],
   "source": [
    "1437985"
   ]
  },
  {
   "cell_type": "code",
   "execution_count": 68,
   "metadata": {},
   "outputs": [
    {
     "data": {
      "text/plain": [
       "Player 0 - Infoset 64 - Node 1437985 (children of Node1437970 via Action p.0-P1)"
      ]
     },
     "execution_count": 68,
     "metadata": {},
     "output_type": "execute_result"
    }
   ],
   "source": [
    "_t.root.children[94].children[0].children[1].children[1].children[0].children[1].children[2].children[3].children[2]"
   ]
  },
  {
   "cell_type": "code",
   "execution_count": 91,
   "metadata": {},
   "outputs": [
    {
     "data": {
      "text/plain": [
       "Player 0 - Infoset 64 - Node 1437985 (children of Node1437970 via Action p.0-P1)"
      ]
     },
     "execution_count": 91,
     "metadata": {},
     "output_type": "execute_result"
    }
   ],
   "source": [
    "_t.root.children[94].children[0].children[1].children[1].children[0].children[1].children[2].children[3].children[2]"
   ]
  },
  {
   "cell_type": "code",
   "execution_count": 99,
   "metadata": {},
   "outputs": [
    {
     "data": {
      "text/plain": [
       "['[(1, 2), (2, 1), (1, 2), (1, 1), (2, 2), (1, 1)]',\n",
       " 'c1.n2-P0',\n",
       " 'd.0-P1',\n",
       " 'd.0-P0',\n",
       " 'c0.c1-P1',\n",
       " 'd.0-P0',\n",
       " 'p.0-P1',\n",
       " 'c1.n1-P0',\n",
       " 'p.0-P1']"
      ]
     },
     "execution_count": 99,
     "metadata": {},
     "output_type": "execute_result"
    }
   ],
   "source": [
    "actions2 = get_action_names(_t.root.children[94], [0, 1, 1, 0, 1, 2, 3, 2])\n",
    "actions2"
   ]
  },
  {
   "cell_type": "code",
   "execution_count": 100,
   "metadata": {},
   "outputs": [
    {
     "name": "stdout",
     "output_type": "stream",
     "text": [
      "--- Hanabi State ---\n",
      "Player hands = [[(2, 2)], [(0, 0)]]\n",
      "Remaining deck = []\n",
      "Cards in play (highest per color) = [1, 1]\n",
      "Discarded cards = [(2, 1), (1, 2), (1, 1)]\n",
      "Clue tokens available = 1\n",
      "Clue history = ['c1.n2-P0', 'c0.c1-P1', 'c1.n1-P0']\n",
      "Player clued hands = [[(0, 0)], [(0, 0)]]\n",
      "Action history = ['c1.n2', 'd.0', 'd.0', 'c0.c1', 'd.0', 'p.0', 'c1.n1', 'p.0']\n",
      "Remaining turns after deck end = 1\n",
      "--- Hanabi State ---\n"
     ]
    }
   ],
   "source": [
    "s2 = buildHanabiState(HanabiState.createBaseState([(1, 2), (2, 1), (1, 2), (1, 1), (2, 2), (1, 1)],\n",
    "                                                 2, 1, 2, 1), actions2[1:])"
   ]
  },
  {
   "cell_type": "code",
   "execution_count": 102,
   "metadata": {},
   "outputs": [
    {
     "name": "stdout",
     "output_type": "stream",
     "text": [
      "--- Hanabi State ---\n",
      "Player hands = [[(2, 2)], [(0, 0)]]\n",
      "Remaining deck = []\n",
      "Cards in play (highest per color) = [1, 1]\n",
      "Discarded cards = [(2, 1), (1, 2), (1, 1)]\n",
      "Clue tokens available = 1\n",
      "Clue history = ['c1.n2-P0', 'c0.c1-P1', 'c1.n1-P0']\n",
      "Player clued hands = [[(0, 0)], [(0, 0)]]\n",
      "Action history = ['c1.n2', 'd.0', 'd.0', 'c0.c1', 'd.0', 'p.0', 'c1.n1', 'p.0']\n",
      "Remaining turns after deck end = 1\n",
      "--- Hanabi State ---\n",
      "\n",
      "\n",
      "--- Hanabi State ---\n",
      "Player hands = [[(2, 2)], [(0, 0)]]\n",
      "Remaining deck = []\n",
      "Cards in play (highest per color) = [1, 1]\n",
      "Discarded cards = [(2, 1), (1, 2), (1, 1)]\n",
      "Clue tokens available = 1\n",
      "Clue history = ['c1.n2-P0', 'c0.c1-P1', 'c1.n1-P0']\n",
      "Player clued hands = [[(0, 0)], [(0, 0)]]\n",
      "Action history = ['c1.n2', 'd.0', 'd.0', 'c0.c1', 'd.0', 'p.0', 'c1.n1', 'p.0']\n",
      "Remaining turns after deck end = 1\n",
      "--- Hanabi State ---\n"
     ]
    }
   ],
   "source": [
    "s.print()\n",
    "print(\"\\n\")\n",
    "s2.print()"
   ]
  },
  {
   "cell_type": "code",
   "execution_count": 101,
   "metadata": {},
   "outputs": [
    {
     "data": {
      "text/plain": [
       "True"
      ]
     },
     "execution_count": 101,
     "metadata": {},
     "output_type": "execute_result"
    }
   ],
   "source": [
    "s.toPlayerState(0) == s2.toPlayerState(0)"
   ]
  },
  {
   "cell_type": "code",
   "execution_count": null,
   "metadata": {},
   "outputs": [],
   "source": []
  }
 ],
 "metadata": {
  "kernelspec": {
   "display_name": "Python 3",
   "language": "python",
   "name": "python3"
  },
  "language_info": {
   "codemirror_mode": {
    "name": "ipython",
    "version": 3
   },
   "file_extension": ".py",
   "mimetype": "text/x-python",
   "name": "python",
   "nbconvert_exporter": "python",
   "pygments_lexer": "ipython3",
   "version": "3.5.2"
  }
 },
 "nbformat": 4,
 "nbformat_minor": 2
}
