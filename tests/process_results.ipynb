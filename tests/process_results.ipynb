{
 "cells": [
  {
   "cell_type": "code",
   "execution_count": 1,
   "metadata": {},
   "outputs": [
    {
     "name": "stdout",
     "output_type": "stream",
     "text": [
      "/home/tommy/Scrivania/Polimi/Honours Programme/SCFR\n"
     ]
    }
   ],
   "source": [
    "cd .."
   ]
  },
  {
   "cell_type": "code",
   "execution_count": 2,
   "metadata": {},
   "outputs": [],
   "source": [
    "from os import listdir, path\n",
    "import json\n",
    "import matplotlib.pyplot as plt\n",
    "\n",
    "from data_structures.cfr_trees import CFRTree\n",
    "from games.goofspiel import build_goofspiel_tree\n",
    "from games.kuhn import build_kuhn_tree\n",
    "from games.leduc import build_leduc_tree\n",
    "from functools import reduce\n",
    "import math"
   ]
  },
  {
   "cell_type": "code",
   "execution_count": 3,
   "metadata": {},
   "outputs": [],
   "source": [
    "def parameters_to_string(par):\n",
    "    if(par['game'] == 'kuhn'):\n",
    "        return 'kuhn_' + str(par['players']) + '_' + str(par['rank'])\n",
    "    if(par['game'] == 'leduc'):\n",
    "        return 'leduc_' + str(par['players']) + '_' + str(par['suits']) + '_' + str(par['rank'])\n",
    "    if(par['game'] == 'goofspiel'):\n",
    "        return 'goofspiel_' + str(par['players']) + '_' + str(par['rank']) + '_' + str(par['tie_solver'])\n",
    "    if(par['game'] == 'random'):\n",
    "        return 'random_' + str(par['players']) + '_' + str(par['depth']) + '_' + str(par['branching_factor'])\n",
    "    if(par['game'] == 'hanabi'):\n",
    "        return 'hanabi_' + str(par['players']) + '_' + str(par['suits']) + '_' + \\\n",
    "                str(par['color_distribution']).replace(' ','').replace(',','_') + '_' + \\\n",
    "                str(par['cards_per_player']) + '_' + str(par['starting_clue_tokens'])"
   ]
  },
  {
   "cell_type": "code",
   "execution_count": 4,
   "metadata": {},
   "outputs": [],
   "source": [
    "# TODO: check it, in particular for bigger versions of goofspiel\n",
    "# TODO: implement different goofspiel TieSolver\n",
    "\n",
    "def delta_utility(game, players, rank, betting_parameters = [2, 4], color_distribution = None, suits = 1):\n",
    "    if game == 'kuhn':\n",
    "        return 2 * players\n",
    "    if game == 'leduc':\n",
    "        return players + players * betting_parameters[0] + players * betting_parameters[1]\n",
    "    if game == 'goofspiel':\n",
    "        return sum(list(range(1, rank+1)))\n",
    "    if game == 'random':\n",
    "        return 1\n",
    "    if game == 'hanabi':\n",
    "        return (len(color_distribution) + 1) * suits"
   ]
  },
  {
   "cell_type": "code",
   "execution_count": 5,
   "metadata": {},
   "outputs": [],
   "source": [
    "def max_social_welfare(game, players, rank, betting_parameters = [2, 4], color_distribution = None, suits = 1):\n",
    "    if game == 'kuhn' or game == 'leduc':\n",
    "        return 0\n",
    "    if game == 'goofspiel':\n",
    "        return sum(list(range(1, rank+1)))\n",
    "    if game == 'random':\n",
    "        return players\n",
    "    if game == 'hanabi':\n",
    "        return (len(color_distribution)) * suits * players"
   ]
  },
  {
   "cell_type": "code",
   "execution_count": 15,
   "metadata": {},
   "outputs": [],
   "source": [
    "target_directory = \"results/remote/nips/SCFR/random/\""
   ]
  },
  {
   "cell_type": "code",
   "execution_count": 16,
   "metadata": {},
   "outputs": [],
   "source": [
    "file_names = listdir(target_directory)"
   ]
  },
  {
   "cell_type": "code",
   "execution_count": 17,
   "metadata": {},
   "outputs": [],
   "source": [
    "def analyze(name, target_epsilons, data_per_instance, print_graphs = False):\n",
    "    if path.isdir(target_directory + name):\n",
    "        return\n",
    "    \n",
    "    print(\"\\n---------------------\")\n",
    "    print(\"File = \" + name)\n",
    "    \n",
    "    file = open(target_directory + name, \"r\")\n",
    "    data = json.load(file)\n",
    "    \n",
    "    print(\"Game = \" + parameters_to_string(data['parameters']))\n",
    "    \n",
    "    print(\"Total iterations = \" + str(data['parameters']['number_iterations']))\n",
    "    print(\"Check every iteration = \" + str(data['parameters']['check_every_iteration']))\n",
    "    \n",
    "    # --------- SKIP 2 PLAYERS LEDUC AND GOOFSPIEL (AND RANDOM) ---------\n",
    "    if data['parameters']['game'] in ['goofspiel', 'leduc', 'random'] and data['parameters']['players'] == 2:\n",
    "        print(\"---------------------------\")\n",
    "        print(\"Skipping 2 player versions\")\n",
    "        print(\"---------------------------\")\n",
    "        print(\"\")\n",
    "        return\n",
    "    # ------------------------------------------------------\n",
    "    \n",
    "    durations = list(map(lambda el: el['duration'], data['data']))\n",
    "    \n",
    "    target_datapoint_amount = int(data['parameters']['number_iterations']) / int(data['parameters']['check_every_iteration'])\n",
    "    run_time = sum(durations)\n",
    "    avg_time = run_time / len(durations)\n",
    "    print(\"Logged \" + str(len(data['data'])) + \" out of \" + str(target_datapoint_amount) + \" datapoints in \" + \\\n",
    "          str(run_time) + \" seconds (aka \" + str(run_time/3600) + \" hours)\")\n",
    "    print(\"Average duration of batch = \" + str(avg_time) + \" seconds (aka \" + str(avg_time/3600) + \" hours)\")\n",
    "\n",
    "    if 'total_duration' in data:\n",
    "        running_time = data['total_duration']\n",
    "        print(\"Solved in \" + str(running_time) + \" seconds\")\n",
    "        print(\"Solved in \" + str(running_time / 60) + \" minutes\")\n",
    "        print(\"Solved in \" + str(running_time / 3600) + \" hours\")\n",
    "        \n",
    "    if 'utility' in data:\n",
    "        u = data['utility']\n",
    "    elif 'utility' in data['data'][-1]:\n",
    "        u = data['data'][-1]['utility']\n",
    "    else:\n",
    "        u = [-1]\n",
    "        \n",
    "    if 'color_distribution' not in data['parameters']:\n",
    "        data['parameters']['color_distribution'] = []\n",
    "        \n",
    "    du = delta_utility(data['parameters']['game'], data['parameters']['players'], data['parameters']['rank'],\n",
    "                   data['parameters']['betting_parameters'], data['parameters']['color_distribution'], \n",
    "                   data['parameters']['suits'])\n",
    "        \n",
    "    sw = sum(u)\n",
    "    print(\"Final utility = \" + str(u))\n",
    "    print(\"Final epsilon = \" + str(-min(data['data'][-1]['epsilon']) / du) + \"%\")\n",
    "    print(\"Social welfare = \" + str(sw))\n",
    "    max_sw = max_social_welfare(data['parameters']['game'], data['parameters']['players'], \n",
    "                                data['parameters']['rank'], data['parameters']['betting_parameters'],\n",
    "                                data['parameters']['color_distribution'], data['parameters']['suits'])\n",
    "    if max_sw != 0:\n",
    "        print(\"Max social welfare = \" + str(max_sw) + \" (obtained \" + \\\n",
    "              str(sw / max_sw * 100) + \"%)\")\n",
    "\n",
    "    if 'total_duration' in data:\n",
    "        print(\"Average iterations per second = \" + str(data['average_iterations_per_second']))\n",
    "    else:\n",
    "        print(\"Average iterations per second = \" + str(data['parameters']['check_every_iteration'] / avg_time))\n",
    "\n",
    "    iteration_counts = list(map(lambda el: el['iteration_number'], data['data']))\n",
    "    epsilons = list(map(lambda el: max(0, -min(el['epsilon'])), data['data']))\n",
    "    percent_epsilons = list(map(lambda el: el / du, epsilons))\n",
    "    if 'utility' in data['data'][0]:\n",
    "        utilities = list(map(lambda el: sum(el['utility']), data['data']))\n",
    "    if max_sw != 0 and 'utility' in data['data'][0]:\n",
    "        percent_utilities = list(map(lambda el: el / max_sw, utilities))\n",
    "    #absolute_joint_sizes = list(map(lambda el: el['absolute_joint_size'], data['data']))\n",
    "    #relative_joint_sizes = list(map(lambda el: el['relative_joint_size'], data['data']))\n",
    "    #max_plan_frequencies = list(map(lambda el: el['max_plan_frequency'], data['data']))\n",
    "    #joint_support_sizes = list(map(lambda el: el['joint_support_size'], data['data']))\n",
    "    \n",
    "    if print_graphs:\n",
    "        plt.plot(iteration_counts, epsilons)\n",
    "        plt.title('Epsilons')\n",
    "        plt.show()\n",
    "        plt.plot(iteration_counts, percent_epsilons)\n",
    "        plt.title('Percent epsilons')\n",
    "        plt.show()\n",
    "        if max_sw != 0 and 'utility' in data['data'][0]:\n",
    "            plt.plot(iteration_counts, percent_utilities)\n",
    "            plt.title('Percent social welfare')\n",
    "            plt.show()\n",
    "    \n",
    "    time_to_target = []\n",
    "    iterations_to_target = []\n",
    "    \n",
    "    for t in target_epsilons:\n",
    "        indices_below_t = [i for i in range(len(epsilons)) if percent_epsilons[i] <= t]\n",
    "        if len(indices_below_t) > 0:\n",
    "            time_to_t = sum(durations[:indices_below_t[0]+1])\n",
    "            iterations_to_target.append((indices_below_t[0]+1) * int(data['parameters']['check_every_iteration']))\n",
    "        else:\n",
    "            time_to_t = -1\n",
    "            iterations_to_target.append(-1)\n",
    "        time_to_target.append(round(time_to_t, 5))\n",
    "    \n",
    "    s = parameters_to_string(data['parameters'])\n",
    "    \n",
    "    d = {'time_to_target': time_to_target,\n",
    "        'iterations_to_target': iterations_to_target,\n",
    "        'parameters': data['parameters'],\n",
    "        'percent_sw': sw / max_sw * 100 if max_sw > 0 else 0}\n",
    "    \n",
    "    if (s + '_average') not in data_per_instance:\n",
    "        data_per_instance[s + '_average'] = []\n",
    "    data_per_instance[s + '_average'].append(d)\n",
    "    \n",
    "    while s in data_per_instance:\n",
    "        s += '_'\n",
    "    data_per_instance[s] = d"
   ]
  },
  {
   "cell_type": "code",
   "execution_count": 18,
   "metadata": {
    "scrolled": true
   },
   "outputs": [
    {
     "name": "stdout",
     "output_type": "stream",
     "text": [
      "\n",
      "---------------------\n",
      "File = 1558187238_3_12_2\n",
      "Game = random_3_12_2\n",
      "Total iterations = 100000\n",
      "Check every iteration = 10\n",
      "Logged 5805 out of 10000.0 datapoints in 79051.55730605125 seconds (aka 21.95876591834757 hours)\n",
      "Average duration of batch = 13.617839329207795 seconds (aka 0.003782733147002165 hours)\n",
      "Final utility = [0.8861686316959105, 0.8933292312336014, 0.9729983557634292]\n",
      "Final epsilon = 0.0007960528458054172%\n",
      "Social welfare = 2.752496218692941\n",
      "Max social welfare = 3 (obtained 91.74987395643136%)\n",
      "Average iterations per second = 0.7343308845296636\n",
      "\n",
      "---------------------\n",
      "File = 1558187245_3_12_2\n",
      "Game = random_3_12_2\n",
      "Total iterations = 100000\n",
      "Check every iteration = 10\n",
      "Logged 5731 out of 10000.0 datapoints in 79406.19083046913 seconds (aka 22.05727523068587 hours)\n",
      "Average duration of batch = 13.85555589434115 seconds (aka 0.003848765526205875 hours)\n",
      "Final utility = [0.9761727855353158, 0.9944507692052005, 0.9018293748233792]\n",
      "Final epsilon = 0.0008029644942300074%\n",
      "Social welfare = 2.8724529295638956\n",
      "Max social welfare = 3 (obtained 95.74843098546319%)\n",
      "Average iterations per second = 0.7217321395299754\n",
      "\n",
      "---------------------\n",
      "File = 1558187246_3_12_2\n",
      "Game = random_3_12_2\n",
      "Total iterations = 100000\n",
      "Check every iteration = 10\n",
      "Logged 5762 out of 10000.0 datapoints in 79400.34526348114 seconds (aka 22.055651462078096 hours)\n",
      "Average duration of batch = 13.77999744246462 seconds (aka 0.003827777067351283 hours)\n",
      "Final utility = [0.9458687354196748, 0.9904160736872591, 0.9073020985541647]\n",
      "Final epsilon = 0.0008110935721430401%\n",
      "Social welfare = 2.8435869076610985\n",
      "Max social welfare = 3 (obtained 94.78623025536996%)\n",
      "Average iterations per second = 0.7256895396209487\n",
      "\n",
      "---------------------\n",
      "File = 1558187250_3_12_2\n",
      "Game = random_3_12_2\n",
      "Total iterations = 100000\n",
      "Check every iteration = 10\n",
      "Logged 5749 out of 10000.0 datapoints in 79630.53102040291 seconds (aka 22.119591950111918 hours)\n",
      "Average duration of batch = 13.851196907358307 seconds (aka 0.0038475546964884186 hours)\n",
      "Final utility = [0.9661502573050222, 0.9720839768077659, 0.8386192565078515]\n",
      "Final epsilon = 0.0005993945867892592%\n",
      "Social welfare = 2.7768534906206397\n",
      "Max social welfare = 3 (obtained 92.561783020688%)\n",
      "Average iterations per second = 0.7219592694323479\n",
      "\n",
      "---------------------\n",
      "File = 1558187248_3_12_2\n",
      "Game = random_3_12_2\n",
      "Total iterations = 100000\n",
      "Check every iteration = 10\n",
      "Logged 5700 out of 10000.0 datapoints in 79439.10370349884 seconds (aka 22.066417695416344 hours)\n",
      "Average duration of batch = 13.936684860262954 seconds (aka 0.0038713013500730428 hours)\n",
      "Final utility = [0.9491298733659571, 0.9705436989323813, 0.9588361416255899]\n",
      "Final epsilon = -0.00032001234578382665%\n",
      "Social welfare = 2.878509713923928\n",
      "Max social welfare = 3 (obtained 95.95032379746428%)\n",
      "Average iterations per second = 0.7175307542837933\n",
      "\n",
      "---------------------\n",
      "File = 1558298367_3_15_2\n",
      "Game = random_3_15_2\n",
      "Total iterations = 20000\n",
      "Check every iteration = 50\n",
      "Logged 400 out of 400.0 datapoints in 18439.370944738388 seconds (aka 5.122047484649552 hours)\n",
      "Average duration of batch = 46.09842736184597 seconds (aka 0.01280511871162388 hours)\n",
      "Solved in 18587.667853832245 seconds\n",
      "Solved in 309.7944642305374 minutes\n",
      "Solved in 5.163241070508957 hours\n",
      "Final utility = [0.853924753024475, 0.9667229180529134, 0.8969734416488879]\n",
      "Final epsilon = 0.003081349426387936%\n",
      "Social welfare = 2.7176211127262766\n",
      "Max social welfare = 3 (obtained 90.58737042420923%)\n",
      "Average iterations per second = 1.0759822134370973\n",
      "\n",
      "---------------------\n",
      "File = 1558187234_3_12_2\n",
      "Game = random_3_12_2\n",
      "Total iterations = 100000\n",
      "Check every iteration = 10\n",
      "Logged 5771 out of 10000.0 datapoints in 79049.99733877182 seconds (aka 21.958332594103283 hours)\n",
      "Average duration of batch = 13.697798880397126 seconds (aka 0.003804944133443646 hours)\n",
      "Final utility = [0.7918800684580259, 0.8815804231000994, 0.9550895209367154]\n",
      "Final epsilon = -0.0015792892695284388%\n",
      "Social welfare = 2.6285500124948404\n",
      "Max social welfare = 3 (obtained 87.61833374982801%)\n",
      "Average iterations per second = 0.7300443003518592\n",
      "\n",
      "---------------------\n",
      "File = 1558187228_3_12_2\n",
      "Game = random_3_12_2\n",
      "Total iterations = 100000\n",
      "Check every iteration = 10\n",
      "Logged 5699 out of 10000.0 datapoints in 79074.14067006111 seconds (aka 21.965039075016975 hours)\n",
      "Average duration of batch = 13.875090484306213 seconds (aka 0.0038541918011961705 hours)\n",
      "Final utility = [0.9595437330822623, 0.7552377436880074, 0.8646102852175324]\n",
      "Final epsilon = 0.0003703159589641958%\n",
      "Social welfare = 2.579391761987802\n",
      "Max social welfare = 3 (obtained 85.9797253995934%)\n",
      "Average iterations per second = 0.7207160206494339\n",
      "\n",
      "---------------------\n",
      "File = 1558298361_3_15_2_\n",
      "Game = random_3_15_2\n",
      "Total iterations = 20000\n",
      "Check every iteration = 50\n",
      "Logged 400 out of 400.0 datapoints in 18542.438768863678 seconds (aka 5.150677435795466 hours)\n",
      "Average duration of batch = 46.356096922159196 seconds (aka 0.012876693589488666 hours)\n",
      "Solved in 18691.55101299286 seconds\n",
      "Solved in 311.52585021654767 minutes\n",
      "Solved in 5.192097503609127 hours\n",
      "Final utility = [0.8888380904929666, 0.9604322998322993, 0.9123317166106252]\n",
      "Final epsilon = 0.007340789665392089%\n",
      "Social welfare = 2.761602106935891\n",
      "Max social welfare = 3 (obtained 92.0534035645297%)\n",
      "Average iterations per second = 1.0700021622655933\n",
      "\n",
      "---------------------\n",
      "File = 1558298365_3_15_2\n",
      "Game = random_3_15_2\n",
      "Total iterations = 20000\n",
      "Check every iteration = 50\n",
      "Logged 400 out of 400.0 datapoints in 16164.481257677078 seconds (aka 4.490133682688077 hours)\n",
      "Average duration of batch = 40.4112031441927 seconds (aka 0.011225334206720193 hours)\n",
      "Solved in 16300.702356815338 seconds\n",
      "Solved in 271.678372613589 minutes\n",
      "Solved in 4.527972876893149 hours\n",
      "Final utility = [0.9267263948228653, 0.8246096510418298, 0.9374654948324683]\n",
      "Final epsilon = 0.0036847057739434197%\n",
      "Social welfare = 2.6888015406971633\n",
      "Max social welfare = 3 (obtained 89.62671802323877%)\n",
      "Average iterations per second = 1.2269409969097425\n",
      "\n",
      "---------------------\n",
      "File = 1558298369_3_15_2\n",
      "Game = random_3_15_2\n",
      "Total iterations = 20000\n",
      "Check every iteration = 50\n",
      "Logged 400 out of 400.0 datapoints in 15890.532826900482 seconds (aka 4.414036896361245 hours)\n",
      "Average duration of batch = 39.72633206725121 seconds (aka 0.011035092240903113 hours)\n",
      "Solved in 16020.770208597183 seconds\n",
      "Solved in 267.01283680995306 minutes\n",
      "Solved in 4.450213946832551 hours\n",
      "Final utility = [0.9827990340457109, 0.8840476595434543, 0.9485051674472446]\n",
      "Final epsilon = 0.0037921255671287124%\n",
      "Social welfare = 2.81535186103641\n",
      "Max social welfare = 3 (obtained 93.845062034547%)\n",
      "Average iterations per second = 1.2483794311753784\n",
      "\n",
      "---------------------\n",
      "File = 1558298363_3_15_2\n",
      "Game = random_3_15_2\n",
      "Total iterations = 20000\n",
      "Check every iteration = 50\n",
      "Logged 400 out of 400.0 datapoints in 16274.727828979492 seconds (aka 4.520757730272081 hours)\n",
      "Average duration of batch = 40.686819572448734 seconds (aka 0.011301894325680203 hours)\n",
      "Solved in 16407.691421031952 seconds\n",
      "Solved in 273.4615236838659 minutes\n",
      "Solved in 4.5576920613977645 hours\n",
      "Final utility = [0.9631690777427248, 0.9384079025472799, 0.9106446121937526]\n",
      "Final epsilon = 0.0062957591960634%\n",
      "Social welfare = 2.8122215924837572\n",
      "Max social welfare = 3 (obtained 93.74071974945858%)\n",
      "Average iterations per second = 1.2189405253174923\n",
      "\n",
      "---------------------\n",
      "File = 1558187242_3_12_2\n",
      "Game = random_3_12_2\n",
      "Total iterations = 100000\n",
      "Check every iteration = 10\n",
      "Logged 6729 out of 10000.0 datapoints in 79454.60271263123 seconds (aka 22.070722975730895 hours)\n",
      "Average duration of batch = 11.80778759290106 seconds (aka 0.003279940998028072 hours)\n",
      "Final utility = [0.9586109023115303, 0.8973169433802036, 0.9186658612938374]\n",
      "Final epsilon = 0.0006544080453316781%\n",
      "Social welfare = 2.7745937069855713\n",
      "Max social welfare = 3 (obtained 92.48645689951904%)\n",
      "Average iterations per second = 0.8468987031924663\n",
      "\n",
      "---------------------\n",
      "File = 1558298362_3_15_2\n",
      "Game = random_3_15_2\n",
      "Total iterations = 20000\n",
      "Check every iteration = 50\n",
      "Logged 400 out of 400.0 datapoints in 15946.232369422913 seconds (aka 4.429508991506364 hours)\n",
      "Average duration of batch = 39.86558092355728 seconds (aka 0.011073772478765911 hours)\n",
      "Solved in 16079.795867443085 seconds\n",
      "Solved in 267.99659779071806 minutes\n",
      "Solved in 4.466609963178635 hours\n",
      "Final utility = [0.9512914298894685, 0.9135190367550831, 0.944631799722387]\n",
      "Final epsilon = 0.006081665148345294%\n",
      "Social welfare = 2.8094422663669385\n",
      "Max social welfare = 3 (obtained 93.64807554556461%)\n",
      "Average iterations per second = 1.243796884293425\n",
      "\n",
      "---------------------\n",
      "File = 1558187254_3_12_2\n",
      "Game = random_3_12_2\n",
      "Total iterations = 100000\n",
      "Check every iteration = 10\n",
      "Logged 5738 out of 10000.0 datapoints in 79581.52404260635 seconds (aka 22.105978900723986 hours)\n",
      "Average duration of batch = 13.869209488080578 seconds (aka 0.003852558191133494 hours)\n",
      "Final utility = [0.8762710268265832, 0.8818181432252656, 0.8303138472709966]\n",
      "Final epsilon = -0.0011965227880109675%\n",
      "Social welfare = 2.5884030173228454\n",
      "Max social welfare = 3 (obtained 86.28010057742817%)\n",
      "Average iterations per second = 0.7210216276994129\n",
      "\n",
      "---------------------\n",
      "File = 1558187236_3_12_2\n",
      "Game = random_3_12_2\n",
      "Total iterations = 100000\n",
      "Check every iteration = 10\n",
      "Logged 5756 out of 10000.0 datapoints in 79163.554905653 seconds (aka 21.98987636268139 hours)\n",
      "Average duration of batch = 13.75322357638169 seconds (aka 0.003820339882328247 hours)\n",
      "Final utility = [0.784533462857099, 0.8051851727532907, 0.9159889896992226]\n",
      "Final epsilon = 0.0008280800458163595%\n",
      "Social welfare = 2.505707625309612\n",
      "Max social welfare = 3 (obtained 83.52358751032041%)\n",
      "Average iterations per second = 0.7271022640228817\n",
      "\n",
      "---------------------\n",
      "File = 1558187231_3_12_2\n",
      "Game = random_3_12_2\n",
      "Total iterations = 100000\n",
      "Check every iteration = 10\n",
      "Logged 5725 out of 10000.0 datapoints in 79012.46890377998 seconds (aka 21.947908028827772 hours)\n",
      "Average duration of batch = 13.80130461201397 seconds (aka 0.003833695725559436 hours)\n",
      "Final utility = [0.9533751551368621, 0.923942935967907, 0.8318149424428246]\n",
      "Final epsilon = 0.0009944872557926532%\n",
      "Social welfare = 2.7091330335475936\n",
      "Max social welfare = 3 (obtained 90.30443445158646%)\n",
      "Average iterations per second = 0.7245691824883749\n",
      "\n",
      "---------------------\n",
      "File = 1558187253_3_12_2\n"
     ]
    },
    {
     "name": "stdout",
     "output_type": "stream",
     "text": [
      "Game = random_3_12_2\n",
      "Total iterations = 100000\n",
      "Check every iteration = 10\n",
      "Logged 5678 out of 10000.0 datapoints in 79720.61132359505 seconds (aka 22.14461425655418 hours)\n",
      "Average duration of batch = 14.04026264945316 seconds (aka 0.003900072958181433 hours)\n",
      "Final utility = [0.8707659088520407, 0.9840223236844444, 0.7752439977149903]\n",
      "Final epsilon = 0.0007831542943051994%\n",
      "Social welfare = 2.6300322302514756\n",
      "Max social welfare = 3 (obtained 87.66774100838252%)\n",
      "Average iterations per second = 0.7122373882649182\n",
      "\n",
      "---------------------\n",
      "File = 1558187244_3_12_2\n",
      "Game = random_3_12_2\n",
      "Total iterations = 100000\n",
      "Check every iteration = 10\n",
      "Logged 5799 out of 10000.0 datapoints in 79565.54018592834 seconds (aka 22.10153894053565 hours)\n",
      "Average duration of batch = 13.72056219795281 seconds (aka 0.0038112672772091143 hours)\n",
      "Final utility = [0.9426688606448766, 0.9478342303209635, 0.9295507368913369]\n",
      "Final epsilon = 0.0007153069675948087%\n",
      "Social welfare = 2.820053827857177\n",
      "Max social welfare = 3 (obtained 94.0017942619059%)\n",
      "Average iterations per second = 0.7288331087112494\n",
      "\n",
      "---------------------\n",
      "File = 1558298368_3_15_2\n",
      "Game = random_3_15_2\n",
      "Total iterations = 20000\n",
      "Check every iteration = 50\n",
      "Logged 400 out of 400.0 datapoints in 18280.740319013596 seconds (aka 5.077983421948221 hours)\n",
      "Average duration of batch = 45.701850797533986 seconds (aka 0.012694958554870552 hours)\n",
      "Solved in 18426.44379591942 seconds\n",
      "Solved in 307.107396598657 minutes\n",
      "Solved in 5.118456609977616 hours\n",
      "Final utility = [0.9051445287807267, 0.902127448433521, 0.9124888781649699]\n",
      "Final epsilon = 0.004688240507971897%\n",
      "Social welfare = 2.7197608553792176\n",
      "Max social welfare = 3 (obtained 90.65869517930726%)\n",
      "Average iterations per second = 1.085396630055608\n",
      "\n",
      "---------------------\n",
      "File = 1558187239_3_12_2\n",
      "Game = random_3_12_2\n",
      "Total iterations = 100000\n",
      "Check every iteration = 10\n",
      "Logged 6759 out of 10000.0 datapoints in 79312.09587621689 seconds (aka 22.03113774339358 hours)\n",
      "Average duration of batch = 11.734294403937993 seconds (aka 0.003259526223316109 hours)\n",
      "Final utility = [0.9673157434961799, 0.8776264640286182, 0.8525197714005459]\n",
      "Final epsilon = 0.0009160583429577152%\n",
      "Social welfare = 2.697461978925344\n",
      "Max social welfare = 3 (obtained 89.91539929751147%)\n",
      "Average iterations per second = 0.852202923819947\n",
      "\n",
      "---------------------\n",
      "File = 1558187240_3_12_2\n",
      "Game = random_3_12_2\n",
      "Total iterations = 100000\n",
      "Check every iteration = 10\n",
      "Logged 6777 out of 10000.0 datapoints in 79341.92298841476 seconds (aka 22.039423052337433 hours)\n",
      "Average duration of batch = 11.707528845863179 seconds (aka 0.003252091346073105 hours)\n",
      "Final utility = [0.8556121416846871, 0.9925868811589135, 0.9251920581808305]\n",
      "Final epsilon = 0.0006104444426310307%\n",
      "Social welfare = 2.773391081024431\n",
      "Max social welfare = 3 (obtained 92.44636936748103%)\n",
      "Average iterations per second = 0.8541512159958052\n",
      "\n",
      "---------------------\n",
      "File = 1558187241_3_12_2\n",
      "Game = random_3_12_2\n",
      "Total iterations = 100000\n",
      "Check every iteration = 10\n",
      "Logged 6700 out of 10000.0 datapoints in 79411.48384857178 seconds (aka 22.05874551349216 hours)\n",
      "Average duration of batch = 11.852460275906235 seconds (aka 0.003292350076640621 hours)\n",
      "Final utility = [0.9654566897002274, 0.9595017511321552, 0.8873676100003935]\n",
      "Final epsilon = -0.0007919027725689087%\n",
      "Social welfare = 2.812326050832776\n",
      "Max social welfare = 3 (obtained 93.74420169442587%)\n",
      "Average iterations per second = 0.8437066876594449\n",
      "\n",
      "---------------------\n",
      "File = 1558298361_3_15_2\n",
      "Game = random_3_15_2\n",
      "Total iterations = 20000\n",
      "Check every iteration = 50\n",
      "Logged 400 out of 400.0 datapoints in 16031.61722111702 seconds (aka 4.4532270058658385 hours)\n",
      "Average duration of batch = 40.07904305279255 seconds (aka 0.011133067514664597 hours)\n",
      "Solved in 16164.356663703918 seconds\n",
      "Solved in 269.4059443950653 minutes\n",
      "Solved in 4.490099073251089 hours\n",
      "Final utility = [0.9389544806168335, 0.9384029726304365, 0.8799551651897352]\n",
      "Final epsilon = 0.005553133630142537%\n",
      "Social welfare = 2.757312618437005\n",
      "Max social welfare = 3 (obtained 91.91042061456683%)\n",
      "Average iterations per second = 1.2372901944751558\n",
      "\n",
      "---------------------\n",
      "File = 1558298371_3_15_2\n",
      "Game = random_3_15_2\n",
      "Total iterations = 20000\n",
      "Check every iteration = 50\n",
      "Logged 400 out of 400.0 datapoints in 18242.708741664886 seconds (aka 5.067419094906913 hours)\n",
      "Average duration of batch = 45.60677185416222 seconds (aka 0.012668547737267282 hours)\n",
      "Solved in 18387.912837266922 seconds\n",
      "Solved in 306.4652139544487 minutes\n",
      "Solved in 5.107753565907478 hours\n",
      "Final utility = [0.9846644991612907, 0.9209336202970102, 0.9564591347241019]\n",
      "Final epsilon = 0.004668857377779778%\n",
      "Social welfare = 2.8620572541824028\n",
      "Max social welfare = 3 (obtained 95.40190847274675%)\n",
      "Average iterations per second = 1.0876710248194046\n",
      "\n",
      "---------------------\n",
      "File = 1558298370_3_15_2\n",
      "Game = random_3_15_2\n",
      "Total iterations = 20000\n",
      "Check every iteration = 50\n",
      "Logged 400 out of 400.0 datapoints in 16107.22695851326 seconds (aka 4.474229710698128 hours)\n",
      "Average duration of batch = 40.26806739628315 seconds (aka 0.01118557427674532 hours)\n",
      "Solved in 16241.713105678558 seconds\n",
      "Solved in 270.695218427976 minutes\n",
      "Solved in 4.5115869737995995 hours\n",
      "Final utility = [0.9019045600868675, 0.888710227373639, 0.8789220962392719]\n",
      "Final epsilon = 0.004681514889275262%\n",
      "Social welfare = 2.669536883699778\n",
      "Max social welfare = 3 (obtained 88.98456278999261%)\n",
      "Average iterations per second = 1.2313971974426416\n",
      "\n",
      "---------------------\n",
      "File = 1558187227_3_12_2\n",
      "Game = random_3_12_2\n",
      "Total iterations = 100000\n",
      "Check every iteration = 10\n",
      "Logged 5767 out of 10000.0 datapoints in 78938.42789912224 seconds (aka 21.927341083089512 hours)\n",
      "Average duration of batch = 13.68795351120552 seconds (aka 0.0038022093086682003 hours)\n",
      "Final utility = [0.9823338588778276, 0.901527792655243, 0.8686294291427852]\n",
      "Final epsilon = 0.0005744078656951812%\n",
      "Social welfare = 2.752491080675856\n",
      "Max social welfare = 3 (obtained 91.74970268919519%)\n",
      "Average iterations per second = 0.7305694011755365\n",
      "\n",
      "---------------------\n",
      "File = 1558187252_3_12_2\n",
      "Game = random_3_12_2\n",
      "Total iterations = 100000\n",
      "Check every iteration = 10\n",
      "Logged 6688 out of 10000.0 datapoints in 79652.70654344559 seconds (aka 22.125751817623776 hours)\n",
      "Average duration of batch = 11.909794638673084 seconds (aka 0.003308276288520301 hours)\n",
      "Final utility = [0.9945371345203793, 0.7967750762359295, 0.8517611477160173]\n",
      "Final epsilon = 0.0005556973840599166%\n",
      "Social welfare = 2.6430733584723263\n",
      "Max social welfare = 3 (obtained 88.10244528241088%)\n",
      "Average iterations per second = 0.8396450403542927\n",
      "\n",
      "---------------------\n",
      "File = 1558187247_3_12_2\n",
      "Game = random_3_12_2\n",
      "Total iterations = 100000\n",
      "Check every iteration = 10\n",
      "Logged 5718 out of 10000.0 datapoints in 79439.75448012352 seconds (aka 22.066598466700977 hours)\n",
      "Average duration of batch = 13.892926631711005 seconds (aka 0.00385914628658639 hours)\n",
      "Final utility = [0.982844615752348, 0.8053664376560287, 0.9462270802732387]\n",
      "Final epsilon = 0.0009084904699888652%\n",
      "Social welfare = 2.7344381336816155\n",
      "Max social welfare = 3 (obtained 91.14793778938719%)\n",
      "Average iterations per second = 0.7197907442464075\n",
      "\n",
      "---------------------\n",
      "File = 1558187243_3_12_2\n",
      "Game = random_3_12_2\n",
      "Total iterations = 100000\n",
      "Check every iteration = 10\n",
      "Logged 6739 out of 10000.0 datapoints in 79521.57989478111 seconds (aka 22.08932774855031 hours)\n",
      "Average duration of batch = 11.800204762543569 seconds (aka 0.0032778346562621023 hours)\n",
      "Final utility = [0.8950743274789942, 0.9714376784785776, 0.771744418889396]\n",
      "Final epsilon = 0.0008064371759984867%\n",
      "Social welfare = 2.638256424846968\n",
      "Max social welfare = 3 (obtained 87.94188082823227%)\n",
      "Average iterations per second = 0.8474429216467656\n"
     ]
    }
   ],
   "source": [
    "target_epsilons = [0.1, 0.05, 0.01, 0.005, 0.001, 0.0005]\n",
    "data_per_instance = {}\n",
    "\n",
    "for name in file_names:\n",
    "    analyze(name, target_epsilons, data_per_instance)\n",
    "    \n",
    "# Average if needed\n",
    "new_data_per_instance = {}\n",
    "for (s, data) in data_per_instance.items():\n",
    "    if type(data) != list:\n",
    "        new_data_per_instance[s] = data\n",
    "    elif len(data) > 1:\n",
    "        tot_time = [0 for _ in target_epsilons]\n",
    "        tot_it = [0 for _ in target_epsilons]\n",
    "        count = [0 for _ in target_epsilons]\n",
    "        if 'nodes_amount' in data[0]['parameters']:\n",
    "            node_count = sum(map(lambda d: d['parameters']['nodes_amount'] + d['parameters']['leaves_amount'], data)) / len(data)\n",
    "            infoset_count = sum(map(lambda d: d['parameters']['infoset_amount'], data)) / len(data)\n",
    "        else:\n",
    "            node_count = -1\n",
    "            infoset_count = -1\n",
    "        avg_sw = sum(map(lambda d: d['percent_sw'], data)) / len(data)\n",
    "        for d in data:\n",
    "            for i in range(len(target_epsilons)):\n",
    "                if d['time_to_target'][i] > 0:\n",
    "                    tot_time[i] += d['time_to_target'][i]\n",
    "                    tot_it[i] += d['iterations_to_target'][i]\n",
    "                    count[i] += 1   \n",
    "        for i in range(len(target_epsilons)):\n",
    "            if count[i] > 0:\n",
    "                tot_time[i] /= count[i]\n",
    "                tot_it[i] /= count[i]\n",
    "            else:\n",
    "                tot_time[i] = -1\n",
    "                tot_it[i] = -1\n",
    "        # Compute variance\n",
    "        variance = [-1 for _ in target_epsilons]\n",
    "        confidence = [-1 for _ in target_epsilons]\n",
    "        for i in range(len(target_epsilons)):\n",
    "            if count[i] > 1:\n",
    "                v = 0\n",
    "                for d in data:\n",
    "                    if d['time_to_target'][i] > 0:\n",
    "                        v += (d['time_to_target'][i] - tot_time[i]) ** 2\n",
    "                variance[i] = v / (count[i] - 1)\n",
    "                confidence[i] = 1.96 * math.sqrt(variance[i]) / math.sqrt(count[i])\n",
    "        new_data_per_instance[s] = {'time_to_target': tot_time,\n",
    "                                    'time_to_target_variance': variance,\n",
    "                                    'time_to_target_confidence': confidence,\n",
    "                                    'iterations_to_target': tot_it,\n",
    "                                    'parameters': data[0]['parameters'],\n",
    "                                    'avg_node_count': node_count,\n",
    "                                    'avg_infoset_count': infoset_count,\n",
    "                                    'avg_sw': avg_sw}\n",
    "    \n",
    "data_per_instance = new_data_per_instance"
   ]
  },
  {
   "cell_type": "code",
   "execution_count": 19,
   "metadata": {},
   "outputs": [],
   "source": [
    "size_data = {\n",
    "    'kuhn_3_6': (72, 147),\n",
    "    'kuhn_3_7': (84, 171),\n",
    "    'kuhn_3_8': (96, 195),\n",
    "    'kuhn_3_9': (108, 219),\n",
    "    'kuhn_3_10': (120, 243),\n",
    "    \n",
    "    'leduc_3_3_3': (684, 1371),\n",
    "    'leduc_3_3_4': (1200, 2403),\n",
    "    'leduc_3_3_5': (1860, 3723),\n",
    "    'leduc_3_3_6': (2664, 5331),\n",
    "    'leduc_3_3_7': (3612, 7227),\n",
    "    'leduc_3_3_8': (4704, 9411),\n",
    "    \n",
    "    'goofspiel_3_3_accumulate': (194, 396),\n",
    "    'goofspiel_3_3_discard_if_all': (194, 396),\n",
    "    'goofspiel_3_3_discard_if_high': (194, 396),\n",
    "    'goofspiel_3_3_discard_always': (194, 396),\n",
    "    'goofspiel_3_4_accumulate': (48966, 98523),\n",
    "    'goofspiel_3_4_discard_if_all': (48966, 98523),\n",
    "    'goofspiel_3_4_discard_if_high': (48966, 98523),\n",
    "    'goofspiel_3_4_discard_always': (48966, 98523),\n",
    "    \n",
    "    # Random sized are taken from specific dat files\n",
    "    'random_2_5_2': (24, 46),\n",
    "    'random_2_6_2': (52, 102),\n",
    "    'random_2_7_2': (94, 186),\n",
    "    'random_2_8_2': (186, 370),\n",
    "    'random_2_9_2': (383, 764),\n",
    "    'random_2_10_2': (776, 1550),\n",
    "    'random_3_5_2': (29, 55),\n",
    "    'random_3_6_2': (49, 95),\n",
    "    'random_3_7_2': (100, 197),\n",
    "    'random_3_8_2': (206, 409),\n",
    "    'random_3_9_2': (378, 753),\n",
    "    'random_3_10_2': (757, 1541),\n",
    "}"
   ]
  },
  {
   "cell_type": "code",
   "execution_count": 20,
   "metadata": {},
   "outputs": [],
   "source": [
    "def count_sequences(cfr_tree):\n",
    "    all_nodes = reduce(lambda x, y: x + y.nodes, cfr_tree.information_sets.values(), [])\n",
    "    all_leaves = list(filter(lambda n: n.isLeaf(), reduce(lambda x, y: x + y.children, all_nodes, [])))\n",
    "    all_nodes = all_nodes + all_leaves\n",
    "    \n",
    "    count = 0\n",
    "\n",
    "    for p in range(cfr_tree.numOfPlayers):\n",
    "        Q_raw = list(filter(lambda q: q != {}, map(lambda n: n.base_node.getSequence(p), all_nodes)))\n",
    "        Q = [{}] + [dict(t) for t in {tuple(d.items()) for d in Q_raw}]\n",
    "        count += len(Q)\n",
    "        \n",
    "    return count\n",
    "\n",
    "def count_infosets(cfr_tree):\n",
    "    return len(cfr_tree.information_sets)\n",
    "\n",
    "def get_size_data(par):\n",
    "    if 'infoset_amount' in par:\n",
    "        return (par['infoset_amount'], -1)\n",
    "    \n",
    "    name = parameters_to_string(par)\n",
    "    if name not in size_data:\n",
    "        if par['game'] == 'kuhn':\n",
    "            cfr_tree = CFRTree(build_kuhn_tree(par['players'], par['rank']))\n",
    "        elif par['game'] == 'leduc':\n",
    "            cfr_tree = CFRTree(build_leduc_tree(par['players'], par['suits'], par['rank'], \n",
    "                                                par['betting_parameters']))\n",
    "        elif par['game'] == 'goofspiel':\n",
    "            # Tie solver is not needed to determine the size of the game\n",
    "            cfr_tree = CFRTree(build_goofspiel_tree(par['players'], par['rank']))\n",
    "        size_data[name] = (count_infosets(cfr_tree), count_sequences(cfr_tree))\n",
    "        \n",
    "    return size_data[name]"
   ]
  },
  {
   "cell_type": "code",
   "execution_count": 21,
   "metadata": {},
   "outputs": [],
   "source": [
    "from IPython.display import HTML, display\n",
    "import tabulate"
   ]
  },
  {
   "cell_type": "code",
   "execution_count": 22,
   "metadata": {},
   "outputs": [
    {
     "name": "stdout",
     "output_type": "stream",
     "text": [
      "random_3_12_2 done\n",
      "random_3_12_2_ done\n",
      "random_3_12_2__ done\n",
      "random_3_12_2___ done\n",
      "random_3_12_2____ done\n",
      "random_3_12_2_____ done\n",
      "random_3_12_2______ done\n",
      "random_3_12_2_______ done\n",
      "random_3_12_2________ done\n",
      "random_3_12_2_________ done\n",
      "random_3_12_2__________ done\n",
      "random_3_12_2___________ done\n",
      "random_3_12_2____________ done\n",
      "random_3_12_2_____________ done\n",
      "random_3_12_2______________ done\n",
      "random_3_12_2_______________ done\n",
      "random_3_12_2________________ done\n",
      "random_3_12_2_________________ done\n",
      "random_3_12_2__________________ done\n",
      "random_3_12_2___________________ done\n",
      "random_3_12_2_average done\n",
      "random_3_15_2 done\n",
      "random_3_15_2_ done\n",
      "random_3_15_2__ done\n",
      "random_3_15_2___ done\n",
      "random_3_15_2____ done\n",
      "random_3_15_2_____ done\n",
      "random_3_15_2______ done\n",
      "random_3_15_2_______ done\n",
      "random_3_15_2________ done\n",
      "random_3_15_2_________ done\n",
      "random_3_15_2_average done\n"
     ]
    }
   ],
   "source": [
    "table_text = [['Game', 'Inf.', 'Delta'] + (list(map(lambda el: str(el) + '%', target_epsilons))) + ['social welfare']]\n",
    "for (game, data) in sorted(data_per_instance.items()):\n",
    "    \n",
    "    #if 'average' not in game:\n",
    "    #    continue\n",
    "    \n",
    "    par = data['parameters']\n",
    "    \n",
    "    if 'avg_infoset_count' in data:\n",
    "        size = (data['avg_infoset_count'], -1)\n",
    "    size = get_size_data(par)\n",
    "    \n",
    "    line_text = [game, size[0]]\n",
    "    line_text.append(delta_utility(par['game'], par['players'], par['rank'], par['betting_parameters']))\n",
    "    #line_text += list(map(lambda t: 'n/a' if t == -1 else str(t), data['time_to_target']))\n",
    "    \n",
    "    for (i, t) in enumerate(data['time_to_target']):\n",
    "        if t == -1:\n",
    "            line_text.append('n/a')\n",
    "            continue\n",
    "        \n",
    "        s = str(round(t, 2))\n",
    "        if 'time_to_target_variance' in data:\n",
    "            s += \" (+- \" + str(round(data['time_to_target_confidence'][i], 2)) + \")\"\n",
    "        line_text.append(s)\n",
    "        \n",
    "    if 'avg_sw' in data:\n",
    "        line_text.append(str(data['avg_sw']) + \"%\")\n",
    "    else:\n",
    "        line_text.append(str(data['percent_sw']) + \"%\")\n",
    "    \n",
    "    table_text.append(line_text)\n",
    "    \n",
    "    print(game + \" done\")"
   ]
  },
  {
   "cell_type": "code",
   "execution_count": 14,
   "metadata": {},
   "outputs": [
    {
     "data": {
      "text/html": [
       "<table>\n",
       "<tbody>\n",
       "<tr><td>Game                            </td><td>Inf. </td><td>Delta</td><td>0.1%              </td><td>0.05%             </td><td>0.01%             </td><td>0.005%             </td><td>0.001%              </td><td>0.0005%             </td><td>social welfare    </td></tr>\n",
       "<tr><td>random_3_12_2                   </td><td>3052 </td><td>1    </td><td>6.38              </td><td>8.85              </td><td>43.94             </td><td>87.11              </td><td>418.77              </td><td>840.98              </td><td>88.58424001060511%</td></tr>\n",
       "<tr><td>random_3_12_2_                  </td><td>3094 </td><td>1    </td><td>6.77              </td><td>13.36             </td><td>63.52             </td><td>124.6              </td><td>611.93              </td><td>1220.96             </td><td>94.06081709152431%</td></tr>\n",
       "<tr><td>random_3_12_2__                 </td><td>3077 </td><td>1    </td><td>2.71              </td><td>2.71              </td><td>7.47              </td><td>10.63              </td><td>13.55               </td><td>13.55               </td><td>89.91230036524584%</td></tr>\n",
       "<tr><td>random_3_12_2___                </td><td>3061 </td><td>1    </td><td>9.99              </td><td>31.82             </td><td>212.84            </td><td>419.12             </td><td>2418.98             </td><td>n/a                 </td><td>89.93532474974793%</td></tr>\n",
       "<tr><td>random_3_12_2____               </td><td>3107 </td><td>1    </td><td>1.69              </td><td>1.69              </td><td>5.19              </td><td>8.75               </td><td>55.32               </td><td>118.43              </td><td>96.8861222410312% </td></tr>\n",
       "<tr><td>random_3_12_2_____              </td><td>3029 </td><td>1    </td><td>8.64              </td><td>15.24             </td><td>54.99             </td><td>109.22             </td><td>533.84              </td><td>1072.23             </td><td>89.88586461271991%</td></tr>\n",
       "<tr><td>random_3_12_2______             </td><td>3131 </td><td>1    </td><td>1.65              </td><td>1.65              </td><td>5.16              </td><td>5.16               </td><td>5.16                </td><td>5.16                </td><td>96.39191550067805%</td></tr>\n",
       "<tr><td>random_3_12_2_______            </td><td>3065 </td><td>1    </td><td>21.79             </td><td>30.25             </td><td>113.06            </td><td>224.01             </td><td>1075.52             </td><td>2130.71             </td><td>86.80265038856473%</td></tr>\n",
       "<tr><td>random_3_12_2________           </td><td>3078 </td><td>1    </td><td>2.48              </td><td>2.48              </td><td>54.02             </td><td>110.34             </td><td>610.92              </td><td>1227.38             </td><td>75.36794213547218%</td></tr>\n",
       "<tr><td>random_3_12_2_________          </td><td>3038 </td><td>1    </td><td>7.39              </td><td>40.58             </td><td>206.87            </td><td>414.59             </td><td>2067.73             </td><td>n/a                 </td><td>86.96478994034246%</td></tr>\n",
       "<tr><td>random_3_12_2__________         </td><td>3057 </td><td>1    </td><td>10.06             </td><td>12.4              </td><td>55.22             </td><td>110.88             </td><td>555.07              </td><td>1108.15             </td><td>89.98358521959813%</td></tr>\n",
       "<tr><td>random_3_12_2___________        </td><td>3077 </td><td>1    </td><td>16.79             </td><td>31.51             </td><td>135.84            </td><td>269.12             </td><td>1339.3              </td><td>2667.75             </td><td>88.04121986174205%</td></tr>\n",
       "<tr><td>random_3_12_2____________       </td><td>3100 </td><td>1    </td><td>6.61              </td><td>13.14             </td><td>90.06             </td><td>190.62             </td><td>1008.53             </td><td>2019.18             </td><td>93.7487327070413% </td></tr>\n",
       "<tr><td>random_3_12_2_____________      </td><td>3079 </td><td>1    </td><td>7.14              </td><td>39.32             </td><td>219.58            </td><td>448.27             </td><td>2209.99             </td><td>n/a                 </td><td>91.67837042672082%</td></tr>\n",
       "<tr><td>random_3_12_2______________     </td><td>3051 </td><td>1    </td><td>5.83              </td><td>13.05             </td><td>78.1              </td><td>257.82             </td><td>1359.02             </td><td>2819.62             </td><td>87.65408442769247%</td></tr>\n",
       "<tr><td>random_3_12_2_______________    </td><td>3048 </td><td>1    </td><td>1.85              </td><td>5.08              </td><td>23.65             </td><td>47.59              </td><td>254.36              </td><td>525.34              </td><td>87.25559538346165%</td></tr>\n",
       "<tr><td>random_3_12_2________________   </td><td>3049 </td><td>1    </td><td>17.38             </td><td>33.15             </td><td>151.6             </td><td>305.94             </td><td>1520.02             </td><td>3027.52             </td><td>97.37444461302044%</td></tr>\n",
       "<tr><td>random_3_12_2_________________  </td><td>3066 </td><td>1    </td><td>12.97             </td><td>25.31             </td><td>177.12            </td><td>369.26             </td><td>1935.0              </td><td>n/a                 </td><td>93.426596997633%  </td></tr>\n",
       "<tr><td>random_3_12_2__________________ </td><td>3042 </td><td>1    </td><td>2.5               </td><td>14.28             </td><td>28.37             </td><td>43.89              </td><td>219.13              </td><td>443.52              </td><td>90.17827204761392%</td></tr>\n",
       "<tr><td>random_3_12_2___________________</td><td>3020 </td><td>1    </td><td>2.86              </td><td>2.86              </td><td>216.06            </td><td>441.65             </td><td>2212.7              </td><td>3908.16             </td><td>80.41753690407958%</td></tr>\n",
       "<tr><td>random_3_12_2_average           </td><td>3052 </td><td>1    </td><td>7.67 (+- 2.53)    </td><td>16.94 (+- 5.83)   </td><td>97.13 (+- 33.43)  </td><td>199.93 (+- 68.45)  </td><td>1021.24 (+- 356.19) </td><td>1446.79 (+- 582.55) </td><td>89.72752028122675%</td></tr>\n",
       "<tr><td>random_3_15_2                   </td><td>24593</td><td>1    </td><td>90.65             </td><td>90.65             </td><td>90.65             </td><td>90.65              </td><td>1022.85             </td><td>1022.85             </td><td>92.74364420232828%</td></tr>\n",
       "<tr><td>random_3_15_2_                  </td><td>24597</td><td>1    </td><td>164.22            </td><td>300.56            </td><td>428.7             </td><td>825.81             </td><td>7544.63             </td><td>13612.92            </td><td>90.36152357576714%</td></tr>\n",
       "<tr><td>random_3_15_2__                 </td><td>24698</td><td>1    </td><td>130.72            </td><td>130.72            </td><td>130.72            </td><td>130.72             </td><td>130.72              </td><td>130.72              </td><td>96.48767661017345%</td></tr>\n",
       "<tr><td>random_3_15_2___                </td><td>24718</td><td>1    </td><td>1220.4            </td><td>1220.4            </td><td>3595.0            </td><td>6082.77            </td><td>14581.95            </td><td>21492.68            </td><td>94.4103451333346% </td></tr>\n",
       "<tr><td>random_3_15_2____               </td><td>24577</td><td>1    </td><td>102.33            </td><td>102.33            </td><td>102.33            </td><td>102.33             </td><td>102.33              </td><td>102.33              </td><td>92.93297060653563%</td></tr>\n",
       "<tr><td>random_3_15_2_____              </td><td>24576</td><td>1    </td><td>127.25            </td><td>127.25            </td><td>127.25            </td><td>127.25             </td><td>127.25              </td><td>127.25              </td><td>94.45955913947829%</td></tr>\n",
       "<tr><td>random_3_15_2______             </td><td>24506</td><td>1    </td><td>99.69             </td><td>99.69             </td><td>99.69             </td><td>99.69              </td><td>99.69               </td><td>99.69               </td><td>91.78408488392425%</td></tr>\n",
       "<tr><td>random_3_15_2_______            </td><td>24590</td><td>1    </td><td>134.37            </td><td>134.37            </td><td>134.37            </td><td>134.37             </td><td>134.37              </td><td>134.37              </td><td>92.48578760753699%</td></tr>\n",
       "<tr><td>random_3_15_2________           </td><td>24585</td><td>1    </td><td>108.34            </td><td>108.34            </td><td>222.69            </td><td>222.69             </td><td>222.69              </td><td>222.69              </td><td>93.27129967418966%</td></tr>\n",
       "<tr><td>random_3_15_2_________          </td><td>24562</td><td>1    </td><td>109.85            </td><td>109.85            </td><td>109.85            </td><td>109.85             </td><td>109.85              </td><td>109.85              </td><td>97.33654966440724%</td></tr>\n",
       "<tr><td>random_3_15_2_average           </td><td>24593</td><td>1    </td><td>228.78 (+- 216.36)</td><td>242.42 (+- 216.27)</td><td>504.13 (+- 676.07)</td><td>792.61 (+- 1160.31)</td><td>2407.63 (+- 3013.61)</td><td>3705.54 (+- 4670.84)</td><td>93.62734410976756%</td></tr>\n",
       "</tbody>\n",
       "</table>"
      ],
      "text/plain": [
       "<IPython.core.display.HTML object>"
      ]
     },
     "metadata": {},
     "output_type": "display_data"
    }
   ],
   "source": [
    "display(HTML(tabulate.tabulate(table_text, tablefmt='html')))"
   ]
  },
  {
   "cell_type": "code",
   "execution_count": 23,
   "metadata": {
    "scrolled": false
   },
   "outputs": [
    {
     "data": {
      "text/html": [
       "<table>\n",
       "<tbody>\n",
       "<tr><td>Game                            </td><td>Inf. </td><td>Delta</td><td>0.1%            </td><td>0.05%             </td><td>0.01%               </td><td>0.005%               </td><td>0.001%                </td><td>0.0005%              </td><td>social welfare    </td></tr>\n",
       "<tr><td>random_3_12_2                   </td><td>3071 </td><td>1    </td><td>48.56           </td><td>117.42            </td><td>934.44              </td><td>2636.43              </td><td>49940.94              </td><td>n/a                  </td><td>91.74987395643136%</td></tr>\n",
       "<tr><td>random_3_12_2_                  </td><td>3057 </td><td>1    </td><td>55.98           </td><td>121.36            </td><td>966.3               </td><td>2930.84              </td><td>51944.78              </td><td>n/a                  </td><td>95.74843098546319%</td></tr>\n",
       "<tr><td>random_3_12_2__                 </td><td>3077 </td><td>1    </td><td>46.75           </td><td>98.64             </td><td>711.78              </td><td>2071.38              </td><td>53103.25              </td><td>n/a                  </td><td>94.78623025536996%</td></tr>\n",
       "<tr><td>random_3_12_2___                </td><td>3135 </td><td>1    </td><td>43.39           </td><td>92.87             </td><td>623.93              </td><td>1662.59              </td><td>28329.15              </td><td>n/a                  </td><td>92.561783020688%  </td></tr>\n",
       "<tr><td>random_3_12_2____               </td><td>3082 </td><td>1    </td><td>46.06           </td><td>103.55            </td><td>791.88              </td><td>2415.33              </td><td>2961.93               </td><td>2977.38              </td><td>95.95032379746428%</td></tr>\n",
       "<tr><td>random_3_12_2_____              </td><td>3112 </td><td>1    </td><td>40.44           </td><td>92.56             </td><td>789.25              </td><td>1416.43              </td><td>8600.05               </td><td>8660.25              </td><td>87.61833374982801%</td></tr>\n",
       "<tr><td>random_3_12_2______             </td><td>3103 </td><td>1    </td><td>37.12           </td><td>92.35             </td><td>527.1               </td><td>939.5                </td><td>9013.05               </td><td>33659.94             </td><td>85.9797253995934% </td></tr>\n",
       "<tr><td>random_3_12_2_______            </td><td>3026 </td><td>1    </td><td>45.27           </td><td>106.64            </td><td>802.67              </td><td>2221.13              </td><td>35498.54              </td><td>n/a                  </td><td>92.48645689951904%</td></tr>\n",
       "<tr><td>random_3_12_2________           </td><td>3035 </td><td>1    </td><td>66.16           </td><td>145.12            </td><td>575.5               </td><td>609.68               </td><td>5840.8                </td><td>10759.66             </td><td>86.28010057742817%</td></tr>\n",
       "<tr><td>random_3_12_2_________          </td><td>3100 </td><td>1    </td><td>37.38           </td><td>88.81             </td><td>806.54              </td><td>2996.15              </td><td>54889.76              </td><td>n/a                  </td><td>83.52358751032041%</td></tr>\n",
       "<tr><td>random_3_12_2__________         </td><td>3061 </td><td>1    </td><td>48.93           </td><td>138.63            </td><td>1290.98             </td><td>3780.44              </td><td>78162.42              </td><td>n/a                  </td><td>90.30443445158646%</td></tr>\n",
       "<tr><td>random_3_12_2___________        </td><td>3093 </td><td>1    </td><td>36.32           </td><td>77.8              </td><td>709.86              </td><td>1952.38              </td><td>45054.58              </td><td>n/a                  </td><td>87.66774100838252%</td></tr>\n",
       "<tr><td>random_3_12_2____________       </td><td>3078 </td><td>1    </td><td>49.98           </td><td>106.6             </td><td>779.47              </td><td>2237.45              </td><td>41159.02              </td><td>n/a                  </td><td>94.0017942619059% </td></tr>\n",
       "<tr><td>random_3_12_2_____________      </td><td>3082 </td><td>1    </td><td>29.96           </td><td>57.92             </td><td>989.37              </td><td>2986.83              </td><td>66404.62              </td><td>n/a                  </td><td>89.91539929751147%</td></tr>\n",
       "<tr><td>random_3_12_2______________     </td><td>3041 </td><td>1    </td><td>58.21           </td><td>101.13            </td><td>763.37              </td><td>2045.96              </td><td>31129.45              </td><td>n/a                  </td><td>92.44636936748103%</td></tr>\n",
       "<tr><td>random_3_12_2_______________    </td><td>3090 </td><td>1    </td><td>36.23           </td><td>121.88            </td><td>544.55              </td><td>586.9                </td><td>625.97                </td><td>632.77               </td><td>93.74420169442587%</td></tr>\n",
       "<tr><td>random_3_12_2________________   </td><td>3045 </td><td>1    </td><td>31.41           </td><td>78.92             </td><td>598.3               </td><td>1613.7               </td><td>27064.8               </td><td>n/a                  </td><td>91.74970268919519%</td></tr>\n",
       "<tr><td>random_3_12_2_________________  </td><td>3080 </td><td>1    </td><td>28.93           </td><td>88.06             </td><td>612.43              </td><td>1721.59              </td><td>26458.62              </td><td>n/a                  </td><td>88.10244528241088%</td></tr>\n",
       "<tr><td>random_3_12_2__________________ </td><td>3045 </td><td>1    </td><td>70.45           </td><td>160.02            </td><td>1317.03             </td><td>3824.68              </td><td>65851.83              </td><td>n/a                  </td><td>91.14793778938719%</td></tr>\n",
       "<tr><td>random_3_12_2___________________</td><td>3067 </td><td>1    </td><td>42.41           </td><td>91.32             </td><td>673.41              </td><td>2111.62              </td><td>48724.8               </td><td>n/a                  </td><td>87.94188082823227%</td></tr>\n",
       "<tr><td>random_3_12_2_average           </td><td>3071 </td><td>1    </td><td>45.0 (+- 4.95)  </td><td>104.08 (+- 10.71) </td><td>790.41 (+- 96.39)   </td><td>2138.05 (+- 394.46)  </td><td>36537.92 (+- 10024.92)</td><td>11338.0 (+- 11514.69)</td><td>90.68533764113121%</td></tr>\n",
       "<tr><td>random_3_15_2                   </td><td>24565</td><td>1    </td><td>489.43          </td><td>986.17            </td><td>4681.39             </td><td>9780.15              </td><td>n/a                   </td><td>n/a                  </td><td>90.58737042420923%</td></tr>\n",
       "<tr><td>random_3_15_2_                  </td><td>24633</td><td>1    </td><td>839.8           </td><td>1674.88           </td><td>13178.52            </td><td>n/a                  </td><td>n/a                   </td><td>n/a                  </td><td>92.0534035645297% </td></tr>\n",
       "<tr><td>random_3_15_2__                 </td><td>24562</td><td>1    </td><td>700.87          </td><td>1368.93           </td><td>5245.71             </td><td>11513.03             </td><td>n/a                   </td><td>n/a                  </td><td>89.62671802323877%</td></tr>\n",
       "<tr><td>random_3_15_2___                </td><td>24572</td><td>1    </td><td>342.74          </td><td>854.33            </td><td>5342.93             </td><td>11681.77             </td><td>n/a                   </td><td>n/a                  </td><td>93.845062034547%  </td></tr>\n",
       "<tr><td>random_3_15_2____               </td><td>24651</td><td>1    </td><td>747.28          </td><td>1528.17           </td><td>9247.34             </td><td>n/a                  </td><td>n/a                   </td><td>n/a                  </td><td>93.74071974945858%</td></tr>\n",
       "<tr><td>random_3_15_2_____              </td><td>24483</td><td>1    </td><td>741.71          </td><td>1537.65           </td><td>8780.79             </td><td>n/a                  </td><td>n/a                   </td><td>n/a                  </td><td>93.64807554556461%</td></tr>\n",
       "<tr><td>random_3_15_2______             </td><td>24594</td><td>1    </td><td>588.29          </td><td>1324.31           </td><td>7756.73             </td><td>17180.02             </td><td>n/a                   </td><td>n/a                  </td><td>90.65869517930726%</td></tr>\n",
       "<tr><td>random_3_15_2_______            </td><td>24463</td><td>1    </td><td>625.17          </td><td>1250.43           </td><td>7784.85             </td><td>n/a                  </td><td>n/a                   </td><td>n/a                  </td><td>91.91042061456683%</td></tr>\n",
       "<tr><td>random_3_15_2________           </td><td>24482</td><td>1    </td><td>593.37          </td><td>1203.56           </td><td>7054.94             </td><td>17017.74             </td><td>n/a                   </td><td>n/a                  </td><td>95.40190847274675%</td></tr>\n",
       "<tr><td>random_3_15_2_________          </td><td>24490</td><td>1    </td><td>494.37          </td><td>1255.54           </td><td>7278.17             </td><td>15241.73             </td><td>n/a                   </td><td>n/a                  </td><td>88.98456278999261%</td></tr>\n",
       "<tr><td>random_3_15_2_average           </td><td>24565</td><td>1    </td><td>616.3 (+- 91.74)</td><td>1298.4 (+- 155.33)</td><td>7635.14 (+- 1529.84)</td><td>13735.74 (+- 2522.96)</td><td>n/a                   </td><td>n/a                  </td><td>92.04569363981615%</td></tr>\n",
       "</tbody>\n",
       "</table>"
      ],
      "text/plain": [
       "<IPython.core.display.HTML object>"
      ]
     },
     "metadata": {},
     "output_type": "display_data"
    }
   ],
   "source": [
    "display(HTML(tabulate.tabulate(table_text, tablefmt='html')))"
   ]
  },
  {
   "cell_type": "markdown",
   "metadata": {},
   "source": [
    "### Random"
   ]
  },
  {
   "cell_type": "markdown",
   "metadata": {},
   "source": [
    "#### SCFR"
   ]
  },
  {
   "cell_type": "markdown",
   "metadata": {},
   "source": [
    "#### RCFR"
   ]
  },
  {
   "cell_type": "markdown",
   "metadata": {},
   "source": [
    "### Goofspiel 3_4 (NIPS)"
   ]
  },
  {
   "cell_type": "markdown",
   "metadata": {},
   "source": [
    "#### SCFR"
   ]
  },
  {
   "cell_type": "code",
   "execution_count": 74,
   "metadata": {},
   "outputs": [
    {
     "data": {
      "text/html": [
       "<table>\n",
       "<tbody>\n",
       "<tr><td>Game                                 </td><td>Inf. </td><td>Delta</td><td>0.1%             </td><td>0.05%              </td><td>0.01%                 </td><td>0.005%                </td><td>0.001%                </td><td>0.0005%              </td><td>social welfare    </td></tr>\n",
       "<tr><td>goofspiel_3_4_accumulate_average     </td><td>98508</td><td>10   </td><td>379.21 (+- 42.59)</td><td>5594.12 (+- 817.15)</td><td>n/a                   </td><td>n/a                   </td><td>n/a                   </td><td>n/a                  </td><td>99.57435229717778%</td></tr>\n",
       "<tr><td>goofspiel_3_4_discard_always_average </td><td>98508</td><td>10   </td><td>143.27 (+- 26.08)</td><td>1954.18 (+- 354.93)</td><td>37522.76 (+- 10272.88)</td><td>55957.82 (+- 15938.51)</td><td>52614.43 (+- 24261.21)</td><td>63019.44 (+- 25521.5)</td><td>69.23593545710295%</td></tr>\n",
       "<tr><td>goofspiel_3_4_discard_if_all_average </td><td>98508</td><td>10   </td><td>557.97 (+- 58.74)</td><td>4438.38 (+- 794.18)</td><td>61936.24 (+- -1)      </td><td>n/a                   </td><td>n/a                   </td><td>n/a                  </td><td>98.6611011166768% </td></tr>\n",
       "<tr><td>goofspiel_3_4_discard_if_high_average</td><td>98508</td><td>10   </td><td>324.32 (+- 49.05)</td><td>2853.78 (+- 279.12)</td><td>42709.87 (+- 8711.42) </td><td>70809.63 (+- 19972.36)</td><td>79885.63 (+- -1)      </td><td>n/a                  </td><td>88.65005547359092%</td></tr>\n",
       "</tbody>\n",
       "</table>"
      ],
      "text/plain": [
       "<IPython.core.display.HTML object>"
      ]
     },
     "metadata": {},
     "output_type": "display_data"
    }
   ],
   "source": [
    "display(HTML(tabulate.tabulate(table_text, tablefmt='html')))"
   ]
  },
  {
   "cell_type": "markdown",
   "metadata": {},
   "source": [
    "#### RCFR (temporary)"
   ]
  },
  {
   "cell_type": "code",
   "execution_count": 65,
   "metadata": {},
   "outputs": [
    {
     "data": {
      "text/html": [
       "<table>\n",
       "<tbody>\n",
       "<tr><td>Game                                 </td><td>Inf. </td><td>Delta</td><td>0.1%                 </td><td>0.05%                 </td><td>0.01%                 </td><td>0.005%                </td><td>0.001%                </td><td>0.0005%               </td><td>social welfare    </td></tr>\n",
       "<tr><td>goofspiel_3_4_accumulate_average     </td><td>48966</td><td>10   </td><td>3621.61 (+- 5306.55) </td><td>3798.92 (+- 5267.07)  </td><td>11007.57 (+- 17719.01)</td><td>15216.13 (+- 23511.25)</td><td>18263.62 (+- 31747.88)</td><td>2065.72 (+- -1)       </td><td>99.99999999999848%</td></tr>\n",
       "<tr><td>goofspiel_3_4_discard_always_average </td><td>48966</td><td>10   </td><td>835.17 (+- 657.87)   </td><td>4903.94 (+- 7994.93)  </td><td>5908.29 (+- 4031.5)   </td><td>18002.43 (+- 4579.89) </td><td>n/a                   </td><td>n/a                   </td><td>73.03009198004492%</td></tr>\n",
       "<tr><td>goofspiel_3_4_discard_if_all_average </td><td>48966</td><td>10   </td><td>5639.75 (+- 9945.78) </td><td>10891.7 (+- 19900.56) </td><td>3715.39 (+- 733.98)   </td><td>6625.16 (+- 2251.05)  </td><td>n/a                   </td><td>n/a                   </td><td>100.0%            </td></tr>\n",
       "<tr><td>goofspiel_3_4_discard_if_high_average</td><td>48966</td><td>10   </td><td>8832.55 (+- 15676.41)</td><td>17148.56 (+- 31659.68)</td><td>8498.78 (+- 11262.09) </td><td>14902.04 (+- 16386.67)</td><td>31848.43 (+- 11462.4) </td><td>55633.34 (+- 27736.58)</td><td>100.0%            </td></tr>\n",
       "</tbody>\n",
       "</table>"
      ],
      "text/plain": [
       "<IPython.core.display.HTML object>"
      ]
     },
     "metadata": {},
     "output_type": "display_data"
    }
   ],
   "source": [
    "display(HTML(tabulate.tabulate(table_text, tablefmt='html')))"
   ]
  },
  {
   "cell_type": "markdown",
   "metadata": {},
   "source": [
    "### Leduc (NIPS)"
   ]
  },
  {
   "cell_type": "markdown",
   "metadata": {},
   "source": [
    "#### SCFR"
   ]
  },
  {
   "cell_type": "code",
   "execution_count": 78,
   "metadata": {
    "scrolled": true
   },
   "outputs": [
    {
     "data": {
      "text/html": [
       "<table>\n",
       "<tbody>\n",
       "<tr><td>Game               </td><td>Inf.</td><td>Seq.</td><td>Delta</td><td>0.1%           </td><td>0.05%               </td><td>0.01%</td><td>0.005%</td><td>0.001%</td><td>0.0005%</td></tr>\n",
       "<tr><td>leduc_3_3_4_average</td><td>1200</td><td>2403</td><td>21   </td><td>4.0 (+- 2.3)   </td><td>633.25 (+- 154.35)  </td><td>n/a  </td><td>n/a   </td><td>n/a   </td><td>n/a    </td></tr>\n",
       "<tr><td>leduc_3_3_6_average</td><td>2664</td><td>5331</td><td>21   </td><td>21.54 (+- 9.72)</td><td>7514.08 (+- 202.58) </td><td>n/a  </td><td>n/a   </td><td>n/a   </td><td>n/a    </td></tr>\n",
       "<tr><td>leduc_3_3_8_average</td><td>4704</td><td>9411</td><td>21   </td><td>35.3 (+- 20.21)</td><td>50103.64 (+- 5373.3)</td><td>n/a  </td><td>n/a   </td><td>n/a   </td><td>n/a    </td></tr>\n",
       "</tbody>\n",
       "</table>"
      ],
      "text/plain": [
       "<IPython.core.display.HTML object>"
      ]
     },
     "metadata": {},
     "output_type": "display_data"
    }
   ],
   "source": [
    "display(HTML(tabulate.tabulate(table_text, tablefmt='html')))"
   ]
  },
  {
   "cell_type": "markdown",
   "metadata": {},
   "source": [
    "#### RCFR"
   ]
  },
  {
   "cell_type": "code",
   "execution_count": 35,
   "metadata": {},
   "outputs": [
    {
     "data": {
      "text/html": [
       "<table>\n",
       "<tbody>\n",
       "<tr><td>Game       </td><td>Inf.</td><td>Delta</td><td>0.1%  </td><td>0.05%  </td><td>0.01%   </td><td>0.005%  </td><td>0.001%</td><td>0.0005%</td><td>social welfare</td></tr>\n",
       "<tr><td>leduc_3_3_4</td><td>1200</td><td>21   </td><td>1.71  </td><td>75.83  </td><td>3717.32 </td><td>22244.01</td><td>n/a   </td><td>n/a    </td><td>0%            </td></tr>\n",
       "<tr><td>leduc_3_3_6</td><td>2664</td><td>21   </td><td>8.2   </td><td>160.21 </td><td>9314.02 </td><td>40771.38</td><td>n/a   </td><td>n/a    </td><td>0%            </td></tr>\n",
       "<tr><td>leduc_3_3_8</td><td>4704</td><td>21   </td><td>464.89</td><td>1222.42</td><td>63152.23</td><td>n/a     </td><td>n/a   </td><td>n/a    </td><td>0%            </td></tr>\n",
       "</tbody>\n",
       "</table>"
      ],
      "text/plain": [
       "<IPython.core.display.HTML object>"
      ]
     },
     "metadata": {},
     "output_type": "display_data"
    }
   ],
   "source": [
    "display(HTML(tabulate.tabulate(table_text, tablefmt='html')))"
   ]
  },
  {
   "cell_type": "markdown",
   "metadata": {},
   "source": [
    "### Kuhn (NIPS)"
   ]
  },
  {
   "cell_type": "markdown",
   "metadata": {},
   "source": [
    "#### SCFR"
   ]
  },
  {
   "cell_type": "code",
   "execution_count": 69,
   "metadata": {},
   "outputs": [
    {
     "data": {
      "text/html": [
       "<table>\n",
       "<tbody>\n",
       "<tr><td>Game             </td><td>Inf.</td><td>Seq.</td><td>Delta</td><td>0.1%          </td><td>0.05%          </td><td>0.01%                </td><td>0.005%                </td><td>0.001%</td><td>0.0005%</td></tr>\n",
       "<tr><td>kuhn_3_10_average</td><td>120 </td><td>243 </td><td>6    </td><td>1.89 (+- 0.66)</td><td>22.69 (+- 5.96)</td><td>40749.64 (+- 6292.85)</td><td>n/a                   </td><td>n/a   </td><td>n/a    </td></tr>\n",
       "<tr><td>kuhn_3_6_average </td><td>72  </td><td>147 </td><td>6    </td><td>0.22 (+- 0.06)</td><td>1.41 (+- 0.38) </td><td>1460.04 (+- 265.44)  </td><td>33334.91 (+- 7179.25) </td><td>n/a   </td><td>n/a    </td></tr>\n",
       "<tr><td>kuhn_3_7_average </td><td>84  </td><td>171 </td><td>6    </td><td>0.62 (+- 0.31)</td><td>4.22 (+- 1.36) </td><td>3825.62 (+- 1569.9)  </td><td>61871.17 (+- 21964.93)</td><td>n/a   </td><td>n/a    </td></tr>\n",
       "</tbody>\n",
       "</table>"
      ],
      "text/plain": [
       "<IPython.core.display.HTML object>"
      ]
     },
     "metadata": {},
     "output_type": "display_data"
    }
   ],
   "source": [
    "display(HTML(tabulate.tabulate(table_text, tablefmt='html')))"
   ]
  },
  {
   "cell_type": "markdown",
   "metadata": {},
   "source": [
    "#### RCFR"
   ]
  },
  {
   "cell_type": "code",
   "execution_count": 25,
   "metadata": {},
   "outputs": [
    {
     "data": {
      "text/html": [
       "<table>\n",
       "<tbody>\n",
       "<tr><td>Game             </td><td>Inf.</td><td>Delta</td><td>0.1%          </td><td>0.05%         </td><td>0.01%         </td><td>0.005%         </td><td>0.001%            </td><td>0.0005%             </td><td>social welfare</td></tr>\n",
       "<tr><td>kuhn_3_10_average</td><td>120 </td><td>6    </td><td>7.21 (+- 0.19)</td><td>7.21 (+- 0.19)</td><td>17.2 (+- 0.45)</td><td>72.78 (+- 1.56)</td><td>1901.22 (+- 20.62)</td><td>15086.15 (+- 187.72)</td><td>-1%           </td></tr>\n",
       "<tr><td>kuhn_3_6_average </td><td>72  </td><td>6    </td><td>1.03 (+- 0.03)</td><td>1.03 (+- 0.03)</td><td>4.55 (+- 0.1) </td><td>13.41 (+- 0.26)</td><td>67.86 (+- 0.77)   </td><td>681.55 (+- 10.16)   </td><td>-1%           </td></tr>\n",
       "<tr><td>kuhn_3_7_average </td><td>84  </td><td>6    </td><td>2.35 (+- 0.34)</td><td>2.35 (+- 0.34)</td><td>7.92 (+- 1.25)</td><td>14.33 (+- 2.4) </td><td>649.72 (+- 12.36) </td><td>3087.58 (+- 29.1)   </td><td>-1%           </td></tr>\n",
       "</tbody>\n",
       "</table>"
      ],
      "text/plain": [
       "<IPython.core.display.HTML object>"
      ]
     },
     "metadata": {},
     "output_type": "display_data"
    }
   ],
   "source": [
    "display(HTML(tabulate.tabulate(table_text, tablefmt='html')))"
   ]
  },
  {
   "cell_type": "markdown",
   "metadata": {},
   "source": [
    "### Table for number of iterations instead of running time"
   ]
  },
  {
   "cell_type": "code",
   "execution_count": 24,
   "metadata": {},
   "outputs": [],
   "source": [
    "table_text2 = [['Targets'] + (list(map(str, target_epsilons)))]\n",
    "for (game, data) in sorted(data_per_instance.items()):\n",
    "    line_text = [game] + list(map(lambda t: 'n/a' if t == -1 else str(t), data['iterations_to_target']))\n",
    "    table_text2.append(line_text)"
   ]
  },
  {
   "cell_type": "code",
   "execution_count": 25,
   "metadata": {},
   "outputs": [
    {
     "data": {
      "text/html": [
       "<table>\n",
       "<tbody>\n",
       "<tr><td>Targets             </td><td style=\"text-align: right;\">  0.1</td><td style=\"text-align: right;\">   0.05</td><td>0.01</td><td>0.005</td><td>0.001</td><td>0.0005</td></tr>\n",
       "<tr><td>leduc_3_3_4         </td><td style=\"text-align: right;\"> 50  </td><td style=\"text-align: right;\">1500   </td><td>n/a </td><td>n/a  </td><td>n/a  </td><td>n/a   </td></tr>\n",
       "<tr><td>leduc_3_3_4_        </td><td style=\"text-align: right;\"> 50  </td><td style=\"text-align: right;\">1400   </td><td>n/a </td><td>n/a  </td><td>n/a  </td><td>n/a   </td></tr>\n",
       "<tr><td>leduc_3_3_4__       </td><td style=\"text-align: right;\"> 50  </td><td style=\"text-align: right;\">1450   </td><td>n/a </td><td>n/a  </td><td>n/a  </td><td>n/a   </td></tr>\n",
       "<tr><td>leduc_3_3_4___      </td><td style=\"text-align: right;\"> 50  </td><td style=\"text-align: right;\">1400   </td><td>n/a </td><td>n/a  </td><td>n/a  </td><td>n/a   </td></tr>\n",
       "<tr><td>leduc_3_3_4____     </td><td style=\"text-align: right;\"> 50  </td><td style=\"text-align: right;\">1450   </td><td>n/a </td><td>n/a  </td><td>n/a  </td><td>n/a   </td></tr>\n",
       "<tr><td>leduc_3_3_4_____    </td><td style=\"text-align: right;\">100  </td><td style=\"text-align: right;\">1450   </td><td>n/a </td><td>n/a  </td><td>n/a  </td><td>n/a   </td></tr>\n",
       "<tr><td>leduc_3_3_4______   </td><td style=\"text-align: right;\"> 50  </td><td style=\"text-align: right;\">1400   </td><td>n/a </td><td>n/a  </td><td>n/a  </td><td>n/a   </td></tr>\n",
       "<tr><td>leduc_3_3_4_______  </td><td style=\"text-align: right;\">150  </td><td style=\"text-align: right;\">1800   </td><td>n/a </td><td>n/a  </td><td>n/a  </td><td>n/a   </td></tr>\n",
       "<tr><td>leduc_3_3_4________ </td><td style=\"text-align: right;\">150  </td><td style=\"text-align: right;\">1700   </td><td>n/a </td><td>n/a  </td><td>n/a  </td><td>n/a   </td></tr>\n",
       "<tr><td>leduc_3_3_4_________</td><td style=\"text-align: right;\">100  </td><td style=\"text-align: right;\">1300   </td><td>n/a </td><td>n/a  </td><td>n/a  </td><td>n/a   </td></tr>\n",
       "<tr><td>leduc_3_3_4_average </td><td style=\"text-align: right;\"> 80  </td><td style=\"text-align: right;\">1485   </td><td>n/a </td><td>n/a  </td><td>n/a  </td><td>n/a   </td></tr>\n",
       "<tr><td>leduc_3_3_6         </td><td style=\"text-align: right;\"> 50  </td><td style=\"text-align: right;\">2450   </td><td>n/a </td><td>n/a  </td><td>n/a  </td><td>n/a   </td></tr>\n",
       "<tr><td>leduc_3_3_6_        </td><td style=\"text-align: right;\">100  </td><td style=\"text-align: right;\">2450   </td><td>n/a </td><td>n/a  </td><td>n/a  </td><td>n/a   </td></tr>\n",
       "<tr><td>leduc_3_3_6__       </td><td style=\"text-align: right;\">150  </td><td style=\"text-align: right;\">2350   </td><td>n/a </td><td>n/a  </td><td>n/a  </td><td>n/a   </td></tr>\n",
       "<tr><td>leduc_3_3_6___      </td><td style=\"text-align: right;\"> 50  </td><td style=\"text-align: right;\">2400   </td><td>n/a </td><td>n/a  </td><td>n/a  </td><td>n/a   </td></tr>\n",
       "<tr><td>leduc_3_3_6____     </td><td style=\"text-align: right;\">100  </td><td style=\"text-align: right;\">2350   </td><td>n/a </td><td>n/a  </td><td>n/a  </td><td>n/a   </td></tr>\n",
       "<tr><td>leduc_3_3_6_____    </td><td style=\"text-align: right;\"> 50  </td><td style=\"text-align: right;\">2450   </td><td>n/a </td><td>n/a  </td><td>n/a  </td><td>n/a   </td></tr>\n",
       "<tr><td>leduc_3_3_6______   </td><td style=\"text-align: right;\"> 50  </td><td style=\"text-align: right;\">2400   </td><td>n/a </td><td>n/a  </td><td>n/a  </td><td>n/a   </td></tr>\n",
       "<tr><td>leduc_3_3_6_______  </td><td style=\"text-align: right;\">150  </td><td style=\"text-align: right;\">2350   </td><td>n/a </td><td>n/a  </td><td>n/a  </td><td>n/a   </td></tr>\n",
       "<tr><td>leduc_3_3_6________ </td><td style=\"text-align: right;\">100  </td><td style=\"text-align: right;\">2300   </td><td>n/a </td><td>n/a  </td><td>n/a  </td><td>n/a   </td></tr>\n",
       "<tr><td>leduc_3_3_6_________</td><td style=\"text-align: right;\">150  </td><td style=\"text-align: right;\">2450   </td><td>n/a </td><td>n/a  </td><td>n/a  </td><td>n/a   </td></tr>\n",
       "<tr><td>leduc_3_3_6_average </td><td style=\"text-align: right;\"> 95  </td><td style=\"text-align: right;\">2395   </td><td>n/a </td><td>n/a  </td><td>n/a  </td><td>n/a   </td></tr>\n",
       "<tr><td>leduc_3_3_8         </td><td style=\"text-align: right;\"> 50  </td><td style=\"text-align: right;\">3350   </td><td>n/a </td><td>n/a  </td><td>n/a  </td><td>n/a   </td></tr>\n",
       "<tr><td>leduc_3_3_8_        </td><td style=\"text-align: right;\"> 50  </td><td style=\"text-align: right;\">3500   </td><td>n/a </td><td>n/a  </td><td>n/a  </td><td>n/a   </td></tr>\n",
       "<tr><td>leduc_3_3_8__       </td><td style=\"text-align: right;\"> 50  </td><td style=\"text-align: right;\">3150   </td><td>n/a </td><td>n/a  </td><td>n/a  </td><td>n/a   </td></tr>\n",
       "<tr><td>leduc_3_3_8___      </td><td style=\"text-align: right;\"> 50  </td><td style=\"text-align: right;\">3800   </td><td>n/a </td><td>n/a  </td><td>n/a  </td><td>n/a   </td></tr>\n",
       "<tr><td>leduc_3_3_8____     </td><td style=\"text-align: right;\"> 50  </td><td style=\"text-align: right;\">3600   </td><td>n/a </td><td>n/a  </td><td>n/a  </td><td>n/a   </td></tr>\n",
       "<tr><td>leduc_3_3_8_____    </td><td style=\"text-align: right;\"> 50  </td><td style=\"text-align: right;\">3800   </td><td>n/a </td><td>n/a  </td><td>n/a  </td><td>n/a   </td></tr>\n",
       "<tr><td>leduc_3_3_8______   </td><td style=\"text-align: right;\"> 50  </td><td style=\"text-align: right;\">3600   </td><td>n/a </td><td>n/a  </td><td>n/a  </td><td>n/a   </td></tr>\n",
       "<tr><td>leduc_3_3_8_______  </td><td style=\"text-align: right;\">150  </td><td style=\"text-align: right;\">3100   </td><td>n/a </td><td>n/a  </td><td>n/a  </td><td>n/a   </td></tr>\n",
       "<tr><td>leduc_3_3_8________ </td><td style=\"text-align: right;\"> 50  </td><td style=\"text-align: right;\">3500   </td><td>n/a </td><td>n/a  </td><td>n/a  </td><td>n/a   </td></tr>\n",
       "<tr><td>leduc_3_3_8_________</td><td style=\"text-align: right;\"> 50  </td><td style=\"text-align: right;\">3050   </td><td>n/a </td><td>n/a  </td><td>n/a  </td><td>n/a   </td></tr>\n",
       "<tr><td>leduc_3_3_8_average </td><td style=\"text-align: right;\"> 60  </td><td style=\"text-align: right;\">3445   </td><td>n/a </td><td>n/a  </td><td>n/a  </td><td>n/a   </td></tr>\n",
       "</tbody>\n",
       "</table>"
      ],
      "text/plain": [
       "<IPython.core.display.HTML object>"
      ]
     },
     "metadata": {},
     "output_type": "display_data"
    }
   ],
   "source": [
    "display(HTML(tabulate.tabulate(table_text2, tablefmt='html')))"
   ]
  },
  {
   "cell_type": "markdown",
   "metadata": {},
   "source": [
    "## Time comparisons"
   ]
  },
  {
   "cell_type": "code",
   "execution_count": null,
   "metadata": {},
   "outputs": [],
   "source": [
    "def compare(files, xlims_time = None, xlims_iter = None, ylims = None, legend = None, title = 'Comparison'):\n",
    "    fig_time, ax_time = plt.subplots()\n",
    "    fig_iter, ax_iter = plt.subplots()\n",
    "    \n",
    "    for filename in files:\n",
    "        file = open(filename, \"r\")\n",
    "        data = json.load(file)\n",
    "        file.close()\n",
    "\n",
    "        print(\"File = \" + filename)\n",
    "        print(\"Game = \" + parameters_to_string(data['parameters']))\n",
    "\n",
    "        print(\"Total iterations = \" + str(data['parameters']['number_iterations']))\n",
    "        print(\"Check every iteration = \" + str(data['parameters']['check_every_iteration']))\n",
    "\n",
    "        durations = list(map(lambda el: el['duration'], data['data']))\n",
    "\n",
    "        du = delta_utility(data['parameters']['game'], data['parameters']['players'], data['parameters']['rank'],\n",
    "                   data['parameters']['betting_parameters'], data['parameters']['color_distribution'], \n",
    "                   data['parameters']['suits'])\n",
    "\n",
    "        iteration_counts = list(map(lambda el: el['iteration_number'], data['data']))\n",
    "        epsilons = list(map(lambda el: max(0, -min(el['epsilon'])), data['data']))\n",
    "        percent_epsilons = list(map(lambda el: el / du, epsilons))\n",
    "        cum_durations = [sum(durations[:i]) for i in range(len(durations))]\n",
    "        \n",
    "        ax_time.plot(cum_durations, percent_epsilons)\n",
    "        ax_iter.plot(iteration_counts, percent_epsilons)\n",
    "        \n",
    "    if legend == None:\n",
    "        legend = [\"Result \" + str(i+1) for i in range(len(files))]\n",
    "    ax_time.legend(legend)\n",
    "    ax_iter.legend(legend)\n",
    "    ax_time.set(xlabel = \"Time [s]\", ylabel = \"Epsilon [%]\")\n",
    "    ax_iter.set(xlabel = \"Iterations\", ylabel = \"Epsilon [%]\")\n",
    "    if ylims != None:\n",
    "        ax_time.set_ylim(ylims)\n",
    "        ax_iter.set_ylim(ylims)\n",
    "    if xlims_time != None:\n",
    "        ax_time.set_xlim(xlims_time)\n",
    "    if xlims_iter != None:\n",
    "        ax_iter.set_xlim(xlims_iter)\n",
    "    ax_time.set_title(title)\n",
    "    ax_iter.set_title(title)"
   ]
  },
  {
   "cell_type": "code",
   "execution_count": null,
   "metadata": {
    "scrolled": true
   },
   "outputs": [],
   "source": [
    "compare(['results/remote/RCFR/kuhn/1553957872_3_8', 'results/remote/kuhn_20190120/1547765102_3_8'],\n",
    "        xlims = (0, 15000), ylims = (0, 0.02), legend = ['RCFR', 'SCFR'], title = 'Kuhn 3_8')\n",
    "compare(['results/remote/RCFR/kuhn/1553957872_3_8', 'results/remote/kuhn_short_20190121/1548008650_3_8'],\n",
    "        xlims = (0, 15000), ylims = (0, 0.02), legend = ['RCFR', 'SCFR'], title = 'Kuhn 3_8')\n",
    "compare(['results/remote/RCFR/kuhn/1553957868_3_7', 'results/remote/kuhn_20190120/1547765096_3_7'],\n",
    "        xlims = (0, 7000), ylims = (0, 0.02), legend = ['RCFR', 'SCFR'], title = 'Kuhn 3_7')"
   ]
  },
  {
   "cell_type": "code",
   "execution_count": null,
   "metadata": {},
   "outputs": [],
   "source": [
    "compare(['results/remote/RCFR/kuhn/1553957883_3_10', 'results/remote/RCFR_notopt/kuhn/1554108461_3_10'],\n",
    "        xlims = (0, 10000), legend = ['RCFR', 'RCFR_nopt'], title = 'Kuhn 3_10')"
   ]
  },
  {
   "cell_type": "code",
   "execution_count": null,
   "metadata": {
    "scrolled": true
   },
   "outputs": [],
   "source": [
    "compare(['results/remote/RCFR/kuhn/1553957872_3_8', 'results/remote/RCFR_notopt/kuhn/1554108461_3_8',\n",
    "         'results/remote/kuhn_20190120/1547765102_3_8'],\n",
    "        xlims = (0, 5000), legend = ['RCFR', 'RCFR_nopt', 'SCFR'], title = 'Kuhn 3_8')\n",
    "compare(['results/remote/RCFR/kuhn/1553957872_3_8', 'results/remote/RCFR_notopt/kuhn/1554108461_3_8',\n",
    "         'results/remote/kuhn_20190120/1547765102_3_8'],\n",
    "        xlims = (0, 1000), ylims = (0, 0.05), legend = ['RCFR', 'RCFR_nopt', 'SCFR'], title = 'Kuhn 3_8')"
   ]
  },
  {
   "cell_type": "code",
   "execution_count": null,
   "metadata": {
    "scrolled": true
   },
   "outputs": [],
   "source": [
    "compare(['results/remote/RCFR_notopt/goofspiel/1554199851_3_4', \n",
    "         'results/remote/goofspiel_long_20180122/1548105218_3_4'], legend = [\"RCFR_nopt\", \"SCFR\"],\n",
    "         title = \"Goofspiel 3_4\")\n",
    "\n",
    "compare(['results/remote/RCFR_notopt/goofspiel/1554382206_3_4', \n",
    "         'results/remote/goofspiel_long_20180122/1548105218_3_4'], legend = [\"RCFR_nopt\", \"SCFR\"],\n",
    "         title = \"Goofspiel 3_4\")"
   ]
  },
  {
   "cell_type": "code",
   "execution_count": null,
   "metadata": {},
   "outputs": [],
   "source": [
    "compare(['results/remote/RCFR_notopt/hanabi/1554413019_2_2_[2_1]_1_1', \n",
    "         'results/remote/SCFR_hanabi/hanabi/1554461737_2_2_[2_1]_1_1'], legend = [\"RCFR_nopt\", \"SCFR\"],\n",
    "         title = \"Hanabi 2 colors [2, 1] distribution\")"
   ]
  },
  {
   "cell_type": "code",
   "execution_count": null,
   "metadata": {},
   "outputs": [],
   "source": [
    "compare(['results/remote/hanabi_tests/RCFR_nopt/hanabi/1554739324_3_1_[2_2_1]_1_1',\n",
    "         'results/remote/hanabi_tests/SCFR/hanabi/1554739324_3_1_[2_2_1]_1_1'], ylims = (0, 0.02), \n",
    "        legend = [\"RCFR\", \"SCFR\"])"
   ]
  },
  {
   "cell_type": "code",
   "execution_count": null,
   "metadata": {},
   "outputs": [],
   "source": [
    "compare(['results/remote/hanabi_tests/RCFR/hanabi/1554830690_2_1_[2_2_1]_1_1',\n",
    "         'results/remote/hanabi_tests/RCFR_nopt/hanabi/1554830690_2_1_[2_2_1]_1_1',\n",
    "         'results/remote/hanabi_tests/SCFR/hanabi/1554830690_2_1_[2_2_1]_1_1'], \n",
    "         legend = [\"RCFR\", \"RCFR_nopt\", \"SCFR\"], xlims = (0, 10000), ylims = (0, 0.05))"
   ]
  },
  {
   "cell_type": "code",
   "execution_count": null,
   "metadata": {},
   "outputs": [],
   "source": [
    "compare(['results/remote/hanabi_tests/SCFR/hanabi/1554741241_3_2_[2_1]_1_1',\n",
    "         'results/remote/hanabi_tests/RCFR_nopt/hanabi/1554741154_3_2_[2_1]_1_1'], \n",
    "         legend = [\"SCFR\", \"RCFR_nopt\"])"
   ]
  },
  {
   "cell_type": "code",
   "execution_count": null,
   "metadata": {},
   "outputs": [],
   "source": [
    "compare(['results/remote/hanabi_tests/RCFR_nopt/hanabi/1554831012_2_2_[2_1]_1_1',\n",
    "         'results/remote/hanabi_tests/SCFR/hanabi/1554831004_2_2_[2_1]_1_1'], ylims = (0, 0.2), \n",
    "        legend = [\"RCFR_nopt\", \"SCFR\"])"
   ]
  },
  {
   "cell_type": "markdown",
   "metadata": {},
   "source": [
    "---"
   ]
  },
  {
   "cell_type": "markdown",
   "metadata": {},
   "source": [
    "## SCFR/CFR/CFR+ comparisons"
   ]
  },
  {
   "cell_type": "code",
   "execution_count": null,
   "metadata": {},
   "outputs": [],
   "source": [
    "import numpy as np"
   ]
  },
  {
   "cell_type": "code",
   "execution_count": null,
   "metadata": {},
   "outputs": [],
   "source": [
    "def compare_algorithms(filename, filename_cfr, filename_cfr_plus, cumsum_durations = False):\n",
    "    file = open(filename, \"r\")\n",
    "    data = json.load(file)\n",
    "    file.close()\n",
    "\n",
    "    file_cfr = open(filename_cfr, \"r\")\n",
    "    data_cfr = json.load(file_cfr)\n",
    "    file_cfr.close()\n",
    "\n",
    "    file_cfr_plus = open(filename_cfr_plus, \"r\")\n",
    "    data_cfr_plus = json.load(file_cfr_plus)\n",
    "    file_cfr_plus.close()    \n",
    "\n",
    "    durations = list(map(lambda el: el['duration'], data['data']))\n",
    "    durations_cfr = list(map(lambda el: el['duration'], data_cfr['data']))\n",
    "    durations_cfr_plus = list(map(lambda el: el['duration'], data_cfr_plus['data']))\n",
    "\n",
    "    du = delta_utility(data['parameters']['game'], data['parameters']['players'], data['parameters']['rank'],\n",
    "                   data['parameters']['betting_parameters'])\n",
    "    du_cfr = delta_utility(data_cfr['parameters']['game'], data_cfr['parameters']['players'], \n",
    "                           data_cfr['parameters']['rank'], data_cfr['parameters']['betting_parameters'])\n",
    "    du_cfr_plus = delta_utility(data_cfr_plus['parameters']['game'], data_cfr_plus['parameters']['players'], \n",
    "                           data_cfr_plus['parameters']['rank'], data_cfr_plus['parameters']['betting_parameters'])\n",
    "\n",
    "    iteration_counts = list(map(lambda el: el['iteration_number'], data['data']))\n",
    "    epsilons = list(map(lambda el: max(0, -min(el['epsilon'])), data['data']))\n",
    "    percent_epsilons = list(map(lambda el: el / du, epsilons))\n",
    "    iteration_counts_cfr = list(map(lambda el: el['iteration_number'], data_cfr['data']))\n",
    "    epsilons_cfr = list(map(lambda el: max(0, -min(el['epsilon'])), data_cfr['data']))\n",
    "    percent_epsilons_cfr = list(map(lambda el: el / du_cfr, epsilons_cfr))\n",
    "    iteration_counts_cfr_plus = list(map(lambda el: el['iteration_number'], data_cfr_plus['data']))\n",
    "    epsilons_cfr_plus = list(map(lambda el: max(0, -min(el['epsilon'])), data_cfr_plus['data']))\n",
    "    percent_epsilons_cfr_plus = list(map(lambda el: el / du_cfr_plus, epsilons_cfr_plus))\n",
    "    utilities = list(map(lambda el: el['utility'], data['data']))\n",
    "    utilities_cfr = list(map(lambda el: el['utility'], data_cfr['data']))\n",
    "    utilities_cfr_plus = list(map(lambda el: el['utility'], data_cfr_plus['data']))\n",
    "\n",
    "    print(data['parameters'])\n",
    "    if 'total_duration' in data:\n",
    "        print(\"Duration = \" + str(data['total_duration']) + \" seconds\")\n",
    "        print(\"Utility = \" + str(data['utility']))\n",
    "        print(\"Social welfare = \" + str(sum(data['utility'])))\n",
    "        print(\"Max delta utility = \" + str(max(data['utility']) - min(data['utility'])))\n",
    "    else:\n",
    "        print(\"--- Computation was stopped before the end ---\")\n",
    "        print(\"Duration = \" + str(sum(durations)) + \" seconds\")\n",
    "        print(\"Last logged utility = \" + str(utilities[len(utilities)-1]))\n",
    "        print(\"Social welfare = \" + str(sum(utilities[len(utilities)-1])))\n",
    "        print(\"Max delta utility = \" + str(max(utilities[len(utilities)-1]) - min(utilities[len(utilities)-1])))\n",
    "    print('')\n",
    "    print(data_cfr['parameters'])\n",
    "    if 'total_duration' in data_cfr:\n",
    "        print(\"Duration = \" + str(data_cfr['total_duration']) + \" seconds\")\n",
    "        print(\"Utility = \" + str(data_cfr['utility']))\n",
    "        print(\"Social welfare = \" + str(sum(data_cfr['utility'])))\n",
    "        print(\"Max delta utility = \" + str(max(data_cfr['utility']) - min(data_cfr['utility'])))\n",
    "    else:\n",
    "        print(\"--- Computation was stopped before the end ---\")\n",
    "        print(\"Duration = \" + str(sum(durations_cfr)) + \" seconds\")\n",
    "        print(\"Last logged utility = \" + str(utilities_cfr[len(utilities_cfr)-1]))\n",
    "        print(\"Social welfare = \" + str(sum(utilities_cfr[len(utilities_cfr)-1])))\n",
    "        print(\"Max delta utility = \" + str(max(utilities_cfr[len(utilities_cfr)-1]) - \\\n",
    "                                           min(utilities_cfr[len(utilities_cfr)-1])))\n",
    "    print('')\n",
    "    print(data_cfr_plus['parameters'])\n",
    "    if 'total_duration' in data_cfr_plus:\n",
    "        print(\"Duration = \" + str(data_cfr_plus['total_duration']) + \" seconds\")\n",
    "        print(\"Utility = \" + str(data_cfr_plus['utility']))\n",
    "        print(\"Social welfare = \" + str(sum(data_cfr_plus['utility'])))\n",
    "        print(\"Max delta utility = \" + str(max(data_cfr_plus['utility']) - min(data_cfr_plus['utility'])))\n",
    "    else:\n",
    "        print(\"--- Computation was stopped before the end ---\")\n",
    "        print(\"Duration = \" + str(sum(durations_cfr_plus)) + \" seconds\")\n",
    "        print(\"Last logged utility = \" + str(utilities_cfr_plus[len(utilities_cfr_plus)-1]))\n",
    "        print(\"Social welfare = \" + str(sum(utilities_cfr_plus[len(utilities_cfr_plus)-1])))\n",
    "        print(\"Max delta utility = \" + str(max(utilities_cfr_plus[len(utilities_cfr_plus)-1]) - \\\n",
    "                                           min(utilities_cfr_plus[len(utilities_cfr_plus)-1])))\n",
    "    print('')\n",
    "\n",
    "    #plt.plot(iteration_counts, epsilons)\n",
    "    #plt.plot(iteration_counts_cfr, epsilons_cfr)\n",
    "    #plt.plot(iteration_counts_cfr_plus, epsilons_cfr_plus)\n",
    "    #plt.show()\n",
    "    \n",
    "    plt.plot(iteration_counts, percent_epsilons)\n",
    "    plt.plot(iteration_counts_cfr, percent_epsilons_cfr)\n",
    "    plt.plot(iteration_counts_cfr_plus, percent_epsilons_cfr_plus)\n",
    "    plt.legend(['scfr','cfr', 'cfr+'])\n",
    "    plt.show()\n",
    "    \n",
    "    plt.plot(np.cumsum(durations), percent_epsilons)\n",
    "    plt.plot(np.cumsum(durations_cfr) if cumsum_durations else durations_cfr, percent_epsilons_cfr)\n",
    "    plt.plot(np.cumsum(durations_cfr_plus) if cumsum_durations else durations_cfr_plus, percent_epsilons_cfr_plus)\n",
    "    plt.legend(['scfr','cfr', 'cfr+'])\n",
    "    plt.show()"
   ]
  },
  {
   "cell_type": "code",
   "execution_count": null,
   "metadata": {},
   "outputs": [],
   "source": [
    "compare_algorithms('results/remote/goofspiel_cfr_comparisons_20190122/goofspiel_3_4_scfr_accumulate',\n",
    "                   'results/remote/goofspiel_cfr_comparisons_20190122/goofspiel_3_4_cfr_accumulate',\n",
    "                   'results/remote/goofspiel_cfr_comparisons_20190122/goofspiel_3_4_cfr_plus_accumulate')"
   ]
  },
  {
   "cell_type": "code",
   "execution_count": null,
   "metadata": {},
   "outputs": [],
   "source": [
    "compare_algorithms('results/remote/goofspiel_cfr_comparisons_20190122/goofspiel_3_3_scfr_accumulate',\n",
    "                   'results/remote/goofspiel_cfr_comparisons_20190122/goofspiel_3_3_cfr_accumulate',\n",
    "                   'results/remote/goofspiel_cfr_comparisons_20190122/goofspiel_3_3_cfr_plus_accumulate',\n",
    "                   cumsum_durations = True)"
   ]
  },
  {
   "cell_type": "code",
   "execution_count": null,
   "metadata": {},
   "outputs": [],
   "source": [
    "compare_algorithms('results/remote/goofspiel_cfr_comparisons_20190122/goofspiel_3_3_scfr_discard_if_all',\n",
    "                   'results/remote/goofspiel_cfr_comparisons_20190122/goofspiel_3_3_cfr_discard_if_all', \n",
    "                   'results/remote/goofspiel_cfr_comparisons_20190122/goofspiel_3_3_cfr_plus_discard_if_all',\n",
    "                   cumsum_durations = True)"
   ]
  },
  {
   "cell_type": "code",
   "execution_count": null,
   "metadata": {},
   "outputs": [],
   "source": [
    "compare_algorithms('results/remote/goofspiel_cfr_comparisons_20190122/goofspiel_3_3_scfr_discard_if_high',\n",
    "                   'results/remote/goofspiel_cfr_comparisons_20190122/goofspiel_3_3_cfr_discard_if_high',\n",
    "                   'results/remote/goofspiel_cfr_comparisons_20190122/goofspiel_3_3_cfr_plus_discard_if_high',\n",
    "                   cumsum_durations = True)"
   ]
  },
  {
   "cell_type": "code",
   "execution_count": null,
   "metadata": {},
   "outputs": [],
   "source": [
    "compare_algorithms('results/remote/goofspiel_cfr_comparisons_20190122/goofspiel_3_3_scfr_discard_always',\n",
    "                   'results/remote/goofspiel_cfr_comparisons_20190122/goofspiel_3_3_cfr_discard_always',\n",
    "                   'results/remote/goofspiel_cfr_comparisons_20190122/goofspiel_3_3_cfr_plus_discard_always',\n",
    "                   cumsum_durations = True)"
   ]
  },
  {
   "cell_type": "code",
   "execution_count": null,
   "metadata": {},
   "outputs": [],
   "source": [
    "compare_algorithms('results/remote/goofspiel_long_20180122/1548105233_3_4',\n",
    "                   'results/remote/goofspiel_cfr_comparisons_20190122/goofspiel_3_4_cfr_discard_always_ALBO',\n",
    "                   'results/remote/goofspiel_cfr_comparisons_20190122/goofspiel_3_4_cfr_plus_discard_always_ALBO',\n",
    "                   cumsum_durations = True)"
   ]
  },
  {
   "cell_type": "code",
   "execution_count": null,
   "metadata": {},
   "outputs": [],
   "source": [
    "compare_algorithms('results/remote/goofspiel_long_20180122/1548105230_3_4',\n",
    "                   'results/remote/goofspiel_cfr_comparisons_20190122/goofspiel_3_4_cfr_discard_if_high_ALBO',\n",
    "                   'results/remote/goofspiel_cfr_comparisons_20190122/goofspiel_3_4_cfr_plus_discard_if_high_ALBO',\n",
    "                   cumsum_durations = True)"
   ]
  },
  {
   "cell_type": "code",
   "execution_count": null,
   "metadata": {},
   "outputs": [],
   "source": [
    "compare_algorithms('results/remote/goofspiel_long_20180122/1548105224_3_4',\n",
    "                   'results/remote/goofspiel_cfr_comparisons_20190122/goofspiel_3_4_cfr_discard_if_all_ALBO',\n",
    "                   'results/remote/goofspiel_cfr_comparisons_20190122/goofspiel_3_4_cfr_plus_discard_if_all_ALBO',\n",
    "                   cumsum_durations = True)"
   ]
  },
  {
   "cell_type": "markdown",
   "metadata": {},
   "source": [
    "## Data to CSV for tikz"
   ]
  },
  {
   "cell_type": "code",
   "execution_count": null,
   "metadata": {},
   "outputs": [],
   "source": [
    "f1 = open('results/remote/goofspiel_long_20180122/1548105233_3_4', 'r')\n",
    "f2 = open('results/remote/goofspiel_cfr_comparisons_20190122/goofspiel_3_4_cfr_discard_always_ALBO', 'r')\n",
    "f3 = open('results/remote/goofspiel_cfr_comparisons_20190122/goofspiel_3_4_cfr_plus_discard_always_ALBO', 'r')\n",
    "\n",
    "f4 = open('results/remote/goofspiel_cfr_comparisons_20190122/goofspiel_3_4_scfr_accumulate', 'r')\n",
    "f5 = open('results/remote/goofspiel_cfr_comparisons_20190122/goofspiel_3_4_cfr_accumulate', 'r')\n",
    "f6 = open('results/remote/goofspiel_cfr_comparisons_20190122/goofspiel_3_4_cfr_plus_accumulate', 'r')\n",
    "\n",
    "data1 = json.load(f1)\n",
    "data2 = json.load(f2)\n",
    "data3 = json.load(f3)\n",
    "\n",
    "data4 = json.load(f4)\n",
    "data5 = json.load(f5)\n",
    "data6 = json.load(f6)\n",
    "\n",
    "durations1 = list(map(lambda el: el['duration'], data1['data']))\n",
    "durations2 = list(map(lambda el: el['duration'], data2['data']))\n",
    "durations3 = list(map(lambda el: el['duration'], data3['data']))\n",
    "\n",
    "durations4 = list(map(lambda el: el['duration'], data4['data']))\n",
    "durations5 = list(map(lambda el: el['duration'], data5['data']))\n",
    "durations6 = list(map(lambda el: el['duration'], data6['data']))\n",
    "\n",
    "du = delta_utility('goofspiel', 3, 4)\n",
    "\n",
    "with open(\"cfr_comparison_3_4_discard_always_scfr.csv\", 'w') as o:\n",
    "    o.write('iteration, epsilon, t\\n')\n",
    "    \n",
    "    for i in range(len(data1['data'])):\n",
    "        d = data1['data'][i]\n",
    "        o.write(str(d['iteration_number']) + ', ' + str(-min(d['epsilon']) / du) + ', ' + \\\n",
    "                str(sum(durations1[:i+1])) + \"\\n\")\n",
    "        \n",
    "with open(\"cfr_comparison_3_4_discard_always_cfr.csv\", 'w') as o:\n",
    "    o.write('iteration, epsilon, t\\n')\n",
    "    \n",
    "    for i in range(len(data2['data'])):\n",
    "        d = data2['data'][i]\n",
    "        o.write(str(d['iteration_number']) + ', ' + str(-min(d['epsilon']) / du) + ', ' + \\\n",
    "                str(sum(durations2[:i+1])) + \"\\n\")\n",
    "        \n",
    "with open(\"cfr_comparison_3_4_discard_always_cfr_plus.csv\", 'w') as o:\n",
    "    o.write('iteration, epsilon, t\\n')\n",
    "    \n",
    "    for i in range(len(data3['data'])):\n",
    "        d = data3['data'][i]\n",
    "        o.write(str(d['iteration_number']) + ', ' + str(-min(d['epsilon']) / du) + ', ' + \\\n",
    "                str(sum(durations3[:i+1])) + \"\\n\")\n",
    "\n",
    "with open(\"cfr_comparison_3_4_accumulate.csv\", 'w') as o:\n",
    "    o.write('iteration, scfr, cfr, cfr+\\n')\n",
    "    \n",
    "    iterations = list(map(lambda el: el['iteration_number'], data4['data']))\n",
    "    epsilons4 = list(map(lambda el: -min(el['epsilon']) / du, data4['data']))\n",
    "    epsilons5 = list(map(lambda el: -min(el['epsilon']) / du, data5['data']))\n",
    "    epsilons6 = list(map(lambda el: -min(el['epsilon']) / du, data6['data']))\n",
    "    \n",
    "    for (it, s, c, cp) in zip(iterations, epsilons4, epsilons5, epsilons6):\n",
    "        o.write(str(it) + ', ' + str(s) + ', ' + str(c) + ', ' + str(cp) + '\\n')\n",
    "        \n",
    "f1.close()\n",
    "f2.close()\n",
    "f3.close()\n",
    "\n",
    "f4.close()\n",
    "f5.close()\n",
    "f6.close()"
   ]
  },
  {
   "cell_type": "code",
   "execution_count": null,
   "metadata": {},
   "outputs": [],
   "source": [
    "icml_data_folder  = \"../../../../Dropbox/Honours Programme/Shared Material/ICML-19/imgs/data/\""
   ]
  },
  {
   "cell_type": "code",
   "execution_count": null,
   "metadata": {},
   "outputs": [],
   "source": [
    "def print_csv(name1, name2, name3):\n",
    "    f1 = open(name1, 'r')\n",
    "    f2 = open(name2, 'r')\n",
    "    f3 = open(name3, 'r')\n",
    "\n",
    "    data1 = json.load(f1)\n",
    "    data2 = json.load(f2)\n",
    "    data3 = json.load(f3)\n",
    "\n",
    "    durations1 = list(map(lambda el: el['duration'], data1['data']))\n",
    "    durations2 = list(map(lambda el: el['duration'], data2['data']))\n",
    "    durations3 = list(map(lambda el: el['duration'], data3['data']))\n",
    "\n",
    "    du = delta_utility('goofspiel', 3, 4)\n",
    "\n",
    "    shortest_run = min(sum(durations1), sum(durations2), sum(durations3))\n",
    "    \n",
    "    ts = data1['parameters']['tie_solver']\n",
    "\n",
    "    with open(icml_data_folder + \"cfr_comparison_3_4_\" + ts + \"_scfr.csv\", 'w') as o:\n",
    "        o.write('iteration, epsilon, t\\n')\n",
    "\n",
    "        for i in range(len(data1['data'])):\n",
    "            if sum(durations1[:i+1]) > shortest_run:\n",
    "                break\n",
    "\n",
    "            d = data1['data'][i]\n",
    "            o.write(str(d['iteration_number']) + ', ' + str(-min(d['epsilon'] + [0]) / du) + ', ' + \\\n",
    "                    str(sum(durations1[:i+1])) + \"\\n\")\n",
    "\n",
    "    with open(icml_data_folder + \"cfr_comparison_3_4_\" + ts + \"_cfr.csv\", 'w') as o:\n",
    "        o.write('iteration, epsilon, t\\n')\n",
    "\n",
    "        for i in range(len(data2['data'])):\n",
    "            if sum(durations2[:i+1]) > shortest_run:\n",
    "                break\n",
    "\n",
    "            d = data2['data'][i]\n",
    "            o.write(str(d['iteration_number']) + ', ' + str(-min(d['epsilon'] + [0]) / du) + ', ' + \\\n",
    "                    str(sum(durations2[:i+1])) + \"\\n\")\n",
    "\n",
    "    with open(icml_data_folder + \"cfr_comparison_3_4_\" + ts + \"_cfr_plus.csv\", 'w') as o:\n",
    "        o.write('iteration, epsilon, t\\n')\n",
    "\n",
    "        for i in range(len(data3['data'])):\n",
    "            if sum(durations3[:i+1]) > shortest_run:\n",
    "                break\n",
    "\n",
    "            d = data3['data'][i]\n",
    "            o.write(str(d['iteration_number']) + ', ' + str(-min(d['epsilon'] + [0]) / du) + ', ' + \\\n",
    "                    str(sum(durations3[:i+1])) + \"\\n\")\n",
    "\n",
    "    f1.close()\n",
    "    f2.close()\n",
    "    f3.close()"
   ]
  },
  {
   "cell_type": "code",
   "execution_count": null,
   "metadata": {},
   "outputs": [],
   "source": [
    "print_csv('results/remote/goofspiel_long_20180122/1548105233_3_4',\n",
    "          'results/remote/goofspiel_cfr_comparisons_20190122/goofspiel_3_4_cfr_discard_always_ALBO',\n",
    "          'results/remote/goofspiel_cfr_comparisons_20190122/goofspiel_3_4_cfr_plus_discard_always_ALBO')"
   ]
  },
  {
   "cell_type": "code",
   "execution_count": null,
   "metadata": {},
   "outputs": [],
   "source": [
    "print_csv('results/remote/goofspiel_long_20180122/1548105230_3_4',\n",
    "                   'results/remote/goofspiel_cfr_comparisons_20190122/goofspiel_3_4_cfr_discard_if_high_ALBO',\n",
    "                   'results/remote/goofspiel_cfr_comparisons_20190122/goofspiel_3_4_cfr_plus_discard_if_high_ALBO')"
   ]
  },
  {
   "cell_type": "code",
   "execution_count": null,
   "metadata": {},
   "outputs": [],
   "source": [
    "print_csv('results/remote/goofspiel_long_20180122/1548105224_3_4',\n",
    "                   'results/remote/goofspiel_cfr_comparisons_20190122/goofspiel_3_4_cfr_discard_if_all_ALBO',\n",
    "                   'results/remote/goofspiel_cfr_comparisons_20190122/goofspiel_3_4_cfr_plus_discard_if_all_ALBO')"
   ]
  },
  {
   "cell_type": "code",
   "execution_count": null,
   "metadata": {},
   "outputs": [],
   "source": []
  }
 ],
 "metadata": {
  "kernelspec": {
   "display_name": "Python 3",
   "language": "python",
   "name": "python3"
  },
  "language_info": {
   "codemirror_mode": {
    "name": "ipython",
    "version": 3
   },
   "file_extension": ".py",
   "mimetype": "text/x-python",
   "name": "python",
   "nbconvert_exporter": "python",
   "pygments_lexer": "ipython3",
   "version": "3.5.2"
  }
 },
 "nbformat": 4,
 "nbformat_minor": 2
}
