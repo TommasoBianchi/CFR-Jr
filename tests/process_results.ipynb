{
 "cells": [
  {
   "cell_type": "code",
   "execution_count": 1,
   "metadata": {},
   "outputs": [
    {
     "name": "stdout",
     "output_type": "stream",
     "text": [
      "/home/tommy/Scrivania/Polimi/Honours Programme/SCFR\n"
     ]
    }
   ],
   "source": [
    "cd .."
   ]
  },
  {
   "cell_type": "code",
   "execution_count": 2,
   "metadata": {},
   "outputs": [],
   "source": [
    "from os import listdir, path\n",
    "import json\n",
    "import matplotlib.pyplot as plt\n",
    "\n",
    "from data_structures.cfr_trees import CFRTree\n",
    "from games.goofspiel import build_goofspiel_tree\n",
    "from games.kuhn import build_kuhn_tree\n",
    "from games.leduc import build_leduc_tree\n",
    "from functools import reduce\n",
    "import math"
   ]
  },
  {
   "cell_type": "code",
   "execution_count": 3,
   "metadata": {},
   "outputs": [],
   "source": [
    "def parameters_to_string(par):\n",
    "    if(par['game'] == 'kuhn'):\n",
    "        return 'kuhn_' + str(par['players']) + '_' + str(par['rank'])\n",
    "    if(par['game'] == 'leduc'):\n",
    "        return 'leduc_' + str(par['players']) + '_' + str(par['suits']) + '_' + str(par['rank'])\n",
    "    if(par['game'] == 'goofspiel'):\n",
    "        return 'goofspiel_' + str(par['players']) + '_' + str(par['rank']) + '_' + str(par['tie_solver'])\n",
    "    if(par['game'] == 'random'):\n",
    "        return 'random_' + str(par['players']) + '_' + str(par['depth']) + '_' + str(par['branching_factor'])\n",
    "    if(par['game'] == 'hanabi'):\n",
    "        return 'hanabi_' + str(par['players']) + '_' + str(par['suits']) + '_' + \\\n",
    "                str(par['color_distribution']).replace(' ','').replace(',','_') + '_' + \\\n",
    "                str(par['cards_per_player']) + '_' + str(par['starting_clue_tokens'])"
   ]
  },
  {
   "cell_type": "code",
   "execution_count": 4,
   "metadata": {},
   "outputs": [],
   "source": [
    "# TODO: check it, in particular for bigger versions of goofspiel\n",
    "# TODO: implement different goofspiel TieSolver\n",
    "\n",
    "def delta_utility(game, players, rank, betting_parameters = [2, 4], color_distribution = None, suits = 1):\n",
    "    if game == 'kuhn':\n",
    "        return 2 * players\n",
    "    if game == 'leduc':\n",
    "        return players + players * betting_parameters[0] + players * betting_parameters[1]\n",
    "    if game == 'goofspiel':\n",
    "        return sum(list(range(1, rank+1)))\n",
    "    if game == 'random':\n",
    "        return 1\n",
    "    if game == 'hanabi':\n",
    "        return (len(color_distribution) + 1) * suits"
   ]
  },
  {
   "cell_type": "code",
   "execution_count": 5,
   "metadata": {},
   "outputs": [],
   "source": [
    "def max_social_welfare(game, players, rank, betting_parameters = [2, 4], color_distribution = None, suits = 1):\n",
    "    if game == 'kuhn' or game == 'leduc':\n",
    "        return 0\n",
    "    if game == 'goofspiel':\n",
    "        return sum(list(range(1, rank+1)))\n",
    "    if game == 'random':\n",
    "        return players\n",
    "    if game == 'hanabi':\n",
    "        return (len(color_distribution)) * suits * players"
   ]
  },
  {
   "cell_type": "code",
   "execution_count": 37,
   "metadata": {},
   "outputs": [],
   "source": [
    "target_directory = \"results/remote/nips/SCFR/goofspiel/\""
   ]
  },
  {
   "cell_type": "code",
   "execution_count": 38,
   "metadata": {},
   "outputs": [],
   "source": [
    "file_names = listdir(target_directory)"
   ]
  },
  {
   "cell_type": "code",
   "execution_count": 39,
   "metadata": {},
   "outputs": [],
   "source": [
    "def analyze(name, target_epsilons, data_per_instance, print_graphs = False):\n",
    "    if path.isdir(target_directory + name):\n",
    "        return\n",
    "    \n",
    "    print(\"\\n---------------------\")\n",
    "    print(\"File = \" + name)\n",
    "    \n",
    "    file = open(target_directory + name, \"r\")\n",
    "    data = json.load(file)\n",
    "    \n",
    "    print(\"Game = \" + parameters_to_string(data['parameters']))\n",
    "    \n",
    "    print(\"Total iterations = \" + str(data['parameters']['number_iterations']))\n",
    "    print(\"Check every iteration = \" + str(data['parameters']['check_every_iteration']))\n",
    "    \n",
    "    # --------- SKIP 2 PLAYERS LEDUC AND GOOFSPIEL ---------\n",
    "    if data['parameters']['game'] in ['goofspiel', 'leduc'] and data['parameters']['players'] == 2:\n",
    "        print(\"---------------------------\")\n",
    "        print(\"Skipping 2 player versions\")\n",
    "        print(\"---------------------------\")\n",
    "        print(\"\")\n",
    "        return\n",
    "    # ------------------------------------------------------\n",
    "    \n",
    "    durations = list(map(lambda el: el['duration'], data['data']))\n",
    "    \n",
    "    target_datapoint_amount = int(data['parameters']['number_iterations']) / int(data['parameters']['check_every_iteration'])\n",
    "    run_time = sum(durations)\n",
    "    avg_time = run_time / len(durations)\n",
    "    print(\"Logged \" + str(len(data['data'])) + \" out of \" + str(target_datapoint_amount) + \" datapoints in \" + \\\n",
    "          str(run_time) + \" seconds (aka \" + str(run_time/3600) + \" hours)\")\n",
    "    print(\"Average duration of batch = \" + str(avg_time) + \" seconds (aka \" + str(avg_time/3600) + \" hours)\")\n",
    "\n",
    "    if 'total_duration' in data:\n",
    "        running_time = data['total_duration']\n",
    "        print(\"Solved in \" + str(running_time) + \" seconds\")\n",
    "        print(\"Solved in \" + str(running_time / 60) + \" minutes\")\n",
    "        print(\"Solved in \" + str(running_time / 3600) + \" hours\")\n",
    "        \n",
    "    if 'utility' in data:\n",
    "        u = data['utility']\n",
    "    elif 'utility' in data['data'][-1]:\n",
    "        u = data['data'][-1]['utility']\n",
    "    else:\n",
    "        u = [-1]\n",
    "        \n",
    "    if 'color_distribution' not in data['parameters']:\n",
    "        data['parameters']['color_distribution'] = []\n",
    "        \n",
    "    du = delta_utility(data['parameters']['game'], data['parameters']['players'], data['parameters']['rank'],\n",
    "                   data['parameters']['betting_parameters'], data['parameters']['color_distribution'], \n",
    "                   data['parameters']['suits'])\n",
    "        \n",
    "    sw = sum(u)\n",
    "    print(\"Final utility = \" + str(u))\n",
    "    print(\"Final epsilon = \" + str(-min(data['data'][-1]['epsilon']) / du) + \"%\")\n",
    "    print(\"Social welfare = \" + str(sw))\n",
    "    max_sw = max_social_welfare(data['parameters']['game'], data['parameters']['players'], \n",
    "                                data['parameters']['rank'], data['parameters']['betting_parameters'],\n",
    "                                data['parameters']['color_distribution'], data['parameters']['suits'])\n",
    "    if max_sw != 0:\n",
    "        print(\"Max social welfare = \" + str(max_sw) + \" (obtained \" + \\\n",
    "              str(sw / max_sw * 100) + \"%)\")\n",
    "\n",
    "    if 'total_duration' in data:\n",
    "        print(\"Average iterations per second = \" + str(data['average_iterations_per_second']))\n",
    "    else:\n",
    "        print(\"Average iterations per second = \" + str(data['parameters']['check_every_iteration'] / avg_time))\n",
    "\n",
    "    iteration_counts = list(map(lambda el: el['iteration_number'], data['data']))\n",
    "    epsilons = list(map(lambda el: max(0, -min(el['epsilon'])), data['data']))\n",
    "    percent_epsilons = list(map(lambda el: el / du, epsilons))\n",
    "    if 'utility' in data['data'][0]:\n",
    "        utilities = list(map(lambda el: sum(el['utility']), data['data']))\n",
    "    if max_sw != 0 and 'utility' in data['data'][0]:\n",
    "        percent_utilities = list(map(lambda el: el / max_sw, utilities))\n",
    "    #absolute_joint_sizes = list(map(lambda el: el['absolute_joint_size'], data['data']))\n",
    "    #relative_joint_sizes = list(map(lambda el: el['relative_joint_size'], data['data']))\n",
    "    #max_plan_frequencies = list(map(lambda el: el['max_plan_frequency'], data['data']))\n",
    "    #joint_support_sizes = list(map(lambda el: el['joint_support_size'], data['data']))\n",
    "    \n",
    "    if print_graphs:\n",
    "        plt.plot(iteration_counts, epsilons)\n",
    "        plt.title('Epsilons')\n",
    "        plt.show()\n",
    "        plt.plot(iteration_counts, percent_epsilons)\n",
    "        plt.title('Percent epsilons')\n",
    "        plt.show()\n",
    "        if max_sw != 0 and 'utility' in data['data'][0]:\n",
    "            plt.plot(iteration_counts, percent_utilities)\n",
    "            plt.title('Percent social welfare')\n",
    "            plt.show()\n",
    "    \n",
    "    time_to_target = []\n",
    "    iterations_to_target = []\n",
    "    \n",
    "    for t in target_epsilons:\n",
    "        indices_below_t = [i for i in range(len(epsilons)) if percent_epsilons[i] <= t]\n",
    "        if len(indices_below_t) > 0:\n",
    "            time_to_t = sum(durations[:indices_below_t[0]+1])\n",
    "            iterations_to_target.append((indices_below_t[0]+1) * int(data['parameters']['check_every_iteration']))\n",
    "        else:\n",
    "            time_to_t = -1\n",
    "            iterations_to_target.append(-1)\n",
    "        time_to_target.append(round(time_to_t, 5))\n",
    "    \n",
    "    s = parameters_to_string(data['parameters'])\n",
    "    \n",
    "    d = {'time_to_target': time_to_target,\n",
    "        'iterations_to_target': iterations_to_target,\n",
    "        'parameters': data['parameters']}\n",
    "    \n",
    "    if (s + '_average') not in data_per_instance:\n",
    "        data_per_instance[s + '_average'] = []\n",
    "    data_per_instance[s + '_average'].append(d)\n",
    "    \n",
    "    while s in data_per_instance:\n",
    "        s += '_'\n",
    "    data_per_instance[s] = d"
   ]
  },
  {
   "cell_type": "code",
   "execution_count": 40,
   "metadata": {
    "scrolled": true
   },
   "outputs": [
    {
     "name": "stdout",
     "output_type": "stream",
     "text": [
      "\n",
      "---------------------\n",
      "File = 1557828159_3_4_Accumulate\n",
      "Game = goofspiel_3_4_accumulate\n",
      "Total iterations = 50000\n",
      "Check every iteration = 50\n",
      "Logged 322 out of 1000.0 datapoints in 73647.70874762535 seconds (aka 20.457696874340375 hours)\n",
      "Average duration of batch = 228.71959238392967 seconds (aka 0.06353322010664712 hours)\n",
      "Final utility = [3.7857660455486393, 3.148571428571472, 3.023618012422415]\n",
      "Final epsilon = 0.020815217391299167%\n",
      "Social welfare = 9.957955486542527\n",
      "Max social welfare = 10 (obtained 99.57955486542527%)\n",
      "Average iterations per second = 0.21860829445721375\n",
      "\n",
      "---------------------\n",
      "File = 1557828157_3_4_Accumulate\n",
      "Game = goofspiel_3_4_accumulate\n",
      "Total iterations = 50000\n",
      "Check every iteration = 50\n",
      "Logged 374 out of 1000.0 datapoints in 77040.40728926659 seconds (aka 21.400113135907386 hours)\n",
      "Average duration of batch = 205.9903938215684 seconds (aka 0.057219553839324554 hours)\n",
      "Final utility = [3.3013480392149144, 3.2014015151507738, 3.4585071301238473]\n",
      "Final epsilon = 0.01886319073091349%\n",
      "Social welfare = 9.961256684489536\n",
      "Max social welfare = 10 (obtained 99.61256684489535%)\n",
      "Average iterations per second = 0.2427297655603817\n",
      "\n",
      "---------------------\n",
      "File = 1557828151_3_4_Accumulate\n",
      "Game = goofspiel_3_4_accumulate\n",
      "Total iterations = 50000\n",
      "Check every iteration = 50\n",
      "Logged 337 out of 1000.0 datapoints in 76862.276709795 seconds (aka 21.350632419387498 hours)\n",
      "Average duration of batch = 228.0779724326261 seconds (aka 0.06335499234239614 hours)\n",
      "Final utility = [3.373738872403575, 2.9773021760633056, 3.6076458951533255]\n",
      "Final epsilon = 0.022157022749752862%\n",
      "Social welfare = 9.958686943620206\n",
      "Max social welfare = 10 (obtained 99.58686943620206%)\n",
      "Average iterations per second = 0.21922327468414307\n",
      "\n",
      "---------------------\n",
      "File = 1557828245_3_4_Accumulate\n",
      "Game = goofspiel_3_4_accumulate\n",
      "Total iterations = 50000\n",
      "Check every iteration = 50\n",
      "Logged 387 out of 1000.0 datapoints in 76946.46305441856 seconds (aka 21.374017515116268 hours)\n",
      "Average duration of batch = 198.8280699080583 seconds (aka 0.05523001941890508 hours)\n",
      "Final utility = [3.5326851851851893, 3.1882751937984515, 3.2364125753661033]\n",
      "Final epsilon = 0.0180490956072362%\n",
      "Social welfare = 9.957372954349744\n",
      "Max social welfare = 10 (obtained 99.57372954349744%)\n",
      "Average iterations per second = 0.25147354708578573\n",
      "\n",
      "---------------------\n",
      "File = 1557828258_3_4_Accumulate\n",
      "Game = goofspiel_3_4_accumulate\n",
      "Total iterations = 50000\n",
      "Check every iteration = 50\n",
      "Logged 349 out of 1000.0 datapoints in 76932.71266102791 seconds (aka 21.37019796139664 hours)\n",
      "Average duration of batch = 220.43757209463584 seconds (aka 0.061232658915176624 hours)\n",
      "Final utility = [3.3200358166189443, 3.4817454632282923, 3.1540472779369684]\n",
      "Final epsilon = 0.016925262655203534%\n",
      "Social welfare = 9.955828557784205\n",
      "Max social welfare = 10 (obtained 99.55828557784206%)\n",
      "Average iterations per second = 0.2268215872861027\n",
      "\n",
      "---------------------\n",
      "File = 1557828231_3_4_Accumulate\n",
      "Game = goofspiel_3_4_accumulate\n",
      "Total iterations = 50000\n",
      "Check every iteration = 50\n",
      "Logged 350 out of 1000.0 datapoints in 77018.29768586159 seconds (aka 21.393971579405996 hours)\n",
      "Average duration of batch = 220.05227910246168 seconds (aka 0.06112563308401713 hours)\n",
      "Final utility = [3.397083333333357, 3.531938095238092, 3.031740476190471]\n",
      "Final epsilon = 0.017754047619047374%\n",
      "Social welfare = 9.96076190476192\n",
      "Max social welfare = 10 (obtained 99.6076190476192%)\n",
      "Average iterations per second = 0.22721873276631135\n",
      "\n",
      "---------------------\n",
      "File = 1557828155_3_4_Accumulate\n",
      "Game = goofspiel_3_4_accumulate\n",
      "Total iterations = 50000\n",
      "Check every iteration = 50\n",
      "Logged 331 out of 1000.0 datapoints in 75744.25385332108 seconds (aka 21.04007051481141 hours)\n",
      "Average duration of batch = 228.8346037864685 seconds (aka 0.06356516771846348 hours)\n",
      "Final utility = [3.2840936555891584, 3.1318353474320295, 3.5400251762337054]\n",
      "Final epsilon = 0.018660120845919524%\n",
      "Social welfare = 9.955954179254894\n",
      "Max social welfare = 10 (obtained 99.55954179254893%)\n",
      "Average iterations per second = 0.21849842275889486\n",
      "\n",
      "---------------------\n",
      "File = 1557828234_3_4_Accumulate\n",
      "Game = goofspiel_3_4_accumulate\n",
      "Total iterations = 50000\n",
      "Check every iteration = 50\n",
      "Logged 335 out of 1000.0 datapoints in 76604.74695920944 seconds (aka 21.27909637755818 hours)\n",
      "Average duration of batch = 228.67088644540132 seconds (aka 0.06351969067927815 hours)\n",
      "Final utility = [3.4721890547264125, 3.3666766169154467, 3.117651741293568]\n",
      "Final epsilon = 0.02006243781093984%\n",
      "Social welfare = 9.956517412935426\n",
      "Max social welfare = 10 (obtained 99.56517412935426%)\n",
      "Average iterations per second = 0.21865485710590563\n",
      "\n",
      "---------------------\n",
      "File = 1557828233_3_4_Accumulate\n",
      "Game = goofspiel_3_4_accumulate\n",
      "Total iterations = 50000\n",
      "Check every iteration = 50\n",
      "Logged 318 out of 1000.0 datapoints in 72534.16610050201 seconds (aka 20.148379472361672 hours)\n",
      "Average duration of batch = 228.0948619512642 seconds (aka 0.06335968387535117 hours)\n",
      "Final utility = [3.3255083857441954, 3.502434486373028, 3.1257311320755226]\n",
      "Final epsilon = 0.022778563941312502%\n",
      "Social welfare = 9.953674004192745\n",
      "Max social welfare = 10 (obtained 99.53674004192746%)\n",
      "Average iterations per second = 0.21920704207130817\n",
      "\n",
      "---------------------\n",
      "File = 1557828150_3_4_Accumulate\n",
      "Game = goofspiel_3_4_accumulate\n",
      "Total iterations = 50000\n",
      "Check every iteration = 50\n",
      "Logged 323 out of 1000.0 datapoints in 73051.51780247688 seconds (aka 20.2920882784658 hours)\n",
      "Average duration of batch = 226.1656897909501 seconds (aka 0.06282380271970836 hours)\n",
      "Final utility = [3.37044375644992, 3.123142414860656, 3.4627579979360164]\n",
      "Final epsilon = 0.01617724458204548%\n",
      "Social welfare = 9.956344169246591\n",
      "Max social welfare = 10 (obtained 99.56344169246591%)\n",
      "Average iterations per second = 0.22107685761804144\n"
     ]
    }
   ],
   "source": [
    "target_epsilons = [0.1, 0.05, 0.01, 0.005, 0.001, 0.0005]\n",
    "data_per_instance = {}\n",
    "\n",
    "for name in file_names:\n",
    "    analyze(name, target_epsilons, data_per_instance)\n",
    "    \n",
    "# Average if needed\n",
    "new_data_per_instance = {}\n",
    "for (s, data) in data_per_instance.items():\n",
    "    if type(data) != list:\n",
    "        new_data_per_instance[s] = data\n",
    "    elif len(data) > 1:\n",
    "        tot_time = [0 for _ in target_epsilons]\n",
    "        tot_it = [0 for _ in target_epsilons]\n",
    "        count = [0 for _ in target_epsilons]\n",
    "        for d in data:\n",
    "            for i in range(len(target_epsilons)):\n",
    "                if d['time_to_target'][i] > 0:\n",
    "                    tot_time[i] += d['time_to_target'][i]\n",
    "                    tot_it[i] += d['iterations_to_target'][i]\n",
    "                    count[i] += 1   \n",
    "        for i in range(len(target_epsilons)):\n",
    "            if count[i] > 0:\n",
    "                tot_time[i] /= count[i]\n",
    "                tot_it[i] /= count[i]\n",
    "            else:\n",
    "                tot_time[i] = -1\n",
    "                tot_it[i] = -1\n",
    "        # Compute vairance\n",
    "        variance = [-1 for _ in target_epsilons]\n",
    "        confidence = [-1 for _ in target_epsilons]\n",
    "        for i in range(len(target_epsilons)):\n",
    "            if count[i] > 1:\n",
    "                v = 0\n",
    "                for d in data:\n",
    "                    if d['time_to_target'][i] > 0:\n",
    "                        v += (d['time_to_target'][i] - tot_time[i]) ** 2\n",
    "                variance[i] = v / (count[i] - 1)\n",
    "                confidence[i] = 1.96 * math.sqrt(variance[i]) / math.sqrt(count[i])\n",
    "        new_data_per_instance[s] = {'time_to_target': tot_time,\n",
    "                                    'time_to_target_variance': variance,\n",
    "                                    'time_to_target_confidence': confidence,\n",
    "                                    'iterations_to_target': tot_it,\n",
    "                                    'parameters': data[0]['parameters']}\n",
    "    \n",
    "data_per_instance = new_data_per_instance"
   ]
  },
  {
   "cell_type": "code",
   "execution_count": 34,
   "metadata": {},
   "outputs": [],
   "source": [
    "size_data = {\n",
    "    'kuhn_3_6': (72, 147),\n",
    "    'kuhn_3_7': (84, 171),\n",
    "    'kuhn_3_8': (96, 195),\n",
    "    'kuhn_3_9': (108, 219),\n",
    "    'kuhn_3_10': (120, 243),\n",
    "    \n",
    "    'leduc_3_3_3': (684, 1371),\n",
    "    'leduc_3_3_4': (1200, 2403),\n",
    "    'leduc_3_3_5': (1860, 3723),\n",
    "    'leduc_3_3_6': (2664, 5331),\n",
    "    'leduc_3_3_7': (3612, 7227),\n",
    "    'leduc_3_3_8': (4704, 9411),\n",
    "    \n",
    "    'goofspiel_3_3_accumulate': (194, 396),\n",
    "    'goofspiel_3_3_discard_if_all': (194, 396),\n",
    "    'goofspiel_3_3_discard_if_high': (194, 396),\n",
    "    'goofspiel_3_3_discard_always': (194, 396),\n",
    "    'goofspiel_3_4_accumulate': (48966, 98523),\n",
    "    'goofspiel_3_4_discard_if_all': (48966, 98523),\n",
    "    'goofspiel_3_4_discard_if_high': (48966, 98523),\n",
    "    'goofspiel_3_4_discard_always': (48966, 98523),\n",
    "    \n",
    "    # Random sized are taken from specific dat files\n",
    "    'random_2_5_2': (24, 46),\n",
    "    'random_2_6_2': (52, 102),\n",
    "    'random_2_7_2': (94, 186),\n",
    "    'random_2_8_2': (186, 370),\n",
    "    'random_2_9_2': (383, 764),\n",
    "    'random_2_10_2': (776, 1550),\n",
    "    'random_3_5_2': (29, 55),\n",
    "    'random_3_6_2': (49, 95),\n",
    "    'random_3_7_2': (100, 197),\n",
    "    'random_3_8_2': (206, 409),\n",
    "    'random_3_9_2': (378, 753),\n",
    "    'random_3_10_2': (757, 1541),\n",
    "}"
   ]
  },
  {
   "cell_type": "code",
   "execution_count": 25,
   "metadata": {},
   "outputs": [],
   "source": [
    "def count_sequences(cfr_tree):\n",
    "    all_nodes = reduce(lambda x, y: x + y.nodes, cfr_tree.information_sets.values(), [])\n",
    "    all_leaves = list(filter(lambda n: n.isLeaf(), reduce(lambda x, y: x + y.children, all_nodes, [])))\n",
    "    all_nodes = all_nodes + all_leaves\n",
    "    \n",
    "    count = 0\n",
    "\n",
    "    for p in range(cfr_tree.numOfPlayers):\n",
    "        Q_raw = list(filter(lambda q: q != {}, map(lambda n: n.base_node.getSequence(p), all_nodes)))\n",
    "        Q = [{}] + [dict(t) for t in {tuple(d.items()) for d in Q_raw}]\n",
    "        count += len(Q)\n",
    "        \n",
    "    return count\n",
    "\n",
    "def count_infosets(cfr_tree):\n",
    "    return len(cfr_tree.information_sets)\n",
    "\n",
    "def get_size_data(par):\n",
    "    name = parameters_to_string(par)\n",
    "    if name not in size_data:\n",
    "        if par['game'] == 'kuhn':\n",
    "            cfr_tree = CFRTree(build_kuhn_tree(par['players'], par['rank']))\n",
    "        elif par['game'] == 'leduc':\n",
    "            cfr_tree = CFRTree(build_leduc_tree(par['players'], par['suits'], par['rank'], \n",
    "                                                par['betting_parameters']))\n",
    "        elif par['game'] == 'goofspiel':\n",
    "            # Tie solver is not needed to determine the size of the game\n",
    "            cfr_tree = CFRTree(build_goofspiel_tree(par['players'], par['rank']))\n",
    "        size_data[name] = (count_infosets(cfr_tree), count_sequences(cfr_tree))\n",
    "        \n",
    "    return size_data[name]"
   ]
  },
  {
   "cell_type": "code",
   "execution_count": 26,
   "metadata": {},
   "outputs": [],
   "source": [
    "from IPython.display import HTML, display\n",
    "import tabulate"
   ]
  },
  {
   "cell_type": "code",
   "execution_count": 27,
   "metadata": {},
   "outputs": [
    {
     "name": "stdout",
     "output_type": "stream",
     "text": [
      "goofspiel_3_2_discard_always done\n",
      "goofspiel_3_3_accumulate done\n",
      "goofspiel_3_3_discard_always done\n",
      "goofspiel_3_3_discard_if_all done\n",
      "goofspiel_3_3_discard_if_high done\n",
      "goofspiel_3_4_accumulate done\n",
      "goofspiel_3_4_discard_always done\n"
     ]
    }
   ],
   "source": [
    "table_text = [['Game', 'Inf.', 'Seq.', 'Delta'] + (list(map(lambda el: str(el) + '%', target_epsilons)))]\n",
    "for (game, data) in sorted(data_per_instance.items()):\n",
    "    \n",
    "    #if 'average' not in game:\n",
    "    #    continue\n",
    "    \n",
    "    par = data['parameters']\n",
    "    \n",
    "    size = get_size_data(par)\n",
    "    \n",
    "    line_text = [game, size[0], size[1]]\n",
    "    line_text.append(delta_utility(par['game'], par['players'], par['rank'], par['betting_parameters']))\n",
    "    #line_text += list(map(lambda t: 'n/a' if t == -1 else str(t), data['time_to_target']))\n",
    "    \n",
    "    for (i, t) in enumerate(data['time_to_target']):\n",
    "        if t == -1:\n",
    "            line_text.append('n/a')\n",
    "            continue\n",
    "        \n",
    "        s = str(round(t, 2))\n",
    "        if 'time_to_target_variance' in data:\n",
    "            s += \" (+- \" + str(round(data['time_to_target_confidence'][i], 2)) + \")\"\n",
    "        line_text.append(s)\n",
    "    \n",
    "    table_text.append(line_text)\n",
    "    \n",
    "    print(game + \" done\")"
   ]
  },
  {
   "cell_type": "code",
   "execution_count": 17,
   "metadata": {},
   "outputs": [
    {
     "data": {
      "text/html": [
       "<table>\n",
       "<tbody>\n",
       "<tr><td>Game                             </td><td>Inf. </td><td>Seq. </td><td>Delta</td><td>0.1%             </td><td>0.05%              </td><td>0.01%</td><td>0.005%</td><td>0.001%</td><td>0.0005%</td></tr>\n",
       "<tr><td>goofspiel_3_4_accumulate         </td><td>48966</td><td>98523</td><td>10   </td><td>406.45           </td><td>7000.79            </td><td>n/a  </td><td>n/a   </td><td>n/a   </td><td>n/a    </td></tr>\n",
       "<tr><td>goofspiel_3_4_accumulate_        </td><td>48966</td><td>98523</td><td>10   </td><td>301.02           </td><td>5553.81            </td><td>n/a  </td><td>n/a   </td><td>n/a   </td><td>n/a    </td></tr>\n",
       "<tr><td>goofspiel_3_4_accumulate__       </td><td>48966</td><td>98523</td><td>10   </td><td>537.75           </td><td>6688.8             </td><td>n/a  </td><td>n/a   </td><td>n/a   </td><td>n/a    </td></tr>\n",
       "<tr><td>goofspiel_3_4_accumulate___      </td><td>48966</td><td>98523</td><td>10   </td><td>373.74           </td><td>7964.11            </td><td>n/a  </td><td>n/a   </td><td>n/a   </td><td>n/a    </td></tr>\n",
       "<tr><td>goofspiel_3_4_accumulate____     </td><td>48966</td><td>98523</td><td>10   </td><td>404.62           </td><td>5686.9             </td><td>n/a  </td><td>n/a   </td><td>n/a   </td><td>n/a    </td></tr>\n",
       "<tr><td>goofspiel_3_4_accumulate_____    </td><td>48966</td><td>98523</td><td>10   </td><td>366.03           </td><td>4616.02            </td><td>n/a  </td><td>n/a   </td><td>n/a   </td><td>n/a    </td></tr>\n",
       "<tr><td>goofspiel_3_4_accumulate______   </td><td>48966</td><td>98523</td><td>10   </td><td>304.56           </td><td>5687.51            </td><td>n/a  </td><td>n/a   </td><td>n/a   </td><td>n/a    </td></tr>\n",
       "<tr><td>goofspiel_3_4_accumulate_______  </td><td>48966</td><td>98523</td><td>10   </td><td>321.74           </td><td>3847.22            </td><td>n/a  </td><td>n/a   </td><td>n/a   </td><td>n/a    </td></tr>\n",
       "<tr><td>goofspiel_3_4_accumulate________ </td><td>48966</td><td>98523</td><td>10   </td><td>405.67           </td><td>4135.57            </td><td>n/a  </td><td>n/a   </td><td>n/a   </td><td>n/a    </td></tr>\n",
       "<tr><td>goofspiel_3_4_accumulate_________</td><td>48966</td><td>98523</td><td>10   </td><td>370.56           </td><td>4760.48            </td><td>n/a  </td><td>n/a   </td><td>n/a   </td><td>n/a    </td></tr>\n",
       "<tr><td>goofspiel_3_4_accumulate_average </td><td>48966</td><td>98523</td><td>10   </td><td>379.21 (+- 42.59)</td><td>5594.12 (+- 817.15)</td><td>n/a  </td><td>n/a   </td><td>n/a   </td><td>n/a    </td></tr>\n",
       "</tbody>\n",
       "</table>"
      ],
      "text/plain": [
       "<IPython.core.display.HTML object>"
      ]
     },
     "metadata": {},
     "output_type": "display_data"
    }
   ],
   "source": [
    "display(HTML(tabulate.tabulate(table_text, tablefmt='html')))"
   ]
  },
  {
   "cell_type": "markdown",
   "metadata": {},
   "source": [
    "### Leduc (NIPS)"
   ]
  },
  {
   "cell_type": "code",
   "execution_count": 78,
   "metadata": {},
   "outputs": [
    {
     "data": {
      "text/html": [
       "<table>\n",
       "<tbody>\n",
       "<tr><td>Game               </td><td>Inf.</td><td>Seq.</td><td>Delta</td><td>0.1%           </td><td>0.05%               </td><td>0.01%</td><td>0.005%</td><td>0.001%</td><td>0.0005%</td></tr>\n",
       "<tr><td>leduc_3_3_4_average</td><td>1200</td><td>2403</td><td>21   </td><td>4.0 (+- 2.3)   </td><td>633.25 (+- 154.35)  </td><td>n/a  </td><td>n/a   </td><td>n/a   </td><td>n/a    </td></tr>\n",
       "<tr><td>leduc_3_3_6_average</td><td>2664</td><td>5331</td><td>21   </td><td>21.54 (+- 9.72)</td><td>7514.08 (+- 202.58) </td><td>n/a  </td><td>n/a   </td><td>n/a   </td><td>n/a    </td></tr>\n",
       "<tr><td>leduc_3_3_8_average</td><td>4704</td><td>9411</td><td>21   </td><td>35.3 (+- 20.21)</td><td>50103.64 (+- 5373.3)</td><td>n/a  </td><td>n/a   </td><td>n/a   </td><td>n/a    </td></tr>\n",
       "</tbody>\n",
       "</table>"
      ],
      "text/plain": [
       "<IPython.core.display.HTML object>"
      ]
     },
     "metadata": {},
     "output_type": "display_data"
    }
   ],
   "source": [
    "display(HTML(tabulate.tabulate(table_text, tablefmt='html')))"
   ]
  },
  {
   "cell_type": "markdown",
   "metadata": {},
   "source": [
    "### Kuhn (NIPS)"
   ]
  },
  {
   "cell_type": "code",
   "execution_count": 69,
   "metadata": {},
   "outputs": [
    {
     "data": {
      "text/html": [
       "<table>\n",
       "<tbody>\n",
       "<tr><td>Game             </td><td>Inf.</td><td>Seq.</td><td>Delta</td><td>0.1%          </td><td>0.05%          </td><td>0.01%                </td><td>0.005%                </td><td>0.001%</td><td>0.0005%</td></tr>\n",
       "<tr><td>kuhn_3_10_average</td><td>120 </td><td>243 </td><td>6    </td><td>1.89 (+- 0.66)</td><td>22.69 (+- 5.96)</td><td>40749.64 (+- 6292.85)</td><td>n/a                   </td><td>n/a   </td><td>n/a    </td></tr>\n",
       "<tr><td>kuhn_3_6_average </td><td>72  </td><td>147 </td><td>6    </td><td>0.22 (+- 0.06)</td><td>1.41 (+- 0.38) </td><td>1460.04 (+- 265.44)  </td><td>33334.91 (+- 7179.25) </td><td>n/a   </td><td>n/a    </td></tr>\n",
       "<tr><td>kuhn_3_7_average </td><td>84  </td><td>171 </td><td>6    </td><td>0.62 (+- 0.31)</td><td>4.22 (+- 1.36) </td><td>3825.62 (+- 1569.9)  </td><td>61871.17 (+- 21964.93)</td><td>n/a   </td><td>n/a    </td></tr>\n",
       "</tbody>\n",
       "</table>"
      ],
      "text/plain": [
       "<IPython.core.display.HTML object>"
      ]
     },
     "metadata": {},
     "output_type": "display_data"
    }
   ],
   "source": [
    "display(HTML(tabulate.tabulate(table_text, tablefmt='html')))"
   ]
  },
  {
   "cell_type": "markdown",
   "metadata": {},
   "source": [
    "### Table for number of iterations instead of running time"
   ]
  },
  {
   "cell_type": "code",
   "execution_count": 35,
   "metadata": {},
   "outputs": [],
   "source": [
    "table_text2 = [['Targets'] + (list(map(str, target_epsilons)))]\n",
    "for (game, data) in sorted(data_per_instance.items()):\n",
    "    line_text = [game] + list(map(lambda t: 'n/a' if t == -1 else str(t), data['iterations_to_target']))\n",
    "    table_text2.append(line_text)"
   ]
  },
  {
   "cell_type": "code",
   "execution_count": 36,
   "metadata": {},
   "outputs": [
    {
     "data": {
      "text/html": [
       "<table>\n",
       "<tbody>\n",
       "<tr><td>Targets                         </td><td style=\"text-align: right;\">   0.1</td><td style=\"text-align: right;\">   0.05</td><td>0.01   </td><td>0.005  </td><td>0.001  </td><td>0.0005</td></tr>\n",
       "<tr><td>goofspiel_3_4_accumulate        </td><td style=\"text-align: right;\"> 200  </td><td style=\"text-align: right;\">1300   </td><td>n/a    </td><td>n/a    </td><td>n/a    </td><td>n/a   </td></tr>\n",
       "<tr><td>goofspiel_3_4_accumulate_       </td><td style=\"text-align: right;\">1000  </td><td style=\"text-align: right;\">2000   </td><td>19000  </td><td>22000  </td><td>25000  </td><td>n/a   </td></tr>\n",
       "<tr><td>goofspiel_3_4_accumulate_average</td><td style=\"text-align: right;\"> 600  </td><td style=\"text-align: right;\">1650   </td><td>19000.0</td><td>22000.0</td><td>25000.0</td><td>n/a   </td></tr>\n",
       "<tr><td>goofspiel_3_4_discard_always    </td><td style=\"text-align: right;\"> 100  </td><td style=\"text-align: right;\"> 400   </td><td>7100   </td><td>8600   </td><td>n/a    </td><td>n/a   </td></tr>\n",
       "<tr><td>goofspiel_3_4_discard_if_all    </td><td style=\"text-align: right;\"> 200  </td><td style=\"text-align: right;\">1400   </td><td>n/a    </td><td>n/a    </td><td>n/a    </td><td>n/a   </td></tr>\n",
       "<tr><td>goofspiel_3_4_discard_if_high   </td><td style=\"text-align: right;\"> 100  </td><td style=\"text-align: right;\"> 600   </td><td>4400   </td><td>5900   </td><td>7200   </td><td>7300  </td></tr>\n",
       "</tbody>\n",
       "</table>"
      ],
      "text/plain": [
       "<IPython.core.display.HTML object>"
      ]
     },
     "metadata": {},
     "output_type": "display_data"
    }
   ],
   "source": [
    "display(HTML(tabulate.tabulate(table_text2, tablefmt='html')))"
   ]
  },
  {
   "cell_type": "markdown",
   "metadata": {},
   "source": [
    "## Time comparisons"
   ]
  },
  {
   "cell_type": "code",
   "execution_count": null,
   "metadata": {},
   "outputs": [],
   "source": [
    "def compare(files, xlims_time = None, xlims_iter = None, ylims = None, legend = None, title = 'Comparison'):\n",
    "    fig_time, ax_time = plt.subplots()\n",
    "    fig_iter, ax_iter = plt.subplots()\n",
    "    \n",
    "    for filename in files:\n",
    "        file = open(filename, \"r\")\n",
    "        data = json.load(file)\n",
    "        file.close()\n",
    "\n",
    "        print(\"File = \" + filename)\n",
    "        print(\"Game = \" + parameters_to_string(data['parameters']))\n",
    "\n",
    "        print(\"Total iterations = \" + str(data['parameters']['number_iterations']))\n",
    "        print(\"Check every iteration = \" + str(data['parameters']['check_every_iteration']))\n",
    "\n",
    "        durations = list(map(lambda el: el['duration'], data['data']))\n",
    "\n",
    "        du = delta_utility(data['parameters']['game'], data['parameters']['players'], data['parameters']['rank'],\n",
    "                   data['parameters']['betting_parameters'], data['parameters']['color_distribution'], \n",
    "                   data['parameters']['suits'])\n",
    "\n",
    "        iteration_counts = list(map(lambda el: el['iteration_number'], data['data']))\n",
    "        epsilons = list(map(lambda el: max(0, -min(el['epsilon'])), data['data']))\n",
    "        percent_epsilons = list(map(lambda el: el / du, epsilons))\n",
    "        cum_durations = [sum(durations[:i]) for i in range(len(durations))]\n",
    "        \n",
    "        ax_time.plot(cum_durations, percent_epsilons)\n",
    "        ax_iter.plot(iteration_counts, percent_epsilons)\n",
    "        \n",
    "    if legend == None:\n",
    "        legend = [\"Result \" + str(i+1) for i in range(len(files))]\n",
    "    ax_time.legend(legend)\n",
    "    ax_iter.legend(legend)\n",
    "    ax_time.set(xlabel = \"Time [s]\", ylabel = \"Epsilon [%]\")\n",
    "    ax_iter.set(xlabel = \"Iterations\", ylabel = \"Epsilon [%]\")\n",
    "    if ylims != None:\n",
    "        ax_time.set_ylim(ylims)\n",
    "        ax_iter.set_ylim(ylims)\n",
    "    if xlims_time != None:\n",
    "        ax_time.set_xlim(xlims_time)\n",
    "    if xlims_iter != None:\n",
    "        ax_iter.set_xlim(xlims_iter)\n",
    "    ax_time.set_title(title)\n",
    "    ax_iter.set_title(title)"
   ]
  },
  {
   "cell_type": "code",
   "execution_count": null,
   "metadata": {
    "scrolled": true
   },
   "outputs": [],
   "source": [
    "compare(['results/remote/RCFR/kuhn/1553957872_3_8', 'results/remote/kuhn_20190120/1547765102_3_8'],\n",
    "        xlims = (0, 15000), ylims = (0, 0.02), legend = ['RCFR', 'SCFR'], title = 'Kuhn 3_8')\n",
    "compare(['results/remote/RCFR/kuhn/1553957872_3_8', 'results/remote/kuhn_short_20190121/1548008650_3_8'],\n",
    "        xlims = (0, 15000), ylims = (0, 0.02), legend = ['RCFR', 'SCFR'], title = 'Kuhn 3_8')\n",
    "compare(['results/remote/RCFR/kuhn/1553957868_3_7', 'results/remote/kuhn_20190120/1547765096_3_7'],\n",
    "        xlims = (0, 7000), ylims = (0, 0.02), legend = ['RCFR', 'SCFR'], title = 'Kuhn 3_7')"
   ]
  },
  {
   "cell_type": "code",
   "execution_count": null,
   "metadata": {},
   "outputs": [],
   "source": [
    "compare(['results/remote/RCFR/kuhn/1553957883_3_10', 'results/remote/RCFR_notopt/kuhn/1554108461_3_10'],\n",
    "        xlims = (0, 10000), legend = ['RCFR', 'RCFR_nopt'], title = 'Kuhn 3_10')"
   ]
  },
  {
   "cell_type": "code",
   "execution_count": null,
   "metadata": {
    "scrolled": true
   },
   "outputs": [],
   "source": [
    "compare(['results/remote/RCFR/kuhn/1553957872_3_8', 'results/remote/RCFR_notopt/kuhn/1554108461_3_8',\n",
    "         'results/remote/kuhn_20190120/1547765102_3_8'],\n",
    "        xlims = (0, 5000), legend = ['RCFR', 'RCFR_nopt', 'SCFR'], title = 'Kuhn 3_8')\n",
    "compare(['results/remote/RCFR/kuhn/1553957872_3_8', 'results/remote/RCFR_notopt/kuhn/1554108461_3_8',\n",
    "         'results/remote/kuhn_20190120/1547765102_3_8'],\n",
    "        xlims = (0, 1000), ylims = (0, 0.05), legend = ['RCFR', 'RCFR_nopt', 'SCFR'], title = 'Kuhn 3_8')"
   ]
  },
  {
   "cell_type": "code",
   "execution_count": null,
   "metadata": {
    "scrolled": true
   },
   "outputs": [],
   "source": [
    "compare(['results/remote/RCFR_notopt/goofspiel/1554199851_3_4', \n",
    "         'results/remote/goofspiel_long_20180122/1548105218_3_4'], legend = [\"RCFR_nopt\", \"SCFR\"],\n",
    "         title = \"Goofspiel 3_4\")\n",
    "\n",
    "compare(['results/remote/RCFR_notopt/goofspiel/1554382206_3_4', \n",
    "         'results/remote/goofspiel_long_20180122/1548105218_3_4'], legend = [\"RCFR_nopt\", \"SCFR\"],\n",
    "         title = \"Goofspiel 3_4\")"
   ]
  },
  {
   "cell_type": "code",
   "execution_count": null,
   "metadata": {},
   "outputs": [],
   "source": [
    "compare(['results/remote/RCFR_notopt/hanabi/1554413019_2_2_[2_1]_1_1', \n",
    "         'results/remote/SCFR_hanabi/hanabi/1554461737_2_2_[2_1]_1_1'], legend = [\"RCFR_nopt\", \"SCFR\"],\n",
    "         title = \"Hanabi 2 colors [2, 1] distribution\")"
   ]
  },
  {
   "cell_type": "code",
   "execution_count": null,
   "metadata": {},
   "outputs": [],
   "source": [
    "compare(['results/remote/hanabi_tests/RCFR_nopt/hanabi/1554739324_3_1_[2_2_1]_1_1',\n",
    "         'results/remote/hanabi_tests/SCFR/hanabi/1554739324_3_1_[2_2_1]_1_1'], ylims = (0, 0.02), \n",
    "        legend = [\"RCFR\", \"SCFR\"])"
   ]
  },
  {
   "cell_type": "code",
   "execution_count": null,
   "metadata": {},
   "outputs": [],
   "source": [
    "compare(['results/remote/hanabi_tests/RCFR/hanabi/1554830690_2_1_[2_2_1]_1_1',\n",
    "         'results/remote/hanabi_tests/RCFR_nopt/hanabi/1554830690_2_1_[2_2_1]_1_1',\n",
    "         'results/remote/hanabi_tests/SCFR/hanabi/1554830690_2_1_[2_2_1]_1_1'], \n",
    "         legend = [\"RCFR\", \"RCFR_nopt\", \"SCFR\"], xlims = (0, 10000), ylims = (0, 0.05))"
   ]
  },
  {
   "cell_type": "code",
   "execution_count": null,
   "metadata": {},
   "outputs": [],
   "source": [
    "compare(['results/remote/hanabi_tests/SCFR/hanabi/1554741241_3_2_[2_1]_1_1',\n",
    "         'results/remote/hanabi_tests/RCFR_nopt/hanabi/1554741154_3_2_[2_1]_1_1'], \n",
    "         legend = [\"SCFR\", \"RCFR_nopt\"])"
   ]
  },
  {
   "cell_type": "code",
   "execution_count": null,
   "metadata": {},
   "outputs": [],
   "source": [
    "compare(['results/remote/hanabi_tests/RCFR_nopt/hanabi/1554831012_2_2_[2_1]_1_1',\n",
    "         'results/remote/hanabi_tests/SCFR/hanabi/1554831004_2_2_[2_1]_1_1'], ylims = (0, 0.2), \n",
    "        legend = [\"RCFR_nopt\", \"SCFR\"])"
   ]
  },
  {
   "cell_type": "markdown",
   "metadata": {},
   "source": [
    "---"
   ]
  },
  {
   "cell_type": "markdown",
   "metadata": {},
   "source": [
    "## SCFR/CFR/CFR+ comparisons"
   ]
  },
  {
   "cell_type": "code",
   "execution_count": null,
   "metadata": {},
   "outputs": [],
   "source": [
    "import numpy as np"
   ]
  },
  {
   "cell_type": "code",
   "execution_count": null,
   "metadata": {},
   "outputs": [],
   "source": [
    "def compare_algorithms(filename, filename_cfr, filename_cfr_plus, cumsum_durations = False):\n",
    "    file = open(filename, \"r\")\n",
    "    data = json.load(file)\n",
    "    file.close()\n",
    "\n",
    "    file_cfr = open(filename_cfr, \"r\")\n",
    "    data_cfr = json.load(file_cfr)\n",
    "    file_cfr.close()\n",
    "\n",
    "    file_cfr_plus = open(filename_cfr_plus, \"r\")\n",
    "    data_cfr_plus = json.load(file_cfr_plus)\n",
    "    file_cfr_plus.close()    \n",
    "\n",
    "    durations = list(map(lambda el: el['duration'], data['data']))\n",
    "    durations_cfr = list(map(lambda el: el['duration'], data_cfr['data']))\n",
    "    durations_cfr_plus = list(map(lambda el: el['duration'], data_cfr_plus['data']))\n",
    "\n",
    "    du = delta_utility(data['parameters']['game'], data['parameters']['players'], data['parameters']['rank'],\n",
    "                   data['parameters']['betting_parameters'])\n",
    "    du_cfr = delta_utility(data_cfr['parameters']['game'], data_cfr['parameters']['players'], \n",
    "                           data_cfr['parameters']['rank'], data_cfr['parameters']['betting_parameters'])\n",
    "    du_cfr_plus = delta_utility(data_cfr_plus['parameters']['game'], data_cfr_plus['parameters']['players'], \n",
    "                           data_cfr_plus['parameters']['rank'], data_cfr_plus['parameters']['betting_parameters'])\n",
    "\n",
    "    iteration_counts = list(map(lambda el: el['iteration_number'], data['data']))\n",
    "    epsilons = list(map(lambda el: max(0, -min(el['epsilon'])), data['data']))\n",
    "    percent_epsilons = list(map(lambda el: el / du, epsilons))\n",
    "    iteration_counts_cfr = list(map(lambda el: el['iteration_number'], data_cfr['data']))\n",
    "    epsilons_cfr = list(map(lambda el: max(0, -min(el['epsilon'])), data_cfr['data']))\n",
    "    percent_epsilons_cfr = list(map(lambda el: el / du_cfr, epsilons_cfr))\n",
    "    iteration_counts_cfr_plus = list(map(lambda el: el['iteration_number'], data_cfr_plus['data']))\n",
    "    epsilons_cfr_plus = list(map(lambda el: max(0, -min(el['epsilon'])), data_cfr_plus['data']))\n",
    "    percent_epsilons_cfr_plus = list(map(lambda el: el / du_cfr_plus, epsilons_cfr_plus))\n",
    "    utilities = list(map(lambda el: el['utility'], data['data']))\n",
    "    utilities_cfr = list(map(lambda el: el['utility'], data_cfr['data']))\n",
    "    utilities_cfr_plus = list(map(lambda el: el['utility'], data_cfr_plus['data']))\n",
    "\n",
    "    print(data['parameters'])\n",
    "    if 'total_duration' in data:\n",
    "        print(\"Duration = \" + str(data['total_duration']) + \" seconds\")\n",
    "        print(\"Utility = \" + str(data['utility']))\n",
    "        print(\"Social welfare = \" + str(sum(data['utility'])))\n",
    "        print(\"Max delta utility = \" + str(max(data['utility']) - min(data['utility'])))\n",
    "    else:\n",
    "        print(\"--- Computation was stopped before the end ---\")\n",
    "        print(\"Duration = \" + str(sum(durations)) + \" seconds\")\n",
    "        print(\"Last logged utility = \" + str(utilities[len(utilities)-1]))\n",
    "        print(\"Social welfare = \" + str(sum(utilities[len(utilities)-1])))\n",
    "        print(\"Max delta utility = \" + str(max(utilities[len(utilities)-1]) - min(utilities[len(utilities)-1])))\n",
    "    print('')\n",
    "    print(data_cfr['parameters'])\n",
    "    if 'total_duration' in data_cfr:\n",
    "        print(\"Duration = \" + str(data_cfr['total_duration']) + \" seconds\")\n",
    "        print(\"Utility = \" + str(data_cfr['utility']))\n",
    "        print(\"Social welfare = \" + str(sum(data_cfr['utility'])))\n",
    "        print(\"Max delta utility = \" + str(max(data_cfr['utility']) - min(data_cfr['utility'])))\n",
    "    else:\n",
    "        print(\"--- Computation was stopped before the end ---\")\n",
    "        print(\"Duration = \" + str(sum(durations_cfr)) + \" seconds\")\n",
    "        print(\"Last logged utility = \" + str(utilities_cfr[len(utilities_cfr)-1]))\n",
    "        print(\"Social welfare = \" + str(sum(utilities_cfr[len(utilities_cfr)-1])))\n",
    "        print(\"Max delta utility = \" + str(max(utilities_cfr[len(utilities_cfr)-1]) - \\\n",
    "                                           min(utilities_cfr[len(utilities_cfr)-1])))\n",
    "    print('')\n",
    "    print(data_cfr_plus['parameters'])\n",
    "    if 'total_duration' in data_cfr_plus:\n",
    "        print(\"Duration = \" + str(data_cfr_plus['total_duration']) + \" seconds\")\n",
    "        print(\"Utility = \" + str(data_cfr_plus['utility']))\n",
    "        print(\"Social welfare = \" + str(sum(data_cfr_plus['utility'])))\n",
    "        print(\"Max delta utility = \" + str(max(data_cfr_plus['utility']) - min(data_cfr_plus['utility'])))\n",
    "    else:\n",
    "        print(\"--- Computation was stopped before the end ---\")\n",
    "        print(\"Duration = \" + str(sum(durations_cfr_plus)) + \" seconds\")\n",
    "        print(\"Last logged utility = \" + str(utilities_cfr_plus[len(utilities_cfr_plus)-1]))\n",
    "        print(\"Social welfare = \" + str(sum(utilities_cfr_plus[len(utilities_cfr_plus)-1])))\n",
    "        print(\"Max delta utility = \" + str(max(utilities_cfr_plus[len(utilities_cfr_plus)-1]) - \\\n",
    "                                           min(utilities_cfr_plus[len(utilities_cfr_plus)-1])))\n",
    "    print('')\n",
    "\n",
    "    #plt.plot(iteration_counts, epsilons)\n",
    "    #plt.plot(iteration_counts_cfr, epsilons_cfr)\n",
    "    #plt.plot(iteration_counts_cfr_plus, epsilons_cfr_plus)\n",
    "    #plt.show()\n",
    "    \n",
    "    plt.plot(iteration_counts, percent_epsilons)\n",
    "    plt.plot(iteration_counts_cfr, percent_epsilons_cfr)\n",
    "    plt.plot(iteration_counts_cfr_plus, percent_epsilons_cfr_plus)\n",
    "    plt.legend(['scfr','cfr', 'cfr+'])\n",
    "    plt.show()\n",
    "    \n",
    "    plt.plot(np.cumsum(durations), percent_epsilons)\n",
    "    plt.plot(np.cumsum(durations_cfr) if cumsum_durations else durations_cfr, percent_epsilons_cfr)\n",
    "    plt.plot(np.cumsum(durations_cfr_plus) if cumsum_durations else durations_cfr_plus, percent_epsilons_cfr_plus)\n",
    "    plt.legend(['scfr','cfr', 'cfr+'])\n",
    "    plt.show()"
   ]
  },
  {
   "cell_type": "code",
   "execution_count": null,
   "metadata": {},
   "outputs": [],
   "source": [
    "compare_algorithms('results/remote/goofspiel_cfr_comparisons_20190122/goofspiel_3_4_scfr_accumulate',\n",
    "                   'results/remote/goofspiel_cfr_comparisons_20190122/goofspiel_3_4_cfr_accumulate',\n",
    "                   'results/remote/goofspiel_cfr_comparisons_20190122/goofspiel_3_4_cfr_plus_accumulate')"
   ]
  },
  {
   "cell_type": "code",
   "execution_count": null,
   "metadata": {},
   "outputs": [],
   "source": [
    "compare_algorithms('results/remote/goofspiel_cfr_comparisons_20190122/goofspiel_3_3_scfr_accumulate',\n",
    "                   'results/remote/goofspiel_cfr_comparisons_20190122/goofspiel_3_3_cfr_accumulate',\n",
    "                   'results/remote/goofspiel_cfr_comparisons_20190122/goofspiel_3_3_cfr_plus_accumulate',\n",
    "                   cumsum_durations = True)"
   ]
  },
  {
   "cell_type": "code",
   "execution_count": null,
   "metadata": {},
   "outputs": [],
   "source": [
    "compare_algorithms('results/remote/goofspiel_cfr_comparisons_20190122/goofspiel_3_3_scfr_discard_if_all',\n",
    "                   'results/remote/goofspiel_cfr_comparisons_20190122/goofspiel_3_3_cfr_discard_if_all', \n",
    "                   'results/remote/goofspiel_cfr_comparisons_20190122/goofspiel_3_3_cfr_plus_discard_if_all',\n",
    "                   cumsum_durations = True)"
   ]
  },
  {
   "cell_type": "code",
   "execution_count": null,
   "metadata": {},
   "outputs": [],
   "source": [
    "compare_algorithms('results/remote/goofspiel_cfr_comparisons_20190122/goofspiel_3_3_scfr_discard_if_high',\n",
    "                   'results/remote/goofspiel_cfr_comparisons_20190122/goofspiel_3_3_cfr_discard_if_high',\n",
    "                   'results/remote/goofspiel_cfr_comparisons_20190122/goofspiel_3_3_cfr_plus_discard_if_high',\n",
    "                   cumsum_durations = True)"
   ]
  },
  {
   "cell_type": "code",
   "execution_count": null,
   "metadata": {},
   "outputs": [],
   "source": [
    "compare_algorithms('results/remote/goofspiel_cfr_comparisons_20190122/goofspiel_3_3_scfr_discard_always',\n",
    "                   'results/remote/goofspiel_cfr_comparisons_20190122/goofspiel_3_3_cfr_discard_always',\n",
    "                   'results/remote/goofspiel_cfr_comparisons_20190122/goofspiel_3_3_cfr_plus_discard_always',\n",
    "                   cumsum_durations = True)"
   ]
  },
  {
   "cell_type": "code",
   "execution_count": null,
   "metadata": {},
   "outputs": [],
   "source": [
    "compare_algorithms('results/remote/goofspiel_long_20180122/1548105233_3_4',\n",
    "                   'results/remote/goofspiel_cfr_comparisons_20190122/goofspiel_3_4_cfr_discard_always_ALBO',\n",
    "                   'results/remote/goofspiel_cfr_comparisons_20190122/goofspiel_3_4_cfr_plus_discard_always_ALBO',\n",
    "                   cumsum_durations = True)"
   ]
  },
  {
   "cell_type": "code",
   "execution_count": null,
   "metadata": {},
   "outputs": [],
   "source": [
    "compare_algorithms('results/remote/goofspiel_long_20180122/1548105230_3_4',\n",
    "                   'results/remote/goofspiel_cfr_comparisons_20190122/goofspiel_3_4_cfr_discard_if_high_ALBO',\n",
    "                   'results/remote/goofspiel_cfr_comparisons_20190122/goofspiel_3_4_cfr_plus_discard_if_high_ALBO',\n",
    "                   cumsum_durations = True)"
   ]
  },
  {
   "cell_type": "code",
   "execution_count": null,
   "metadata": {},
   "outputs": [],
   "source": [
    "compare_algorithms('results/remote/goofspiel_long_20180122/1548105224_3_4',\n",
    "                   'results/remote/goofspiel_cfr_comparisons_20190122/goofspiel_3_4_cfr_discard_if_all_ALBO',\n",
    "                   'results/remote/goofspiel_cfr_comparisons_20190122/goofspiel_3_4_cfr_plus_discard_if_all_ALBO',\n",
    "                   cumsum_durations = True)"
   ]
  },
  {
   "cell_type": "markdown",
   "metadata": {},
   "source": [
    "## Data to CSV for tikz"
   ]
  },
  {
   "cell_type": "code",
   "execution_count": null,
   "metadata": {},
   "outputs": [],
   "source": [
    "f1 = open('results/remote/goofspiel_long_20180122/1548105233_3_4', 'r')\n",
    "f2 = open('results/remote/goofspiel_cfr_comparisons_20190122/goofspiel_3_4_cfr_discard_always_ALBO', 'r')\n",
    "f3 = open('results/remote/goofspiel_cfr_comparisons_20190122/goofspiel_3_4_cfr_plus_discard_always_ALBO', 'r')\n",
    "\n",
    "f4 = open('results/remote/goofspiel_cfr_comparisons_20190122/goofspiel_3_4_scfr_accumulate', 'r')\n",
    "f5 = open('results/remote/goofspiel_cfr_comparisons_20190122/goofspiel_3_4_cfr_accumulate', 'r')\n",
    "f6 = open('results/remote/goofspiel_cfr_comparisons_20190122/goofspiel_3_4_cfr_plus_accumulate', 'r')\n",
    "\n",
    "data1 = json.load(f1)\n",
    "data2 = json.load(f2)\n",
    "data3 = json.load(f3)\n",
    "\n",
    "data4 = json.load(f4)\n",
    "data5 = json.load(f5)\n",
    "data6 = json.load(f6)\n",
    "\n",
    "durations1 = list(map(lambda el: el['duration'], data1['data']))\n",
    "durations2 = list(map(lambda el: el['duration'], data2['data']))\n",
    "durations3 = list(map(lambda el: el['duration'], data3['data']))\n",
    "\n",
    "durations4 = list(map(lambda el: el['duration'], data4['data']))\n",
    "durations5 = list(map(lambda el: el['duration'], data5['data']))\n",
    "durations6 = list(map(lambda el: el['duration'], data6['data']))\n",
    "\n",
    "du = delta_utility('goofspiel', 3, 4)\n",
    "\n",
    "with open(\"cfr_comparison_3_4_discard_always_scfr.csv\", 'w') as o:\n",
    "    o.write('iteration, epsilon, t\\n')\n",
    "    \n",
    "    for i in range(len(data1['data'])):\n",
    "        d = data1['data'][i]\n",
    "        o.write(str(d['iteration_number']) + ', ' + str(-min(d['epsilon']) / du) + ', ' + \\\n",
    "                str(sum(durations1[:i+1])) + \"\\n\")\n",
    "        \n",
    "with open(\"cfr_comparison_3_4_discard_always_cfr.csv\", 'w') as o:\n",
    "    o.write('iteration, epsilon, t\\n')\n",
    "    \n",
    "    for i in range(len(data2['data'])):\n",
    "        d = data2['data'][i]\n",
    "        o.write(str(d['iteration_number']) + ', ' + str(-min(d['epsilon']) / du) + ', ' + \\\n",
    "                str(sum(durations2[:i+1])) + \"\\n\")\n",
    "        \n",
    "with open(\"cfr_comparison_3_4_discard_always_cfr_plus.csv\", 'w') as o:\n",
    "    o.write('iteration, epsilon, t\\n')\n",
    "    \n",
    "    for i in range(len(data3['data'])):\n",
    "        d = data3['data'][i]\n",
    "        o.write(str(d['iteration_number']) + ', ' + str(-min(d['epsilon']) / du) + ', ' + \\\n",
    "                str(sum(durations3[:i+1])) + \"\\n\")\n",
    "\n",
    "with open(\"cfr_comparison_3_4_accumulate.csv\", 'w') as o:\n",
    "    o.write('iteration, scfr, cfr, cfr+\\n')\n",
    "    \n",
    "    iterations = list(map(lambda el: el['iteration_number'], data4['data']))\n",
    "    epsilons4 = list(map(lambda el: -min(el['epsilon']) / du, data4['data']))\n",
    "    epsilons5 = list(map(lambda el: -min(el['epsilon']) / du, data5['data']))\n",
    "    epsilons6 = list(map(lambda el: -min(el['epsilon']) / du, data6['data']))\n",
    "    \n",
    "    for (it, s, c, cp) in zip(iterations, epsilons4, epsilons5, epsilons6):\n",
    "        o.write(str(it) + ', ' + str(s) + ', ' + str(c) + ', ' + str(cp) + '\\n')\n",
    "        \n",
    "f1.close()\n",
    "f2.close()\n",
    "f3.close()\n",
    "\n",
    "f4.close()\n",
    "f5.close()\n",
    "f6.close()"
   ]
  },
  {
   "cell_type": "code",
   "execution_count": null,
   "metadata": {},
   "outputs": [],
   "source": [
    "icml_data_folder  = \"../../../../Dropbox/Honours Programme/Shared Material/ICML-19/imgs/data/\""
   ]
  },
  {
   "cell_type": "code",
   "execution_count": null,
   "metadata": {},
   "outputs": [],
   "source": [
    "def print_csv(name1, name2, name3):\n",
    "    f1 = open(name1, 'r')\n",
    "    f2 = open(name2, 'r')\n",
    "    f3 = open(name3, 'r')\n",
    "\n",
    "    data1 = json.load(f1)\n",
    "    data2 = json.load(f2)\n",
    "    data3 = json.load(f3)\n",
    "\n",
    "    durations1 = list(map(lambda el: el['duration'], data1['data']))\n",
    "    durations2 = list(map(lambda el: el['duration'], data2['data']))\n",
    "    durations3 = list(map(lambda el: el['duration'], data3['data']))\n",
    "\n",
    "    du = delta_utility('goofspiel', 3, 4)\n",
    "\n",
    "    shortest_run = min(sum(durations1), sum(durations2), sum(durations3))\n",
    "    \n",
    "    ts = data1['parameters']['tie_solver']\n",
    "\n",
    "    with open(icml_data_folder + \"cfr_comparison_3_4_\" + ts + \"_scfr.csv\", 'w') as o:\n",
    "        o.write('iteration, epsilon, t\\n')\n",
    "\n",
    "        for i in range(len(data1['data'])):\n",
    "            if sum(durations1[:i+1]) > shortest_run:\n",
    "                break\n",
    "\n",
    "            d = data1['data'][i]\n",
    "            o.write(str(d['iteration_number']) + ', ' + str(-min(d['epsilon'] + [0]) / du) + ', ' + \\\n",
    "                    str(sum(durations1[:i+1])) + \"\\n\")\n",
    "\n",
    "    with open(icml_data_folder + \"cfr_comparison_3_4_\" + ts + \"_cfr.csv\", 'w') as o:\n",
    "        o.write('iteration, epsilon, t\\n')\n",
    "\n",
    "        for i in range(len(data2['data'])):\n",
    "            if sum(durations2[:i+1]) > shortest_run:\n",
    "                break\n",
    "\n",
    "            d = data2['data'][i]\n",
    "            o.write(str(d['iteration_number']) + ', ' + str(-min(d['epsilon'] + [0]) / du) + ', ' + \\\n",
    "                    str(sum(durations2[:i+1])) + \"\\n\")\n",
    "\n",
    "    with open(icml_data_folder + \"cfr_comparison_3_4_\" + ts + \"_cfr_plus.csv\", 'w') as o:\n",
    "        o.write('iteration, epsilon, t\\n')\n",
    "\n",
    "        for i in range(len(data3['data'])):\n",
    "            if sum(durations3[:i+1]) > shortest_run:\n",
    "                break\n",
    "\n",
    "            d = data3['data'][i]\n",
    "            o.write(str(d['iteration_number']) + ', ' + str(-min(d['epsilon'] + [0]) / du) + ', ' + \\\n",
    "                    str(sum(durations3[:i+1])) + \"\\n\")\n",
    "\n",
    "    f1.close()\n",
    "    f2.close()\n",
    "    f3.close()"
   ]
  },
  {
   "cell_type": "code",
   "execution_count": null,
   "metadata": {},
   "outputs": [],
   "source": [
    "print_csv('results/remote/goofspiel_long_20180122/1548105233_3_4',\n",
    "          'results/remote/goofspiel_cfr_comparisons_20190122/goofspiel_3_4_cfr_discard_always_ALBO',\n",
    "          'results/remote/goofspiel_cfr_comparisons_20190122/goofspiel_3_4_cfr_plus_discard_always_ALBO')"
   ]
  },
  {
   "cell_type": "code",
   "execution_count": null,
   "metadata": {},
   "outputs": [],
   "source": [
    "print_csv('results/remote/goofspiel_long_20180122/1548105230_3_4',\n",
    "                   'results/remote/goofspiel_cfr_comparisons_20190122/goofspiel_3_4_cfr_discard_if_high_ALBO',\n",
    "                   'results/remote/goofspiel_cfr_comparisons_20190122/goofspiel_3_4_cfr_plus_discard_if_high_ALBO')"
   ]
  },
  {
   "cell_type": "code",
   "execution_count": null,
   "metadata": {},
   "outputs": [],
   "source": [
    "print_csv('results/remote/goofspiel_long_20180122/1548105224_3_4',\n",
    "                   'results/remote/goofspiel_cfr_comparisons_20190122/goofspiel_3_4_cfr_discard_if_all_ALBO',\n",
    "                   'results/remote/goofspiel_cfr_comparisons_20190122/goofspiel_3_4_cfr_plus_discard_if_all_ALBO')"
   ]
  },
  {
   "cell_type": "code",
   "execution_count": null,
   "metadata": {},
   "outputs": [],
   "source": []
  }
 ],
 "metadata": {
  "kernelspec": {
   "display_name": "Python 3",
   "language": "python",
   "name": "python3"
  },
  "language_info": {
   "codemirror_mode": {
    "name": "ipython",
    "version": 3
   },
   "file_extension": ".py",
   "mimetype": "text/x-python",
   "name": "python",
   "nbconvert_exporter": "python",
   "pygments_lexer": "ipython3",
   "version": "3.5.2"
  }
 },
 "nbformat": 4,
 "nbformat_minor": 2
}
