{
 "cells": [
  {
   "cell_type": "code",
   "execution_count": 1,
   "metadata": {},
   "outputs": [
    {
     "name": "stdout",
     "output_type": "stream",
     "text": [
      "/home/tommy/Scrivania/Polimi/Honours Programme/SCFR\n"
     ]
    }
   ],
   "source": [
    "cd .."
   ]
  },
  {
   "cell_type": "code",
   "execution_count": 2,
   "metadata": {},
   "outputs": [],
   "source": [
    "from os import listdir\n",
    "import json\n",
    "import matplotlib.pyplot as plt"
   ]
  },
  {
   "cell_type": "code",
   "execution_count": 3,
   "metadata": {},
   "outputs": [],
   "source": [
    "def parameters_to_string(par):\n",
    "    if(par['game'] == 'kuhn'):\n",
    "        return 'kuhn_' + str(par['players']) + '_' + str(par['rank'])\n",
    "    if(par['game'] == 'leduc'):\n",
    "        return 'leduc_' + str(par['players']) + '_' + str(par['suits']) + '_' + str(par['rank'])\n",
    "    if(par['game'] == 'goofspiel'):\n",
    "        return 'goofspiel_' + str(par['players']) + '_' + str(par['rank']) + '_' + str(par['tie_solver'])"
   ]
  },
  {
   "cell_type": "code",
   "execution_count": 4,
   "metadata": {},
   "outputs": [],
   "source": [
    "# TODO: check it, in particular for bigger versions of goofspiel\n",
    "# TODO: implement different goofspiel TieSolver\n",
    "\n",
    "def delta_utility(game, players, rank, betting_parameters = [2, 4]):\n",
    "    if game == 'kuhn':\n",
    "        return 2 * players\n",
    "    if game == 'leduc':\n",
    "        return players + players * betting_parameters[0] + players * betting_parameters[1]\n",
    "    if game == 'goofspiel':\n",
    "        return sum(list(range(1, rank+1)))"
   ]
  },
  {
   "cell_type": "code",
   "execution_count": 5,
   "metadata": {},
   "outputs": [],
   "source": [
    "def max_social_welfare(game, players, rank, betting_parameters = [2, 4]):\n",
    "    if game == 'kuhn' or game == 'leduc':\n",
    "        return 0\n",
    "    if game == 'goofspiel':\n",
    "        return sum(list(range(1, rank+1)))"
   ]
  },
  {
   "cell_type": "code",
   "execution_count": 28,
   "metadata": {},
   "outputs": [],
   "source": [
    "target_directory = \"results/remote/leduc_20190120/\""
   ]
  },
  {
   "cell_type": "code",
   "execution_count": 29,
   "metadata": {},
   "outputs": [],
   "source": [
    "file_names = listdir(target_directory)"
   ]
  },
  {
   "cell_type": "code",
   "execution_count": 30,
   "metadata": {},
   "outputs": [],
   "source": [
    "def analyze(name, target_epsilons, time_to_target_per_instance, iterations_to_target_per_instance):\n",
    "    file = open(target_directory + name, \"r\")\n",
    "    data = json.load(file)\n",
    "    \n",
    "    print(\"File = \" + name)\n",
    "    print(\"Game = \" + parameters_to_string(data['parameters']))\n",
    "    \n",
    "    print(\"Total iterations = \" + str(data['parameters']['number_iterations']))\n",
    "    print(\"Check every iteration = \" + str(data['parameters']['check_every_iteration']))\n",
    "    \n",
    "    durations = list(map(lambda el: el['duration'], data['data']))\n",
    "    \n",
    "    target_datapoint_amount = int(data['parameters']['number_iterations']) / int(data['parameters']['check_every_iteration'])\n",
    "    run_time = sum(durations)\n",
    "    print(\"Logged \" + str(len(data['data'])) + \" out of \" + str(target_datapoint_amount) + \" datapoints in \" + \\\n",
    "          str(run_time) + \" seconds (aka \" + str(run_time/3600) + \" hours)\")\n",
    "\n",
    "    if 'total_duration' in data:\n",
    "        running_time = data['total_duration']\n",
    "        print(\"Solved in \" + str(running_time) + \" seconds\")\n",
    "        print(\"Solved in \" + str(running_time / 60) + \" minutes\")\n",
    "        print(\"Solved in \" + str(running_time / 3600) + \" hours\")\n",
    "        \n",
    "    if 'utility' in data:\n",
    "        u = data['utility']\n",
    "        sw = sum(u)\n",
    "        print(\"Final utility = \" + str(u))\n",
    "        print(\"Social welfare = \" + str(sw))\n",
    "        max_sw = max_social_welfare(data['parameters']['game'], data['parameters']['players'], \n",
    "                                    data['parameters']['rank'], data['parameters']['betting_parameters'])\n",
    "        if max_social_welfare != 0:\n",
    "            print(\"Max social welfare = \" + str(max_sw) + \" (obtained \" + \\\n",
    "                  str(sw / max_sw * 100) + \"%)\")\n",
    "\n",
    "    if 'total_duration' in data:\n",
    "        print(\"Average iterations per second = \" + str(data['average_iterations_per_second']))\n",
    "    \n",
    "    du = delta_utility(data['parameters']['game'], data['parameters']['players'], data['parameters']['rank'],\n",
    "                   data['parameters']['betting_parameters'])\n",
    "\n",
    "    iteration_counts = list(map(lambda el: el['iteration_number'], data['data']))\n",
    "    epsilons = list(map(lambda el: max(0, -min(el['epsilon'])), data['data']))\n",
    "    percent_epsilons = list(map(lambda el: el / du, epsilons))\n",
    "    absolute_joint_sizes = list(map(lambda el: el['absolute_joint_size'], data['data']))\n",
    "    relative_joint_sizes = list(map(lambda el: el['relative_joint_size'], data['data']))\n",
    "    max_plan_frequencies = list(map(lambda el: el['max_plan_frequency'], data['data']))\n",
    "    joint_support_sizes = list(map(lambda el: el['joint_support_size'], data['data']))\n",
    "    \n",
    "    plt.plot(iteration_counts, epsilons)\n",
    "    plt.show()\n",
    "    plt.plot(iteration_counts, percent_epsilons)\n",
    "    plt.show()\n",
    "    \n",
    "    time_to_target = []\n",
    "    iterations_to_target = []\n",
    "    \n",
    "    for t in target_epsilons:\n",
    "        indices_below_t = [i for i in range(len(epsilons)) if percent_epsilons[i] <= t]\n",
    "        if len(indices_below_t) > 0:\n",
    "            time_to_t = sum(durations[:indices_below_t[0]+1])\n",
    "            iterations_to_target.append((indices_below_t[0]+1) * int(data['parameters']['check_every_iteration']))\n",
    "        else:\n",
    "            time_to_t = -1\n",
    "            iterations_to_target.append(-1)\n",
    "        time_to_target.append(round(time_to_t, 5))\n",
    "    \n",
    "    s = parameters_to_string(data['parameters'])\n",
    "    while s in time_to_target_per_instance:\n",
    "        s += '_'\n",
    "    time_to_target_per_instance[s] = time_to_target\n",
    "    iterations_to_target_per_instance[s] = iterations_to_target   "
   ]
  },
  {
   "cell_type": "code",
   "execution_count": 31,
   "metadata": {
    "scrolled": true
   },
   "outputs": [
    {
     "name": "stdout",
     "output_type": "stream",
     "text": [
      "File = 1547913816_3_3_5\n",
      "Game = leduc_3_3_5\n",
      "Total iterations = 1000000\n",
      "Check every iteration = 1000\n",
      "Logged 51 out of 1000.0 datapoints in 83110.0770149231 seconds (aka 23.086132504145304 hours)\n"
     ]
    },
    {
     "data": {
      "image/png": "[encoded data removed]",
      "text/plain": [
       "<matplotlib.figure.Figure at 0x7fed2330dc18>"
      ]
     },
     "metadata": {},
     "output_type": "display_data"
    },
    {
     "data": {
      "image/png": "[encoded data removed]",
      "text/plain": [
       "<matplotlib.figure.Figure at 0x7fed2317afd0>"
      ]
     },
     "metadata": {},
     "output_type": "display_data"
    },
    {
     "name": "stdout",
     "output_type": "stream",
     "text": [
      "File = 1547913780_3_3_4\n",
      "Game = leduc_3_3_4\n",
      "Total iterations = 1000000\n",
      "Check every iteration = 1000\n",
      "Logged 85 out of 1000.0 datapoints in 84411.81807374954 seconds (aka 23.447727242708208 hours)\n"
     ]
    },
    {
     "data": {
      "image/png": "[encoded data removed]",
      "text/plain": [
       "<matplotlib.figure.Figure at 0x7fed23143588>"
      ]
     },
     "metadata": {},
     "output_type": "display_data"
    },
    {
     "data": {
      "image/png": "[encoded data removed]",
      "text/plain": [
       "<matplotlib.figure.Figure at 0x7fed23185400>"
      ]
     },
     "metadata": {},
     "output_type": "display_data"
    },
    {
     "name": "stdout",
     "output_type": "stream",
     "text": [
      "File = 1547830786_3_3_3\n",
      "Game = leduc_3_3_3\n",
      "Total iterations = 1000000\n",
      "Check every iteration = 1000\n",
      "Logged 239 out of 1000.0 datapoints in 167206.1014199257 seconds (aka 46.44613928331269 hours)\n"
     ]
    },
    {
     "data": {
      "image/png": "[encoded data removed]",
      "text/plain": [
       "<matplotlib.figure.Figure at 0x7fed2334b240>"
      ]
     },
     "metadata": {},
     "output_type": "display_data"
    },
    {
     "data": {
      "image/png": "[encoded data removed]",
      "text/plain": [
       "<matplotlib.figure.Figure at 0x7fed23507ac8>"
      ]
     },
     "metadata": {},
     "output_type": "display_data"
    }
   ],
   "source": [
    "target_epsilons = [10, 5, 2, 1.5, 1, 0.5, 0.2, 0.1, 0.01, 0]\n",
    "time_to_target_per_instance = {}\n",
    "iterations_to_target_per_instance = {}\n",
    "\n",
    "for name in file_names:\n",
    "    analyze(name, target_epsilons, time_to_target_per_instance, iterations_to_target_per_instance)"
   ]
  },
  {
   "cell_type": "code",
   "execution_count": 32,
   "metadata": {},
   "outputs": [],
   "source": [
    "from IPython.display import HTML, display\n",
    "import tabulate"
   ]
  },
  {
   "cell_type": "code",
   "execution_count": 33,
   "metadata": {},
   "outputs": [],
   "source": [
    "table_text = [['Targets'] + (list(map(str, target_epsilons)))]\n",
    "for (game, times) in sorted(time_to_target_per_instance.items()):\n",
    "    line_text = [game] + list(map(lambda t: 'n/a' if t == -1 else str(t), times))\n",
    "    table_text.append(line_text)"
   ]
  },
  {
   "cell_type": "code",
   "execution_count": 34,
   "metadata": {},
   "outputs": [
    {
     "data": {
      "text/html": [
       "<table>\n",
       "<tbody>\n",
       "<tr><td>Targets    </td><td style=\"text-align: right;\"> 10     </td><td style=\"text-align: right;\">  5     </td><td style=\"text-align: right;\">  2     </td><td style=\"text-align: right;\">  1.5   </td><td style=\"text-align: right;\">  1     </td><td style=\"text-align: right;\">  0.5   </td><td style=\"text-align: right;\">  0.2   </td><td style=\"text-align: right;\">  0.1   </td><td>0.01       </td><td>0  </td></tr>\n",
       "<tr><td>leduc_3_3_3</td><td style=\"text-align: right;\"> 49.086 </td><td style=\"text-align: right;\"> 49.086 </td><td style=\"text-align: right;\"> 49.086 </td><td style=\"text-align: right;\"> 49.086 </td><td style=\"text-align: right;\"> 49.086 </td><td style=\"text-align: right;\"> 49.086 </td><td style=\"text-align: right;\"> 49.086 </td><td style=\"text-align: right;\"> 49.086 </td><td>3325.55586 </td><td>n/a</td></tr>\n",
       "<tr><td>leduc_3_3_4</td><td style=\"text-align: right;\"> 97.6083</td><td style=\"text-align: right;\"> 97.6083</td><td style=\"text-align: right;\"> 97.6083</td><td style=\"text-align: right;\"> 97.6083</td><td style=\"text-align: right;\"> 97.6083</td><td style=\"text-align: right;\"> 97.6083</td><td style=\"text-align: right;\"> 97.6083</td><td style=\"text-align: right;\"> 97.6083</td><td>26434.44727</td><td>n/a</td></tr>\n",
       "<tr><td>leduc_3_3_5</td><td style=\"text-align: right;\">231.998 </td><td style=\"text-align: right;\">231.998 </td><td style=\"text-align: right;\">231.998 </td><td style=\"text-align: right;\">231.998 </td><td style=\"text-align: right;\">231.998 </td><td style=\"text-align: right;\">231.998 </td><td style=\"text-align: right;\">231.998 </td><td style=\"text-align: right;\">231.998 </td><td>n/a        </td><td>n/a</td></tr>\n",
       "</tbody>\n",
       "</table>"
      ],
      "text/plain": [
       "<IPython.core.display.HTML object>"
      ]
     },
     "metadata": {},
     "output_type": "display_data"
    }
   ],
   "source": [
    "display(HTML(tabulate.tabulate(table_text, tablefmt='html')))"
   ]
  },
  {
   "cell_type": "code",
   "execution_count": 35,
   "metadata": {},
   "outputs": [],
   "source": [
    "table_text2 = [['Targets'] + (list(map(str, target_epsilons)))]\n",
    "for (game, times) in sorted(iterations_to_target_per_instance.items()):\n",
    "    line_text = [game] + list(map(lambda t: 'n/a' if t == -1 else str(t), times))\n",
    "    table_text2.append(line_text)"
   ]
  },
  {
   "cell_type": "code",
   "execution_count": 36,
   "metadata": {},
   "outputs": [
    {
     "data": {
      "text/html": [
       "<table>\n",
       "<tbody>\n",
       "<tr><td>Targets    </td><td style=\"text-align: right;\">  10</td><td style=\"text-align: right;\">   5</td><td style=\"text-align: right;\">   2</td><td style=\"text-align: right;\">   1.5</td><td style=\"text-align: right;\">   1</td><td style=\"text-align: right;\">   0.5</td><td style=\"text-align: right;\">   0.2</td><td style=\"text-align: right;\">   0.1</td><td>0.01 </td><td>0  </td></tr>\n",
       "<tr><td>leduc_3_3_3</td><td style=\"text-align: right;\">1000</td><td style=\"text-align: right;\">1000</td><td style=\"text-align: right;\">1000</td><td style=\"text-align: right;\">1000  </td><td style=\"text-align: right;\">1000</td><td style=\"text-align: right;\">1000  </td><td style=\"text-align: right;\">1000  </td><td style=\"text-align: right;\">1000  </td><td>25000</td><td>n/a</td></tr>\n",
       "<tr><td>leduc_3_3_4</td><td style=\"text-align: right;\">1000</td><td style=\"text-align: right;\">1000</td><td style=\"text-align: right;\">1000</td><td style=\"text-align: right;\">1000  </td><td style=\"text-align: right;\">1000</td><td style=\"text-align: right;\">1000  </td><td style=\"text-align: right;\">1000  </td><td style=\"text-align: right;\">1000  </td><td>46000</td><td>n/a</td></tr>\n",
       "<tr><td>leduc_3_3_5</td><td style=\"text-align: right;\">1000</td><td style=\"text-align: right;\">1000</td><td style=\"text-align: right;\">1000</td><td style=\"text-align: right;\">1000  </td><td style=\"text-align: right;\">1000</td><td style=\"text-align: right;\">1000  </td><td style=\"text-align: right;\">1000  </td><td style=\"text-align: right;\">1000  </td><td>n/a  </td><td>n/a</td></tr>\n",
       "</tbody>\n",
       "</table>"
      ],
      "text/plain": [
       "<IPython.core.display.HTML object>"
      ]
     },
     "metadata": {},
     "output_type": "display_data"
    }
   ],
   "source": [
    "display(HTML(tabulate.tabulate(table_text2, tablefmt='html')))"
   ]
  },
  {
   "cell_type": "code",
   "execution_count": null,
   "metadata": {},
   "outputs": [],
   "source": []
  }
 ],
 "metadata": {
  "kernelspec": {
   "display_name": "Python 3",
   "language": "python",
   "name": "python3"
  },
  "language_info": {
   "codemirror_mode": {
    "name": "ipython",
    "version": 3
   },
   "file_extension": ".py",
   "mimetype": "text/x-python",
   "name": "python",
   "nbconvert_exporter": "python",
   "pygments_lexer": "ipython3",
   "version": "3.5.2"
  }
 },
 "nbformat": 4,
 "nbformat_minor": 2
}
