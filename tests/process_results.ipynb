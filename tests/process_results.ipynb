{
 "cells": [
  {
   "cell_type": "code",
   "execution_count": 7,
   "metadata": {},
   "outputs": [
    {
     "name": "stdout",
     "output_type": "stream",
     "text": [
      "/home/tommy/Scrivania/Polimi/Honours Programme/SCFR\n"
     ]
    }
   ],
   "source": [
    "cd .."
   ]
  },
  {
   "cell_type": "code",
   "execution_count": 8,
   "metadata": {},
   "outputs": [],
   "source": [
    "from os import listdir, path\n",
    "import json\n",
    "import matplotlib.pyplot as plt\n",
    "\n",
    "from data_structures.cfr_trees import CFRTree\n",
    "from games.goofspiel import build_goofspiel_tree\n",
    "from games.kuhn import build_kuhn_tree\n",
    "from games.leduc import build_leduc_tree\n",
    "from functools import reduce\n",
    "import math"
   ]
  },
  {
   "cell_type": "code",
   "execution_count": 9,
   "metadata": {},
   "outputs": [],
   "source": [
    "def parameters_to_string(par):\n",
    "    if(par['game'] == 'kuhn'):\n",
    "        return 'kuhn_' + str(par['players']) + '_' + str(par['rank'])\n",
    "    if(par['game'] == 'leduc'):\n",
    "        return 'leduc_' + str(par['players']) + '_' + str(par['suits']) + '_' + str(par['rank'])\n",
    "    if(par['game'] == 'goofspiel'):\n",
    "        return 'goofspiel_' + str(par['players']) + '_' + str(par['rank']) + '_' + str(par['tie_solver'])\n",
    "    if(par['game'] == 'random'):\n",
    "        return 'random_' + str(par['players']) + '_' + str(par['depth']) + '_' + str(par['branching_factor'])\n",
    "    if(par['game'] == 'hanabi'):\n",
    "        return 'hanabi_' + str(par['players']) + '_' + str(par['suits']) + '_' + \\\n",
    "                str(par['color_distribution']).replace(' ','').replace(',','_') + '_' + \\\n",
    "                str(par['cards_per_player']) + '_' + str(par['starting_clue_tokens'])"
   ]
  },
  {
   "cell_type": "code",
   "execution_count": 10,
   "metadata": {},
   "outputs": [],
   "source": [
    "# TODO: check it, in particular for bigger versions of goofspiel\n",
    "# TODO: implement different goofspiel TieSolver\n",
    "\n",
    "def delta_utility(game, players, rank, betting_parameters = [2, 4], color_distribution = None, suits = 1):\n",
    "    if game == 'kuhn':\n",
    "        return 2 * players\n",
    "    if game == 'leduc':\n",
    "        return players + players * betting_parameters[0] + players * betting_parameters[1]\n",
    "    if game == 'goofspiel':\n",
    "        return sum(list(range(1, rank+1)))\n",
    "    if game == 'random':\n",
    "        return 1\n",
    "    if game == 'hanabi':\n",
    "        return (len(color_distribution) + 1) * suits"
   ]
  },
  {
   "cell_type": "code",
   "execution_count": 11,
   "metadata": {},
   "outputs": [],
   "source": [
    "def max_social_welfare(game, players, rank, betting_parameters = [2, 4], color_distribution = None, suits = 1):\n",
    "    if game == 'kuhn' or game == 'leduc':\n",
    "        return 0\n",
    "    if game == 'goofspiel':\n",
    "        return sum(list(range(1, rank+1)))\n",
    "    if game == 'random':\n",
    "        return players\n",
    "    if game == 'hanabi':\n",
    "        return (len(color_distribution)) * suits * players"
   ]
  },
  {
   "cell_type": "code",
   "execution_count": 103,
   "metadata": {},
   "outputs": [],
   "source": [
    "target_directory = \"results/remote/nips/RCFR/goofspiel/temporary/\""
   ]
  },
  {
   "cell_type": "code",
   "execution_count": 104,
   "metadata": {},
   "outputs": [],
   "source": [
    "file_names = listdir(target_directory)"
   ]
  },
  {
   "cell_type": "code",
   "execution_count": 105,
   "metadata": {},
   "outputs": [],
   "source": [
    "def analyze(name, target_epsilons, data_per_instance, print_graphs = False):\n",
    "    if path.isdir(target_directory + name):\n",
    "        return\n",
    "    \n",
    "    print(\"\\n---------------------\")\n",
    "    print(\"File = \" + name)\n",
    "    \n",
    "    file = open(target_directory + name, \"r\")\n",
    "    data = json.load(file)\n",
    "    \n",
    "    print(\"Game = \" + parameters_to_string(data['parameters']))\n",
    "    \n",
    "    print(\"Total iterations = \" + str(data['parameters']['number_iterations']))\n",
    "    print(\"Check every iteration = \" + str(data['parameters']['check_every_iteration']))\n",
    "    \n",
    "    # --------- SKIP 2 PLAYERS LEDUC AND GOOFSPIEL (AND RANDOM) ---------\n",
    "    if data['parameters']['game'] in ['goofspiel', 'leduc', 'random'] and data['parameters']['players'] == 2:\n",
    "        print(\"---------------------------\")\n",
    "        print(\"Skipping 2 player versions\")\n",
    "        print(\"---------------------------\")\n",
    "        print(\"\")\n",
    "        return\n",
    "    # ------------------------------------------------------\n",
    "    \n",
    "    durations = list(map(lambda el: el['duration'], data['data']))\n",
    "    \n",
    "    target_datapoint_amount = int(data['parameters']['number_iterations']) / int(data['parameters']['check_every_iteration'])\n",
    "    run_time = sum(durations)\n",
    "    avg_time = run_time / len(durations)\n",
    "    print(\"Logged \" + str(len(data['data'])) + \" out of \" + str(target_datapoint_amount) + \" datapoints in \" + \\\n",
    "          str(run_time) + \" seconds (aka \" + str(run_time/3600) + \" hours)\")\n",
    "    print(\"Average duration of batch = \" + str(avg_time) + \" seconds (aka \" + str(avg_time/3600) + \" hours)\")\n",
    "\n",
    "    if 'total_duration' in data:\n",
    "        running_time = data['total_duration']\n",
    "        print(\"Solved in \" + str(running_time) + \" seconds\")\n",
    "        print(\"Solved in \" + str(running_time / 60) + \" minutes\")\n",
    "        print(\"Solved in \" + str(running_time / 3600) + \" hours\")\n",
    "        \n",
    "    if 'utility' in data:\n",
    "        u = data['utility']\n",
    "    elif 'utility' in data['data'][-1]:\n",
    "        u = data['data'][-1]['utility']\n",
    "    else:\n",
    "        u = [-1]\n",
    "        \n",
    "    if 'color_distribution' not in data['parameters']:\n",
    "        data['parameters']['color_distribution'] = []\n",
    "        \n",
    "    du = delta_utility(data['parameters']['game'], data['parameters']['players'], data['parameters']['rank'],\n",
    "                   data['parameters']['betting_parameters'], data['parameters']['color_distribution'], \n",
    "                   data['parameters']['suits'])\n",
    "        \n",
    "    sw = sum(u)\n",
    "    print(\"Final utility = \" + str(u))\n",
    "    print(\"Final epsilon = \" + str(-min(data['data'][-1]['epsilon']) / du) + \"%\")\n",
    "    print(\"Social welfare = \" + str(sw))\n",
    "    max_sw = max_social_welfare(data['parameters']['game'], data['parameters']['players'], \n",
    "                                data['parameters']['rank'], data['parameters']['betting_parameters'],\n",
    "                                data['parameters']['color_distribution'], data['parameters']['suits'])\n",
    "    if max_sw != 0:\n",
    "        print(\"Max social welfare = \" + str(max_sw) + \" (obtained \" + \\\n",
    "              str(sw / max_sw * 100) + \"%)\")\n",
    "\n",
    "    if 'total_duration' in data:\n",
    "        print(\"Average iterations per second = \" + str(data['average_iterations_per_second']))\n",
    "    else:\n",
    "        print(\"Average iterations per second = \" + str(data['parameters']['check_every_iteration'] / avg_time))\n",
    "\n",
    "    iteration_counts = list(map(lambda el: el['iteration_number'], data['data']))\n",
    "    epsilons = list(map(lambda el: max(0, -min(el['epsilon'])), data['data']))\n",
    "    percent_epsilons = list(map(lambda el: el / du, epsilons))\n",
    "    if 'utility' in data['data'][0]:\n",
    "        utilities = list(map(lambda el: sum(el['utility']), data['data']))\n",
    "    if max_sw != 0 and 'utility' in data['data'][0]:\n",
    "        percent_utilities = list(map(lambda el: el / max_sw, utilities))\n",
    "    #absolute_joint_sizes = list(map(lambda el: el['absolute_joint_size'], data['data']))\n",
    "    #relative_joint_sizes = list(map(lambda el: el['relative_joint_size'], data['data']))\n",
    "    #max_plan_frequencies = list(map(lambda el: el['max_plan_frequency'], data['data']))\n",
    "    #joint_support_sizes = list(map(lambda el: el['joint_support_size'], data['data']))\n",
    "    \n",
    "    if print_graphs:\n",
    "        plt.plot(iteration_counts, epsilons)\n",
    "        plt.title('Epsilons')\n",
    "        plt.show()\n",
    "        plt.plot(iteration_counts, percent_epsilons)\n",
    "        plt.title('Percent epsilons')\n",
    "        plt.show()\n",
    "        if max_sw != 0 and 'utility' in data['data'][0]:\n",
    "            plt.plot(iteration_counts, percent_utilities)\n",
    "            plt.title('Percent social welfare')\n",
    "            plt.show()\n",
    "    \n",
    "    time_to_target = []\n",
    "    iterations_to_target = []\n",
    "    \n",
    "    for t in target_epsilons:\n",
    "        indices_below_t = [i for i in range(len(epsilons)) if percent_epsilons[i] <= t]\n",
    "        if len(indices_below_t) > 0:\n",
    "            time_to_t = sum(durations[:indices_below_t[0]+1])\n",
    "            iterations_to_target.append((indices_below_t[0]+1) * int(data['parameters']['check_every_iteration']))\n",
    "        else:\n",
    "            time_to_t = -1\n",
    "            iterations_to_target.append(-1)\n",
    "        time_to_target.append(round(time_to_t, 5))\n",
    "    \n",
    "    s = parameters_to_string(data['parameters'])\n",
    "    \n",
    "    d = {'time_to_target': time_to_target,\n",
    "        'iterations_to_target': iterations_to_target,\n",
    "        'parameters': data['parameters'],\n",
    "        'percent_sw': sw / max_sw * 100 if max_sw > 0 else 0}\n",
    "    \n",
    "    if (s + '_average') not in data_per_instance:\n",
    "        data_per_instance[s + '_average'] = []\n",
    "    data_per_instance[s + '_average'].append(d)\n",
    "    \n",
    "    while s in data_per_instance:\n",
    "        s += '_'\n",
    "    data_per_instance[s] = d"
   ]
  },
  {
   "cell_type": "code",
   "execution_count": 106,
   "metadata": {
    "scrolled": true
   },
   "outputs": [
    {
     "name": "stdout",
     "output_type": "stream",
     "text": [
      "\n",
      "---------------------\n",
      "File = 1555856026_3_4_discard_if_all\n",
      "Game = goofspiel_3_4_discard_if_all\n",
      "Total iterations = 5000\n",
      "Check every iteration = 20\n",
      "Logged 228 out of 250.0 datapoints in 148054.4100382328 seconds (aka 41.126225010620225 hours)\n",
      "Average duration of batch = 649.3614475361088 seconds (aka 0.18037817987114133 hours)\n",
      "Final utility = [3.235099485728796, 3.754415380988657, 3.010485133282547]\n",
      "Final epsilon = 0.0042105276544045726%\n",
      "Social welfare = 10.0\n",
      "Max social welfare = 10 (obtained 100.0%)\n",
      "Average iterations per second = 0.030799487828984284\n",
      "\n",
      "---------------------\n",
      "File = 1556056279_3_4_discard_if_all\n",
      "Game = goofspiel_3_4_discard_if_all\n",
      "Total iterations = 5000\n",
      "Check every iteration = 20\n",
      "Logged 72 out of 250.0 datapoints in 46671.466815948486 seconds (aka 12.964296337763468 hours)\n",
      "Average duration of batch = 648.2148168881735 seconds (aka 0.18005967135782597 hours)\n",
      "Final utility = [3.166666666666666, 3.583333333333332, 3.250000000000001]\n",
      "Final epsilon = 0.002717631021060063%\n",
      "Social welfare = 10.0\n",
      "Max social welfare = 10 (obtained 100.0%)\n",
      "Average iterations per second = 0.030853969207325745\n",
      "\n",
      "---------------------\n",
      "File = 1555491685_3_4_discard_if_high\n",
      "Game = goofspiel_3_4_discard_if_high\n",
      "Total iterations = 5000\n",
      "Check every iteration = 20\n",
      "Logged 5 out of 250.0 datapoints in 97901.33688282967 seconds (aka 27.194815800786017 hours)\n",
      "Average duration of batch = 19580.267376565935 seconds (aka 5.438963160157204 hours)\n",
      "Final utility = [3.1666666666666656, 3.2500000000000004, 3.583333333333334]\n",
      "Final epsilon = 0.03688130886233236%\n",
      "Social welfare = 10.0\n",
      "Max social welfare = 10 (obtained 100.0%)\n",
      "Average iterations per second = 0.0010214365113285638\n",
      "\n",
      "---------------------\n",
      "File = 1554382206_3_4\n",
      "Game = goofspiel_3_4_accumulate\n",
      "Total iterations = 500\n",
      "Check every iteration = 5\n",
      "Logged 100 out of 100.0 datapoints in 14486.02543091774 seconds (aka 4.023895953032706 hours)\n",
      "Average duration of batch = 144.8602543091774 seconds (aka 0.04023895953032706 hours)\n",
      "Solved in 14528.69453716278 seconds\n",
      "Solved in 242.14490895271302 minutes\n",
      "Solved in 4.035748482545217 hours\n",
      "Final utility = [3.166666666666667, 3.2937808902580095, 3.5395524430753245]\n",
      "Final epsilon = 0.0023774398849352174%\n",
      "Social welfare = 10.0\n",
      "Max social welfare = 10 (obtained 100.0%)\n",
      "Average iterations per second = 0.03441465430504136\n",
      "\n",
      "---------------------\n",
      "File = 1556284616_3_4_discard_if_all\n",
      "Game = goofspiel_3_4_discard_if_all\n",
      "Total iterations = 5000\n",
      "Check every iteration = 20\n",
      "Logged 95 out of 250.0 datapoints in 68835.96326589584 seconds (aka 19.12110090719329 hours)\n",
      "Average duration of batch = 724.5890870094299 seconds (aka 0.2012747463915083 hours)\n",
      "Final utility = [3.310393155601838, 3.661709845804947, 3.0278969985932145]\n",
      "Final epsilon = 0.001821721437890922%\n",
      "Social welfare = 10.0\n",
      "Max social welfare = 10 (obtained 100.0%)\n",
      "Average iterations per second = 0.02760185097811129\n",
      "\n",
      "---------------------\n",
      "File = 1555491684_3_4_accumulate\n",
      "Game = goofspiel_3_4_accumulate\n",
      "Total iterations = 5000\n",
      "Check every iteration = 20\n",
      "Logged 5 out of 250.0 datapoints in 98688.34386253357 seconds (aka 27.41342885070377 hours)\n",
      "Average duration of batch = 19737.668772506713 seconds (aka 5.482685770140754 hours)\n",
      "Final utility = [3.166666666666666, 3.2937808902580086, 3.5395524430753245]\n",
      "Final epsilon = 0.0048140678451440875%\n",
      "Social welfare = 10.0\n",
      "Max social welfare = 10 (obtained 100.0%)\n",
      "Average iterations per second = 0.0010132908921776363\n",
      "\n",
      "---------------------\n",
      "File = 1555617947_3_4_discard_if_high\n",
      "Game = goofspiel_3_4_discard_if_high\n",
      "Total iterations = 5000\n",
      "Check every iteration = 20\n",
      "Logged 42 out of 250.0 datapoints in 116429.2060444355 seconds (aka 32.341446123454304 hours)\n",
      "Average duration of batch = 2772.1239534389406 seconds (aka 0.7700344315108169 hours)\n",
      "Final utility = [3.166666666666666, 3.682523115595077, 3.150810217738256]\n",
      "Final epsilon = 0.0013837808647396699%\n",
      "Social welfare = 9.999999999999998\n",
      "Max social welfare = 10 (obtained 99.99999999999997%)\n",
      "Average iterations per second = 0.00721468460138268\n",
      "\n",
      "---------------------\n",
      "File = 1555879046_3_4_dicard_always\n",
      "Game = goofspiel_3_4_discard_always\n",
      "Total iterations = 5000\n",
      "Check every iteration = 20\n",
      "Logged 250 out of 250.0 datapoints in 109293.83245944977 seconds (aka 30.359397905402712 hours)\n",
      "Average duration of batch = 437.1753298377991 seconds (aka 0.12143759162161086 hours)\n",
      "Solved in 109294.95927882195 seconds\n",
      "Solved in 1821.5826546470323 minutes\n",
      "Solved in 30.359710910783875 hours\n",
      "Final utility = [2.5, 2.5000000000000004, 2.4999999999999996]\n",
      "Final epsilon = 0.0031465776701643743%\n",
      "Social welfare = 7.5\n",
      "Max social welfare = 10 (obtained 75.0%)\n",
      "Average iterations per second = 0.04574776396818557\n",
      "\n",
      "---------------------\n",
      "File = 1556802205_3_4_DiscardIfAll\n",
      "Game = goofspiel_3_4_discard_if_all\n",
      "Total iterations = 5000\n",
      "Check every iteration = 20\n",
      "Logged 88 out of 250.0 datapoints in 66985.42535090446 seconds (aka 18.607062597473462 hours)\n",
      "Average duration of batch = 761.1980153511871 seconds (aka 0.21144389315310752 hours)\n",
      "Final utility = [3.3333333333333326, 3.999999999999999, 2.666666666666667]\n",
      "Final epsilon = 0.0024489994216583266%\n",
      "Social welfare = 10.0\n",
      "Max social welfare = 10 (obtained 100.0%)\n",
      "Average iterations per second = 0.026274372235157207\n",
      "\n",
      "---------------------\n",
      "File = 1555491681_3_4_discard_always\n",
      "Game = goofspiel_3_4_discard_always\n",
      "Total iterations = 5000\n",
      "Check every iteration = 20\n",
      "Logged 5 out of 250.0 datapoints in 98900.81604242325 seconds (aka 27.472448900673125 hours)\n",
      "Average duration of batch = 19780.16320848465 seconds (aka 5.494489780134625 hours)\n",
      "Final utility = [2.166666666666667, 2.5000000000000004, 2.1666666666666665]\n",
      "Final epsilon = 0.013548087526119978%\n",
      "Social welfare = 6.833333333333334\n",
      "Max social welfare = 10 (obtained 68.33333333333333%)\n",
      "Average iterations per second = 0.00101111400291283\n",
      "\n",
      "---------------------\n",
      "File = 1556284653_3_4_accumulate\n",
      "Game = goofspiel_3_4_accumulate\n",
      "Total iterations = 5000\n",
      "Check every iteration = 20\n",
      "Logged 159 out of 250.0 datapoints in 69425.02881193161 seconds (aka 19.28473022553656 hours)\n",
      "Average duration of batch = 436.6354013329032 seconds (aka 0.121287611481362 hours)\n",
      "Final utility = [3.166666666666667, 3.2937808902580095, 3.5395524430753245]\n",
      "Final epsilon = 0.003887987329314413%\n",
      "Social welfare = 10.0\n",
      "Max social welfare = 10 (obtained 100.0%)\n",
      "Average iterations per second = 0.04580480634173644\n",
      "\n",
      "---------------------\n",
      "File = 1554199851_3_4\n",
      "Game = goofspiel_3_4_accumulate\n",
      "Total iterations = 500\n",
      "Check every iteration = 5\n",
      "Logged 34 out of 100.0 datapoints in 9838.316230773926 seconds (aka 2.7328656196594237 hours)\n",
      "Average duration of batch = 289.36224208158603 seconds (aka 0.08037840057821834 hours)\n",
      "Final utility = [3.4811439793864682, 3.019749303456022, 3.4991067171575088]\n",
      "Final epsilon = 0.04342538118027326%\n",
      "Social welfare = 10.0\n",
      "Max social welfare = 10 (obtained 100.0%)\n",
      "Average iterations per second = 0.0172793795210857\n",
      "\n",
      "---------------------\n",
      "File = 1556926187_3_4_Accumulate\n",
      "Game = goofspiel_3_4_accumulate\n",
      "Total iterations = 5000\n",
      "Check every iteration = 20\n",
      "Logged 243 out of 250.0 datapoints in 124276.31092953682 seconds (aka 34.52119748042689 hours)\n",
      "Average duration of batch = 511.4251478581762 seconds (aka 0.14206254107171562 hours)\n",
      "Final utility = [3.166666666666667, 3.2937808902580095, 3.5395524430753245]\n",
      "Final epsilon = 0.002964297089118428%\n",
      "Social welfare = 10.0\n",
      "Max social welfare = 10 (obtained 100.0%)\n",
      "Average iterations per second = 0.03910640703484964\n",
      "\n",
      "---------------------\n",
      "File = 1555879067_3_4_accumulate\n",
      "Game = goofspiel_3_4_accumulate\n",
      "Total iterations = 5000\n",
      "Check every iteration = 20\n",
      "Logged 250 out of 250.0 datapoints in 80085.5873374939 seconds (aka 22.245996482637192 hours)\n",
      "Average duration of batch = 320.34234934997556 seconds (aka 0.08898398593054876 hours)\n",
      "Solved in 80086.73130178452 seconds\n",
      "Solved in 1334.7788550297419 minutes\n",
      "Solved in 22.246314250495697 hours\n",
      "Final utility = [3.166666666666667, 3.2937808902580095, 3.5395524430753245]\n",
      "Final epsilon = 0.0010508033901573733%\n",
      "Social welfare = 10.0\n",
      "Max social welfare = 10 (obtained 100.0%)\n",
      "Average iterations per second = 0.06243231455106957\n",
      "\n",
      "---------------------\n",
      "File = 1555491686_3_4_discard_if_all\n",
      "Game = goofspiel_3_4_discard_if_all\n",
      "Total iterations = 5000\n",
      "Check every iteration = 20\n",
      "Logged 4 out of 250.0 datapoints in 77193.77472043037 seconds (aka 21.442715200119547 hours)\n",
      "Average duration of batch = 19298.443680107594 seconds (aka 5.360678800029887 hours)\n",
      "Final utility = [3.166666666666666, 3.5833333333333326, 3.2500000000000004]\n",
      "Final epsilon = 0.02044634816082782%\n",
      "Social welfare = 9.999999999999998\n",
      "Max social welfare = 10 (obtained 99.99999999999997%)\n",
      "Average iterations per second = 0.001036352999833637\n",
      "\n",
      "---------------------\n",
      "File = 1556926175_3_4_DiscardAlways\n",
      "Game = goofspiel_3_4_discard_always\n",
      "Total iterations = 5000\n",
      "Check every iteration = 20\n",
      "Logged 187 out of 250.0 datapoints in 124449.8277771473 seconds (aka 34.569396604763135 hours)\n",
      "Average duration of batch = 665.5071004125524 seconds (aka 0.18486308344793123 hours)\n",
      "Final utility = [2.5, 2.5000000000000004, 2.4999999999999996]\n",
      "Final epsilon = 0.0024781470392500004%\n",
      "Social welfare = 7.5\n",
      "Max social welfare = 10 (obtained 75.0%)\n",
      "Average iterations per second = 0.030052271399661795\n",
      "\n",
      "---------------------\n",
      "File = 1555617945_3_4_discard_always\n",
      "Game = goofspiel_3_4_discard_always\n",
      "Total iterations = 5000\n",
      "Check every iteration = 20\n",
      "Logged 19 out of 250.0 datapoints in 57007.02070188522 seconds (aka 15.835283528301451 hours)\n",
      "Average duration of batch = 3000.369510625538 seconds (aka 0.8334359751737606 hours)\n",
      "Final utility = [1.9847218546936183, 2.7698807707699906, 2.2301192292300085]\n",
      "Final epsilon = 0.0065399771019872596%\n",
      "Social welfare = 6.984721854693618\n",
      "Max social welfare = 10 (obtained 69.84721854693618%)\n",
      "Average iterations per second = 0.006665845633070128\n",
      "\n",
      "---------------------\n",
      "File = 1556056269_3_4_accumulate\n",
      "Game = goofspiel_3_4_accumulate\n",
      "Total iterations = 5000\n",
      "Check every iteration = 20\n",
      "Logged 104 out of 250.0 datapoints in 47397.444727659225 seconds (aka 13.165956868794229 hours)\n",
      "Average duration of batch = 455.7446608428772 seconds (aka 0.12659573912302144 hours)\n",
      "Final utility = [3.166666666666667, 3.2937808902580095, 3.5395524430753245]\n",
      "Final epsilon = 0.0030007004509698286%\n",
      "Social welfare = 10.0\n",
      "Max social welfare = 10 (obtained 100.0%)\n",
      "Average iterations per second = 0.043884222281421775\n",
      "\n",
      "---------------------\n",
      "File = 1556056288_3_4_discard_always\n",
      "Game = goofspiel_3_4_discard_always\n",
      "Total iterations = 5000\n",
      "Check every iteration = 20\n",
      "Logged 82 out of 250.0 datapoints in 47006.29678821564 seconds (aka 13.057304663393232 hours)\n",
      "Average duration of batch = 573.2475218075077 seconds (aka 0.1592354227243077 hours)\n",
      "Final utility = [2.5, 2.5000000000000004, 2.4999999999999996]\n",
      "Final epsilon = 0.006444597067873437%\n",
      "Social welfare = 7.5\n",
      "Max social welfare = 10 (obtained 75.0%)\n",
      "Average iterations per second = 0.03488894280247033\n",
      "\n",
      "---------------------\n",
      "File = 1556926174_3_4_DiscardIfHigh\n",
      "Game = goofspiel_3_4_discard_if_high\n",
      "Total iterations = 5000\n",
      "Check every iteration = 20\n",
      "Logged 229 out of 250.0 datapoints in 124300.82450795174 seconds (aka 34.52800680776437 hours)\n",
      "Average duration of batch = 542.7983602967324 seconds (aka 0.1507773223046479 hours)\n",
      "Final utility = [3.1666666666666656, 3.25, 3.583333333333333]\n",
      "Final epsilon = 0.00027682778906310543%\n",
      "Social welfare = 10.0\n",
      "Max social welfare = 10 (obtained 100.0%)\n",
      "Average iterations per second = 0.03684609509333552\n",
      "\n",
      "---------------------\n",
      "File = 1555617948_3_4_accumulate\n",
      "Game = goofspiel_3_4_accumulate\n",
      "Total iterations = 5000\n",
      "Check every iteration = 20\n",
      "Logged 20 out of 250.0 datapoints in 57230.57563662529 seconds (aka 15.897382121284803 hours)\n",
      "Average duration of batch = 2861.5287818312645 seconds (aka 0.7948691060642401 hours)\n",
      "Final utility = [3.166666666666667, 3.2937808902580095, 3.5395524430753245]\n",
      "Final epsilon = 0.0005424144341946047%\n",
      "Social welfare = 10.0\n",
      "Max social welfare = 10 (obtained 100.0%)\n",
      "Average iterations per second = 0.006989270954388512\n",
      "\n",
      "---------------------\n",
      "File = 1556284629_3_4_discard_always\n",
      "Game = goofspiel_3_4_discard_always\n",
      "Total iterations = 5000\n",
      "Check every iteration = 20\n",
      "Logged 117 out of 250.0 datapoints in 69038.30468440056 seconds (aka 19.177306856777932 hours)\n",
      "Average duration of batch = 590.0709802085518 seconds (aka 0.1639086056134866 hours)\n",
      "Final utility = [2.5, 2.5000000000000004, 2.4999999999999996]\n",
      "Final epsilon = 0.006774600906389416%\n",
      "Social welfare = 7.5\n",
      "Max social welfare = 10 (obtained 75.0%)\n",
      "Average iterations per second = 0.03389422742486217\n",
      "\n",
      "---------------------\n",
      "File = 1557402479_3_4_Accumulate\n",
      "Game = goofspiel_3_4_accumulate\n",
      "Total iterations = 50000\n",
      "Check every iteration = 100\n",
      "Logged 65 out of 500.0 datapoints in 160663.3739540577 seconds (aka 44.62871498723825 hours)\n",
      "Average duration of batch = 2471.7442146778108 seconds (aka 0.6865956151882807 hours)\n",
      "Final utility = [3.1666666666662335, 3.2936851887689085, 3.5396481445634946]\n",
      "Final epsilon = 6.587015457260037e-06%\n",
      "Social welfare = 9.999999999998638\n",
      "Max social welfare = 10 (obtained 99.99999999998637%)\n",
      "Average iterations per second = 0.04045726066887342\n",
      "\n",
      "---------------------\n",
      "File = 1556284621_3_4_discard_if_high\n",
      "Game = goofspiel_3_4_discard_if_high\n",
      "Total iterations = 5000\n",
      "Check every iteration = 20\n",
      "Logged 143 out of 250.0 datapoints in 69239.30243945122 seconds (aka 19.23313956651423 hours)\n",
      "Average duration of batch = 484.1909261500085 seconds (aka 0.13449747948611349 hours)\n",
      "Final utility = [3.1666666666666656, 3.25, 3.583333333333333]\n",
      "Final epsilon = 0.0005817628652625029%\n",
      "Social welfare = 10.0\n",
      "Max social welfare = 10 (obtained 100.0%)\n",
      "Average iterations per second = 0.04130601983607546\n",
      "\n",
      "---------------------\n",
      "File = 1556056286_3_4_discard_if_high\n",
      "Game = goofspiel_3_4_discard_if_high\n",
      "Total iterations = 5000\n",
      "Check every iteration = 20\n",
      "Logged 97 out of 250.0 datapoints in 47351.935547828674 seconds (aka 13.153315429952409 hours)\n",
      "Average duration of batch = 488.16428399823377 seconds (aka 0.13560118999950938 hours)\n",
      "Final utility = [3.1666666666666656, 3.25, 3.583333333333333]\n",
      "Final epsilon = 0.0002727263416639758%\n",
      "Social welfare = 10.0\n",
      "Max social welfare = 10 (obtained 100.0%)\n",
      "Average iterations per second = 0.04096981417033033\n",
      "\n",
      "---------------------\n",
      "File = 1555856019_3_4_discard_if_high\n",
      "Game = goofspiel_3_4_discard_if_high\n",
      "Total iterations = 5000\n",
      "Check every iteration = 20\n",
      "Logged 250 out of 250.0 datapoints in 92126.0156750679 seconds (aka 25.590559909741085 hours)\n",
      "Average duration of batch = 368.5040627002716 seconds (aka 0.10236223963896433 hours)\n",
      "Solved in 92127.10272240639 seconds\n",
      "Solved in 1535.4517120401065 minutes\n",
      "Solved in 25.590861867335107 hours\n",
      "Final utility = [3.1666666666666656, 3.25, 3.583333333333333]\n",
      "Final epsilon = 0.000376816940980218%\n",
      "Social welfare = 10.0\n",
      "Max social welfare = 10 (obtained 100.0%)\n",
      "Average iterations per second = 0.054272845365231935\n"
     ]
    }
   ],
   "source": [
    "target_epsilons = [0.1, 0.05, 0.01, 0.005, 0.001, 0.0005]\n",
    "data_per_instance = {}\n",
    "\n",
    "for name in file_names:\n",
    "    analyze(name, target_epsilons, data_per_instance)\n",
    "    \n",
    "# Average if needed\n",
    "new_data_per_instance = {}\n",
    "for (s, data) in data_per_instance.items():\n",
    "    if type(data) != list:\n",
    "        new_data_per_instance[s] = data\n",
    "    elif len(data) > 1:\n",
    "        tot_time = [0 for _ in target_epsilons]\n",
    "        tot_it = [0 for _ in target_epsilons]\n",
    "        count = [0 for _ in target_epsilons]\n",
    "        if 'nodes_amount' in data[0]['parameters']:\n",
    "            node_count = sum(map(lambda d: d['parameters']['nodes_amount'] + d['parameters']['leaves_amount'], data)) / len(data)\n",
    "            infoset_count = sum(map(lambda d: d['parameters']['infoset_amount'], data)) / len(data)\n",
    "        else:\n",
    "            node_count = -1\n",
    "            infoset_count = -1\n",
    "        avg_sw = sum(map(lambda d: d['percent_sw'], data)) / len(data)\n",
    "        for d in data:\n",
    "            for i in range(len(target_epsilons)):\n",
    "                if d['time_to_target'][i] > 0:\n",
    "                    tot_time[i] += d['time_to_target'][i]\n",
    "                    tot_it[i] += d['iterations_to_target'][i]\n",
    "                    count[i] += 1   \n",
    "        for i in range(len(target_epsilons)):\n",
    "            if count[i] > 0:\n",
    "                tot_time[i] /= count[i]\n",
    "                tot_it[i] /= count[i]\n",
    "            else:\n",
    "                tot_time[i] = -1\n",
    "                tot_it[i] = -1\n",
    "        # Compute variance\n",
    "        variance = [-1 for _ in target_epsilons]\n",
    "        confidence = [-1 for _ in target_epsilons]\n",
    "        for i in range(len(target_epsilons)):\n",
    "            if count[i] > 1:\n",
    "                v = 0\n",
    "                for d in data:\n",
    "                    if d['time_to_target'][i] > 0:\n",
    "                        v += (d['time_to_target'][i] - tot_time[i]) ** 2\n",
    "                variance[i] = v / (count[i] - 1)\n",
    "                confidence[i] = 1.96 * math.sqrt(variance[i]) / math.sqrt(count[i])\n",
    "        new_data_per_instance[s] = {'time_to_target': tot_time,\n",
    "                                    'time_to_target_variance': variance,\n",
    "                                    'time_to_target_confidence': confidence,\n",
    "                                    'iterations_to_target': tot_it,\n",
    "                                    'parameters': data[0]['parameters'],\n",
    "                                    'avg_node_count': node_count,\n",
    "                                    'avg_infoset_count': infoset_count,\n",
    "                                    'avg_sw': avg_sw}\n",
    "    \n",
    "data_per_instance = new_data_per_instance"
   ]
  },
  {
   "cell_type": "code",
   "execution_count": 101,
   "metadata": {},
   "outputs": [],
   "source": [
    "size_data = {\n",
    "    'kuhn_3_6': (72, 147),\n",
    "    'kuhn_3_7': (84, 171),\n",
    "    'kuhn_3_8': (96, 195),\n",
    "    'kuhn_3_9': (108, 219),\n",
    "    'kuhn_3_10': (120, 243),\n",
    "    \n",
    "    'leduc_3_3_3': (684, 1371),\n",
    "    'leduc_3_3_4': (1200, 2403),\n",
    "    'leduc_3_3_5': (1860, 3723),\n",
    "    'leduc_3_3_6': (2664, 5331),\n",
    "    'leduc_3_3_7': (3612, 7227),\n",
    "    'leduc_3_3_8': (4704, 9411),\n",
    "    \n",
    "    'goofspiel_3_3_accumulate': (194, 396),\n",
    "    'goofspiel_3_3_discard_if_all': (194, 396),\n",
    "    'goofspiel_3_3_discard_if_high': (194, 396),\n",
    "    'goofspiel_3_3_discard_always': (194, 396),\n",
    "    'goofspiel_3_4_accumulate': (48966, 98523),\n",
    "    'goofspiel_3_4_discard_if_all': (48966, 98523),\n",
    "    'goofspiel_3_4_discard_if_high': (48966, 98523),\n",
    "    'goofspiel_3_4_discard_always': (48966, 98523),\n",
    "    \n",
    "    # Random sized are taken from specific dat files\n",
    "    'random_2_5_2': (24, 46),\n",
    "    'random_2_6_2': (52, 102),\n",
    "    'random_2_7_2': (94, 186),\n",
    "    'random_2_8_2': (186, 370),\n",
    "    'random_2_9_2': (383, 764),\n",
    "    'random_2_10_2': (776, 1550),\n",
    "    'random_3_5_2': (29, 55),\n",
    "    'random_3_6_2': (49, 95),\n",
    "    'random_3_7_2': (100, 197),\n",
    "    'random_3_8_2': (206, 409),\n",
    "    'random_3_9_2': (378, 753),\n",
    "    'random_3_10_2': (757, 1541),\n",
    "}"
   ]
  },
  {
   "cell_type": "code",
   "execution_count": 93,
   "metadata": {},
   "outputs": [],
   "source": [
    "def count_sequences(cfr_tree):\n",
    "    all_nodes = reduce(lambda x, y: x + y.nodes, cfr_tree.information_sets.values(), [])\n",
    "    all_leaves = list(filter(lambda n: n.isLeaf(), reduce(lambda x, y: x + y.children, all_nodes, [])))\n",
    "    all_nodes = all_nodes + all_leaves\n",
    "    \n",
    "    count = 0\n",
    "\n",
    "    for p in range(cfr_tree.numOfPlayers):\n",
    "        Q_raw = list(filter(lambda q: q != {}, map(lambda n: n.base_node.getSequence(p), all_nodes)))\n",
    "        Q = [{}] + [dict(t) for t in {tuple(d.items()) for d in Q_raw}]\n",
    "        count += len(Q)\n",
    "        \n",
    "    return count\n",
    "\n",
    "def count_infosets(cfr_tree):\n",
    "    return len(cfr_tree.information_sets)\n",
    "\n",
    "def get_size_data(par):\n",
    "    if 'infoset_amount' in par:\n",
    "        return (par['infoset_amount'], -1)\n",
    "    \n",
    "    name = parameters_to_string(par)\n",
    "    if name not in size_data:\n",
    "        if par['game'] == 'kuhn':\n",
    "            cfr_tree = CFRTree(build_kuhn_tree(par['players'], par['rank']))\n",
    "        elif par['game'] == 'leduc':\n",
    "            cfr_tree = CFRTree(build_leduc_tree(par['players'], par['suits'], par['rank'], \n",
    "                                                par['betting_parameters']))\n",
    "        elif par['game'] == 'goofspiel':\n",
    "            # Tie solver is not needed to determine the size of the game\n",
    "            cfr_tree = CFRTree(build_goofspiel_tree(par['players'], par['rank']))\n",
    "        size_data[name] = (count_infosets(cfr_tree), count_sequences(cfr_tree))\n",
    "        \n",
    "    return size_data[name]"
   ]
  },
  {
   "cell_type": "code",
   "execution_count": 94,
   "metadata": {},
   "outputs": [],
   "source": [
    "from IPython.display import HTML, display\n",
    "import tabulate"
   ]
  },
  {
   "cell_type": "code",
   "execution_count": 95,
   "metadata": {},
   "outputs": [
    {
     "name": "stdout",
     "output_type": "stream",
     "text": [
      "random_3_12_2 done\n",
      "random_3_12_2_ done\n",
      "random_3_12_2__ done\n",
      "random_3_12_2___ done\n",
      "random_3_12_2____ done\n",
      "random_3_12_2_____ done\n",
      "random_3_12_2______ done\n",
      "random_3_12_2_______ done\n",
      "random_3_12_2________ done\n",
      "random_3_12_2_________ done\n",
      "random_3_12_2__________ done\n",
      "random_3_12_2___________ done\n",
      "random_3_12_2____________ done\n",
      "random_3_12_2_____________ done\n",
      "random_3_12_2______________ done\n",
      "random_3_12_2_______________ done\n",
      "random_3_12_2________________ done\n",
      "random_3_12_2_________________ done\n",
      "random_3_12_2__________________ done\n",
      "random_3_12_2___________________ done\n",
      "random_3_12_2_average done\n"
     ]
    }
   ],
   "source": [
    "table_text = [['Game', 'Inf.', 'Delta'] + (list(map(lambda el: str(el) + '%', target_epsilons))) + ['social welfare']]\n",
    "for (game, data) in sorted(data_per_instance.items()):\n",
    "    \n",
    "    #if 'average' not in game:\n",
    "    #    continue\n",
    "    \n",
    "    par = data['parameters']\n",
    "    \n",
    "    if 'avg_infoset_count' in data:\n",
    "        size = (data['avg_infoset_count'], -1)\n",
    "    size = get_size_data(par)\n",
    "    \n",
    "    line_text = [game, size[0]]\n",
    "    line_text.append(delta_utility(par['game'], par['players'], par['rank'], par['betting_parameters']))\n",
    "    #line_text += list(map(lambda t: 'n/a' if t == -1 else str(t), data['time_to_target']))\n",
    "    \n",
    "    for (i, t) in enumerate(data['time_to_target']):\n",
    "        if t == -1:\n",
    "            line_text.append('n/a')\n",
    "            continue\n",
    "        \n",
    "        s = str(round(t, 2))\n",
    "        if 'time_to_target_variance' in data:\n",
    "            s += \" (+- \" + str(round(data['time_to_target_confidence'][i], 2)) + \")\"\n",
    "        line_text.append(s)\n",
    "        \n",
    "    if 'avg_sw' in data:\n",
    "        line_text.append(str(data['avg_sw']) + \"%\")\n",
    "    else:\n",
    "        line_text.append(str(data['percent_sw']) + \"%\")\n",
    "    \n",
    "    table_text.append(line_text)\n",
    "    \n",
    "    print(game + \" done\")"
   ]
  },
  {
   "cell_type": "code",
   "execution_count": 84,
   "metadata": {},
   "outputs": [
    {
     "data": {
      "text/html": [
       "<table>\n",
       "<tbody>\n",
       "<tr><td>Game                            </td><td>Inf.</td><td>Delta</td><td>0.1%          </td><td>0.05%          </td><td>0.01%           </td><td>0.005%           </td><td>0.001%             </td><td>0.0005%            </td><td>social welfare    </td></tr>\n",
       "<tr><td>random_3_12_2                   </td><td>3052</td><td>1    </td><td>6.38          </td><td>8.85           </td><td>43.94           </td><td>87.11            </td><td>418.77             </td><td>840.98             </td><td>88.58424001060511%</td></tr>\n",
       "<tr><td>random_3_12_2_                  </td><td>3094</td><td>1    </td><td>6.77          </td><td>13.36          </td><td>63.52           </td><td>124.6            </td><td>611.93             </td><td>1220.96            </td><td>94.06081709152431%</td></tr>\n",
       "<tr><td>random_3_12_2__                 </td><td>3077</td><td>1    </td><td>2.71          </td><td>2.71           </td><td>7.47            </td><td>10.63            </td><td>13.55              </td><td>13.55              </td><td>89.91230036524584%</td></tr>\n",
       "<tr><td>random_3_12_2___                </td><td>3061</td><td>1    </td><td>9.99          </td><td>31.82          </td><td>212.84          </td><td>419.12           </td><td>2418.98            </td><td>n/a                </td><td>89.93532474974793%</td></tr>\n",
       "<tr><td>random_3_12_2____               </td><td>3107</td><td>1    </td><td>1.69          </td><td>1.69           </td><td>5.19            </td><td>8.75             </td><td>55.32              </td><td>118.43             </td><td>96.8861222410312% </td></tr>\n",
       "<tr><td>random_3_12_2_____              </td><td>3029</td><td>1    </td><td>8.64          </td><td>15.24          </td><td>54.99           </td><td>109.22           </td><td>533.84             </td><td>1072.23            </td><td>89.88586461271991%</td></tr>\n",
       "<tr><td>random_3_12_2______             </td><td>3131</td><td>1    </td><td>1.65          </td><td>1.65           </td><td>5.16            </td><td>5.16             </td><td>5.16               </td><td>5.16               </td><td>96.39191550067805%</td></tr>\n",
       "<tr><td>random_3_12_2_______            </td><td>3065</td><td>1    </td><td>21.79         </td><td>30.25          </td><td>113.06          </td><td>224.01           </td><td>1075.52            </td><td>2130.71            </td><td>86.80265038856473%</td></tr>\n",
       "<tr><td>random_3_12_2________           </td><td>3078</td><td>1    </td><td>2.48          </td><td>2.48           </td><td>54.02           </td><td>110.34           </td><td>610.92             </td><td>1227.38            </td><td>75.36794213547218%</td></tr>\n",
       "<tr><td>random_3_12_2_________          </td><td>3038</td><td>1    </td><td>7.39          </td><td>40.58          </td><td>206.87          </td><td>414.59           </td><td>2067.73            </td><td>n/a                </td><td>86.96478994034246%</td></tr>\n",
       "<tr><td>random_3_12_2__________         </td><td>3057</td><td>1    </td><td>10.06         </td><td>12.4           </td><td>55.22           </td><td>110.88           </td><td>555.07             </td><td>1108.15            </td><td>89.98358521959813%</td></tr>\n",
       "<tr><td>random_3_12_2___________        </td><td>3077</td><td>1    </td><td>16.79         </td><td>31.51          </td><td>135.84          </td><td>269.12           </td><td>1339.3             </td><td>2667.75            </td><td>88.04121986174205%</td></tr>\n",
       "<tr><td>random_3_12_2____________       </td><td>3100</td><td>1    </td><td>6.61          </td><td>13.14          </td><td>90.06           </td><td>190.62           </td><td>1008.53            </td><td>2019.18            </td><td>93.7487327070413% </td></tr>\n",
       "<tr><td>random_3_12_2_____________      </td><td>3079</td><td>1    </td><td>7.14          </td><td>39.32          </td><td>219.58          </td><td>448.27           </td><td>2209.99            </td><td>n/a                </td><td>91.67837042672082%</td></tr>\n",
       "<tr><td>random_3_12_2______________     </td><td>3051</td><td>1    </td><td>5.83          </td><td>13.05          </td><td>78.1            </td><td>257.82           </td><td>1359.02            </td><td>2819.62            </td><td>87.65408442769247%</td></tr>\n",
       "<tr><td>random_3_12_2_______________    </td><td>3048</td><td>1    </td><td>1.85          </td><td>5.08           </td><td>23.65           </td><td>47.59            </td><td>254.36             </td><td>525.34             </td><td>87.25559538346165%</td></tr>\n",
       "<tr><td>random_3_12_2________________   </td><td>3049</td><td>1    </td><td>17.38         </td><td>33.15          </td><td>151.6           </td><td>305.94           </td><td>1520.02            </td><td>3027.52            </td><td>97.37444461302044%</td></tr>\n",
       "<tr><td>random_3_12_2_________________  </td><td>3066</td><td>1    </td><td>12.97         </td><td>25.31          </td><td>177.12          </td><td>369.26           </td><td>1935.0             </td><td>n/a                </td><td>93.426596997633%  </td></tr>\n",
       "<tr><td>random_3_12_2__________________ </td><td>3042</td><td>1    </td><td>2.5           </td><td>14.28          </td><td>28.37           </td><td>43.89            </td><td>219.13             </td><td>443.52             </td><td>90.17827204761392%</td></tr>\n",
       "<tr><td>random_3_12_2___________________</td><td>3020</td><td>1    </td><td>2.86          </td><td>2.86           </td><td>216.06          </td><td>441.65           </td><td>2212.7             </td><td>3908.16            </td><td>80.41753690407958%</td></tr>\n",
       "<tr><td>random_3_12_2_average           </td><td>3052</td><td>1    </td><td>7.67 (+- 2.53)</td><td>16.94 (+- 5.83)</td><td>97.13 (+- 33.43)</td><td>199.93 (+- 68.45)</td><td>1021.24 (+- 356.19)</td><td>1446.79 (+- 582.55)</td><td>89.72752028122675%</td></tr>\n",
       "</tbody>\n",
       "</table>"
      ],
      "text/plain": [
       "<IPython.core.display.HTML object>"
      ]
     },
     "metadata": {},
     "output_type": "display_data"
    }
   ],
   "source": [
    "display(HTML(tabulate.tabulate(table_text, tablefmt='html')))"
   ]
  },
  {
   "cell_type": "code",
   "execution_count": 96,
   "metadata": {
    "scrolled": false
   },
   "outputs": [
    {
     "data": {
      "text/html": [
       "<table>\n",
       "<tbody>\n",
       "<tr><td>Game                            </td><td>Inf.</td><td>Delta</td><td>0.1%          </td><td>0.05%            </td><td>0.01%            </td><td>0.005%             </td><td>0.001%                </td><td>0.0005%              </td><td>social welfare    </td></tr>\n",
       "<tr><td>random_3_12_2                   </td><td>3071</td><td>1    </td><td>48.56         </td><td>117.42           </td><td>934.44           </td><td>2636.43            </td><td>49940.94              </td><td>n/a                  </td><td>91.74987395643136%</td></tr>\n",
       "<tr><td>random_3_12_2_                  </td><td>3057</td><td>1    </td><td>55.98         </td><td>121.36           </td><td>966.3            </td><td>2930.84            </td><td>51944.78              </td><td>n/a                  </td><td>95.74843098546319%</td></tr>\n",
       "<tr><td>random_3_12_2__                 </td><td>3077</td><td>1    </td><td>46.75         </td><td>98.64            </td><td>711.78           </td><td>2071.38            </td><td>53103.25              </td><td>n/a                  </td><td>94.78623025536996%</td></tr>\n",
       "<tr><td>random_3_12_2___                </td><td>3135</td><td>1    </td><td>43.39         </td><td>92.87            </td><td>623.93           </td><td>1662.59            </td><td>28329.15              </td><td>n/a                  </td><td>92.561783020688%  </td></tr>\n",
       "<tr><td>random_3_12_2____               </td><td>3082</td><td>1    </td><td>46.06         </td><td>103.55           </td><td>791.88           </td><td>2415.33            </td><td>2961.93               </td><td>2977.38              </td><td>95.95032379746428%</td></tr>\n",
       "<tr><td>random_3_12_2_____              </td><td>3112</td><td>1    </td><td>40.44         </td><td>92.56            </td><td>789.25           </td><td>1416.43            </td><td>8600.05               </td><td>8660.25              </td><td>87.61833374982801%</td></tr>\n",
       "<tr><td>random_3_12_2______             </td><td>3103</td><td>1    </td><td>37.12         </td><td>92.35            </td><td>527.1            </td><td>939.5              </td><td>9013.05               </td><td>33659.94             </td><td>85.9797253995934% </td></tr>\n",
       "<tr><td>random_3_12_2_______            </td><td>3026</td><td>1    </td><td>45.27         </td><td>106.64           </td><td>802.67           </td><td>2221.13            </td><td>35498.54              </td><td>n/a                  </td><td>92.48645689951904%</td></tr>\n",
       "<tr><td>random_3_12_2________           </td><td>3035</td><td>1    </td><td>66.16         </td><td>145.12           </td><td>575.5            </td><td>609.68             </td><td>5840.8                </td><td>10759.66             </td><td>86.28010057742817%</td></tr>\n",
       "<tr><td>random_3_12_2_________          </td><td>3100</td><td>1    </td><td>37.38         </td><td>88.81            </td><td>806.54           </td><td>2996.15            </td><td>54889.76              </td><td>n/a                  </td><td>83.52358751032041%</td></tr>\n",
       "<tr><td>random_3_12_2__________         </td><td>3061</td><td>1    </td><td>48.93         </td><td>138.63           </td><td>1290.98          </td><td>3780.44            </td><td>78162.42              </td><td>n/a                  </td><td>90.30443445158646%</td></tr>\n",
       "<tr><td>random_3_12_2___________        </td><td>3093</td><td>1    </td><td>36.32         </td><td>77.8             </td><td>709.86           </td><td>1952.38            </td><td>45054.58              </td><td>n/a                  </td><td>87.66774100838252%</td></tr>\n",
       "<tr><td>random_3_12_2____________       </td><td>3078</td><td>1    </td><td>49.98         </td><td>106.6            </td><td>779.47           </td><td>2237.45            </td><td>41159.02              </td><td>n/a                  </td><td>94.0017942619059% </td></tr>\n",
       "<tr><td>random_3_12_2_____________      </td><td>3082</td><td>1    </td><td>29.96         </td><td>57.92            </td><td>989.37           </td><td>2986.83            </td><td>66404.62              </td><td>n/a                  </td><td>89.91539929751147%</td></tr>\n",
       "<tr><td>random_3_12_2______________     </td><td>3041</td><td>1    </td><td>58.21         </td><td>101.13           </td><td>763.37           </td><td>2045.96            </td><td>31129.45              </td><td>n/a                  </td><td>92.44636936748103%</td></tr>\n",
       "<tr><td>random_3_12_2_______________    </td><td>3090</td><td>1    </td><td>36.23         </td><td>121.88           </td><td>544.55           </td><td>586.9              </td><td>625.97                </td><td>632.77               </td><td>93.74420169442587%</td></tr>\n",
       "<tr><td>random_3_12_2________________   </td><td>3045</td><td>1    </td><td>31.41         </td><td>78.92            </td><td>598.3            </td><td>1613.7             </td><td>27064.8               </td><td>n/a                  </td><td>91.74970268919519%</td></tr>\n",
       "<tr><td>random_3_12_2_________________  </td><td>3080</td><td>1    </td><td>28.93         </td><td>88.06            </td><td>612.43           </td><td>1721.59            </td><td>26458.62              </td><td>n/a                  </td><td>88.10244528241088%</td></tr>\n",
       "<tr><td>random_3_12_2__________________ </td><td>3045</td><td>1    </td><td>70.45         </td><td>160.02           </td><td>1317.03          </td><td>3824.68            </td><td>65851.83              </td><td>n/a                  </td><td>91.14793778938719%</td></tr>\n",
       "<tr><td>random_3_12_2___________________</td><td>3067</td><td>1    </td><td>42.41         </td><td>91.32            </td><td>673.41           </td><td>2111.62            </td><td>48724.8               </td><td>n/a                  </td><td>87.94188082823227%</td></tr>\n",
       "<tr><td>random_3_12_2_average           </td><td>3071</td><td>1    </td><td>45.0 (+- 4.95)</td><td>104.08 (+- 10.71)</td><td>790.41 (+- 96.39)</td><td>2138.05 (+- 394.46)</td><td>36537.92 (+- 10024.92)</td><td>11338.0 (+- 11514.69)</td><td>90.68533764113121%</td></tr>\n",
       "</tbody>\n",
       "</table>"
      ],
      "text/plain": [
       "<IPython.core.display.HTML object>"
      ]
     },
     "metadata": {},
     "output_type": "display_data"
    }
   ],
   "source": [
    "display(HTML(tabulate.tabulate(table_text, tablefmt='html')))"
   ]
  },
  {
   "cell_type": "markdown",
   "metadata": {},
   "source": [
    "### Random"
   ]
  },
  {
   "cell_type": "markdown",
   "metadata": {},
   "source": [
    "#### SCFR"
   ]
  },
  {
   "cell_type": "markdown",
   "metadata": {},
   "source": [
    "#### RCFR"
   ]
  },
  {
   "cell_type": "markdown",
   "metadata": {},
   "source": [
    "### Goofspiel 3_4 (NIPS)"
   ]
  },
  {
   "cell_type": "markdown",
   "metadata": {},
   "source": [
    "#### SCFR"
   ]
  },
  {
   "cell_type": "code",
   "execution_count": 74,
   "metadata": {},
   "outputs": [
    {
     "data": {
      "text/html": [
       "<table>\n",
       "<tbody>\n",
       "<tr><td>Game                                 </td><td>Inf. </td><td>Delta</td><td>0.1%             </td><td>0.05%              </td><td>0.01%                 </td><td>0.005%                </td><td>0.001%                </td><td>0.0005%              </td><td>social welfare    </td></tr>\n",
       "<tr><td>goofspiel_3_4_accumulate_average     </td><td>98508</td><td>10   </td><td>379.21 (+- 42.59)</td><td>5594.12 (+- 817.15)</td><td>n/a                   </td><td>n/a                   </td><td>n/a                   </td><td>n/a                  </td><td>99.57435229717778%</td></tr>\n",
       "<tr><td>goofspiel_3_4_discard_always_average </td><td>98508</td><td>10   </td><td>143.27 (+- 26.08)</td><td>1954.18 (+- 354.93)</td><td>37522.76 (+- 10272.88)</td><td>55957.82 (+- 15938.51)</td><td>52614.43 (+- 24261.21)</td><td>63019.44 (+- 25521.5)</td><td>69.23593545710295%</td></tr>\n",
       "<tr><td>goofspiel_3_4_discard_if_all_average </td><td>98508</td><td>10   </td><td>557.97 (+- 58.74)</td><td>4438.38 (+- 794.18)</td><td>61936.24 (+- -1)      </td><td>n/a                   </td><td>n/a                   </td><td>n/a                  </td><td>98.6611011166768% </td></tr>\n",
       "<tr><td>goofspiel_3_4_discard_if_high_average</td><td>98508</td><td>10   </td><td>324.32 (+- 49.05)</td><td>2853.78 (+- 279.12)</td><td>42709.87 (+- 8711.42) </td><td>70809.63 (+- 19972.36)</td><td>79885.63 (+- -1)      </td><td>n/a                  </td><td>88.65005547359092%</td></tr>\n",
       "</tbody>\n",
       "</table>"
      ],
      "text/plain": [
       "<IPython.core.display.HTML object>"
      ]
     },
     "metadata": {},
     "output_type": "display_data"
    }
   ],
   "source": [
    "display(HTML(tabulate.tabulate(table_text, tablefmt='html')))"
   ]
  },
  {
   "cell_type": "markdown",
   "metadata": {},
   "source": [
    "#### RCFR (temporary)"
   ]
  },
  {
   "cell_type": "code",
   "execution_count": 65,
   "metadata": {},
   "outputs": [
    {
     "data": {
      "text/html": [
       "<table>\n",
       "<tbody>\n",
       "<tr><td>Game                                 </td><td>Inf. </td><td>Delta</td><td>0.1%                 </td><td>0.05%                 </td><td>0.01%                 </td><td>0.005%                </td><td>0.001%                </td><td>0.0005%               </td><td>social welfare    </td></tr>\n",
       "<tr><td>goofspiel_3_4_accumulate_average     </td><td>48966</td><td>10   </td><td>3621.61 (+- 5306.55) </td><td>3798.92 (+- 5267.07)  </td><td>11007.57 (+- 17719.01)</td><td>15216.13 (+- 23511.25)</td><td>18263.62 (+- 31747.88)</td><td>2065.72 (+- -1)       </td><td>99.99999999999848%</td></tr>\n",
       "<tr><td>goofspiel_3_4_discard_always_average </td><td>48966</td><td>10   </td><td>835.17 (+- 657.87)   </td><td>4903.94 (+- 7994.93)  </td><td>5908.29 (+- 4031.5)   </td><td>18002.43 (+- 4579.89) </td><td>n/a                   </td><td>n/a                   </td><td>73.03009198004492%</td></tr>\n",
       "<tr><td>goofspiel_3_4_discard_if_all_average </td><td>48966</td><td>10   </td><td>5639.75 (+- 9945.78) </td><td>10891.7 (+- 19900.56) </td><td>3715.39 (+- 733.98)   </td><td>6625.16 (+- 2251.05)  </td><td>n/a                   </td><td>n/a                   </td><td>100.0%            </td></tr>\n",
       "<tr><td>goofspiel_3_4_discard_if_high_average</td><td>48966</td><td>10   </td><td>8832.55 (+- 15676.41)</td><td>17148.56 (+- 31659.68)</td><td>8498.78 (+- 11262.09) </td><td>14902.04 (+- 16386.67)</td><td>31848.43 (+- 11462.4) </td><td>55633.34 (+- 27736.58)</td><td>100.0%            </td></tr>\n",
       "</tbody>\n",
       "</table>"
      ],
      "text/plain": [
       "<IPython.core.display.HTML object>"
      ]
     },
     "metadata": {},
     "output_type": "display_data"
    }
   ],
   "source": [
    "display(HTML(tabulate.tabulate(table_text, tablefmt='html')))"
   ]
  },
  {
   "cell_type": "markdown",
   "metadata": {},
   "source": [
    "### Leduc (NIPS)"
   ]
  },
  {
   "cell_type": "markdown",
   "metadata": {},
   "source": [
    "#### SCFR"
   ]
  },
  {
   "cell_type": "code",
   "execution_count": 78,
   "metadata": {
    "scrolled": true
   },
   "outputs": [
    {
     "data": {
      "text/html": [
       "<table>\n",
       "<tbody>\n",
       "<tr><td>Game               </td><td>Inf.</td><td>Seq.</td><td>Delta</td><td>0.1%           </td><td>0.05%               </td><td>0.01%</td><td>0.005%</td><td>0.001%</td><td>0.0005%</td></tr>\n",
       "<tr><td>leduc_3_3_4_average</td><td>1200</td><td>2403</td><td>21   </td><td>4.0 (+- 2.3)   </td><td>633.25 (+- 154.35)  </td><td>n/a  </td><td>n/a   </td><td>n/a   </td><td>n/a    </td></tr>\n",
       "<tr><td>leduc_3_3_6_average</td><td>2664</td><td>5331</td><td>21   </td><td>21.54 (+- 9.72)</td><td>7514.08 (+- 202.58) </td><td>n/a  </td><td>n/a   </td><td>n/a   </td><td>n/a    </td></tr>\n",
       "<tr><td>leduc_3_3_8_average</td><td>4704</td><td>9411</td><td>21   </td><td>35.3 (+- 20.21)</td><td>50103.64 (+- 5373.3)</td><td>n/a  </td><td>n/a   </td><td>n/a   </td><td>n/a    </td></tr>\n",
       "</tbody>\n",
       "</table>"
      ],
      "text/plain": [
       "<IPython.core.display.HTML object>"
      ]
     },
     "metadata": {},
     "output_type": "display_data"
    }
   ],
   "source": [
    "display(HTML(tabulate.tabulate(table_text, tablefmt='html')))"
   ]
  },
  {
   "cell_type": "markdown",
   "metadata": {},
   "source": [
    "#### RCFR"
   ]
  },
  {
   "cell_type": "code",
   "execution_count": 35,
   "metadata": {},
   "outputs": [
    {
     "data": {
      "text/html": [
       "<table>\n",
       "<tbody>\n",
       "<tr><td>Game       </td><td>Inf.</td><td>Delta</td><td>0.1%  </td><td>0.05%  </td><td>0.01%   </td><td>0.005%  </td><td>0.001%</td><td>0.0005%</td><td>social welfare</td></tr>\n",
       "<tr><td>leduc_3_3_4</td><td>1200</td><td>21   </td><td>1.71  </td><td>75.83  </td><td>3717.32 </td><td>22244.01</td><td>n/a   </td><td>n/a    </td><td>0%            </td></tr>\n",
       "<tr><td>leduc_3_3_6</td><td>2664</td><td>21   </td><td>8.2   </td><td>160.21 </td><td>9314.02 </td><td>40771.38</td><td>n/a   </td><td>n/a    </td><td>0%            </td></tr>\n",
       "<tr><td>leduc_3_3_8</td><td>4704</td><td>21   </td><td>464.89</td><td>1222.42</td><td>63152.23</td><td>n/a     </td><td>n/a   </td><td>n/a    </td><td>0%            </td></tr>\n",
       "</tbody>\n",
       "</table>"
      ],
      "text/plain": [
       "<IPython.core.display.HTML object>"
      ]
     },
     "metadata": {},
     "output_type": "display_data"
    }
   ],
   "source": [
    "display(HTML(tabulate.tabulate(table_text, tablefmt='html')))"
   ]
  },
  {
   "cell_type": "markdown",
   "metadata": {},
   "source": [
    "### Kuhn (NIPS)"
   ]
  },
  {
   "cell_type": "markdown",
   "metadata": {},
   "source": [
    "#### SCFR"
   ]
  },
  {
   "cell_type": "code",
   "execution_count": 69,
   "metadata": {},
   "outputs": [
    {
     "data": {
      "text/html": [
       "<table>\n",
       "<tbody>\n",
       "<tr><td>Game             </td><td>Inf.</td><td>Seq.</td><td>Delta</td><td>0.1%          </td><td>0.05%          </td><td>0.01%                </td><td>0.005%                </td><td>0.001%</td><td>0.0005%</td></tr>\n",
       "<tr><td>kuhn_3_10_average</td><td>120 </td><td>243 </td><td>6    </td><td>1.89 (+- 0.66)</td><td>22.69 (+- 5.96)</td><td>40749.64 (+- 6292.85)</td><td>n/a                   </td><td>n/a   </td><td>n/a    </td></tr>\n",
       "<tr><td>kuhn_3_6_average </td><td>72  </td><td>147 </td><td>6    </td><td>0.22 (+- 0.06)</td><td>1.41 (+- 0.38) </td><td>1460.04 (+- 265.44)  </td><td>33334.91 (+- 7179.25) </td><td>n/a   </td><td>n/a    </td></tr>\n",
       "<tr><td>kuhn_3_7_average </td><td>84  </td><td>171 </td><td>6    </td><td>0.62 (+- 0.31)</td><td>4.22 (+- 1.36) </td><td>3825.62 (+- 1569.9)  </td><td>61871.17 (+- 21964.93)</td><td>n/a   </td><td>n/a    </td></tr>\n",
       "</tbody>\n",
       "</table>"
      ],
      "text/plain": [
       "<IPython.core.display.HTML object>"
      ]
     },
     "metadata": {},
     "output_type": "display_data"
    }
   ],
   "source": [
    "display(HTML(tabulate.tabulate(table_text, tablefmt='html')))"
   ]
  },
  {
   "cell_type": "markdown",
   "metadata": {},
   "source": [
    "#### RCFR"
   ]
  },
  {
   "cell_type": "code",
   "execution_count": 25,
   "metadata": {},
   "outputs": [
    {
     "data": {
      "text/html": [
       "<table>\n",
       "<tbody>\n",
       "<tr><td>Game             </td><td>Inf.</td><td>Delta</td><td>0.1%          </td><td>0.05%         </td><td>0.01%         </td><td>0.005%         </td><td>0.001%            </td><td>0.0005%             </td><td>social welfare</td></tr>\n",
       "<tr><td>kuhn_3_10_average</td><td>120 </td><td>6    </td><td>7.21 (+- 0.19)</td><td>7.21 (+- 0.19)</td><td>17.2 (+- 0.45)</td><td>72.78 (+- 1.56)</td><td>1901.22 (+- 20.62)</td><td>15086.15 (+- 187.72)</td><td>-1%           </td></tr>\n",
       "<tr><td>kuhn_3_6_average </td><td>72  </td><td>6    </td><td>1.03 (+- 0.03)</td><td>1.03 (+- 0.03)</td><td>4.55 (+- 0.1) </td><td>13.41 (+- 0.26)</td><td>67.86 (+- 0.77)   </td><td>681.55 (+- 10.16)   </td><td>-1%           </td></tr>\n",
       "<tr><td>kuhn_3_7_average </td><td>84  </td><td>6    </td><td>2.35 (+- 0.34)</td><td>2.35 (+- 0.34)</td><td>7.92 (+- 1.25)</td><td>14.33 (+- 2.4) </td><td>649.72 (+- 12.36) </td><td>3087.58 (+- 29.1)   </td><td>-1%           </td></tr>\n",
       "</tbody>\n",
       "</table>"
      ],
      "text/plain": [
       "<IPython.core.display.HTML object>"
      ]
     },
     "metadata": {},
     "output_type": "display_data"
    }
   ],
   "source": [
    "display(HTML(tabulate.tabulate(table_text, tablefmt='html')))"
   ]
  },
  {
   "cell_type": "markdown",
   "metadata": {},
   "source": [
    "### Table for number of iterations instead of running time"
   ]
  },
  {
   "cell_type": "code",
   "execution_count": 24,
   "metadata": {},
   "outputs": [],
   "source": [
    "table_text2 = [['Targets'] + (list(map(str, target_epsilons)))]\n",
    "for (game, data) in sorted(data_per_instance.items()):\n",
    "    line_text = [game] + list(map(lambda t: 'n/a' if t == -1 else str(t), data['iterations_to_target']))\n",
    "    table_text2.append(line_text)"
   ]
  },
  {
   "cell_type": "code",
   "execution_count": 25,
   "metadata": {},
   "outputs": [
    {
     "data": {
      "text/html": [
       "<table>\n",
       "<tbody>\n",
       "<tr><td>Targets             </td><td style=\"text-align: right;\">  0.1</td><td style=\"text-align: right;\">   0.05</td><td>0.01</td><td>0.005</td><td>0.001</td><td>0.0005</td></tr>\n",
       "<tr><td>leduc_3_3_4         </td><td style=\"text-align: right;\"> 50  </td><td style=\"text-align: right;\">1500   </td><td>n/a </td><td>n/a  </td><td>n/a  </td><td>n/a   </td></tr>\n",
       "<tr><td>leduc_3_3_4_        </td><td style=\"text-align: right;\"> 50  </td><td style=\"text-align: right;\">1400   </td><td>n/a </td><td>n/a  </td><td>n/a  </td><td>n/a   </td></tr>\n",
       "<tr><td>leduc_3_3_4__       </td><td style=\"text-align: right;\"> 50  </td><td style=\"text-align: right;\">1450   </td><td>n/a </td><td>n/a  </td><td>n/a  </td><td>n/a   </td></tr>\n",
       "<tr><td>leduc_3_3_4___      </td><td style=\"text-align: right;\"> 50  </td><td style=\"text-align: right;\">1400   </td><td>n/a </td><td>n/a  </td><td>n/a  </td><td>n/a   </td></tr>\n",
       "<tr><td>leduc_3_3_4____     </td><td style=\"text-align: right;\"> 50  </td><td style=\"text-align: right;\">1450   </td><td>n/a </td><td>n/a  </td><td>n/a  </td><td>n/a   </td></tr>\n",
       "<tr><td>leduc_3_3_4_____    </td><td style=\"text-align: right;\">100  </td><td style=\"text-align: right;\">1450   </td><td>n/a </td><td>n/a  </td><td>n/a  </td><td>n/a   </td></tr>\n",
       "<tr><td>leduc_3_3_4______   </td><td style=\"text-align: right;\"> 50  </td><td style=\"text-align: right;\">1400   </td><td>n/a </td><td>n/a  </td><td>n/a  </td><td>n/a   </td></tr>\n",
       "<tr><td>leduc_3_3_4_______  </td><td style=\"text-align: right;\">150  </td><td style=\"text-align: right;\">1800   </td><td>n/a </td><td>n/a  </td><td>n/a  </td><td>n/a   </td></tr>\n",
       "<tr><td>leduc_3_3_4________ </td><td style=\"text-align: right;\">150  </td><td style=\"text-align: right;\">1700   </td><td>n/a </td><td>n/a  </td><td>n/a  </td><td>n/a   </td></tr>\n",
       "<tr><td>leduc_3_3_4_________</td><td style=\"text-align: right;\">100  </td><td style=\"text-align: right;\">1300   </td><td>n/a </td><td>n/a  </td><td>n/a  </td><td>n/a   </td></tr>\n",
       "<tr><td>leduc_3_3_4_average </td><td style=\"text-align: right;\"> 80  </td><td style=\"text-align: right;\">1485   </td><td>n/a </td><td>n/a  </td><td>n/a  </td><td>n/a   </td></tr>\n",
       "<tr><td>leduc_3_3_6         </td><td style=\"text-align: right;\"> 50  </td><td style=\"text-align: right;\">2450   </td><td>n/a </td><td>n/a  </td><td>n/a  </td><td>n/a   </td></tr>\n",
       "<tr><td>leduc_3_3_6_        </td><td style=\"text-align: right;\">100  </td><td style=\"text-align: right;\">2450   </td><td>n/a </td><td>n/a  </td><td>n/a  </td><td>n/a   </td></tr>\n",
       "<tr><td>leduc_3_3_6__       </td><td style=\"text-align: right;\">150  </td><td style=\"text-align: right;\">2350   </td><td>n/a </td><td>n/a  </td><td>n/a  </td><td>n/a   </td></tr>\n",
       "<tr><td>leduc_3_3_6___      </td><td style=\"text-align: right;\"> 50  </td><td style=\"text-align: right;\">2400   </td><td>n/a </td><td>n/a  </td><td>n/a  </td><td>n/a   </td></tr>\n",
       "<tr><td>leduc_3_3_6____     </td><td style=\"text-align: right;\">100  </td><td style=\"text-align: right;\">2350   </td><td>n/a </td><td>n/a  </td><td>n/a  </td><td>n/a   </td></tr>\n",
       "<tr><td>leduc_3_3_6_____    </td><td style=\"text-align: right;\"> 50  </td><td style=\"text-align: right;\">2450   </td><td>n/a </td><td>n/a  </td><td>n/a  </td><td>n/a   </td></tr>\n",
       "<tr><td>leduc_3_3_6______   </td><td style=\"text-align: right;\"> 50  </td><td style=\"text-align: right;\">2400   </td><td>n/a </td><td>n/a  </td><td>n/a  </td><td>n/a   </td></tr>\n",
       "<tr><td>leduc_3_3_6_______  </td><td style=\"text-align: right;\">150  </td><td style=\"text-align: right;\">2350   </td><td>n/a </td><td>n/a  </td><td>n/a  </td><td>n/a   </td></tr>\n",
       "<tr><td>leduc_3_3_6________ </td><td style=\"text-align: right;\">100  </td><td style=\"text-align: right;\">2300   </td><td>n/a </td><td>n/a  </td><td>n/a  </td><td>n/a   </td></tr>\n",
       "<tr><td>leduc_3_3_6_________</td><td style=\"text-align: right;\">150  </td><td style=\"text-align: right;\">2450   </td><td>n/a </td><td>n/a  </td><td>n/a  </td><td>n/a   </td></tr>\n",
       "<tr><td>leduc_3_3_6_average </td><td style=\"text-align: right;\"> 95  </td><td style=\"text-align: right;\">2395   </td><td>n/a </td><td>n/a  </td><td>n/a  </td><td>n/a   </td></tr>\n",
       "<tr><td>leduc_3_3_8         </td><td style=\"text-align: right;\"> 50  </td><td style=\"text-align: right;\">3350   </td><td>n/a </td><td>n/a  </td><td>n/a  </td><td>n/a   </td></tr>\n",
       "<tr><td>leduc_3_3_8_        </td><td style=\"text-align: right;\"> 50  </td><td style=\"text-align: right;\">3500   </td><td>n/a </td><td>n/a  </td><td>n/a  </td><td>n/a   </td></tr>\n",
       "<tr><td>leduc_3_3_8__       </td><td style=\"text-align: right;\"> 50  </td><td style=\"text-align: right;\">3150   </td><td>n/a </td><td>n/a  </td><td>n/a  </td><td>n/a   </td></tr>\n",
       "<tr><td>leduc_3_3_8___      </td><td style=\"text-align: right;\"> 50  </td><td style=\"text-align: right;\">3800   </td><td>n/a </td><td>n/a  </td><td>n/a  </td><td>n/a   </td></tr>\n",
       "<tr><td>leduc_3_3_8____     </td><td style=\"text-align: right;\"> 50  </td><td style=\"text-align: right;\">3600   </td><td>n/a </td><td>n/a  </td><td>n/a  </td><td>n/a   </td></tr>\n",
       "<tr><td>leduc_3_3_8_____    </td><td style=\"text-align: right;\"> 50  </td><td style=\"text-align: right;\">3800   </td><td>n/a </td><td>n/a  </td><td>n/a  </td><td>n/a   </td></tr>\n",
       "<tr><td>leduc_3_3_8______   </td><td style=\"text-align: right;\"> 50  </td><td style=\"text-align: right;\">3600   </td><td>n/a </td><td>n/a  </td><td>n/a  </td><td>n/a   </td></tr>\n",
       "<tr><td>leduc_3_3_8_______  </td><td style=\"text-align: right;\">150  </td><td style=\"text-align: right;\">3100   </td><td>n/a </td><td>n/a  </td><td>n/a  </td><td>n/a   </td></tr>\n",
       "<tr><td>leduc_3_3_8________ </td><td style=\"text-align: right;\"> 50  </td><td style=\"text-align: right;\">3500   </td><td>n/a </td><td>n/a  </td><td>n/a  </td><td>n/a   </td></tr>\n",
       "<tr><td>leduc_3_3_8_________</td><td style=\"text-align: right;\"> 50  </td><td style=\"text-align: right;\">3050   </td><td>n/a </td><td>n/a  </td><td>n/a  </td><td>n/a   </td></tr>\n",
       "<tr><td>leduc_3_3_8_average </td><td style=\"text-align: right;\"> 60  </td><td style=\"text-align: right;\">3445   </td><td>n/a </td><td>n/a  </td><td>n/a  </td><td>n/a   </td></tr>\n",
       "</tbody>\n",
       "</table>"
      ],
      "text/plain": [
       "<IPython.core.display.HTML object>"
      ]
     },
     "metadata": {},
     "output_type": "display_data"
    }
   ],
   "source": [
    "display(HTML(tabulate.tabulate(table_text2, tablefmt='html')))"
   ]
  },
  {
   "cell_type": "markdown",
   "metadata": {},
   "source": [
    "## Time comparisons"
   ]
  },
  {
   "cell_type": "code",
   "execution_count": null,
   "metadata": {},
   "outputs": [],
   "source": [
    "def compare(files, xlims_time = None, xlims_iter = None, ylims = None, legend = None, title = 'Comparison'):\n",
    "    fig_time, ax_time = plt.subplots()\n",
    "    fig_iter, ax_iter = plt.subplots()\n",
    "    \n",
    "    for filename in files:\n",
    "        file = open(filename, \"r\")\n",
    "        data = json.load(file)\n",
    "        file.close()\n",
    "\n",
    "        print(\"File = \" + filename)\n",
    "        print(\"Game = \" + parameters_to_string(data['parameters']))\n",
    "\n",
    "        print(\"Total iterations = \" + str(data['parameters']['number_iterations']))\n",
    "        print(\"Check every iteration = \" + str(data['parameters']['check_every_iteration']))\n",
    "\n",
    "        durations = list(map(lambda el: el['duration'], data['data']))\n",
    "\n",
    "        du = delta_utility(data['parameters']['game'], data['parameters']['players'], data['parameters']['rank'],\n",
    "                   data['parameters']['betting_parameters'], data['parameters']['color_distribution'], \n",
    "                   data['parameters']['suits'])\n",
    "\n",
    "        iteration_counts = list(map(lambda el: el['iteration_number'], data['data']))\n",
    "        epsilons = list(map(lambda el: max(0, -min(el['epsilon'])), data['data']))\n",
    "        percent_epsilons = list(map(lambda el: el / du, epsilons))\n",
    "        cum_durations = [sum(durations[:i]) for i in range(len(durations))]\n",
    "        \n",
    "        ax_time.plot(cum_durations, percent_epsilons)\n",
    "        ax_iter.plot(iteration_counts, percent_epsilons)\n",
    "        \n",
    "    if legend == None:\n",
    "        legend = [\"Result \" + str(i+1) for i in range(len(files))]\n",
    "    ax_time.legend(legend)\n",
    "    ax_iter.legend(legend)\n",
    "    ax_time.set(xlabel = \"Time [s]\", ylabel = \"Epsilon [%]\")\n",
    "    ax_iter.set(xlabel = \"Iterations\", ylabel = \"Epsilon [%]\")\n",
    "    if ylims != None:\n",
    "        ax_time.set_ylim(ylims)\n",
    "        ax_iter.set_ylim(ylims)\n",
    "    if xlims_time != None:\n",
    "        ax_time.set_xlim(xlims_time)\n",
    "    if xlims_iter != None:\n",
    "        ax_iter.set_xlim(xlims_iter)\n",
    "    ax_time.set_title(title)\n",
    "    ax_iter.set_title(title)"
   ]
  },
  {
   "cell_type": "code",
   "execution_count": null,
   "metadata": {
    "scrolled": true
   },
   "outputs": [],
   "source": [
    "compare(['results/remote/RCFR/kuhn/1553957872_3_8', 'results/remote/kuhn_20190120/1547765102_3_8'],\n",
    "        xlims = (0, 15000), ylims = (0, 0.02), legend = ['RCFR', 'SCFR'], title = 'Kuhn 3_8')\n",
    "compare(['results/remote/RCFR/kuhn/1553957872_3_8', 'results/remote/kuhn_short_20190121/1548008650_3_8'],\n",
    "        xlims = (0, 15000), ylims = (0, 0.02), legend = ['RCFR', 'SCFR'], title = 'Kuhn 3_8')\n",
    "compare(['results/remote/RCFR/kuhn/1553957868_3_7', 'results/remote/kuhn_20190120/1547765096_3_7'],\n",
    "        xlims = (0, 7000), ylims = (0, 0.02), legend = ['RCFR', 'SCFR'], title = 'Kuhn 3_7')"
   ]
  },
  {
   "cell_type": "code",
   "execution_count": null,
   "metadata": {},
   "outputs": [],
   "source": [
    "compare(['results/remote/RCFR/kuhn/1553957883_3_10', 'results/remote/RCFR_notopt/kuhn/1554108461_3_10'],\n",
    "        xlims = (0, 10000), legend = ['RCFR', 'RCFR_nopt'], title = 'Kuhn 3_10')"
   ]
  },
  {
   "cell_type": "code",
   "execution_count": null,
   "metadata": {
    "scrolled": true
   },
   "outputs": [],
   "source": [
    "compare(['results/remote/RCFR/kuhn/1553957872_3_8', 'results/remote/RCFR_notopt/kuhn/1554108461_3_8',\n",
    "         'results/remote/kuhn_20190120/1547765102_3_8'],\n",
    "        xlims = (0, 5000), legend = ['RCFR', 'RCFR_nopt', 'SCFR'], title = 'Kuhn 3_8')\n",
    "compare(['results/remote/RCFR/kuhn/1553957872_3_8', 'results/remote/RCFR_notopt/kuhn/1554108461_3_8',\n",
    "         'results/remote/kuhn_20190120/1547765102_3_8'],\n",
    "        xlims = (0, 1000), ylims = (0, 0.05), legend = ['RCFR', 'RCFR_nopt', 'SCFR'], title = 'Kuhn 3_8')"
   ]
  },
  {
   "cell_type": "code",
   "execution_count": null,
   "metadata": {
    "scrolled": true
   },
   "outputs": [],
   "source": [
    "compare(['results/remote/RCFR_notopt/goofspiel/1554199851_3_4', \n",
    "         'results/remote/goofspiel_long_20180122/1548105218_3_4'], legend = [\"RCFR_nopt\", \"SCFR\"],\n",
    "         title = \"Goofspiel 3_4\")\n",
    "\n",
    "compare(['results/remote/RCFR_notopt/goofspiel/1554382206_3_4', \n",
    "         'results/remote/goofspiel_long_20180122/1548105218_3_4'], legend = [\"RCFR_nopt\", \"SCFR\"],\n",
    "         title = \"Goofspiel 3_4\")"
   ]
  },
  {
   "cell_type": "code",
   "execution_count": null,
   "metadata": {},
   "outputs": [],
   "source": [
    "compare(['results/remote/RCFR_notopt/hanabi/1554413019_2_2_[2_1]_1_1', \n",
    "         'results/remote/SCFR_hanabi/hanabi/1554461737_2_2_[2_1]_1_1'], legend = [\"RCFR_nopt\", \"SCFR\"],\n",
    "         title = \"Hanabi 2 colors [2, 1] distribution\")"
   ]
  },
  {
   "cell_type": "code",
   "execution_count": null,
   "metadata": {},
   "outputs": [],
   "source": [
    "compare(['results/remote/hanabi_tests/RCFR_nopt/hanabi/1554739324_3_1_[2_2_1]_1_1',\n",
    "         'results/remote/hanabi_tests/SCFR/hanabi/1554739324_3_1_[2_2_1]_1_1'], ylims = (0, 0.02), \n",
    "        legend = [\"RCFR\", \"SCFR\"])"
   ]
  },
  {
   "cell_type": "code",
   "execution_count": null,
   "metadata": {},
   "outputs": [],
   "source": [
    "compare(['results/remote/hanabi_tests/RCFR/hanabi/1554830690_2_1_[2_2_1]_1_1',\n",
    "         'results/remote/hanabi_tests/RCFR_nopt/hanabi/1554830690_2_1_[2_2_1]_1_1',\n",
    "         'results/remote/hanabi_tests/SCFR/hanabi/1554830690_2_1_[2_2_1]_1_1'], \n",
    "         legend = [\"RCFR\", \"RCFR_nopt\", \"SCFR\"], xlims = (0, 10000), ylims = (0, 0.05))"
   ]
  },
  {
   "cell_type": "code",
   "execution_count": null,
   "metadata": {},
   "outputs": [],
   "source": [
    "compare(['results/remote/hanabi_tests/SCFR/hanabi/1554741241_3_2_[2_1]_1_1',\n",
    "         'results/remote/hanabi_tests/RCFR_nopt/hanabi/1554741154_3_2_[2_1]_1_1'], \n",
    "         legend = [\"SCFR\", \"RCFR_nopt\"])"
   ]
  },
  {
   "cell_type": "code",
   "execution_count": null,
   "metadata": {},
   "outputs": [],
   "source": [
    "compare(['results/remote/hanabi_tests/RCFR_nopt/hanabi/1554831012_2_2_[2_1]_1_1',\n",
    "         'results/remote/hanabi_tests/SCFR/hanabi/1554831004_2_2_[2_1]_1_1'], ylims = (0, 0.2), \n",
    "        legend = [\"RCFR_nopt\", \"SCFR\"])"
   ]
  },
  {
   "cell_type": "markdown",
   "metadata": {},
   "source": [
    "---"
   ]
  },
  {
   "cell_type": "markdown",
   "metadata": {},
   "source": [
    "## SCFR/CFR/CFR+ comparisons"
   ]
  },
  {
   "cell_type": "code",
   "execution_count": null,
   "metadata": {},
   "outputs": [],
   "source": [
    "import numpy as np"
   ]
  },
  {
   "cell_type": "code",
   "execution_count": null,
   "metadata": {},
   "outputs": [],
   "source": [
    "def compare_algorithms(filename, filename_cfr, filename_cfr_plus, cumsum_durations = False):\n",
    "    file = open(filename, \"r\")\n",
    "    data = json.load(file)\n",
    "    file.close()\n",
    "\n",
    "    file_cfr = open(filename_cfr, \"r\")\n",
    "    data_cfr = json.load(file_cfr)\n",
    "    file_cfr.close()\n",
    "\n",
    "    file_cfr_plus = open(filename_cfr_plus, \"r\")\n",
    "    data_cfr_plus = json.load(file_cfr_plus)\n",
    "    file_cfr_plus.close()    \n",
    "\n",
    "    durations = list(map(lambda el: el['duration'], data['data']))\n",
    "    durations_cfr = list(map(lambda el: el['duration'], data_cfr['data']))\n",
    "    durations_cfr_plus = list(map(lambda el: el['duration'], data_cfr_plus['data']))\n",
    "\n",
    "    du = delta_utility(data['parameters']['game'], data['parameters']['players'], data['parameters']['rank'],\n",
    "                   data['parameters']['betting_parameters'])\n",
    "    du_cfr = delta_utility(data_cfr['parameters']['game'], data_cfr['parameters']['players'], \n",
    "                           data_cfr['parameters']['rank'], data_cfr['parameters']['betting_parameters'])\n",
    "    du_cfr_plus = delta_utility(data_cfr_plus['parameters']['game'], data_cfr_plus['parameters']['players'], \n",
    "                           data_cfr_plus['parameters']['rank'], data_cfr_plus['parameters']['betting_parameters'])\n",
    "\n",
    "    iteration_counts = list(map(lambda el: el['iteration_number'], data['data']))\n",
    "    epsilons = list(map(lambda el: max(0, -min(el['epsilon'])), data['data']))\n",
    "    percent_epsilons = list(map(lambda el: el / du, epsilons))\n",
    "    iteration_counts_cfr = list(map(lambda el: el['iteration_number'], data_cfr['data']))\n",
    "    epsilons_cfr = list(map(lambda el: max(0, -min(el['epsilon'])), data_cfr['data']))\n",
    "    percent_epsilons_cfr = list(map(lambda el: el / du_cfr, epsilons_cfr))\n",
    "    iteration_counts_cfr_plus = list(map(lambda el: el['iteration_number'], data_cfr_plus['data']))\n",
    "    epsilons_cfr_plus = list(map(lambda el: max(0, -min(el['epsilon'])), data_cfr_plus['data']))\n",
    "    percent_epsilons_cfr_plus = list(map(lambda el: el / du_cfr_plus, epsilons_cfr_plus))\n",
    "    utilities = list(map(lambda el: el['utility'], data['data']))\n",
    "    utilities_cfr = list(map(lambda el: el['utility'], data_cfr['data']))\n",
    "    utilities_cfr_plus = list(map(lambda el: el['utility'], data_cfr_plus['data']))\n",
    "\n",
    "    print(data['parameters'])\n",
    "    if 'total_duration' in data:\n",
    "        print(\"Duration = \" + str(data['total_duration']) + \" seconds\")\n",
    "        print(\"Utility = \" + str(data['utility']))\n",
    "        print(\"Social welfare = \" + str(sum(data['utility'])))\n",
    "        print(\"Max delta utility = \" + str(max(data['utility']) - min(data['utility'])))\n",
    "    else:\n",
    "        print(\"--- Computation was stopped before the end ---\")\n",
    "        print(\"Duration = \" + str(sum(durations)) + \" seconds\")\n",
    "        print(\"Last logged utility = \" + str(utilities[len(utilities)-1]))\n",
    "        print(\"Social welfare = \" + str(sum(utilities[len(utilities)-1])))\n",
    "        print(\"Max delta utility = \" + str(max(utilities[len(utilities)-1]) - min(utilities[len(utilities)-1])))\n",
    "    print('')\n",
    "    print(data_cfr['parameters'])\n",
    "    if 'total_duration' in data_cfr:\n",
    "        print(\"Duration = \" + str(data_cfr['total_duration']) + \" seconds\")\n",
    "        print(\"Utility = \" + str(data_cfr['utility']))\n",
    "        print(\"Social welfare = \" + str(sum(data_cfr['utility'])))\n",
    "        print(\"Max delta utility = \" + str(max(data_cfr['utility']) - min(data_cfr['utility'])))\n",
    "    else:\n",
    "        print(\"--- Computation was stopped before the end ---\")\n",
    "        print(\"Duration = \" + str(sum(durations_cfr)) + \" seconds\")\n",
    "        print(\"Last logged utility = \" + str(utilities_cfr[len(utilities_cfr)-1]))\n",
    "        print(\"Social welfare = \" + str(sum(utilities_cfr[len(utilities_cfr)-1])))\n",
    "        print(\"Max delta utility = \" + str(max(utilities_cfr[len(utilities_cfr)-1]) - \\\n",
    "                                           min(utilities_cfr[len(utilities_cfr)-1])))\n",
    "    print('')\n",
    "    print(data_cfr_plus['parameters'])\n",
    "    if 'total_duration' in data_cfr_plus:\n",
    "        print(\"Duration = \" + str(data_cfr_plus['total_duration']) + \" seconds\")\n",
    "        print(\"Utility = \" + str(data_cfr_plus['utility']))\n",
    "        print(\"Social welfare = \" + str(sum(data_cfr_plus['utility'])))\n",
    "        print(\"Max delta utility = \" + str(max(data_cfr_plus['utility']) - min(data_cfr_plus['utility'])))\n",
    "    else:\n",
    "        print(\"--- Computation was stopped before the end ---\")\n",
    "        print(\"Duration = \" + str(sum(durations_cfr_plus)) + \" seconds\")\n",
    "        print(\"Last logged utility = \" + str(utilities_cfr_plus[len(utilities_cfr_plus)-1]))\n",
    "        print(\"Social welfare = \" + str(sum(utilities_cfr_plus[len(utilities_cfr_plus)-1])))\n",
    "        print(\"Max delta utility = \" + str(max(utilities_cfr_plus[len(utilities_cfr_plus)-1]) - \\\n",
    "                                           min(utilities_cfr_plus[len(utilities_cfr_plus)-1])))\n",
    "    print('')\n",
    "\n",
    "    #plt.plot(iteration_counts, epsilons)\n",
    "    #plt.plot(iteration_counts_cfr, epsilons_cfr)\n",
    "    #plt.plot(iteration_counts_cfr_plus, epsilons_cfr_plus)\n",
    "    #plt.show()\n",
    "    \n",
    "    plt.plot(iteration_counts, percent_epsilons)\n",
    "    plt.plot(iteration_counts_cfr, percent_epsilons_cfr)\n",
    "    plt.plot(iteration_counts_cfr_plus, percent_epsilons_cfr_plus)\n",
    "    plt.legend(['scfr','cfr', 'cfr+'])\n",
    "    plt.show()\n",
    "    \n",
    "    plt.plot(np.cumsum(durations), percent_epsilons)\n",
    "    plt.plot(np.cumsum(durations_cfr) if cumsum_durations else durations_cfr, percent_epsilons_cfr)\n",
    "    plt.plot(np.cumsum(durations_cfr_plus) if cumsum_durations else durations_cfr_plus, percent_epsilons_cfr_plus)\n",
    "    plt.legend(['scfr','cfr', 'cfr+'])\n",
    "    plt.show()"
   ]
  },
  {
   "cell_type": "code",
   "execution_count": null,
   "metadata": {},
   "outputs": [],
   "source": [
    "compare_algorithms('results/remote/goofspiel_cfr_comparisons_20190122/goofspiel_3_4_scfr_accumulate',\n",
    "                   'results/remote/goofspiel_cfr_comparisons_20190122/goofspiel_3_4_cfr_accumulate',\n",
    "                   'results/remote/goofspiel_cfr_comparisons_20190122/goofspiel_3_4_cfr_plus_accumulate')"
   ]
  },
  {
   "cell_type": "code",
   "execution_count": null,
   "metadata": {},
   "outputs": [],
   "source": [
    "compare_algorithms('results/remote/goofspiel_cfr_comparisons_20190122/goofspiel_3_3_scfr_accumulate',\n",
    "                   'results/remote/goofspiel_cfr_comparisons_20190122/goofspiel_3_3_cfr_accumulate',\n",
    "                   'results/remote/goofspiel_cfr_comparisons_20190122/goofspiel_3_3_cfr_plus_accumulate',\n",
    "                   cumsum_durations = True)"
   ]
  },
  {
   "cell_type": "code",
   "execution_count": null,
   "metadata": {},
   "outputs": [],
   "source": [
    "compare_algorithms('results/remote/goofspiel_cfr_comparisons_20190122/goofspiel_3_3_scfr_discard_if_all',\n",
    "                   'results/remote/goofspiel_cfr_comparisons_20190122/goofspiel_3_3_cfr_discard_if_all', \n",
    "                   'results/remote/goofspiel_cfr_comparisons_20190122/goofspiel_3_3_cfr_plus_discard_if_all',\n",
    "                   cumsum_durations = True)"
   ]
  },
  {
   "cell_type": "code",
   "execution_count": null,
   "metadata": {},
   "outputs": [],
   "source": [
    "compare_algorithms('results/remote/goofspiel_cfr_comparisons_20190122/goofspiel_3_3_scfr_discard_if_high',\n",
    "                   'results/remote/goofspiel_cfr_comparisons_20190122/goofspiel_3_3_cfr_discard_if_high',\n",
    "                   'results/remote/goofspiel_cfr_comparisons_20190122/goofspiel_3_3_cfr_plus_discard_if_high',\n",
    "                   cumsum_durations = True)"
   ]
  },
  {
   "cell_type": "code",
   "execution_count": null,
   "metadata": {},
   "outputs": [],
   "source": [
    "compare_algorithms('results/remote/goofspiel_cfr_comparisons_20190122/goofspiel_3_3_scfr_discard_always',\n",
    "                   'results/remote/goofspiel_cfr_comparisons_20190122/goofspiel_3_3_cfr_discard_always',\n",
    "                   'results/remote/goofspiel_cfr_comparisons_20190122/goofspiel_3_3_cfr_plus_discard_always',\n",
    "                   cumsum_durations = True)"
   ]
  },
  {
   "cell_type": "code",
   "execution_count": null,
   "metadata": {},
   "outputs": [],
   "source": [
    "compare_algorithms('results/remote/goofspiel_long_20180122/1548105233_3_4',\n",
    "                   'results/remote/goofspiel_cfr_comparisons_20190122/goofspiel_3_4_cfr_discard_always_ALBO',\n",
    "                   'results/remote/goofspiel_cfr_comparisons_20190122/goofspiel_3_4_cfr_plus_discard_always_ALBO',\n",
    "                   cumsum_durations = True)"
   ]
  },
  {
   "cell_type": "code",
   "execution_count": null,
   "metadata": {},
   "outputs": [],
   "source": [
    "compare_algorithms('results/remote/goofspiel_long_20180122/1548105230_3_4',\n",
    "                   'results/remote/goofspiel_cfr_comparisons_20190122/goofspiel_3_4_cfr_discard_if_high_ALBO',\n",
    "                   'results/remote/goofspiel_cfr_comparisons_20190122/goofspiel_3_4_cfr_plus_discard_if_high_ALBO',\n",
    "                   cumsum_durations = True)"
   ]
  },
  {
   "cell_type": "code",
   "execution_count": null,
   "metadata": {},
   "outputs": [],
   "source": [
    "compare_algorithms('results/remote/goofspiel_long_20180122/1548105224_3_4',\n",
    "                   'results/remote/goofspiel_cfr_comparisons_20190122/goofspiel_3_4_cfr_discard_if_all_ALBO',\n",
    "                   'results/remote/goofspiel_cfr_comparisons_20190122/goofspiel_3_4_cfr_plus_discard_if_all_ALBO',\n",
    "                   cumsum_durations = True)"
   ]
  },
  {
   "cell_type": "markdown",
   "metadata": {},
   "source": [
    "## Data to CSV for tikz"
   ]
  },
  {
   "cell_type": "code",
   "execution_count": null,
   "metadata": {},
   "outputs": [],
   "source": [
    "f1 = open('results/remote/goofspiel_long_20180122/1548105233_3_4', 'r')\n",
    "f2 = open('results/remote/goofspiel_cfr_comparisons_20190122/goofspiel_3_4_cfr_discard_always_ALBO', 'r')\n",
    "f3 = open('results/remote/goofspiel_cfr_comparisons_20190122/goofspiel_3_4_cfr_plus_discard_always_ALBO', 'r')\n",
    "\n",
    "f4 = open('results/remote/goofspiel_cfr_comparisons_20190122/goofspiel_3_4_scfr_accumulate', 'r')\n",
    "f5 = open('results/remote/goofspiel_cfr_comparisons_20190122/goofspiel_3_4_cfr_accumulate', 'r')\n",
    "f6 = open('results/remote/goofspiel_cfr_comparisons_20190122/goofspiel_3_4_cfr_plus_accumulate', 'r')\n",
    "\n",
    "data1 = json.load(f1)\n",
    "data2 = json.load(f2)\n",
    "data3 = json.load(f3)\n",
    "\n",
    "data4 = json.load(f4)\n",
    "data5 = json.load(f5)\n",
    "data6 = json.load(f6)\n",
    "\n",
    "durations1 = list(map(lambda el: el['duration'], data1['data']))\n",
    "durations2 = list(map(lambda el: el['duration'], data2['data']))\n",
    "durations3 = list(map(lambda el: el['duration'], data3['data']))\n",
    "\n",
    "durations4 = list(map(lambda el: el['duration'], data4['data']))\n",
    "durations5 = list(map(lambda el: el['duration'], data5['data']))\n",
    "durations6 = list(map(lambda el: el['duration'], data6['data']))\n",
    "\n",
    "du = delta_utility('goofspiel', 3, 4)\n",
    "\n",
    "with open(\"cfr_comparison_3_4_discard_always_scfr.csv\", 'w') as o:\n",
    "    o.write('iteration, epsilon, t\\n')\n",
    "    \n",
    "    for i in range(len(data1['data'])):\n",
    "        d = data1['data'][i]\n",
    "        o.write(str(d['iteration_number']) + ', ' + str(-min(d['epsilon']) / du) + ', ' + \\\n",
    "                str(sum(durations1[:i+1])) + \"\\n\")\n",
    "        \n",
    "with open(\"cfr_comparison_3_4_discard_always_cfr.csv\", 'w') as o:\n",
    "    o.write('iteration, epsilon, t\\n')\n",
    "    \n",
    "    for i in range(len(data2['data'])):\n",
    "        d = data2['data'][i]\n",
    "        o.write(str(d['iteration_number']) + ', ' + str(-min(d['epsilon']) / du) + ', ' + \\\n",
    "                str(sum(durations2[:i+1])) + \"\\n\")\n",
    "        \n",
    "with open(\"cfr_comparison_3_4_discard_always_cfr_plus.csv\", 'w') as o:\n",
    "    o.write('iteration, epsilon, t\\n')\n",
    "    \n",
    "    for i in range(len(data3['data'])):\n",
    "        d = data3['data'][i]\n",
    "        o.write(str(d['iteration_number']) + ', ' + str(-min(d['epsilon']) / du) + ', ' + \\\n",
    "                str(sum(durations3[:i+1])) + \"\\n\")\n",
    "\n",
    "with open(\"cfr_comparison_3_4_accumulate.csv\", 'w') as o:\n",
    "    o.write('iteration, scfr, cfr, cfr+\\n')\n",
    "    \n",
    "    iterations = list(map(lambda el: el['iteration_number'], data4['data']))\n",
    "    epsilons4 = list(map(lambda el: -min(el['epsilon']) / du, data4['data']))\n",
    "    epsilons5 = list(map(lambda el: -min(el['epsilon']) / du, data5['data']))\n",
    "    epsilons6 = list(map(lambda el: -min(el['epsilon']) / du, data6['data']))\n",
    "    \n",
    "    for (it, s, c, cp) in zip(iterations, epsilons4, epsilons5, epsilons6):\n",
    "        o.write(str(it) + ', ' + str(s) + ', ' + str(c) + ', ' + str(cp) + '\\n')\n",
    "        \n",
    "f1.close()\n",
    "f2.close()\n",
    "f3.close()\n",
    "\n",
    "f4.close()\n",
    "f5.close()\n",
    "f6.close()"
   ]
  },
  {
   "cell_type": "code",
   "execution_count": null,
   "metadata": {},
   "outputs": [],
   "source": [
    "icml_data_folder  = \"../../../../Dropbox/Honours Programme/Shared Material/ICML-19/imgs/data/\""
   ]
  },
  {
   "cell_type": "code",
   "execution_count": null,
   "metadata": {},
   "outputs": [],
   "source": [
    "def print_csv(name1, name2, name3):\n",
    "    f1 = open(name1, 'r')\n",
    "    f2 = open(name2, 'r')\n",
    "    f3 = open(name3, 'r')\n",
    "\n",
    "    data1 = json.load(f1)\n",
    "    data2 = json.load(f2)\n",
    "    data3 = json.load(f3)\n",
    "\n",
    "    durations1 = list(map(lambda el: el['duration'], data1['data']))\n",
    "    durations2 = list(map(lambda el: el['duration'], data2['data']))\n",
    "    durations3 = list(map(lambda el: el['duration'], data3['data']))\n",
    "\n",
    "    du = delta_utility('goofspiel', 3, 4)\n",
    "\n",
    "    shortest_run = min(sum(durations1), sum(durations2), sum(durations3))\n",
    "    \n",
    "    ts = data1['parameters']['tie_solver']\n",
    "\n",
    "    with open(icml_data_folder + \"cfr_comparison_3_4_\" + ts + \"_scfr.csv\", 'w') as o:\n",
    "        o.write('iteration, epsilon, t\\n')\n",
    "\n",
    "        for i in range(len(data1['data'])):\n",
    "            if sum(durations1[:i+1]) > shortest_run:\n",
    "                break\n",
    "\n",
    "            d = data1['data'][i]\n",
    "            o.write(str(d['iteration_number']) + ', ' + str(-min(d['epsilon'] + [0]) / du) + ', ' + \\\n",
    "                    str(sum(durations1[:i+1])) + \"\\n\")\n",
    "\n",
    "    with open(icml_data_folder + \"cfr_comparison_3_4_\" + ts + \"_cfr.csv\", 'w') as o:\n",
    "        o.write('iteration, epsilon, t\\n')\n",
    "\n",
    "        for i in range(len(data2['data'])):\n",
    "            if sum(durations2[:i+1]) > shortest_run:\n",
    "                break\n",
    "\n",
    "            d = data2['data'][i]\n",
    "            o.write(str(d['iteration_number']) + ', ' + str(-min(d['epsilon'] + [0]) / du) + ', ' + \\\n",
    "                    str(sum(durations2[:i+1])) + \"\\n\")\n",
    "\n",
    "    with open(icml_data_folder + \"cfr_comparison_3_4_\" + ts + \"_cfr_plus.csv\", 'w') as o:\n",
    "        o.write('iteration, epsilon, t\\n')\n",
    "\n",
    "        for i in range(len(data3['data'])):\n",
    "            if sum(durations3[:i+1]) > shortest_run:\n",
    "                break\n",
    "\n",
    "            d = data3['data'][i]\n",
    "            o.write(str(d['iteration_number']) + ', ' + str(-min(d['epsilon'] + [0]) / du) + ', ' + \\\n",
    "                    str(sum(durations3[:i+1])) + \"\\n\")\n",
    "\n",
    "    f1.close()\n",
    "    f2.close()\n",
    "    f3.close()"
   ]
  },
  {
   "cell_type": "code",
   "execution_count": null,
   "metadata": {},
   "outputs": [],
   "source": [
    "print_csv('results/remote/goofspiel_long_20180122/1548105233_3_4',\n",
    "          'results/remote/goofspiel_cfr_comparisons_20190122/goofspiel_3_4_cfr_discard_always_ALBO',\n",
    "          'results/remote/goofspiel_cfr_comparisons_20190122/goofspiel_3_4_cfr_plus_discard_always_ALBO')"
   ]
  },
  {
   "cell_type": "code",
   "execution_count": null,
   "metadata": {},
   "outputs": [],
   "source": [
    "print_csv('results/remote/goofspiel_long_20180122/1548105230_3_4',\n",
    "                   'results/remote/goofspiel_cfr_comparisons_20190122/goofspiel_3_4_cfr_discard_if_high_ALBO',\n",
    "                   'results/remote/goofspiel_cfr_comparisons_20190122/goofspiel_3_4_cfr_plus_discard_if_high_ALBO')"
   ]
  },
  {
   "cell_type": "code",
   "execution_count": null,
   "metadata": {},
   "outputs": [],
   "source": [
    "print_csv('results/remote/goofspiel_long_20180122/1548105224_3_4',\n",
    "                   'results/remote/goofspiel_cfr_comparisons_20190122/goofspiel_3_4_cfr_discard_if_all_ALBO',\n",
    "                   'results/remote/goofspiel_cfr_comparisons_20190122/goofspiel_3_4_cfr_plus_discard_if_all_ALBO')"
   ]
  },
  {
   "cell_type": "code",
   "execution_count": null,
   "metadata": {},
   "outputs": [],
   "source": []
  }
 ],
 "metadata": {
  "kernelspec": {
   "display_name": "Python 3",
   "language": "python",
   "name": "python3"
  },
  "language_info": {
   "codemirror_mode": {
    "name": "ipython",
    "version": 3
   },
   "file_extension": ".py",
   "mimetype": "text/x-python",
   "name": "python",
   "nbconvert_exporter": "python",
   "pygments_lexer": "ipython3",
   "version": "3.5.2"
  }
 },
 "nbformat": 4,
 "nbformat_minor": 2
}
