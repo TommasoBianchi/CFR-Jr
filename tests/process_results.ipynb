{
 "cells": [
  {
   "cell_type": "code",
   "execution_count": 1,
   "metadata": {},
   "outputs": [
    {
     "name": "stdout",
     "output_type": "stream",
     "text": [
      "/home/tommy/Scrivania/Polimi/Honours Programme/SCFR\n"
     ]
    }
   ],
   "source": [
    "cd .."
   ]
  },
  {
   "cell_type": "code",
   "execution_count": 2,
   "metadata": {},
   "outputs": [],
   "source": [
    "from os import listdir, path\n",
    "import json\n",
    "import matplotlib.pyplot as plt\n",
    "\n",
    "from data_structures.cfr_trees import CFRTree\n",
    "from games.goofspiel import build_goofspiel_tree\n",
    "from games.kuhn import build_kuhn_tree\n",
    "from games.leduc import build_leduc_tree\n",
    "from functools import reduce\n",
    "import math\n",
    "\n",
    "import numpy as np"
   ]
  },
  {
   "cell_type": "code",
   "execution_count": 3,
   "metadata": {},
   "outputs": [],
   "source": [
    "def parameters_to_string(par):\n",
    "    if(par['game'] == 'kuhn'):\n",
    "        return 'kuhn_' + str(par['players']) + '_' + str(par['rank'])\n",
    "    if(par['game'] == 'leduc'):\n",
    "        return 'leduc_' + str(par['players']) + '_' + str(par['suits']) + '_' + str(par['rank'])\n",
    "    if(par['game'] == 'goofspiel'):\n",
    "        return 'goofspiel_' + str(par['players']) + '_' + str(par['rank']) + '_' + str(par['tie_solver'])\n",
    "    if(par['game'] == 'random'):\n",
    "        return 'random_' + str(par['players']) + '_' + str(par['depth']) + '_' + str(par['branching_factor'])\n",
    "    if(par['game'] == 'hanabi'):\n",
    "        return 'hanabi_' + str(par['players']) + '_' + str(par['suits']) + '_' + \\\n",
    "                str(par['color_distribution']).replace(' ','').replace(',','_') + '_' + \\\n",
    "                str(par['cards_per_player']) + '_' + str(par['starting_clue_tokens'])"
   ]
  },
  {
   "cell_type": "code",
   "execution_count": 4,
   "metadata": {},
   "outputs": [],
   "source": [
    "# TODO: check it, in particular for bigger versions of goofspiel\n",
    "# TODO: implement different goofspiel TieSolver\n",
    "\n",
    "def delta_utility(game, players, rank, betting_parameters = [2, 4], color_distribution = None, suits = 1):\n",
    "    if game == 'kuhn':\n",
    "        return 2 * players\n",
    "    if game == 'leduc':\n",
    "        return players + players * betting_parameters[0] + players * betting_parameters[1]\n",
    "    if game == 'goofspiel':\n",
    "        return sum(list(range(1, rank+1)))\n",
    "    if game == 'random':\n",
    "        return 1\n",
    "    if game == 'hanabi':\n",
    "        return (len(color_distribution) + 1) * suits"
   ]
  },
  {
   "cell_type": "code",
   "execution_count": 5,
   "metadata": {},
   "outputs": [],
   "source": [
    "def max_social_welfare(game, players, rank, betting_parameters = [2, 4], color_distribution = None, suits = 1):\n",
    "    if game == 'kuhn' or game == 'leduc':\n",
    "        return 0\n",
    "    if game == 'goofspiel':\n",
    "        return sum(list(range(1, rank+1)))\n",
    "    if game == 'random':\n",
    "        return players\n",
    "    if game == 'hanabi':\n",
    "        return (len(color_distribution)) * suits * players"
   ]
  },
  {
   "cell_type": "code",
   "execution_count": 135,
   "metadata": {},
   "outputs": [],
   "source": [
    "target_directory = \"results/remote/nips/RCFR/goofspiel/\""
   ]
  },
  {
   "cell_type": "code",
   "execution_count": 136,
   "metadata": {},
   "outputs": [],
   "source": [
    "file_names = listdir(target_directory)"
   ]
  },
  {
   "cell_type": "code",
   "execution_count": 137,
   "metadata": {},
   "outputs": [],
   "source": [
    "def analyze(name, target_epsilons, data_per_instance, print_graphs = False):\n",
    "    if path.isdir(target_directory + name):\n",
    "        return\n",
    "    \n",
    "    print(\"\\n---------------------\")\n",
    "    print(\"File = \" + name)\n",
    "    \n",
    "    file = open(target_directory + name, \"r\")\n",
    "    data = json.load(file)\n",
    "    \n",
    "    print(\"Game = \" + parameters_to_string(data['parameters']))\n",
    "    \n",
    "    print(\"Total iterations = \" + str(data['parameters']['number_iterations']))\n",
    "    print(\"Check every iteration = \" + str(data['parameters']['check_every_iteration']))\n",
    "    \n",
    "    # --------- SKIP 2 PLAYERS LEDUC AND GOOFSPIEL (AND RANDOM) ---------\n",
    "    #if data['parameters']['game'] in ['goofspiel', 'leduc', 'random'] and data['parameters']['players'] == 2:\n",
    "    #    print(\"---------------------------\")\n",
    "    #    print(\"Skipping 2 player versions\")\n",
    "    #    print(\"---------------------------\")\n",
    "    #    print(\"\")\n",
    "    #    return\n",
    "    # ------------------------------------------------------\n",
    "    \n",
    "    durations = list(map(lambda el: el['duration'], data['data']))\n",
    "    \n",
    "    target_datapoint_amount = int(data['parameters']['number_iterations']) / int(data['parameters']['check_every_iteration'])\n",
    "    run_time = sum(durations)\n",
    "    avg_time = run_time / len(durations)\n",
    "    print(\"Logged \" + str(len(data['data'])) + \" out of \" + str(target_datapoint_amount) + \" datapoints in \" + \\\n",
    "          str(run_time) + \" seconds (aka \" + str(run_time/3600) + \" hours)\")\n",
    "    print(\"Average duration of batch = \" + str(avg_time) + \" seconds (aka \" + str(avg_time/3600) + \" hours)\")\n",
    "\n",
    "    if 'total_duration' in data:\n",
    "        running_time = data['total_duration']\n",
    "        print(\"Solved in \" + str(running_time) + \" seconds\")\n",
    "        print(\"Solved in \" + str(running_time / 60) + \" minutes\")\n",
    "        print(\"Solved in \" + str(running_time / 3600) + \" hours\")\n",
    "        \n",
    "    if 'utility' in data:\n",
    "        u = data['utility']\n",
    "    elif 'utility' in data['data'][-1]:\n",
    "        u = data['data'][-1]['utility']\n",
    "    else:\n",
    "        u = [-1]\n",
    "        \n",
    "    if 'color_distribution' not in data['parameters']:\n",
    "        data['parameters']['color_distribution'] = []\n",
    "        \n",
    "    du = delta_utility(data['parameters']['game'], data['parameters']['players'], data['parameters']['rank'],\n",
    "                   data['parameters']['betting_parameters'], data['parameters']['color_distribution'], \n",
    "                   data['parameters']['suits'])\n",
    "        \n",
    "    sw = sum(u)\n",
    "    print(\"Final utility = \" + str(u))\n",
    "    print(\"Final epsilon = \" + str(-min(data['data'][-1]['epsilon']) / du) + \"%\")\n",
    "    print(\"Social welfare = \" + str(sw))\n",
    "    max_sw = max_social_welfare(data['parameters']['game'], data['parameters']['players'], \n",
    "                                data['parameters']['rank'], data['parameters']['betting_parameters'],\n",
    "                                data['parameters']['color_distribution'], data['parameters']['suits'])\n",
    "    if max_sw != 0:\n",
    "        print(\"Max social welfare = \" + str(max_sw) + \" (obtained \" + \\\n",
    "              str(sw / max_sw * 100) + \"%)\")\n",
    "\n",
    "    if 'total_duration' in data:\n",
    "        print(\"Average iterations per second = \" + str(data['average_iterations_per_second']))\n",
    "    else:\n",
    "        print(\"Average iterations per second = \" + str(data['parameters']['check_every_iteration'] / avg_time))\n",
    "\n",
    "    iteration_counts = list(map(lambda el: el['iteration_number'], data['data']))\n",
    "    epsilons = list(map(lambda el: max(0, -min(el['epsilon'])), data['data']))\n",
    "    percent_epsilons = list(map(lambda el: el / du, epsilons))\n",
    "    if 'utility' in data['data'][0]:\n",
    "        utilities = list(map(lambda el: sum(el['utility']), data['data']))\n",
    "    if max_sw != 0 and 'utility' in data['data'][0]:\n",
    "        percent_utilities = list(map(lambda el: el / max_sw, utilities))\n",
    "    #absolute_joint_sizes = list(map(lambda el: el['absolute_joint_size'], data['data']))\n",
    "    #relative_joint_sizes = list(map(lambda el: el['relative_joint_size'], data['data']))\n",
    "    #max_plan_frequencies = list(map(lambda el: el['max_plan_frequency'], data['data']))\n",
    "    #joint_support_sizes = list(map(lambda el: el['joint_support_size'], data['data']))\n",
    "    \n",
    "    if print_graphs:\n",
    "        plt.plot(iteration_counts, epsilons)\n",
    "        plt.title('Epsilons')\n",
    "        plt.show()\n",
    "        plt.plot(iteration_counts, percent_epsilons)\n",
    "        plt.title('Percent epsilons')\n",
    "        plt.show()\n",
    "        if max_sw != 0 and 'utility' in data['data'][0]:\n",
    "            plt.plot(iteration_counts, percent_utilities)\n",
    "            plt.title('Percent social welfare')\n",
    "            plt.show()\n",
    "    \n",
    "    time_to_target = []\n",
    "    iterations_to_target = []\n",
    "    \n",
    "    for t in target_epsilons:\n",
    "        indices_below_t = [i for i in range(len(epsilons)) if percent_epsilons[i] <= t]\n",
    "        if len(indices_below_t) > 0:\n",
    "            time_to_t = sum(durations[:indices_below_t[0]+1])\n",
    "            iterations_to_target.append((indices_below_t[0]+1) * int(data['parameters']['check_every_iteration']))\n",
    "        else:\n",
    "            time_to_t = -1\n",
    "            iterations_to_target.append(-1)\n",
    "        time_to_target.append(round(time_to_t, 5))\n",
    "    \n",
    "    s = parameters_to_string(data['parameters'])\n",
    "    \n",
    "    d = {'time_to_target': time_to_target,\n",
    "        'iterations_to_target': iterations_to_target,\n",
    "        'parameters': data['parameters'],\n",
    "        'percent_sw': sw / max_sw * 100 if max_sw > 0 else 0}\n",
    "    \n",
    "    if (s + '_average') not in data_per_instance:\n",
    "        data_per_instance[s + '_average'] = []\n",
    "    data_per_instance[s + '_average'].append(d)\n",
    "    \n",
    "    while s in data_per_instance:\n",
    "        s += '_'\n",
    "    data_per_instance[s] = d"
   ]
  },
  {
   "cell_type": "code",
   "execution_count": 138,
   "metadata": {
    "scrolled": true
   },
   "outputs": [
    {
     "name": "stdout",
     "output_type": "stream",
     "text": [
      "\n",
      "---------------------\n",
      "File = 1558511958_2_4_Accumulate\n",
      "Game = goofspiel_2_4_accumulate\n",
      "Total iterations = 50000\n",
      "Check every iteration = 50\n",
      "Logged 121 out of 1000.0 datapoints in 95012.24334955215 seconds (aka 26.392289819320045 hours)\n",
      "Average duration of batch = 785.2251516491914 seconds (aka 0.21811809768033094 hours)\n",
      "Final utility = [4.418709760093388, 5.525328565907438]\n",
      "Final epsilon = 0.003672627580255927%\n",
      "Social welfare = 9.944038326000825\n",
      "Max social welfare = 10 (obtained 99.44038326000826%)\n",
      "Average iterations per second = 0.06367600413077203\n",
      "\n",
      "---------------------\n",
      "File = 1558511967_2_4_DiscardIfAll\n",
      "Game = goofspiel_2_4_discard_if_all\n",
      "Total iterations = 50000\n",
      "Check every iteration = 50\n",
      "Logged 337 out of 1000.0 datapoints in 95561.99214076996 seconds (aka 26.544997816880542 hours)\n",
      "Average duration of batch = 283.56674225747764 seconds (aka 0.07876853951596602 hours)\n",
      "Final utility = [4.838590094731522, 4.916459642931247]\n",
      "Final epsilon = 0.0014078535486758525%\n",
      "Social welfare = 9.75504973766277\n",
      "Max social welfare = 10 (obtained 97.5504973766277%)\n",
      "Average iterations per second = 0.1763253320962448\n",
      "\n",
      "---------------------\n",
      "File = 1558511977_2_4_DiscardAlways\n",
      "Game = goofspiel_2_4_discard_always\n",
      "Total iterations = 50000\n",
      "Check every iteration = 50\n",
      "Logged 349 out of 1000.0 datapoints in 95148.30965280533 seconds (aka 26.430086014668145 hours)\n",
      "Average duration of batch = 272.6312597501585 seconds (aka 0.07573090548615515 hours)\n",
      "Final utility = [4.8303754819649924, 4.923235101421309]\n",
      "Final epsilon = 0.0014442109468850717%\n",
      "Social welfare = 9.753610583386301\n",
      "Max social welfare = 10 (obtained 97.536105833863%)\n",
      "Average iterations per second = 0.1833978981200483\n",
      "\n",
      "---------------------\n",
      "File = 1558601663_2_4_DiscardIfHigh\n",
      "Game = goofspiel_2_4_discard_if_high\n",
      "Total iterations = 50000\n",
      "Check every iteration = 250\n",
      "Logged 130 out of 200.0 datapoints in 22914.22283434868 seconds (aka 6.365061898430189 hours)\n",
      "Average duration of batch = 176.26325257191291 seconds (aka 0.048962014603309144 hours)\n",
      "Final utility = [4.853352767803792, 4.913815875727929]\n",
      "Final epsilon = 0.008346450221492585%\n",
      "Social welfare = 9.767168643531722\n",
      "Max social welfare = 10 (obtained 97.67168643531721%)\n",
      "Average iterations per second = 1.4183330691574725\n",
      "\n",
      "---------------------\n",
      "File = 1558601671_2_4_DiscardAlways\n",
      "Game = goofspiel_2_4_discard_always\n",
      "Total iterations = 50000\n",
      "Check every iteration = 250\n",
      "Logged 131 out of 200.0 datapoints in 22824.42165374756 seconds (aka 6.3401171260409885 hours)\n",
      "Average duration of batch = 174.23222636448517 seconds (aka 0.04839784065680144 hours)\n",
      "Final utility = [4.851900636919225, 4.915312839411359]\n",
      "Final epsilon = 0.008181474802780642%\n",
      "Social welfare = 9.767213476330584\n",
      "Max social welfare = 10 (obtained 97.67213476330583%)\n",
      "Average iterations per second = 1.434866587063018\n",
      "\n",
      "---------------------\n",
      "File = 1558601662_2_4_Accumulate\n",
      "Game = goofspiel_2_4_accumulate\n",
      "Total iterations = 50000\n",
      "Check every iteration = 250\n",
      "Logged 69 out of 200.0 datapoints in 22292.988589525223 seconds (aka 6.192496830423673 hours)\n",
      "Average duration of batch = 323.08679115253943 seconds (aka 0.0897463308757054 hours)\n",
      "Final utility = [4.418944642550973, 5.528960158657051]\n",
      "Final epsilon = 0.008393422530628847%\n",
      "Social welfare = 9.947904801208024\n",
      "Max social welfare = 10 (obtained 99.47904801208024%)\n",
      "Average iterations per second = 0.773785889259605\n",
      "\n",
      "---------------------\n",
      "File = 1558511971_2_4_DiscardIfHigh\n",
      "Game = goofspiel_2_4_discard_if_high\n",
      "Total iterations = 50000\n",
      "Check every iteration = 50\n",
      "Logged 342 out of 1000.0 datapoints in 95120.49954462051 seconds (aka 26.42236098461681 hours)\n",
      "Average duration of batch = 278.13011562754536 seconds (aka 0.07725836545209594 hours)\n",
      "Final utility = [4.8335080865025795, 4.919261561993603]\n",
      "Final epsilon = 0.0014560356864167013%\n",
      "Social welfare = 9.752769648496184\n",
      "Max social welfare = 10 (obtained 97.52769648496184%)\n",
      "Average iterations per second = 0.17977197430484984\n",
      "\n",
      "---------------------\n",
      "File = 1558601662_2_4_DiscardIfAll\n",
      "Game = goofspiel_2_4_discard_if_all\n",
      "Total iterations = 50000\n",
      "Check every iteration = 250\n",
      "Logged 129 out of 200.0 datapoints in 22890.76524758339 seconds (aka 6.358545902106497 hours)\n",
      "Average duration of batch = 177.4477926169255 seconds (aka 0.04929105350470153 hours)\n",
      "Final utility = [4.856002520370461, 4.911009725087856]\n",
      "Final epsilon = 0.008235385915314008%\n",
      "Social welfare = 9.767012245458318\n",
      "Max social welfare = 10 (obtained 97.67012245458318%)\n",
      "Average iterations per second = 1.4088650882217524\n"
     ]
    }
   ],
   "source": [
    "target_epsilons = [0.1, 0.05, 0.01, 0.005, 0.001, 0.0005]\n",
    "data_per_instance = {}\n",
    "\n",
    "for name in file_names:\n",
    "    analyze(name, target_epsilons, data_per_instance)\n",
    "    \n",
    "# Average if needed\n",
    "new_data_per_instance = {}\n",
    "for (s, data) in data_per_instance.items():\n",
    "    if type(data) != list:\n",
    "        new_data_per_instance[s] = data\n",
    "    elif len(data) > 1:\n",
    "        tot_time = [0 for _ in target_epsilons]\n",
    "        tot_it = [0 for _ in target_epsilons]\n",
    "        count = [0 for _ in target_epsilons]\n",
    "        if 'nodes_amount' in data[0]['parameters']:\n",
    "            node_count = sum(map(lambda d: d['parameters']['nodes_amount'] + d['parameters']['leaves_amount'], data)) / len(data)\n",
    "            infoset_count = sum(map(lambda d: d['parameters']['infoset_amount'], data)) / len(data)\n",
    "        else:\n",
    "            node_count = -1\n",
    "            infoset_count = -1\n",
    "        avg_sw = sum(map(lambda d: d['percent_sw'], data)) / len(data)\n",
    "        for d in data:\n",
    "            for i in range(len(target_epsilons)):\n",
    "                if d['time_to_target'][i] > 0:\n",
    "                    tot_time[i] += d['time_to_target'][i]\n",
    "                    tot_it[i] += d['iterations_to_target'][i]\n",
    "                    count[i] += 1   \n",
    "        for i in range(len(target_epsilons)):\n",
    "            if count[i] > 0:\n",
    "                tot_time[i] /= count[i]\n",
    "                tot_it[i] /= count[i]\n",
    "            else:\n",
    "                tot_time[i] = -1\n",
    "                tot_it[i] = -1\n",
    "        # Compute variance\n",
    "        variance = [-1 for _ in target_epsilons]\n",
    "        confidence = [-1 for _ in target_epsilons]\n",
    "        for i in range(len(target_epsilons)):\n",
    "            if count[i] > 1:\n",
    "                v = 0\n",
    "                for d in data:\n",
    "                    if d['time_to_target'][i] > 0:\n",
    "                        v += (d['time_to_target'][i] - tot_time[i]) ** 2\n",
    "                variance[i] = v / (count[i] - 1)\n",
    "                confidence[i] = 1.96 * math.sqrt(variance[i]) / math.sqrt(count[i])\n",
    "        new_data_per_instance[s] = {'time_to_target': tot_time,\n",
    "                                    'time_to_target_variance': variance,\n",
    "                                    'time_to_target_confidence': confidence,\n",
    "                                    'iterations_to_target': tot_it,\n",
    "                                    'parameters': data[0]['parameters'],\n",
    "                                    'avg_node_count': node_count,\n",
    "                                    'avg_infoset_count': infoset_count,\n",
    "                                    'avg_sw': avg_sw}\n",
    "    \n",
    "data_per_instance = new_data_per_instance"
   ]
  },
  {
   "cell_type": "code",
   "execution_count": 139,
   "metadata": {},
   "outputs": [],
   "source": [
    "size_data = {\n",
    "    'kuhn_3_6': (72, 147),\n",
    "    'kuhn_3_7': (84, 171),\n",
    "    'kuhn_3_8': (96, 195),\n",
    "    'kuhn_3_9': (108, 219),\n",
    "    'kuhn_3_10': (120, 243),\n",
    "    \n",
    "    'leduc_3_3_3': (684, 1371),\n",
    "    'leduc_3_3_4': (1200, 2403),\n",
    "    'leduc_3_3_5': (1860, 3723),\n",
    "    'leduc_3_3_6': (2664, 5331),\n",
    "    'leduc_3_3_7': (3612, 7227),\n",
    "    'leduc_3_3_8': (4704, 9411),\n",
    "    \n",
    "    'goofspiel_3_3_accumulate': (194, 396),\n",
    "    'goofspiel_3_3_discard_if_all': (194, 396),\n",
    "    'goofspiel_3_3_discard_if_high': (194, 396),\n",
    "    'goofspiel_3_3_discard_always': (194, 396),\n",
    "    'goofspiel_3_4_accumulate': (48966, 98523),\n",
    "    'goofspiel_3_4_discard_if_all': (48966, 98523),\n",
    "    'goofspiel_3_4_discard_if_high': (48966, 98523),\n",
    "    'goofspiel_3_4_discard_always': (48966, 98523),\n",
    "    \n",
    "    # Random sized are taken from specific dat files\n",
    "    'random_2_5_2': (24, 46),\n",
    "    'random_2_6_2': (52, 102),\n",
    "    'random_2_7_2': (94, 186),\n",
    "    'random_2_8_2': (186, 370),\n",
    "    'random_2_9_2': (383, 764),\n",
    "    'random_2_10_2': (776, 1550),\n",
    "    'random_3_5_2': (29, 55),\n",
    "    'random_3_6_2': (49, 95),\n",
    "    'random_3_7_2': (100, 197),\n",
    "    'random_3_8_2': (206, 409),\n",
    "    'random_3_9_2': (378, 753),\n",
    "    'random_3_10_2': (757, 1541),\n",
    "}"
   ]
  },
  {
   "cell_type": "code",
   "execution_count": 140,
   "metadata": {},
   "outputs": [],
   "source": [
    "def count_sequences(cfr_tree):\n",
    "    all_nodes = reduce(lambda x, y: x + y.nodes, cfr_tree.information_sets.values(), [])\n",
    "    all_leaves = list(filter(lambda n: n.isLeaf(), reduce(lambda x, y: x + y.children, all_nodes, [])))\n",
    "    all_nodes = all_nodes + all_leaves\n",
    "    \n",
    "    count = 0\n",
    "\n",
    "    for p in range(cfr_tree.numOfPlayers):\n",
    "        Q_raw = list(filter(lambda q: q != {}, map(lambda n: n.base_node.getSequence(p), all_nodes)))\n",
    "        Q = [{}] + [dict(t) for t in {tuple(d.items()) for d in Q_raw}]\n",
    "        count += len(Q)\n",
    "        \n",
    "    return count\n",
    "\n",
    "def count_infosets(cfr_tree):\n",
    "    return len(cfr_tree.information_sets)\n",
    "\n",
    "def get_size_data(par):\n",
    "    if 'infoset_amount' in par:\n",
    "        return (par['infoset_amount'], -1)\n",
    "    \n",
    "    name = parameters_to_string(par)\n",
    "    if name not in size_data:\n",
    "        if par['game'] == 'kuhn':\n",
    "            cfr_tree = CFRTree(build_kuhn_tree(par['players'], par['rank']))\n",
    "        elif par['game'] == 'leduc':\n",
    "            cfr_tree = CFRTree(build_leduc_tree(par['players'], par['suits'], par['rank'], \n",
    "                                                par['betting_parameters']))\n",
    "        elif par['game'] == 'goofspiel':\n",
    "            # Tie solver is not needed to determine the size of the game\n",
    "            cfr_tree = CFRTree(build_goofspiel_tree(par['players'], par['rank']))\n",
    "        size_data[name] = (count_infosets(cfr_tree), count_sequences(cfr_tree))\n",
    "        \n",
    "    return size_data[name]"
   ]
  },
  {
   "cell_type": "code",
   "execution_count": 141,
   "metadata": {},
   "outputs": [],
   "source": [
    "from IPython.display import HTML, display\n",
    "import tabulate"
   ]
  },
  {
   "cell_type": "code",
   "execution_count": 142,
   "metadata": {},
   "outputs": [
    {
     "name": "stdout",
     "output_type": "stream",
     "text": [
      "goofspiel_2_4_accumulate done\n",
      "goofspiel_2_4_accumulate_ done\n",
      "goofspiel_2_4_accumulate_average done\n",
      "goofspiel_2_4_discard_always done\n",
      "goofspiel_2_4_discard_always_ done\n",
      "goofspiel_2_4_discard_always_average done\n",
      "goofspiel_2_4_discard_if_all done\n",
      "goofspiel_2_4_discard_if_all_ done\n",
      "goofspiel_2_4_discard_if_all_average done\n",
      "goofspiel_2_4_discard_if_high done\n",
      "goofspiel_2_4_discard_if_high_ done\n",
      "goofspiel_2_4_discard_if_high_average done\n"
     ]
    }
   ],
   "source": [
    "table_text = [['Game', 'Inf.', 'Delta'] + (list(map(lambda el: str(el) + '%', target_epsilons))) + ['social welfare']]\n",
    "for (game, data) in sorted(data_per_instance.items()):\n",
    "    \n",
    "    #if 'average' not in game:\n",
    "    #    continue\n",
    "    \n",
    "    par = data['parameters']\n",
    "    \n",
    "    if 'avg_infoset_count' in data:\n",
    "        size = (data['avg_infoset_count'], -1)\n",
    "    size = get_size_data(par)\n",
    "    \n",
    "    line_text = [game, size[0]]\n",
    "    line_text.append(delta_utility(par['game'], par['players'], par['rank'], par['betting_parameters']))\n",
    "    #line_text += list(map(lambda t: 'n/a' if t == -1 else str(t), data['time_to_target']))\n",
    "    \n",
    "    for (i, t) in enumerate(data['time_to_target']):\n",
    "        if t == -1:\n",
    "            line_text.append('n/a')\n",
    "            continue\n",
    "        \n",
    "        s = str(round(t, 2))\n",
    "        if 'time_to_target_variance' in data:\n",
    "            s += \" (+- \" + str(round(data['time_to_target_confidence'][i], 2)) + \")\"\n",
    "        line_text.append(s)\n",
    "        \n",
    "    if 'avg_sw' in data:\n",
    "        line_text.append(str(data['avg_sw']) + \"%\")\n",
    "    else:\n",
    "        line_text.append(str(data['percent_sw']) + \"%\")\n",
    "    \n",
    "    table_text.append(line_text)\n",
    "    \n",
    "    print(game + \" done\")"
   ]
  },
  {
   "cell_type": "markdown",
   "metadata": {},
   "source": [
    "### Goofspiel 2_4"
   ]
  },
  {
   "cell_type": "markdown",
   "metadata": {},
   "source": [
    "#### SCFR"
   ]
  },
  {
   "cell_type": "code",
   "execution_count": 16,
   "metadata": {
    "scrolled": true
   },
   "outputs": [
    {
     "data": {
      "text/html": [
       "<table>\n",
       "<tbody>\n",
       "<tr><td>Game                                 </td><td>Inf. </td><td>Delta</td><td>0.1%             </td><td>0.05%              </td><td>0.01%                 </td><td>0.005%                </td><td>0.001%                </td><td>0.0005%              </td><td>social welfare    </td></tr>\n",
       "<tr><td>goofspiel_2_4_accumulate_average     </td><td>4856 </td><td>10   </td><td>71.6 (+- 7.05)   </td><td>631.56 (+- 51.7)   </td><td>97388.41 (+- 4117.79) </td><td>n/a                   </td><td>n/a                   </td><td>n/a                  </td><td>97.92969890393799%</td></tr>\n",
       "<tr><td>goofspiel_2_4_discard_always_average </td><td>4856 </td><td>10   </td><td>15.01 (+- 2.95)  </td><td>123.55 (+- 32.17)  </td><td>2598.08 (+- 834.94)   </td><td>5609.55 (+- 1508.75)  </td><td>14698.09 (+- 4597.72) </td><td>15656.59 (+- 4510.8) </td><td>91.9139914608804% </td></tr>\n",
       "<tr><td>goofspiel_2_4_discard_if_all_average </td><td>4856 </td><td>10   </td><td>12.83 (+- 2.55)  </td><td>121.83 (+- 23.48)  </td><td>3208.21 (+- 1295.69)  </td><td>12506.42 (+- 10389.57)</td><td>17285.93 (+- 8823.98) </td><td>15421.83 (+- 6295.33)</td><td>91.82909720091517%</td></tr>\n",
       "<tr><td>goofspiel_2_4_discard_if_high_average</td><td>4856 </td><td>10   </td><td>11.56 (+- 3.58)  </td><td>79.63 (+- 15.64)   </td><td>2538.89 (+- 1069.88)  </td><td>7671.28 (+- 3142.72)  </td><td>11975.06 (+- 5523.44) </td><td>12531.76 (+- 5965.75)</td><td>91.81695556116541%</td></tr>\n",
       "<tr><td>goofspiel_3_4_accumulate_average     </td><td>98508</td><td>10   </td><td>379.21 (+- 42.59)</td><td>5594.12 (+- 817.15)</td><td>n/a                   </td><td>n/a                   </td><td>n/a                   </td><td>n/a                  </td><td>99.57435229717778%</td></tr>\n",
       "<tr><td>goofspiel_3_4_discard_always_average </td><td>98508</td><td>10   </td><td>143.27 (+- 26.08)</td><td>1954.18 (+- 354.93)</td><td>37522.76 (+- 10272.88)</td><td>55957.82 (+- 15938.51)</td><td>52614.43 (+- 24261.21)</td><td>63019.44 (+- 25521.5)</td><td>69.23593545710295%</td></tr>\n",
       "<tr><td>goofspiel_3_4_discard_if_all_average </td><td>98508</td><td>10   </td><td>557.97 (+- 58.74)</td><td>4438.38 (+- 794.18)</td><td>61936.24 (+- -1)      </td><td>n/a                   </td><td>n/a                   </td><td>n/a                  </td><td>98.6611011166768% </td></tr>\n",
       "<tr><td>goofspiel_3_4_discard_if_high_average</td><td>98508</td><td>10   </td><td>324.32 (+- 49.05)</td><td>2853.78 (+- 279.12)</td><td>42709.87 (+- 8711.42) </td><td>70809.63 (+- 19972.36)</td><td>79885.63 (+- -1)      </td><td>n/a                  </td><td>88.65005547359092%</td></tr>\n",
       "</tbody>\n",
       "</table>"
      ],
      "text/plain": [
       "<IPython.core.display.HTML object>"
      ]
     },
     "metadata": {},
     "output_type": "display_data"
    }
   ],
   "source": [
    "display(HTML(tabulate.tabulate(table_text, tablefmt='html')))"
   ]
  },
  {
   "cell_type": "markdown",
   "metadata": {},
   "source": [
    "#### RCFR"
   ]
  },
  {
   "cell_type": "code",
   "execution_count": 143,
   "metadata": {},
   "outputs": [
    {
     "data": {
      "text/html": [
       "<table>\n",
       "<tbody>\n",
       "<tr><td>Game                                 </td><td>Inf.</td><td>Delta</td><td>0.1%             </td><td>0.05%             </td><td>0.01%                </td><td>0.005%          </td><td>0.001%</td><td>0.0005%</td><td>social welfare    </td></tr>\n",
       "<tr><td>goofspiel_2_4_accumulate             </td><td>4856</td><td>10   </td><td>328.99           </td><td>1223.09           </td><td>14580.62             </td><td>39880.26        </td><td>n/a   </td><td>n/a    </td><td>99.44038326000826%</td></tr>\n",
       "<tr><td>goofspiel_2_4_accumulate_            </td><td>4856</td><td>10   </td><td>300.65           </td><td>559.34            </td><td>13305.44             </td><td>n/a             </td><td>n/a   </td><td>n/a    </td><td>99.47904801208024%</td></tr>\n",
       "<tr><td>goofspiel_2_4_accumulate_average     </td><td>4856</td><td>10   </td><td>314.82 (+- 27.77)</td><td>891.22 (+- 650.47)</td><td>13943.03 (+- 1249.67)</td><td>39880.26 (+- -1)</td><td>n/a   </td><td>n/a    </td><td>99.45971563604425%</td></tr>\n",
       "<tr><td>goofspiel_2_4_discard_always         </td><td>4856</td><td>10   </td><td>70.38            </td><td>108.03            </td><td>902.1                </td><td>3343.22         </td><td>n/a   </td><td>n/a    </td><td>97.536105833863%  </td></tr>\n",
       "<tr><td>goofspiel_2_4_discard_always_        </td><td>4856</td><td>10   </td><td>157.12           </td><td>327.24            </td><td>12698.13             </td><td>n/a             </td><td>n/a   </td><td>n/a    </td><td>97.67213476330583%</td></tr>\n",
       "<tr><td>goofspiel_2_4_discard_always_average </td><td>4856</td><td>10   </td><td>113.75 (+- 85.01)</td><td>217.64 (+- 214.82)</td><td>6800.11 (+- 11560.11)</td><td>3343.22 (+- -1) </td><td>n/a   </td><td>n/a    </td><td>97.60412029858442%</td></tr>\n",
       "<tr><td>goofspiel_2_4_discard_if_all         </td><td>4856</td><td>10   </td><td>63.94            </td><td>96.07             </td><td>871.48               </td><td>3366.59         </td><td>n/a   </td><td>n/a    </td><td>97.5504973766277% </td></tr>\n",
       "<tr><td>goofspiel_2_4_discard_if_all_        </td><td>4856</td><td>10   </td><td>150.0            </td><td>312.13            </td><td>13144.28             </td><td>n/a             </td><td>n/a   </td><td>n/a    </td><td>97.67012245458318%</td></tr>\n",
       "<tr><td>goofspiel_2_4_discard_if_all_average </td><td>4856</td><td>10   </td><td>106.97 (+- 84.34)</td><td>204.1 (+- 211.73) </td><td>7007.88 (+- 12027.34)</td><td>3366.59 (+- -1) </td><td>n/a   </td><td>n/a    </td><td>97.61030991560544%</td></tr>\n",
       "<tr><td>goofspiel_2_4_discard_if_high        </td><td>4856</td><td>10   </td><td>153.0            </td><td>316.62            </td><td>12914.14             </td><td>n/a             </td><td>n/a   </td><td>n/a    </td><td>97.67168643531721%</td></tr>\n",
       "<tr><td>goofspiel_2_4_discard_if_high_       </td><td>4856</td><td>10   </td><td>70.69            </td><td>111.1             </td><td>987.11               </td><td>3956.53         </td><td>n/a   </td><td>n/a    </td><td>97.52769648496184%</td></tr>\n",
       "<tr><td>goofspiel_2_4_discard_if_high_average</td><td>4856</td><td>10   </td><td>111.84 (+- 80.66)</td><td>213.86 (+- 201.42)</td><td>6950.62 (+- 11688.5) </td><td>3956.53 (+- -1) </td><td>n/a   </td><td>n/a    </td><td>97.59969146013952%</td></tr>\n",
       "</tbody>\n",
       "</table>"
      ],
      "text/plain": [
       "<IPython.core.display.HTML object>"
      ]
     },
     "metadata": {},
     "output_type": "display_data"
    }
   ],
   "source": [
    "display(HTML(tabulate.tabulate(table_text, tablefmt='html')))"
   ]
  },
  {
   "cell_type": "markdown",
   "metadata": {},
   "source": [
    "### Random"
   ]
  },
  {
   "cell_type": "markdown",
   "metadata": {},
   "source": [
    "#### SCFR"
   ]
  },
  {
   "cell_type": "code",
   "execution_count": 47,
   "metadata": {
    "scrolled": false
   },
   "outputs": [
    {
     "data": {
      "text/html": [
       "<table>\n",
       "<tbody>\n",
       "<tr><td>Game                 </td><td>Inf. </td><td>Delta</td><td>0.1%             </td><td>0.05%              </td><td>0.01%               </td><td>0.005%               </td><td>0.001%                </td><td>0.0005%              </td><td>social welfare    </td></tr>\n",
       "<tr><td>random_3_12_2_average</td><td>3071 </td><td>1    </td><td>45.0 (+- 4.95)   </td><td>104.08 (+- 10.71)  </td><td>790.41 (+- 96.39)   </td><td>2138.05 (+- 394.46)  </td><td>36537.92 (+- 10024.92)</td><td>11338.0 (+- 11514.69)</td><td>90.68533764113121%</td></tr>\n",
       "<tr><td>random_3_15_2_average</td><td>24542</td><td>1    </td><td>605.67 (+- 74.98)</td><td>1290.57 (+- 146.11)</td><td>7522.02 (+- 1069.77)</td><td>16128.21 (+- 2686.78)</td><td>12348.02 (+- -1)      </td><td>28211.59 (+- -1)     </td><td>92.41492052055774%</td></tr>\n",
       "</tbody>\n",
       "</table>"
      ],
      "text/plain": [
       "<IPython.core.display.HTML object>"
      ]
     },
     "metadata": {},
     "output_type": "display_data"
    }
   ],
   "source": [
    "display(HTML(tabulate.tabulate(table_text, tablefmt='html')))"
   ]
  },
  {
   "cell_type": "markdown",
   "metadata": {},
   "source": [
    "#### RCFR"
   ]
  },
  {
   "cell_type": "code",
   "execution_count": 38,
   "metadata": {},
   "outputs": [
    {
     "data": {
      "text/html": [
       "<table>\n",
       "<tbody>\n",
       "<tr><td>Game                 </td><td>Inf. </td><td>Delta</td><td>0.1%              </td><td>0.05%             </td><td>0.01%             </td><td>0.005%            </td><td>0.001%              </td><td>0.0005%              </td><td>social welfare    </td></tr>\n",
       "<tr><td>random_3_12_2_average</td><td>3052 </td><td>1    </td><td>7.67 (+- 2.53)    </td><td>16.94 (+- 5.83)   </td><td>97.13 (+- 33.43)  </td><td>199.93 (+- 68.45) </td><td>1021.24 (+- 356.19) </td><td>1446.79 (+- 582.55)  </td><td>89.72752028122675%</td></tr>\n",
       "<tr><td>random_3_15_2_average</td><td>24588</td><td>1    </td><td>190.43 (+- 107.94)</td><td>214.98 (+- 107.65)</td><td>541.78 (+- 344.72)</td><td>893.84 (+- 599.86)</td><td>4763.04 (+- 2871.42)</td><td>10985.92 (+- 7169.26)</td><td>93.11019014090292%</td></tr>\n",
       "</tbody>\n",
       "</table>"
      ],
      "text/plain": [
       "<IPython.core.display.HTML object>"
      ]
     },
     "metadata": {},
     "output_type": "display_data"
    }
   ],
   "source": [
    "display(HTML(tabulate.tabulate(table_text, tablefmt='html')))"
   ]
  },
  {
   "cell_type": "markdown",
   "metadata": {},
   "source": [
    "### Goofspiel 3_4 (NIPS)"
   ]
  },
  {
   "cell_type": "markdown",
   "metadata": {},
   "source": [
    "#### SCFR"
   ]
  },
  {
   "cell_type": "code",
   "execution_count": 74,
   "metadata": {},
   "outputs": [
    {
     "data": {
      "text/html": [
       "<table>\n",
       "<tbody>\n",
       "<tr><td>Game                                 </td><td>Inf. </td><td>Delta</td><td>0.1%             </td><td>0.05%              </td><td>0.01%                 </td><td>0.005%                </td><td>0.001%                </td><td>0.0005%              </td><td>social welfare    </td></tr>\n",
       "<tr><td>goofspiel_3_4_accumulate_average     </td><td>98508</td><td>10   </td><td>379.21 (+- 42.59)</td><td>5594.12 (+- 817.15)</td><td>n/a                   </td><td>n/a                   </td><td>n/a                   </td><td>n/a                  </td><td>99.57435229717778%</td></tr>\n",
       "<tr><td>goofspiel_3_4_discard_always_average </td><td>98508</td><td>10   </td><td>143.27 (+- 26.08)</td><td>1954.18 (+- 354.93)</td><td>37522.76 (+- 10272.88)</td><td>55957.82 (+- 15938.51)</td><td>52614.43 (+- 24261.21)</td><td>63019.44 (+- 25521.5)</td><td>69.23593545710295%</td></tr>\n",
       "<tr><td>goofspiel_3_4_discard_if_all_average </td><td>98508</td><td>10   </td><td>557.97 (+- 58.74)</td><td>4438.38 (+- 794.18)</td><td>61936.24 (+- -1)      </td><td>n/a                   </td><td>n/a                   </td><td>n/a                  </td><td>98.6611011166768% </td></tr>\n",
       "<tr><td>goofspiel_3_4_discard_if_high_average</td><td>98508</td><td>10   </td><td>324.32 (+- 49.05)</td><td>2853.78 (+- 279.12)</td><td>42709.87 (+- 8711.42) </td><td>70809.63 (+- 19972.36)</td><td>79885.63 (+- -1)      </td><td>n/a                  </td><td>88.65005547359092%</td></tr>\n",
       "</tbody>\n",
       "</table>"
      ],
      "text/plain": [
       "<IPython.core.display.HTML object>"
      ]
     },
     "metadata": {},
     "output_type": "display_data"
    }
   ],
   "source": [
    "display(HTML(tabulate.tabulate(table_text, tablefmt='html')))"
   ]
  },
  {
   "cell_type": "markdown",
   "metadata": {},
   "source": [
    "#### RCFR"
   ]
  },
  {
   "cell_type": "code",
   "execution_count": 25,
   "metadata": {},
   "outputs": [
    {
     "data": {
      "text/html": [
       "<table>\n",
       "<tbody>\n",
       "<tr><td>Game                                 </td><td>Inf. </td><td>Delta</td><td>0.1%                </td><td>0.05%               </td><td>0.01%                 </td><td>0.005%                </td><td>0.001%                </td><td>0.0005%               </td><td>social welfare    </td></tr>\n",
       "<tr><td>goofspiel_3_4_accumulate_average     </td><td>48966</td><td>10   </td><td>3621.61 (+- 5306.55)</td><td>3798.92 (+- 5267.07)</td><td>11007.57 (+- 17719.01)</td><td>15216.13 (+- 23511.25)</td><td>18263.62 (+- 31747.88)</td><td>2065.72 (+- -1)       </td><td>99.99999999999848%</td></tr>\n",
       "<tr><td>goofspiel_3_4_discard_always_average </td><td>48966</td><td>10   </td><td>835.17 (+- 657.87)  </td><td>4903.94 (+- 7994.93)</td><td>5908.29 (+- 4031.5)   </td><td>18002.43 (+- 4579.89) </td><td>n/a                   </td><td>n/a                   </td><td>73.03009198004492%</td></tr>\n",
       "<tr><td>goofspiel_3_4_discard_if_all_average </td><td>48966</td><td>10   </td><td>565.9 (+- 184.9)    </td><td>738.69 (+- 210.12)  </td><td>3715.39 (+- 733.98)   </td><td>6625.16 (+- 2251.05)  </td><td>n/a                   </td><td>n/a                   </td><td>100.0%            </td></tr>\n",
       "<tr><td>goofspiel_3_4_discard_if_high_average</td><td>48966</td><td>10   </td><td>839.58 (+- 692.41)  </td><td>998.0 (+- 659.98)   </td><td>8498.78 (+- 11262.09) </td><td>14902.04 (+- 16386.67)</td><td>31848.43 (+- 11462.4) </td><td>55633.34 (+- 27736.58)</td><td>100.0%            </td></tr>\n",
       "</tbody>\n",
       "</table>"
      ],
      "text/plain": [
       "<IPython.core.display.HTML object>"
      ]
     },
     "metadata": {},
     "output_type": "display_data"
    }
   ],
   "source": [
    "display(HTML(tabulate.tabulate(table_text, tablefmt='html')))"
   ]
  },
  {
   "cell_type": "markdown",
   "metadata": {},
   "source": [
    "### Leduc (NIPS)"
   ]
  },
  {
   "cell_type": "markdown",
   "metadata": {},
   "source": [
    "#### SCFR"
   ]
  },
  {
   "cell_type": "code",
   "execution_count": 78,
   "metadata": {
    "scrolled": true
   },
   "outputs": [
    {
     "data": {
      "text/html": [
       "<table>\n",
       "<tbody>\n",
       "<tr><td>Game               </td><td>Inf.</td><td>Seq.</td><td>Delta</td><td>0.1%           </td><td>0.05%               </td><td>0.01%</td><td>0.005%</td><td>0.001%</td><td>0.0005%</td></tr>\n",
       "<tr><td>leduc_3_3_4_average</td><td>1200</td><td>2403</td><td>21   </td><td>4.0 (+- 2.3)   </td><td>633.25 (+- 154.35)  </td><td>n/a  </td><td>n/a   </td><td>n/a   </td><td>n/a    </td></tr>\n",
       "<tr><td>leduc_3_3_6_average</td><td>2664</td><td>5331</td><td>21   </td><td>21.54 (+- 9.72)</td><td>7514.08 (+- 202.58) </td><td>n/a  </td><td>n/a   </td><td>n/a   </td><td>n/a    </td></tr>\n",
       "<tr><td>leduc_3_3_8_average</td><td>4704</td><td>9411</td><td>21   </td><td>35.3 (+- 20.21)</td><td>50103.64 (+- 5373.3)</td><td>n/a  </td><td>n/a   </td><td>n/a   </td><td>n/a    </td></tr>\n",
       "</tbody>\n",
       "</table>"
      ],
      "text/plain": [
       "<IPython.core.display.HTML object>"
      ]
     },
     "metadata": {},
     "output_type": "display_data"
    }
   ],
   "source": [
    "display(HTML(tabulate.tabulate(table_text, tablefmt='html')))"
   ]
  },
  {
   "cell_type": "markdown",
   "metadata": {},
   "source": [
    "#### RCFR"
   ]
  },
  {
   "cell_type": "code",
   "execution_count": 35,
   "metadata": {},
   "outputs": [
    {
     "data": {
      "text/html": [
       "<table>\n",
       "<tbody>\n",
       "<tr><td>Game       </td><td>Inf.</td><td>Delta</td><td>0.1%  </td><td>0.05%  </td><td>0.01%   </td><td>0.005%  </td><td>0.001%</td><td>0.0005%</td><td>social welfare</td></tr>\n",
       "<tr><td>leduc_3_3_4</td><td>1200</td><td>21   </td><td>1.71  </td><td>75.83  </td><td>3717.32 </td><td>22244.01</td><td>n/a   </td><td>n/a    </td><td>0%            </td></tr>\n",
       "<tr><td>leduc_3_3_6</td><td>2664</td><td>21   </td><td>8.2   </td><td>160.21 </td><td>9314.02 </td><td>40771.38</td><td>n/a   </td><td>n/a    </td><td>0%            </td></tr>\n",
       "<tr><td>leduc_3_3_8</td><td>4704</td><td>21   </td><td>464.89</td><td>1222.42</td><td>63152.23</td><td>n/a     </td><td>n/a   </td><td>n/a    </td><td>0%            </td></tr>\n",
       "</tbody>\n",
       "</table>"
      ],
      "text/plain": [
       "<IPython.core.display.HTML object>"
      ]
     },
     "metadata": {},
     "output_type": "display_data"
    }
   ],
   "source": [
    "display(HTML(tabulate.tabulate(table_text, tablefmt='html')))"
   ]
  },
  {
   "cell_type": "markdown",
   "metadata": {},
   "source": [
    "### Kuhn (NIPS)"
   ]
  },
  {
   "cell_type": "markdown",
   "metadata": {},
   "source": [
    "#### SCFR"
   ]
  },
  {
   "cell_type": "code",
   "execution_count": 69,
   "metadata": {},
   "outputs": [
    {
     "data": {
      "text/html": [
       "<table>\n",
       "<tbody>\n",
       "<tr><td>Game             </td><td>Inf.</td><td>Seq.</td><td>Delta</td><td>0.1%          </td><td>0.05%          </td><td>0.01%                </td><td>0.005%                </td><td>0.001%</td><td>0.0005%</td></tr>\n",
       "<tr><td>kuhn_3_10_average</td><td>120 </td><td>243 </td><td>6    </td><td>1.89 (+- 0.66)</td><td>22.69 (+- 5.96)</td><td>40749.64 (+- 6292.85)</td><td>n/a                   </td><td>n/a   </td><td>n/a    </td></tr>\n",
       "<tr><td>kuhn_3_6_average </td><td>72  </td><td>147 </td><td>6    </td><td>0.22 (+- 0.06)</td><td>1.41 (+- 0.38) </td><td>1460.04 (+- 265.44)  </td><td>33334.91 (+- 7179.25) </td><td>n/a   </td><td>n/a    </td></tr>\n",
       "<tr><td>kuhn_3_7_average </td><td>84  </td><td>171 </td><td>6    </td><td>0.62 (+- 0.31)</td><td>4.22 (+- 1.36) </td><td>3825.62 (+- 1569.9)  </td><td>61871.17 (+- 21964.93)</td><td>n/a   </td><td>n/a    </td></tr>\n",
       "</tbody>\n",
       "</table>"
      ],
      "text/plain": [
       "<IPython.core.display.HTML object>"
      ]
     },
     "metadata": {},
     "output_type": "display_data"
    }
   ],
   "source": [
    "display(HTML(tabulate.tabulate(table_text, tablefmt='html')))"
   ]
  },
  {
   "cell_type": "markdown",
   "metadata": {},
   "source": [
    "#### RCFR"
   ]
  },
  {
   "cell_type": "code",
   "execution_count": 25,
   "metadata": {},
   "outputs": [
    {
     "data": {
      "text/html": [
       "<table>\n",
       "<tbody>\n",
       "<tr><td>Game             </td><td>Inf.</td><td>Delta</td><td>0.1%          </td><td>0.05%         </td><td>0.01%         </td><td>0.005%         </td><td>0.001%            </td><td>0.0005%             </td><td>social welfare</td></tr>\n",
       "<tr><td>kuhn_3_10_average</td><td>120 </td><td>6    </td><td>7.21 (+- 0.19)</td><td>7.21 (+- 0.19)</td><td>17.2 (+- 0.45)</td><td>72.78 (+- 1.56)</td><td>1901.22 (+- 20.62)</td><td>15086.15 (+- 187.72)</td><td>-1%           </td></tr>\n",
       "<tr><td>kuhn_3_6_average </td><td>72  </td><td>6    </td><td>1.03 (+- 0.03)</td><td>1.03 (+- 0.03)</td><td>4.55 (+- 0.1) </td><td>13.41 (+- 0.26)</td><td>67.86 (+- 0.77)   </td><td>681.55 (+- 10.16)   </td><td>-1%           </td></tr>\n",
       "<tr><td>kuhn_3_7_average </td><td>84  </td><td>6    </td><td>2.35 (+- 0.34)</td><td>2.35 (+- 0.34)</td><td>7.92 (+- 1.25)</td><td>14.33 (+- 2.4) </td><td>649.72 (+- 12.36) </td><td>3087.58 (+- 29.1)   </td><td>-1%           </td></tr>\n",
       "</tbody>\n",
       "</table>"
      ],
      "text/plain": [
       "<IPython.core.display.HTML object>"
      ]
     },
     "metadata": {},
     "output_type": "display_data"
    }
   ],
   "source": [
    "display(HTML(tabulate.tabulate(table_text, tablefmt='html')))"
   ]
  },
  {
   "cell_type": "markdown",
   "metadata": {},
   "source": [
    "### Table for number of iterations instead of running time"
   ]
  },
  {
   "cell_type": "code",
   "execution_count": 24,
   "metadata": {},
   "outputs": [],
   "source": [
    "table_text2 = [['Targets'] + (list(map(str, target_epsilons)))]\n",
    "for (game, data) in sorted(data_per_instance.items()):\n",
    "    line_text = [game] + list(map(lambda t: 'n/a' if t == -1 else str(t), data['iterations_to_target']))\n",
    "    table_text2.append(line_text)"
   ]
  },
  {
   "cell_type": "code",
   "execution_count": 25,
   "metadata": {},
   "outputs": [
    {
     "data": {
      "text/html": [
       "<table>\n",
       "<tbody>\n",
       "<tr><td>Targets             </td><td style=\"text-align: right;\">  0.1</td><td style=\"text-align: right;\">   0.05</td><td>0.01</td><td>0.005</td><td>0.001</td><td>0.0005</td></tr>\n",
       "<tr><td>leduc_3_3_4         </td><td style=\"text-align: right;\"> 50  </td><td style=\"text-align: right;\">1500   </td><td>n/a </td><td>n/a  </td><td>n/a  </td><td>n/a   </td></tr>\n",
       "<tr><td>leduc_3_3_4_        </td><td style=\"text-align: right;\"> 50  </td><td style=\"text-align: right;\">1400   </td><td>n/a </td><td>n/a  </td><td>n/a  </td><td>n/a   </td></tr>\n",
       "<tr><td>leduc_3_3_4__       </td><td style=\"text-align: right;\"> 50  </td><td style=\"text-align: right;\">1450   </td><td>n/a </td><td>n/a  </td><td>n/a  </td><td>n/a   </td></tr>\n",
       "<tr><td>leduc_3_3_4___      </td><td style=\"text-align: right;\"> 50  </td><td style=\"text-align: right;\">1400   </td><td>n/a </td><td>n/a  </td><td>n/a  </td><td>n/a   </td></tr>\n",
       "<tr><td>leduc_3_3_4____     </td><td style=\"text-align: right;\"> 50  </td><td style=\"text-align: right;\">1450   </td><td>n/a </td><td>n/a  </td><td>n/a  </td><td>n/a   </td></tr>\n",
       "<tr><td>leduc_3_3_4_____    </td><td style=\"text-align: right;\">100  </td><td style=\"text-align: right;\">1450   </td><td>n/a </td><td>n/a  </td><td>n/a  </td><td>n/a   </td></tr>\n",
       "<tr><td>leduc_3_3_4______   </td><td style=\"text-align: right;\"> 50  </td><td style=\"text-align: right;\">1400   </td><td>n/a </td><td>n/a  </td><td>n/a  </td><td>n/a   </td></tr>\n",
       "<tr><td>leduc_3_3_4_______  </td><td style=\"text-align: right;\">150  </td><td style=\"text-align: right;\">1800   </td><td>n/a </td><td>n/a  </td><td>n/a  </td><td>n/a   </td></tr>\n",
       "<tr><td>leduc_3_3_4________ </td><td style=\"text-align: right;\">150  </td><td style=\"text-align: right;\">1700   </td><td>n/a </td><td>n/a  </td><td>n/a  </td><td>n/a   </td></tr>\n",
       "<tr><td>leduc_3_3_4_________</td><td style=\"text-align: right;\">100  </td><td style=\"text-align: right;\">1300   </td><td>n/a </td><td>n/a  </td><td>n/a  </td><td>n/a   </td></tr>\n",
       "<tr><td>leduc_3_3_4_average </td><td style=\"text-align: right;\"> 80  </td><td style=\"text-align: right;\">1485   </td><td>n/a </td><td>n/a  </td><td>n/a  </td><td>n/a   </td></tr>\n",
       "<tr><td>leduc_3_3_6         </td><td style=\"text-align: right;\"> 50  </td><td style=\"text-align: right;\">2450   </td><td>n/a </td><td>n/a  </td><td>n/a  </td><td>n/a   </td></tr>\n",
       "<tr><td>leduc_3_3_6_        </td><td style=\"text-align: right;\">100  </td><td style=\"text-align: right;\">2450   </td><td>n/a </td><td>n/a  </td><td>n/a  </td><td>n/a   </td></tr>\n",
       "<tr><td>leduc_3_3_6__       </td><td style=\"text-align: right;\">150  </td><td style=\"text-align: right;\">2350   </td><td>n/a </td><td>n/a  </td><td>n/a  </td><td>n/a   </td></tr>\n",
       "<tr><td>leduc_3_3_6___      </td><td style=\"text-align: right;\"> 50  </td><td style=\"text-align: right;\">2400   </td><td>n/a </td><td>n/a  </td><td>n/a  </td><td>n/a   </td></tr>\n",
       "<tr><td>leduc_3_3_6____     </td><td style=\"text-align: right;\">100  </td><td style=\"text-align: right;\">2350   </td><td>n/a </td><td>n/a  </td><td>n/a  </td><td>n/a   </td></tr>\n",
       "<tr><td>leduc_3_3_6_____    </td><td style=\"text-align: right;\"> 50  </td><td style=\"text-align: right;\">2450   </td><td>n/a </td><td>n/a  </td><td>n/a  </td><td>n/a   </td></tr>\n",
       "<tr><td>leduc_3_3_6______   </td><td style=\"text-align: right;\"> 50  </td><td style=\"text-align: right;\">2400   </td><td>n/a </td><td>n/a  </td><td>n/a  </td><td>n/a   </td></tr>\n",
       "<tr><td>leduc_3_3_6_______  </td><td style=\"text-align: right;\">150  </td><td style=\"text-align: right;\">2350   </td><td>n/a </td><td>n/a  </td><td>n/a  </td><td>n/a   </td></tr>\n",
       "<tr><td>leduc_3_3_6________ </td><td style=\"text-align: right;\">100  </td><td style=\"text-align: right;\">2300   </td><td>n/a </td><td>n/a  </td><td>n/a  </td><td>n/a   </td></tr>\n",
       "<tr><td>leduc_3_3_6_________</td><td style=\"text-align: right;\">150  </td><td style=\"text-align: right;\">2450   </td><td>n/a </td><td>n/a  </td><td>n/a  </td><td>n/a   </td></tr>\n",
       "<tr><td>leduc_3_3_6_average </td><td style=\"text-align: right;\"> 95  </td><td style=\"text-align: right;\">2395   </td><td>n/a </td><td>n/a  </td><td>n/a  </td><td>n/a   </td></tr>\n",
       "<tr><td>leduc_3_3_8         </td><td style=\"text-align: right;\"> 50  </td><td style=\"text-align: right;\">3350   </td><td>n/a </td><td>n/a  </td><td>n/a  </td><td>n/a   </td></tr>\n",
       "<tr><td>leduc_3_3_8_        </td><td style=\"text-align: right;\"> 50  </td><td style=\"text-align: right;\">3500   </td><td>n/a </td><td>n/a  </td><td>n/a  </td><td>n/a   </td></tr>\n",
       "<tr><td>leduc_3_3_8__       </td><td style=\"text-align: right;\"> 50  </td><td style=\"text-align: right;\">3150   </td><td>n/a </td><td>n/a  </td><td>n/a  </td><td>n/a   </td></tr>\n",
       "<tr><td>leduc_3_3_8___      </td><td style=\"text-align: right;\"> 50  </td><td style=\"text-align: right;\">3800   </td><td>n/a </td><td>n/a  </td><td>n/a  </td><td>n/a   </td></tr>\n",
       "<tr><td>leduc_3_3_8____     </td><td style=\"text-align: right;\"> 50  </td><td style=\"text-align: right;\">3600   </td><td>n/a </td><td>n/a  </td><td>n/a  </td><td>n/a   </td></tr>\n",
       "<tr><td>leduc_3_3_8_____    </td><td style=\"text-align: right;\"> 50  </td><td style=\"text-align: right;\">3800   </td><td>n/a </td><td>n/a  </td><td>n/a  </td><td>n/a   </td></tr>\n",
       "<tr><td>leduc_3_3_8______   </td><td style=\"text-align: right;\"> 50  </td><td style=\"text-align: right;\">3600   </td><td>n/a </td><td>n/a  </td><td>n/a  </td><td>n/a   </td></tr>\n",
       "<tr><td>leduc_3_3_8_______  </td><td style=\"text-align: right;\">150  </td><td style=\"text-align: right;\">3100   </td><td>n/a </td><td>n/a  </td><td>n/a  </td><td>n/a   </td></tr>\n",
       "<tr><td>leduc_3_3_8________ </td><td style=\"text-align: right;\"> 50  </td><td style=\"text-align: right;\">3500   </td><td>n/a </td><td>n/a  </td><td>n/a  </td><td>n/a   </td></tr>\n",
       "<tr><td>leduc_3_3_8_________</td><td style=\"text-align: right;\"> 50  </td><td style=\"text-align: right;\">3050   </td><td>n/a </td><td>n/a  </td><td>n/a  </td><td>n/a   </td></tr>\n",
       "<tr><td>leduc_3_3_8_average </td><td style=\"text-align: right;\"> 60  </td><td style=\"text-align: right;\">3445   </td><td>n/a </td><td>n/a  </td><td>n/a  </td><td>n/a   </td></tr>\n",
       "</tbody>\n",
       "</table>"
      ],
      "text/plain": [
       "<IPython.core.display.HTML object>"
      ]
     },
     "metadata": {},
     "output_type": "display_data"
    }
   ],
   "source": [
    "display(HTML(tabulate.tabulate(table_text2, tablefmt='html')))"
   ]
  },
  {
   "cell_type": "markdown",
   "metadata": {},
   "source": [
    "## Time comparisons"
   ]
  },
  {
   "cell_type": "code",
   "execution_count": null,
   "metadata": {},
   "outputs": [],
   "source": [
    "def compare(files, xlims_time = None, xlims_iter = None, ylims = None, legend = None, title = 'Comparison'):\n",
    "    fig_time, ax_time = plt.subplots()\n",
    "    fig_iter, ax_iter = plt.subplots()\n",
    "    \n",
    "    for filename in files:\n",
    "        file = open(filename, \"r\")\n",
    "        data = json.load(file)\n",
    "        file.close()\n",
    "\n",
    "        print(\"File = \" + filename)\n",
    "        print(\"Game = \" + parameters_to_string(data['parameters']))\n",
    "\n",
    "        print(\"Total iterations = \" + str(data['parameters']['number_iterations']))\n",
    "        print(\"Check every iteration = \" + str(data['parameters']['check_every_iteration']))\n",
    "\n",
    "        durations = list(map(lambda el: el['duration'], data['data']))\n",
    "\n",
    "        du = delta_utility(data['parameters']['game'], data['parameters']['players'], data['parameters']['rank'],\n",
    "                   data['parameters']['betting_parameters'], data['parameters']['color_distribution'], \n",
    "                   data['parameters']['suits'])\n",
    "\n",
    "        iteration_counts = list(map(lambda el: el['iteration_number'], data['data']))\n",
    "        epsilons = list(map(lambda el: max(0, -min(el['epsilon'])), data['data']))\n",
    "        percent_epsilons = list(map(lambda el: el / du, epsilons))\n",
    "        cum_durations = [sum(durations[:i]) for i in range(len(durations))]\n",
    "        \n",
    "        ax_time.plot(cum_durations, percent_epsilons)\n",
    "        ax_iter.plot(iteration_counts, percent_epsilons)\n",
    "        \n",
    "    if legend == None:\n",
    "        legend = [\"Result \" + str(i+1) for i in range(len(files))]\n",
    "    ax_time.legend(legend)\n",
    "    ax_iter.legend(legend)\n",
    "    ax_time.set(xlabel = \"Time [s]\", ylabel = \"Epsilon [%]\")\n",
    "    ax_iter.set(xlabel = \"Iterations\", ylabel = \"Epsilon [%]\")\n",
    "    if ylims != None:\n",
    "        ax_time.set_ylim(ylims)\n",
    "        ax_iter.set_ylim(ylims)\n",
    "    if xlims_time != None:\n",
    "        ax_time.set_xlim(xlims_time)\n",
    "    if xlims_iter != None:\n",
    "        ax_iter.set_xlim(xlims_iter)\n",
    "    ax_time.set_title(title)\n",
    "    ax_iter.set_title(title)"
   ]
  },
  {
   "cell_type": "code",
   "execution_count": null,
   "metadata": {
    "scrolled": true
   },
   "outputs": [],
   "source": [
    "compare(['results/remote/RCFR/kuhn/1553957872_3_8', 'results/remote/kuhn_20190120/1547765102_3_8'],\n",
    "        xlims = (0, 15000), ylims = (0, 0.02), legend = ['RCFR', 'SCFR'], title = 'Kuhn 3_8')\n",
    "compare(['results/remote/RCFR/kuhn/1553957872_3_8', 'results/remote/kuhn_short_20190121/1548008650_3_8'],\n",
    "        xlims = (0, 15000), ylims = (0, 0.02), legend = ['RCFR', 'SCFR'], title = 'Kuhn 3_8')\n",
    "compare(['results/remote/RCFR/kuhn/1553957868_3_7', 'results/remote/kuhn_20190120/1547765096_3_7'],\n",
    "        xlims = (0, 7000), ylims = (0, 0.02), legend = ['RCFR', 'SCFR'], title = 'Kuhn 3_7')"
   ]
  },
  {
   "cell_type": "code",
   "execution_count": null,
   "metadata": {},
   "outputs": [],
   "source": [
    "compare(['results/remote/RCFR/kuhn/1553957883_3_10', 'results/remote/RCFR_notopt/kuhn/1554108461_3_10'],\n",
    "        xlims = (0, 10000), legend = ['RCFR', 'RCFR_nopt'], title = 'Kuhn 3_10')"
   ]
  },
  {
   "cell_type": "code",
   "execution_count": null,
   "metadata": {
    "scrolled": true
   },
   "outputs": [],
   "source": [
    "compare(['results/remote/RCFR/kuhn/1553957872_3_8', 'results/remote/RCFR_notopt/kuhn/1554108461_3_8',\n",
    "         'results/remote/kuhn_20190120/1547765102_3_8'],\n",
    "        xlims = (0, 5000), legend = ['RCFR', 'RCFR_nopt', 'SCFR'], title = 'Kuhn 3_8')\n",
    "compare(['results/remote/RCFR/kuhn/1553957872_3_8', 'results/remote/RCFR_notopt/kuhn/1554108461_3_8',\n",
    "         'results/remote/kuhn_20190120/1547765102_3_8'],\n",
    "        xlims = (0, 1000), ylims = (0, 0.05), legend = ['RCFR', 'RCFR_nopt', 'SCFR'], title = 'Kuhn 3_8')"
   ]
  },
  {
   "cell_type": "code",
   "execution_count": null,
   "metadata": {
    "scrolled": true
   },
   "outputs": [],
   "source": [
    "compare(['results/remote/RCFR_notopt/goofspiel/1554199851_3_4', \n",
    "         'results/remote/goofspiel_long_20180122/1548105218_3_4'], legend = [\"RCFR_nopt\", \"SCFR\"],\n",
    "         title = \"Goofspiel 3_4\")\n",
    "\n",
    "compare(['results/remote/RCFR_notopt/goofspiel/1554382206_3_4', \n",
    "         'results/remote/goofspiel_long_20180122/1548105218_3_4'], legend = [\"RCFR_nopt\", \"SCFR\"],\n",
    "         title = \"Goofspiel 3_4\")"
   ]
  },
  {
   "cell_type": "code",
   "execution_count": null,
   "metadata": {},
   "outputs": [],
   "source": [
    "compare(['results/remote/RCFR_notopt/hanabi/1554413019_2_2_[2_1]_1_1', \n",
    "         'results/remote/SCFR_hanabi/hanabi/1554461737_2_2_[2_1]_1_1'], legend = [\"RCFR_nopt\", \"SCFR\"],\n",
    "         title = \"Hanabi 2 colors [2, 1] distribution\")"
   ]
  },
  {
   "cell_type": "code",
   "execution_count": null,
   "metadata": {},
   "outputs": [],
   "source": [
    "compare(['results/remote/hanabi_tests/RCFR_nopt/hanabi/1554739324_3_1_[2_2_1]_1_1',\n",
    "         'results/remote/hanabi_tests/SCFR/hanabi/1554739324_3_1_[2_2_1]_1_1'], ylims = (0, 0.02), \n",
    "        legend = [\"RCFR\", \"SCFR\"])"
   ]
  },
  {
   "cell_type": "code",
   "execution_count": null,
   "metadata": {},
   "outputs": [],
   "source": [
    "compare(['results/remote/hanabi_tests/RCFR/hanabi/1554830690_2_1_[2_2_1]_1_1',\n",
    "         'results/remote/hanabi_tests/RCFR_nopt/hanabi/1554830690_2_1_[2_2_1]_1_1',\n",
    "         'results/remote/hanabi_tests/SCFR/hanabi/1554830690_2_1_[2_2_1]_1_1'], \n",
    "         legend = [\"RCFR\", \"RCFR_nopt\", \"SCFR\"], xlims = (0, 10000), ylims = (0, 0.05))"
   ]
  },
  {
   "cell_type": "code",
   "execution_count": null,
   "metadata": {},
   "outputs": [],
   "source": [
    "compare(['results/remote/hanabi_tests/SCFR/hanabi/1554741241_3_2_[2_1]_1_1',\n",
    "         'results/remote/hanabi_tests/RCFR_nopt/hanabi/1554741154_3_2_[2_1]_1_1'], \n",
    "         legend = [\"SCFR\", \"RCFR_nopt\"])"
   ]
  },
  {
   "cell_type": "code",
   "execution_count": null,
   "metadata": {},
   "outputs": [],
   "source": [
    "compare(['results/remote/hanabi_tests/RCFR_nopt/hanabi/1554831012_2_2_[2_1]_1_1',\n",
    "         'results/remote/hanabi_tests/SCFR/hanabi/1554831004_2_2_[2_1]_1_1'], ylims = (0, 0.2), \n",
    "        legend = [\"RCFR_nopt\", \"SCFR\"])"
   ]
  },
  {
   "cell_type": "markdown",
   "metadata": {},
   "source": [
    "---"
   ]
  },
  {
   "cell_type": "markdown",
   "metadata": {},
   "source": [
    "## SCFR/CFR/CFR+ comparisons"
   ]
  },
  {
   "cell_type": "code",
   "execution_count": null,
   "metadata": {},
   "outputs": [],
   "source": [
    "import numpy as np"
   ]
  },
  {
   "cell_type": "code",
   "execution_count": null,
   "metadata": {},
   "outputs": [],
   "source": [
    "def compare_algorithms(filename, filename_cfr, filename_cfr_plus, cumsum_durations = False):\n",
    "    file = open(filename, \"r\")\n",
    "    data = json.load(file)\n",
    "    file.close()\n",
    "\n",
    "    file_cfr = open(filename_cfr, \"r\")\n",
    "    data_cfr = json.load(file_cfr)\n",
    "    file_cfr.close()\n",
    "\n",
    "    file_cfr_plus = open(filename_cfr_plus, \"r\")\n",
    "    data_cfr_plus = json.load(file_cfr_plus)\n",
    "    file_cfr_plus.close()    \n",
    "\n",
    "    durations = list(map(lambda el: el['duration'], data['data']))\n",
    "    durations_cfr = list(map(lambda el: el['duration'], data_cfr['data']))\n",
    "    durations_cfr_plus = list(map(lambda el: el['duration'], data_cfr_plus['data']))\n",
    "\n",
    "    du = delta_utility(data['parameters']['game'], data['parameters']['players'], data['parameters']['rank'],\n",
    "                   data['parameters']['betting_parameters'])\n",
    "    du_cfr = delta_utility(data_cfr['parameters']['game'], data_cfr['parameters']['players'], \n",
    "                           data_cfr['parameters']['rank'], data_cfr['parameters']['betting_parameters'])\n",
    "    du_cfr_plus = delta_utility(data_cfr_plus['parameters']['game'], data_cfr_plus['parameters']['players'], \n",
    "                           data_cfr_plus['parameters']['rank'], data_cfr_plus['parameters']['betting_parameters'])\n",
    "\n",
    "    iteration_counts = list(map(lambda el: el['iteration_number'], data['data']))\n",
    "    epsilons = list(map(lambda el: max(0, -min(el['epsilon'])), data['data']))\n",
    "    percent_epsilons = list(map(lambda el: el / du, epsilons))\n",
    "    iteration_counts_cfr = list(map(lambda el: el['iteration_number'], data_cfr['data']))\n",
    "    epsilons_cfr = list(map(lambda el: max(0, -min(el['epsilon'])), data_cfr['data']))\n",
    "    percent_epsilons_cfr = list(map(lambda el: el / du_cfr, epsilons_cfr))\n",
    "    iteration_counts_cfr_plus = list(map(lambda el: el['iteration_number'], data_cfr_plus['data']))\n",
    "    epsilons_cfr_plus = list(map(lambda el: max(0, -min(el['epsilon'])), data_cfr_plus['data']))\n",
    "    percent_epsilons_cfr_plus = list(map(lambda el: el / du_cfr_plus, epsilons_cfr_plus))\n",
    "    utilities = list(map(lambda el: el['utility'], data['data']))\n",
    "    utilities_cfr = list(map(lambda el: el['utility'], data_cfr['data']))\n",
    "    utilities_cfr_plus = list(map(lambda el: el['utility'], data_cfr_plus['data']))\n",
    "\n",
    "    print(data['parameters'])\n",
    "    if 'total_duration' in data:\n",
    "        print(\"Duration = \" + str(data['total_duration']) + \" seconds\")\n",
    "        print(\"Utility = \" + str(data['utility']))\n",
    "        print(\"Social welfare = \" + str(sum(data['utility'])))\n",
    "        print(\"Max delta utility = \" + str(max(data['utility']) - min(data['utility'])))\n",
    "    else:\n",
    "        print(\"--- Computation was stopped before the end ---\")\n",
    "        print(\"Duration = \" + str(sum(durations)) + \" seconds\")\n",
    "        print(\"Last logged utility = \" + str(utilities[len(utilities)-1]))\n",
    "        print(\"Social welfare = \" + str(sum(utilities[len(utilities)-1])))\n",
    "        print(\"Max delta utility = \" + str(max(utilities[len(utilities)-1]) - min(utilities[len(utilities)-1])))\n",
    "    print('')\n",
    "    print(data_cfr['parameters'])\n",
    "    if 'total_duration' in data_cfr:\n",
    "        print(\"Duration = \" + str(data_cfr['total_duration']) + \" seconds\")\n",
    "        print(\"Utility = \" + str(data_cfr['utility']))\n",
    "        print(\"Social welfare = \" + str(sum(data_cfr['utility'])))\n",
    "        print(\"Max delta utility = \" + str(max(data_cfr['utility']) - min(data_cfr['utility'])))\n",
    "    else:\n",
    "        print(\"--- Computation was stopped before the end ---\")\n",
    "        print(\"Duration = \" + str(sum(durations_cfr)) + \" seconds\")\n",
    "        print(\"Last logged utility = \" + str(utilities_cfr[len(utilities_cfr)-1]))\n",
    "        print(\"Social welfare = \" + str(sum(utilities_cfr[len(utilities_cfr)-1])))\n",
    "        print(\"Max delta utility = \" + str(max(utilities_cfr[len(utilities_cfr)-1]) - \\\n",
    "                                           min(utilities_cfr[len(utilities_cfr)-1])))\n",
    "    print('')\n",
    "    print(data_cfr_plus['parameters'])\n",
    "    if 'total_duration' in data_cfr_plus:\n",
    "        print(\"Duration = \" + str(data_cfr_plus['total_duration']) + \" seconds\")\n",
    "        print(\"Utility = \" + str(data_cfr_plus['utility']))\n",
    "        print(\"Social welfare = \" + str(sum(data_cfr_plus['utility'])))\n",
    "        print(\"Max delta utility = \" + str(max(data_cfr_plus['utility']) - min(data_cfr_plus['utility'])))\n",
    "    else:\n",
    "        print(\"--- Computation was stopped before the end ---\")\n",
    "        print(\"Duration = \" + str(sum(durations_cfr_plus)) + \" seconds\")\n",
    "        print(\"Last logged utility = \" + str(utilities_cfr_plus[len(utilities_cfr_plus)-1]))\n",
    "        print(\"Social welfare = \" + str(sum(utilities_cfr_plus[len(utilities_cfr_plus)-1])))\n",
    "        print(\"Max delta utility = \" + str(max(utilities_cfr_plus[len(utilities_cfr_plus)-1]) - \\\n",
    "                                           min(utilities_cfr_plus[len(utilities_cfr_plus)-1])))\n",
    "    print('')\n",
    "\n",
    "    #plt.plot(iteration_counts, epsilons)\n",
    "    #plt.plot(iteration_counts_cfr, epsilons_cfr)\n",
    "    #plt.plot(iteration_counts_cfr_plus, epsilons_cfr_plus)\n",
    "    #plt.show()\n",
    "    \n",
    "    plt.plot(iteration_counts, percent_epsilons)\n",
    "    plt.plot(iteration_counts_cfr, percent_epsilons_cfr)\n",
    "    plt.plot(iteration_counts_cfr_plus, percent_epsilons_cfr_plus)\n",
    "    plt.legend(['scfr','cfr', 'cfr+'])\n",
    "    plt.show()\n",
    "    \n",
    "    plt.plot(np.cumsum(durations), percent_epsilons)\n",
    "    plt.plot(np.cumsum(durations_cfr) if cumsum_durations else durations_cfr, percent_epsilons_cfr)\n",
    "    plt.plot(np.cumsum(durations_cfr_plus) if cumsum_durations else durations_cfr_plus, percent_epsilons_cfr_plus)\n",
    "    plt.legend(['scfr','cfr', 'cfr+'])\n",
    "    plt.show()"
   ]
  },
  {
   "cell_type": "code",
   "execution_count": null,
   "metadata": {},
   "outputs": [],
   "source": [
    "compare_algorithms('results/remote/goofspiel_cfr_comparisons_20190122/goofspiel_3_4_scfr_accumulate',\n",
    "                   'results/remote/goofspiel_cfr_comparisons_20190122/goofspiel_3_4_cfr_accumulate',\n",
    "                   'results/remote/goofspiel_cfr_comparisons_20190122/goofspiel_3_4_cfr_plus_accumulate')"
   ]
  },
  {
   "cell_type": "code",
   "execution_count": null,
   "metadata": {},
   "outputs": [],
   "source": [
    "compare_algorithms('results/remote/goofspiel_cfr_comparisons_20190122/goofspiel_3_3_scfr_accumulate',\n",
    "                   'results/remote/goofspiel_cfr_comparisons_20190122/goofspiel_3_3_cfr_accumulate',\n",
    "                   'results/remote/goofspiel_cfr_comparisons_20190122/goofspiel_3_3_cfr_plus_accumulate',\n",
    "                   cumsum_durations = True)"
   ]
  },
  {
   "cell_type": "code",
   "execution_count": null,
   "metadata": {},
   "outputs": [],
   "source": [
    "compare_algorithms('results/remote/goofspiel_cfr_comparisons_20190122/goofspiel_3_3_scfr_discard_if_all',\n",
    "                   'results/remote/goofspiel_cfr_comparisons_20190122/goofspiel_3_3_cfr_discard_if_all', \n",
    "                   'results/remote/goofspiel_cfr_comparisons_20190122/goofspiel_3_3_cfr_plus_discard_if_all',\n",
    "                   cumsum_durations = True)"
   ]
  },
  {
   "cell_type": "code",
   "execution_count": null,
   "metadata": {},
   "outputs": [],
   "source": [
    "compare_algorithms('results/remote/goofspiel_cfr_comparisons_20190122/goofspiel_3_3_scfr_discard_if_high',\n",
    "                   'results/remote/goofspiel_cfr_comparisons_20190122/goofspiel_3_3_cfr_discard_if_high',\n",
    "                   'results/remote/goofspiel_cfr_comparisons_20190122/goofspiel_3_3_cfr_plus_discard_if_high',\n",
    "                   cumsum_durations = True)"
   ]
  },
  {
   "cell_type": "code",
   "execution_count": null,
   "metadata": {},
   "outputs": [],
   "source": [
    "compare_algorithms('results/remote/goofspiel_cfr_comparisons_20190122/goofspiel_3_3_scfr_discard_always',\n",
    "                   'results/remote/goofspiel_cfr_comparisons_20190122/goofspiel_3_3_cfr_discard_always',\n",
    "                   'results/remote/goofspiel_cfr_comparisons_20190122/goofspiel_3_3_cfr_plus_discard_always',\n",
    "                   cumsum_durations = True)"
   ]
  },
  {
   "cell_type": "code",
   "execution_count": null,
   "metadata": {},
   "outputs": [],
   "source": [
    "compare_algorithms('results/remote/goofspiel_long_20180122/1548105233_3_4',\n",
    "                   'results/remote/goofspiel_cfr_comparisons_20190122/goofspiel_3_4_cfr_discard_always_ALBO',\n",
    "                   'results/remote/goofspiel_cfr_comparisons_20190122/goofspiel_3_4_cfr_plus_discard_always_ALBO',\n",
    "                   cumsum_durations = True)"
   ]
  },
  {
   "cell_type": "code",
   "execution_count": null,
   "metadata": {},
   "outputs": [],
   "source": [
    "compare_algorithms('results/remote/goofspiel_long_20180122/1548105230_3_4',\n",
    "                   'results/remote/goofspiel_cfr_comparisons_20190122/goofspiel_3_4_cfr_discard_if_high_ALBO',\n",
    "                   'results/remote/goofspiel_cfr_comparisons_20190122/goofspiel_3_4_cfr_plus_discard_if_high_ALBO',\n",
    "                   cumsum_durations = True)"
   ]
  },
  {
   "cell_type": "code",
   "execution_count": null,
   "metadata": {},
   "outputs": [],
   "source": [
    "compare_algorithms('results/remote/goofspiel_long_20180122/1548105224_3_4',\n",
    "                   'results/remote/goofspiel_cfr_comparisons_20190122/goofspiel_3_4_cfr_discard_if_all_ALBO',\n",
    "                   'results/remote/goofspiel_cfr_comparisons_20190122/goofspiel_3_4_cfr_plus_discard_if_all_ALBO',\n",
    "                   cumsum_durations = True)"
   ]
  },
  {
   "cell_type": "markdown",
   "metadata": {},
   "source": [
    "## Data to CSV for tikz"
   ]
  },
  {
   "cell_type": "code",
   "execution_count": null,
   "metadata": {},
   "outputs": [],
   "source": [
    "f1 = open('results/remote/goofspiel_long_20180122/1548105233_3_4', 'r')\n",
    "f2 = open('results/remote/goofspiel_cfr_comparisons_20190122/goofspiel_3_4_cfr_discard_always_ALBO', 'r')\n",
    "f3 = open('results/remote/goofspiel_cfr_comparisons_20190122/goofspiel_3_4_cfr_plus_discard_always_ALBO', 'r')\n",
    "\n",
    "f4 = open('results/remote/goofspiel_cfr_comparisons_20190122/goofspiel_3_4_scfr_accumulate', 'r')\n",
    "f5 = open('results/remote/goofspiel_cfr_comparisons_20190122/goofspiel_3_4_cfr_accumulate', 'r')\n",
    "f6 = open('results/remote/goofspiel_cfr_comparisons_20190122/goofspiel_3_4_cfr_plus_accumulate', 'r')\n",
    "\n",
    "data1 = json.load(f1)\n",
    "data2 = json.load(f2)\n",
    "data3 = json.load(f3)\n",
    "\n",
    "data4 = json.load(f4)\n",
    "data5 = json.load(f5)\n",
    "data6 = json.load(f6)\n",
    "\n",
    "durations1 = list(map(lambda el: el['duration'], data1['data']))\n",
    "durations2 = list(map(lambda el: el['duration'], data2['data']))\n",
    "durations3 = list(map(lambda el: el['duration'], data3['data']))\n",
    "\n",
    "durations4 = list(map(lambda el: el['duration'], data4['data']))\n",
    "durations5 = list(map(lambda el: el['duration'], data5['data']))\n",
    "durations6 = list(map(lambda el: el['duration'], data6['data']))\n",
    "\n",
    "du = delta_utility('goofspiel', 3, 4)\n",
    "\n",
    "with open(\"cfr_comparison_3_4_discard_always_scfr.csv\", 'w') as o:\n",
    "    o.write('iteration, epsilon, t\\n')\n",
    "    \n",
    "    for i in range(len(data1['data'])):\n",
    "        d = data1['data'][i]\n",
    "        o.write(str(d['iteration_number']) + ', ' + str(-min(d['epsilon']) / du) + ', ' + \\\n",
    "                str(sum(durations1[:i+1])) + \"\\n\")\n",
    "        \n",
    "with open(\"cfr_comparison_3_4_discard_always_cfr.csv\", 'w') as o:\n",
    "    o.write('iteration, epsilon, t\\n')\n",
    "    \n",
    "    for i in range(len(data2['data'])):\n",
    "        d = data2['data'][i]\n",
    "        o.write(str(d['iteration_number']) + ', ' + str(-min(d['epsilon']) / du) + ', ' + \\\n",
    "                str(sum(durations2[:i+1])) + \"\\n\")\n",
    "        \n",
    "with open(\"cfr_comparison_3_4_discard_always_cfr_plus.csv\", 'w') as o:\n",
    "    o.write('iteration, epsilon, t\\n')\n",
    "    \n",
    "    for i in range(len(data3['data'])):\n",
    "        d = data3['data'][i]\n",
    "        o.write(str(d['iteration_number']) + ', ' + str(-min(d['epsilon']) / du) + ', ' + \\\n",
    "                str(sum(durations3[:i+1])) + \"\\n\")\n",
    "\n",
    "with open(\"cfr_comparison_3_4_accumulate.csv\", 'w') as o:\n",
    "    o.write('iteration, scfr, cfr, cfr+\\n')\n",
    "    \n",
    "    iterations = list(map(lambda el: el['iteration_number'], data4['data']))\n",
    "    epsilons4 = list(map(lambda el: -min(el['epsilon']) / du, data4['data']))\n",
    "    epsilons5 = list(map(lambda el: -min(el['epsilon']) / du, data5['data']))\n",
    "    epsilons6 = list(map(lambda el: -min(el['epsilon']) / du, data6['data']))\n",
    "    \n",
    "    for (it, s, c, cp) in zip(iterations, epsilons4, epsilons5, epsilons6):\n",
    "        o.write(str(it) + ', ' + str(s) + ', ' + str(c) + ', ' + str(cp) + '\\n')\n",
    "        \n",
    "f1.close()\n",
    "f2.close()\n",
    "f3.close()\n",
    "\n",
    "f4.close()\n",
    "f5.close()\n",
    "f6.close()"
   ]
  },
  {
   "cell_type": "code",
   "execution_count": 29,
   "metadata": {},
   "outputs": [],
   "source": [
    "nips_data_folder  = \"../../../../Dropbox/Honours Programme/Shared Material/Nips-19/imgs/data/\""
   ]
  },
  {
   "cell_type": "code",
   "execution_count": 30,
   "metadata": {},
   "outputs": [],
   "source": [
    "def print_csv(name1, name2, name3):\n",
    "    f1 = open(name1, 'r')\n",
    "    f2 = open(name2, 'r')\n",
    "    f3 = open(name3, 'r')\n",
    "\n",
    "    data1 = json.load(f1)\n",
    "    data2 = json.load(f2)\n",
    "    data3 = json.load(f3)\n",
    "\n",
    "    durations1 = list(map(lambda el: el['duration'], data1['data']))\n",
    "    durations2 = list(map(lambda el: el['duration'], data2['data']))\n",
    "    durations3 = list(map(lambda el: el['duration'], data3['data']))\n",
    "\n",
    "    du = delta_utility('goofspiel', 3, 4)\n",
    "\n",
    "    shortest_run = min(sum(durations1), sum(durations2), sum(durations3))\n",
    "    \n",
    "    ts = data1['parameters']['tie_solver']\n",
    "\n",
    "    with open(icml_data_folder + \"cfr_comparison_3_4_\" + ts + \"_scfr.csv\", 'w') as o:\n",
    "        o.write('iteration, epsilon, t\\n')\n",
    "\n",
    "        for i in range(len(data1['data'])):\n",
    "            if sum(durations1[:i+1]) > shortest_run:\n",
    "                break\n",
    "\n",
    "            d = data1['data'][i]\n",
    "            o.write(str(d['iteration_number']) + ', ' + str(-min(d['epsilon'] + [0]) / du) + ', ' + \\\n",
    "                    str(sum(durations1[:i+1])) + \"\\n\")\n",
    "\n",
    "    with open(icml_data_folder + \"cfr_comparison_3_4_\" + ts + \"_cfr.csv\", 'w') as o:\n",
    "        o.write('iteration, epsilon, t\\n')\n",
    "\n",
    "        for i in range(len(data2['data'])):\n",
    "            if sum(durations2[:i+1]) > shortest_run:\n",
    "                break\n",
    "\n",
    "            d = data2['data'][i]\n",
    "            o.write(str(d['iteration_number']) + ', ' + str(-min(d['epsilon'] + [0]) / du) + ', ' + \\\n",
    "                    str(sum(durations2[:i+1])) + \"\\n\")\n",
    "\n",
    "    with open(icml_data_folder + \"cfr_comparison_3_4_\" + ts + \"_cfr_plus.csv\", 'w') as o:\n",
    "        o.write('iteration, epsilon, t\\n')\n",
    "\n",
    "        for i in range(len(data3['data'])):\n",
    "            if sum(durations3[:i+1]) > shortest_run:\n",
    "                break\n",
    "\n",
    "            d = data3['data'][i]\n",
    "            o.write(str(d['iteration_number']) + ', ' + str(-min(d['epsilon'] + [0]) / du) + ', ' + \\\n",
    "                    str(sum(durations3[:i+1])) + \"\\n\")\n",
    "\n",
    "    f1.close()\n",
    "    f2.close()\n",
    "    f3.close()"
   ]
  },
  {
   "cell_type": "code",
   "execution_count": null,
   "metadata": {},
   "outputs": [],
   "source": [
    "print_csv('results/remote/goofspiel_long_20180122/1548105233_3_4',\n",
    "          'results/remote/goofspiel_cfr_comparisons_20190122/goofspiel_3_4_cfr_discard_always_ALBO',\n",
    "          'results/remote/goofspiel_cfr_comparisons_20190122/goofspiel_3_4_cfr_plus_discard_always_ALBO')"
   ]
  },
  {
   "cell_type": "code",
   "execution_count": null,
   "metadata": {},
   "outputs": [],
   "source": [
    "print_csv('results/remote/goofspiel_long_20180122/1548105230_3_4',\n",
    "                   'results/remote/goofspiel_cfr_comparisons_20190122/goofspiel_3_4_cfr_discard_if_high_ALBO',\n",
    "                   'results/remote/goofspiel_cfr_comparisons_20190122/goofspiel_3_4_cfr_plus_discard_if_high_ALBO')"
   ]
  },
  {
   "cell_type": "code",
   "execution_count": null,
   "metadata": {},
   "outputs": [],
   "source": [
    "print_csv('results/remote/goofspiel_long_20180122/1548105224_3_4',\n",
    "                   'results/remote/goofspiel_cfr_comparisons_20190122/goofspiel_3_4_cfr_discard_if_all_ALBO',\n",
    "                   'results/remote/goofspiel_cfr_comparisons_20190122/goofspiel_3_4_cfr_plus_discard_if_all_ALBO')"
   ]
  },
  {
   "cell_type": "code",
   "execution_count": null,
   "metadata": {},
   "outputs": [],
   "source": []
  },
  {
   "cell_type": "code",
   "execution_count": null,
   "metadata": {},
   "outputs": [],
   "source": []
  },
  {
   "cell_type": "markdown",
   "metadata": {},
   "source": [
    "## CSVs for tikz for NeurIPS"
   ]
  },
  {
   "cell_type": "code",
   "execution_count": 28,
   "metadata": {},
   "outputs": [],
   "source": [
    "def print_csv(path, filenames, result_files, x_callback, y_callback, use_full_x_callback = False):\n",
    "    data = [json.load(open(res_file, 'r')) for res_file in result_files]\n",
    "    \n",
    "    if use_full_x_callback == True:\n",
    "        x_values = [x_callback(d['data']) for d in data]\n",
    "    else:\n",
    "        x_values = [list(map(lambda el: x_callback(el), d['data'])) for d in data]\n",
    "    y_values = [list(map(lambda el: y_callback(el), d['data'])) for d in data]\n",
    "    \n",
    "    for i in range(len(data)):\n",
    "        with open(path + filenames[i] + \".csv\", 'w') as o:\n",
    "            o.write('x,y\\n')\n",
    "\n",
    "            for t in range(len(x_values[i])):\n",
    "                o.write(str(x_values[i][t]) + ',' + str(y_values[i][t]) + '\\n')"
   ]
  },
  {
   "cell_type": "code",
   "execution_count": 120,
   "metadata": {},
   "outputs": [],
   "source": [
    "def print_csv_avg(path, filename, result_files, x_callback, y_callback, use_full_x_callback = False):\n",
    "    data = [json.load(open(res_file, 'r')) for res_file in result_files]\n",
    "    \n",
    "    if use_full_x_callback == True:\n",
    "        x_values = [x_callback(d['data']) for d in data]\n",
    "    else:\n",
    "        x_values = [list(map(lambda el: x_callback(el), d['data'])) for d in data]\n",
    "    y_values = [list(map(lambda el: y_callback(el), d['data'])) for d in data]\n",
    "    \n",
    "    with open(path + filename + \".csv\", 'w') as o:\n",
    "        o.write('x,y_mean,y_upper,y_lower\\n')\n",
    "\n",
    "        for t in range(min(map(lambda el: len(el), x_values))):\n",
    "            mean = np.mean([y_val[t] for y_val in y_values if len(y_val) > t])\n",
    "            std = np.std([y_val[t] for y_val in y_values if len(y_val) > t])\n",
    "            lower = max(mean - std, 0)\n",
    "            upper = mean + std\n",
    "            o.write(str(x_values[0][t]) + ',' + str(mean) + ',' + str(upper) + ',' + str(lower) + ',' + '\\n')"
   ]
  },
  {
   "cell_type": "code",
   "execution_count": 130,
   "metadata": {},
   "outputs": [],
   "source": [
    "nips_data_folder  = \"../../../../Dropbox/Honours Programme/Shared Material/NIPS-19/imgs/data/\""
   ]
  },
  {
   "cell_type": "code",
   "execution_count": 131,
   "metadata": {},
   "outputs": [],
   "source": [
    "print_csv(nips_data_folder, ['goofspiel_2_4_rcfr', 'goofspiel_2_4_cfr'],\n",
    "          ['results/remote/goofspiel_RCFR_nopt/goofspiel/1557389973_2_4_DiscardAlways',\n",
    "           'results/remote/goofspiel_CFR_new/goofspiel/1557392468_2_4_DiscardAlways'],\n",
    "          lambda el: el['iteration_number'], lambda el: -min(el['epsilon']) / 10)"
   ]
  },
  {
   "cell_type": "code",
   "execution_count": 132,
   "metadata": {},
   "outputs": [],
   "source": [
    "print_csv_avg(nips_data_folder, 'goofspiel_2_4_scfr_avg',\n",
    "              ['results/remote/nips/SCFR/goofspiel/1558511903_2_4_DiscardAlways',\n",
    "               'results/remote/nips/SCFR/goofspiel/1558511903_2_4_DiscardAlways_',\n",
    "               'results/remote/nips/SCFR/goofspiel/1558511904_2_4_DiscardAlways',\n",
    "               'results/remote/nips/SCFR/goofspiel/1558511905_2_4_DiscardAlways',\n",
    "               'results/remote/nips/SCFR/goofspiel/1558511905_2_4_DiscardAlways_',\n",
    "               'results/remote/nips/SCFR/goofspiel/1558511906_2_4_DiscardAlways',\n",
    "               'results/remote/nips/SCFR/goofspiel/1558511907_2_4_DiscardAlways',\n",
    "               'results/remote/nips/SCFR/goofspiel/1558511907_2_4_DiscardAlways_',\n",
    "               'results/remote/nips/SCFR/goofspiel/1558511908_2_4_DiscardAlways',\n",
    "               'results/remote/nips/SCFR/goofspiel/1558511909_2_4_DiscardAlways'],\n",
    "               lambda el: el['iteration_number'], lambda el: max(0, -min(el['epsilon'])) / 10)"
   ]
  },
  {
   "cell_type": "code",
   "execution_count": 133,
   "metadata": {},
   "outputs": [],
   "source": [
    "print_csv(nips_data_folder, ['goofspiel_2_4_rcfr_sw', 'goofspiel_2_4_cfr_sw'],\n",
    "          ['results/remote/goofspiel_RCFR_nopt/goofspiel/1557389973_2_4_DiscardAlways',\n",
    "           'results/remote/goofspiel_CFR_new/goofspiel/1557392468_2_4_DiscardAlways'],\n",
    "          lambda el: el['iteration_number'], lambda el: sum(el['utility']) / 10)"
   ]
  },
  {
   "cell_type": "code",
   "execution_count": 134,
   "metadata": {},
   "outputs": [],
   "source": [
    "print_csv_avg(nips_data_folder, 'goofspiel_2_4_scfr_sw_avg',\n",
    "              ['results/remote/nips/SCFR/goofspiel/1558511903_2_4_DiscardAlways',\n",
    "               'results/remote/nips/SCFR/goofspiel/1558511903_2_4_DiscardAlways_',\n",
    "               'results/remote/nips/SCFR/goofspiel/1558511904_2_4_DiscardAlways',\n",
    "               'results/remote/nips/SCFR/goofspiel/1558511905_2_4_DiscardAlways',\n",
    "               'results/remote/nips/SCFR/goofspiel/1558511905_2_4_DiscardAlways_',\n",
    "               'results/remote/nips/SCFR/goofspiel/1558511906_2_4_DiscardAlways',\n",
    "               'results/remote/nips/SCFR/goofspiel/1558511907_2_4_DiscardAlways',\n",
    "               'results/remote/nips/SCFR/goofspiel/1558511907_2_4_DiscardAlways_',\n",
    "               'results/remote/nips/SCFR/goofspiel/1558511908_2_4_DiscardAlways',\n",
    "               'results/remote/nips/SCFR/goofspiel/1558511909_2_4_DiscardAlways'],\n",
    "               lambda el: el['iteration_number'], lambda el: sum(el['utility']) / 10)"
   ]
  },
  {
   "cell_type": "markdown",
   "metadata": {},
   "source": [
    "#### Reconstruction rate"
   ]
  },
  {
   "cell_type": "code",
   "execution_count": 122,
   "metadata": {},
   "outputs": [],
   "source": [
    "res_array = ['results/remote/nips/rec_rate/kuhn/1558598394_3_6',\n",
    "             'results/remote/nips/rec_rate/kuhn/1558598403_3_6',\n",
    "             'results/remote/nips/rec_rate/kuhn/1558598405_3_6',\n",
    "             'results/remote/nips/rec_rate/kuhn/1558598406_3_6',\n",
    "             'results/remote/nips/rec_rate/kuhn/1558598409_3_6',\n",
    "             'results/remote/nips/rec_rate/kuhn/1558598411_3_6',\n",
    "             'results/remote/nips/rec_rate/kuhn/1558598414_3_6']"
   ]
  },
  {
   "cell_type": "code",
   "execution_count": 123,
   "metadata": {},
   "outputs": [],
   "source": [
    "print_csv(nips_data_folder, \n",
    "          ['rec_rate_1_iterations', 'rec_rate_2_iterations', 'rec_rate_5_iterations', 'rec_rate_10_iterations', \n",
    "           'rec_rate_20_iterations', 'rec_rate_50_iterations', 'rec_rate_100_iterations'], res_array,\n",
    "           lambda el: el['iteration_number'], lambda el: -min(el['epsilon']) / 6)"
   ]
  },
  {
   "cell_type": "code",
   "execution_count": 124,
   "metadata": {},
   "outputs": [],
   "source": [
    "def map_time(d):\n",
    "    durations = list(map(lambda el: el['duration'], d))\n",
    "    return [sum(durations[:i+1]) for i in range(len(durations))]\n",
    "\n",
    "print_csv(nips_data_folder, \n",
    "          ['rec_rate_1_time', 'rec_rate_2_time', 'rec_rate_5_time', 'rec_rate_10_time', \n",
    "           'rec_rate_20_time', 'rec_rate_50_time', 'rec_rate_100_time'], res_array,\n",
    "           lambda d: map_time(d), lambda el: -min(el['epsilon']) / 6, use_full_x_callback = True)"
   ]
  },
  {
   "cell_type": "code",
   "execution_count": 125,
   "metadata": {},
   "outputs": [],
   "source": [
    "print_csv(nips_data_folder, \n",
    "          ['rec_rate_1_size', 'rec_rate_2_size', 'rec_rate_5_size', 'rec_rate_10_size', \n",
    "           'rec_rate_20_size', 'rec_rate_50_size', 'rec_rate_100_size'], res_array,\n",
    "           lambda el: el['iteration_number'], lambda el: el['joint_support_size'])"
   ]
  },
  {
   "cell_type": "markdown",
   "metadata": {},
   "source": [
    "---"
   ]
  },
  {
   "cell_type": "code",
   "execution_count": 126,
   "metadata": {},
   "outputs": [],
   "source": [
    "res_array = ['results/remote/nips/rec_rate/kuhn/1558602847_3_10',\n",
    "             'results/remote/nips/rec_rate/kuhn/1558602848_3_10',\n",
    "             'results/remote/nips/rec_rate/kuhn/1558602851_3_10',\n",
    "             'results/remote/nips/rec_rate/kuhn/1558602853_3_10',\n",
    "             'results/remote/nips/rec_rate/kuhn/1558602856_3_10',\n",
    "             'results/remote/nips/rec_rate/kuhn/1558602859_3_10',\n",
    "             'results/remote/nips/rec_rate/kuhn/1558602864_3_10']"
   ]
  },
  {
   "cell_type": "code",
   "execution_count": 127,
   "metadata": {},
   "outputs": [],
   "source": [
    "print_csv(nips_data_folder, \n",
    "          ['rec_rate_1_iterations_k_3_10', 'rec_rate_2_iterations_k_3_10', 'rec_rate_5_iterations_k_3_10', \n",
    "           'rec_rate_10_iterations_k_3_10', 'rec_rate_20_iterations_k_3_10', 'rec_rate_50_iterations_k_3_10', \n",
    "           'rec_rate_100_iterations_k_3_10'], res_array,\n",
    "           lambda el: el['iteration_number'], lambda el: -min(el['epsilon']) / 6)"
   ]
  },
  {
   "cell_type": "code",
   "execution_count": 128,
   "metadata": {},
   "outputs": [],
   "source": [
    "def map_time(d):\n",
    "    durations = list(map(lambda el: el['duration'], d))\n",
    "    return [sum(durations[:i+1]) for i in range(len(durations))]\n",
    "\n",
    "print_csv(nips_data_folder, \n",
    "          ['rec_rate_1_time_k_3_10', 'rec_rate_2_time_k_3_10', 'rec_rate_5_time_k_3_10', 'rec_rate_10_time_k_3_10', \n",
    "           'rec_rate_20_time_k_3_10', 'rec_rate_50_time_k_3_10', 'rec_rate_100_time_k_3_10'], res_array,\n",
    "           lambda d: map_time(d), lambda el: -min(el['epsilon']) / 6, use_full_x_callback = True)"
   ]
  },
  {
   "cell_type": "code",
   "execution_count": 129,
   "metadata": {},
   "outputs": [],
   "source": [
    "print_csv(nips_data_folder, \n",
    "          ['rec_rate_1_size_k_3_10', 'rec_rate_2_size_k_3_10', 'rec_rate_5_size_k_3_10', 'rec_rate_10_size_k_3_10', \n",
    "           'rec_rate_20_size_k_3_10', 'rec_rate_50_size_k_3_10', 'rec_rate_100_size_k_3_10'], res_array,\n",
    "           lambda el: el['iteration_number'], lambda el: el['joint_support_size'])"
   ]
  },
  {
   "cell_type": "markdown",
   "metadata": {},
   "source": [
    "#### Shapley game"
   ]
  },
  {
   "cell_type": "code",
   "execution_count": 52,
   "metadata": {},
   "outputs": [],
   "source": [
    "print_csv(nips_data_folder, ['shapley_game_rcfr', 'shapley_game_cfr'],\n",
    "          ['results/shapley/shapley_game_rcfr',\n",
    "           'results/shapley/shapley_game_cfr'],\n",
    "          lambda el: el['iteration_number'], lambda el: -min(el['epsilon']) / 2)"
   ]
  },
  {
   "cell_type": "code",
   "execution_count": 121,
   "metadata": {},
   "outputs": [],
   "source": [
    "print_csv_avg(nips_data_folder, 'shapley_game_scfr_avg',\n",
    "              ['results/shapley/shapley_game_scfr_' + str(i) for i in range(10)],\n",
    "               lambda el: el['iteration_number'], lambda el: max(0, -min(el['epsilon'])) / 2)"
   ]
  },
  {
   "cell_type": "code",
   "execution_count": 53,
   "metadata": {},
   "outputs": [],
   "source": [
    "print_csv(nips_data_folder, ['shapley_game_rcfr_sw', 'shapley_game_cfr_sw'],\n",
    "          ['results/shapley/shapley_game_rcfr',\n",
    "           'results/shapley/shapley_game_cfr'],\n",
    "          lambda el: el['iteration_number'], lambda el: sum(el['utility']) / 2)"
   ]
  },
  {
   "cell_type": "code",
   "execution_count": 84,
   "metadata": {},
   "outputs": [],
   "source": [
    "print_csv_avg(nips_data_folder, 'shapley_game_scfr_sw_avg',\n",
    "              ['results/shapley/shapley_game_scfr_' + str(i) for i in range(10)],\n",
    "               lambda el: el['iteration_number'], lambda el: max(0, sum(el['utility'])) / 2)"
   ]
  },
  {
   "cell_type": "code",
   "execution_count": 109,
   "metadata": {},
   "outputs": [
    {
     "name": "stdout",
     "output_type": "stream",
     "text": [
      "{'duration': 0.0018551349639892578, 'joint_support_size': 78, 'max_plan_frequency': 4596, 'iteration_number': 150000, 'epsilon': [0.2668464789193793, -0.09469626652980556], 'relative_joint_size': 0.6105133333333334, 'utility': [0.8631206525656006, 0.6344169387509965], 'absolute_joint_size': 91577}\n",
      "0.123126928457\n"
     ]
    }
   ],
   "source": [
    "import numpy as np\n",
    "\n",
    "files = [open('results/shapley/shapley_game_scfr_' + str(i)) for i in range(10)]\n",
    "data = [json.load(f)['data'] for f in files]\n",
    "\n",
    "print(data[0][-1])\n",
    "\n",
    "print(np.mean([-min(d[-1]['epsilon']) for d in data]))\n",
    "\n",
    "for f in files:\n",
    "    f.close()"
   ]
  },
  {
   "cell_type": "code",
   "execution_count": null,
   "metadata": {},
   "outputs": [],
   "source": []
  }
 ],
 "metadata": {
  "kernelspec": {
   "display_name": "Python 3",
   "language": "python",
   "name": "python3"
  },
  "language_info": {
   "codemirror_mode": {
    "name": "ipython",
    "version": 3
   },
   "file_extension": ".py",
   "mimetype": "text/x-python",
   "name": "python",
   "nbconvert_exporter": "python",
   "pygments_lexer": "ipython3",
   "version": "3.5.2"
  }
 },
 "nbformat": 4,
 "nbformat_minor": 2
}
