{
 "cells": [
  {
   "cell_type": "code",
   "execution_count": 1,
   "metadata": {},
   "outputs": [
    {
     "name": "stdout",
     "output_type": "stream",
     "text": [
      "/home/tommy/Scrivania/Polimi/Honours Programme/SCFR\n"
     ]
    }
   ],
   "source": [
    "cd .."
   ]
  },
  {
   "cell_type": "code",
   "execution_count": 2,
   "metadata": {},
   "outputs": [],
   "source": [
    "from os import listdir, path\n",
    "import json\n",
    "import matplotlib.pyplot as plt\n",
    "\n",
    "from data_structures.cfr_trees import CFRTree\n",
    "from games.goofspiel import build_goofspiel_tree\n",
    "from games.kuhn import build_kuhn_tree\n",
    "from games.leduc import build_leduc_tree\n",
    "from functools import reduce"
   ]
  },
  {
   "cell_type": "code",
   "execution_count": 3,
   "metadata": {},
   "outputs": [],
   "source": [
    "def parameters_to_string(par):\n",
    "    if(par['game'] == 'kuhn'):\n",
    "        return 'kuhn_' + str(par['players']) + '_' + str(par['rank'])\n",
    "    if(par['game'] == 'leduc'):\n",
    "        return 'leduc_' + str(par['players']) + '_' + str(par['suits']) + '_' + str(par['rank'])\n",
    "    if(par['game'] == 'goofspiel'):\n",
    "        return 'goofspiel_' + str(par['players']) + '_' + str(par['rank']) + '_' + str(par['tie_solver'])\n",
    "    if(par['game'] == 'random'):\n",
    "        return 'random_' + str(par['players']) + '_' + str(par['depth']) + '_' + str(par['branching_factor'])\n",
    "    if(par['game'] == 'hanabi'):\n",
    "        return 'hanabi_' + str(par['players']) + '_' + str(par['suits']) + '_' + \\\n",
    "                str(par['color_distribution']).replace(' ','').replace(',','_') + '_' + \\\n",
    "                str(par['cards_per_player']) + '_' + str(par['starting_clue_tokens'])"
   ]
  },
  {
   "cell_type": "code",
   "execution_count": 4,
   "metadata": {},
   "outputs": [],
   "source": [
    "# TODO: check it, in particular for bigger versions of goofspiel\n",
    "# TODO: implement different goofspiel TieSolver\n",
    "\n",
    "def delta_utility(game, players, rank, betting_parameters = [2, 4], color_distribution = None, suits = 1):\n",
    "    if game == 'kuhn':\n",
    "        return 2 * players\n",
    "    if game == 'leduc':\n",
    "        return players + players * betting_parameters[0] + players * betting_parameters[1]\n",
    "    if game == 'goofspiel':\n",
    "        return sum(list(range(1, rank+1)))\n",
    "    if game == 'random':\n",
    "        return 1\n",
    "    if game == 'hanabi':\n",
    "        return (len(color_distribution) + 1) * suits"
   ]
  },
  {
   "cell_type": "code",
   "execution_count": 5,
   "metadata": {},
   "outputs": [],
   "source": [
    "def max_social_welfare(game, players, rank, betting_parameters = [2, 4], color_distribution = None, suits = 1):\n",
    "    if game == 'kuhn' or game == 'leduc':\n",
    "        return 0\n",
    "    if game == 'goofspiel':\n",
    "        return sum(list(range(1, rank+1)))\n",
    "    if game == 'random':\n",
    "        return players\n",
    "    if game == 'hanabi':\n",
    "        return (len(color_distribution)) * suits * players"
   ]
  },
  {
   "cell_type": "code",
   "execution_count": 6,
   "metadata": {},
   "outputs": [],
   "source": [
    "target_directory = \"results/remote/repeated_tests/kuhn/\""
   ]
  },
  {
   "cell_type": "code",
   "execution_count": 13,
   "metadata": {},
   "outputs": [],
   "source": [
    "file_names = listdir(target_directory)"
   ]
  },
  {
   "cell_type": "code",
   "execution_count": 33,
   "metadata": {},
   "outputs": [],
   "source": [
    "def analyze(name, target_epsilons, data_per_instance):\n",
    "    if path.isdir(target_directory + name):\n",
    "        return\n",
    "    \n",
    "    file = open(target_directory + name, \"r\")\n",
    "    data = json.load(file)\n",
    "    \n",
    "    print(\"File = \" + name)\n",
    "    print(\"Game = \" + parameters_to_string(data['parameters']))\n",
    "    \n",
    "    print(\"Total iterations = \" + str(data['parameters']['number_iterations']))\n",
    "    print(\"Check every iteration = \" + str(data['parameters']['check_every_iteration']))\n",
    "    \n",
    "    # --------- SKIP 2 PLAYERS LEDUC AND GOOFSPIEL ---------\n",
    "    if data['parameters']['game'] in ['goofspiel', 'leduc'] and data['parameters']['players'] == 2:\n",
    "        print(\"---------------------------\")\n",
    "        print(\"Skipping 2 player versions\")\n",
    "        print(\"---------------------------\")\n",
    "        print(\"\")\n",
    "        return\n",
    "    # ------------------------------------------------------\n",
    "    \n",
    "    durations = list(map(lambda el: el['duration'], data['data']))\n",
    "    \n",
    "    target_datapoint_amount = int(data['parameters']['number_iterations']) / int(data['parameters']['check_every_iteration'])\n",
    "    run_time = sum(durations)\n",
    "    avg_time = run_time / len(durations)\n",
    "    print(\"Logged \" + str(len(data['data'])) + \" out of \" + str(target_datapoint_amount) + \" datapoints in \" + \\\n",
    "          str(run_time) + \" seconds (aka \" + str(run_time/3600) + \" hours)\")\n",
    "    print(\"Average duration of batch = \" + str(avg_time) + \" seconds (aka \" + str(avg_time/3600) + \" hours)\")\n",
    "\n",
    "    if 'total_duration' in data:\n",
    "        running_time = data['total_duration']\n",
    "        print(\"Solved in \" + str(running_time) + \" seconds\")\n",
    "        print(\"Solved in \" + str(running_time / 60) + \" minutes\")\n",
    "        print(\"Solved in \" + str(running_time / 3600) + \" hours\")\n",
    "        \n",
    "    if 'utility' in data:\n",
    "        u = data['utility']\n",
    "    else:\n",
    "        u = data['data'][-1]['utility']\n",
    "        \n",
    "    sw = sum(u)\n",
    "    print(\"Final utility = \" + str(u))\n",
    "    print(\"Social welfare = \" + str(sw))\n",
    "    max_sw = max_social_welfare(data['parameters']['game'], data['parameters']['players'], \n",
    "                                data['parameters']['rank'], data['parameters']['betting_parameters'],\n",
    "                                data['parameters']['color_distribution'], data['parameters']['suits'])\n",
    "    if max_sw != 0:\n",
    "        print(\"Max social welfare = \" + str(max_sw) + \" (obtained \" + \\\n",
    "              str(sw / max_sw * 100) + \"%)\")\n",
    "\n",
    "    if 'total_duration' in data:\n",
    "        print(\"Average iterations per second = \" + str(data['average_iterations_per_second']))\n",
    "    \n",
    "    du = delta_utility(data['parameters']['game'], data['parameters']['players'], data['parameters']['rank'],\n",
    "                   data['parameters']['betting_parameters'], data['parameters']['color_distribution'], \n",
    "                   data['parameters']['suits'])\n",
    "\n",
    "    iteration_counts = list(map(lambda el: el['iteration_number'], data['data']))\n",
    "    epsilons = list(map(lambda el: max(0, -min(el['epsilon'])), data['data']))\n",
    "    percent_epsilons = list(map(lambda el: el / du, epsilons))\n",
    "    utilities = list(map(lambda el: sum(el['utility']), data['data']))\n",
    "    if max_sw != 0:\n",
    "        percent_utilities = list(map(lambda el: el / max_sw, utilities))\n",
    "    #absolute_joint_sizes = list(map(lambda el: el['absolute_joint_size'], data['data']))\n",
    "    #relative_joint_sizes = list(map(lambda el: el['relative_joint_size'], data['data']))\n",
    "    #max_plan_frequencies = list(map(lambda el: el['max_plan_frequency'], data['data']))\n",
    "    #joint_support_sizes = list(map(lambda el: el['joint_support_size'], data['data']))\n",
    "    \n",
    "    plt.plot(iteration_counts, epsilons)\n",
    "    plt.title('Epsilons')\n",
    "    plt.show()\n",
    "    plt.plot(iteration_counts, percent_epsilons)\n",
    "    plt.title('Percent epsilons')\n",
    "    plt.show()\n",
    "    if max_sw != 0:\n",
    "        plt.plot(iteration_counts, percent_utilities)\n",
    "        plt.title('Percent social welfare')\n",
    "        plt.show()\n",
    "    \n",
    "    time_to_target = []\n",
    "    iterations_to_target = []\n",
    "    \n",
    "    for t in target_epsilons:\n",
    "        indices_below_t = [i for i in range(len(epsilons)) if percent_epsilons[i] <= t]\n",
    "        if len(indices_below_t) > 0:\n",
    "            time_to_t = sum(durations[:indices_below_t[0]+1])\n",
    "            iterations_to_target.append((indices_below_t[0]+1) * int(data['parameters']['check_every_iteration']))\n",
    "        else:\n",
    "            time_to_t = -1\n",
    "            iterations_to_target.append(-1)\n",
    "        time_to_target.append(round(time_to_t, 5))\n",
    "    \n",
    "    s = parameters_to_string(data['parameters'])\n",
    "    \n",
    "    d = {'time_to_target': time_to_target,\n",
    "        'iterations_to_target': iterations_to_target,\n",
    "        'parameters': data['parameters']}\n",
    "    \n",
    "    if (s + '_average') not in data_per_instance:\n",
    "        data_per_instance[s + '_average'] = []\n",
    "    data_per_instance[s + '_average'].append(d)\n",
    "    \n",
    "    while s in data_per_instance:\n",
    "        s += '_'\n",
    "    data_per_instance[s] = d"
   ]
  },
  {
   "cell_type": "code",
   "execution_count": 49,
   "metadata": {
    "scrolled": true
   },
   "outputs": [
    {
     "name": "stdout",
     "output_type": "stream",
     "text": [
      "File = 1556571148_3_5\n",
      "Game = kuhn_3_5\n",
      "Total iterations = 50000\n",
      "Check every iteration = 20\n",
      "Logged 2500 out of 2500.0 datapoints in 14897.910982370377 seconds (aka 4.138308606213993 hours)\n",
      "Average duration of batch = 5.959164392948151 seconds (aka 0.0016553234424855974 hours)\n",
      "Solved in 14995.156568050385 seconds\n",
      "Solved in 249.9192761341731 minutes\n",
      "Solved in 4.1653212689028845 hours\n",
      "Final utility = [-0.03469373683824155, 0.0128829694491404, 0.021810767389101145]\n",
      "Social welfare = -3.469446951953614e-18\n",
      "Average iterations per second = 3.334409999194881\n"
     ]
    },
    {
     "data": {
      "image/png": "[encoded data removed]",
      "text/plain": [
       "<matplotlib.figure.Figure at 0x7febf15cfdd8>"
      ]
     },
     "metadata": {},
     "output_type": "display_data"
    },
    {
     "data": {
      "image/png": "[encoded data removed]",
      "text/plain": [
       "<matplotlib.figure.Figure at 0x7febf12563c8>"
      ]
     },
     "metadata": {},
     "output_type": "display_data"
    },
    {
     "name": "stdout",
     "output_type": "stream",
     "text": [
      "File = 1556571206_3_5\n",
      "Game = kuhn_3_5\n",
      "Total iterations = 50000\n",
      "Check every iteration = 20\n",
      "Logged 2500 out of 2500.0 datapoints in 15086.026660442352 seconds (aka 4.1905629612339865 hours)\n",
      "Average duration of batch = 6.034410664176941 seconds (aka 0.0016762251844935948 hours)\n",
      "Solved in 15179.589269399643 seconds\n",
      "Solved in 252.99315448999405 minutes\n",
      "Solved in 4.216552574833234 hours\n",
      "Final utility = [-0.03469373683824155, 0.0128829694491404, 0.021810767389101145]\n",
      "Social welfare = -3.469446951953614e-18\n",
      "Average iterations per second = 3.29389676575732\n"
     ]
    },
    {
     "data": {
      "image/png": "[encoded data removed]",
      "text/plain": [
       "<matplotlib.figure.Figure at 0x7febf1809e10>"
      ]
     },
     "metadata": {},
     "output_type": "display_data"
    },
    {
     "data": {
      "image/png": "[encoded data removed]",
      "text/plain": [
       "<matplotlib.figure.Figure at 0x7febf1548cc0>"
      ]
     },
     "metadata": {},
     "output_type": "display_data"
    },
    {
     "name": "stdout",
     "output_type": "stream",
     "text": [
      "File = 1556571137_3_5\n",
      "Game = kuhn_3_5\n",
      "Total iterations = 50000\n",
      "Check every iteration = 20\n",
      "Logged 2500 out of 2500.0 datapoints in 14475.65656042099 seconds (aka 4.021015711228053 hours)\n",
      "Average duration of batch = 5.790262624168396 seconds (aka 0.001608406284491221 hours)\n",
      "Solved in 14568.541101694107 seconds\n",
      "Solved in 242.80901836156846 minutes\n",
      "Solved in 4.046816972692808 hours\n",
      "Final utility = [-0.03469373683824155, 0.0128829694491404, 0.021810767389101145]\n",
      "Social welfare = -3.469446951953614e-18\n",
      "Average iterations per second = 3.4320526434994743\n"
     ]
    },
    {
     "data": {
      "image/png": "[encoded data removed]",
      "text/plain": [
       "<matplotlib.figure.Figure at 0x7febf144e1d0>"
      ]
     },
     "metadata": {},
     "output_type": "display_data"
    },
    {
     "data": {
      "image/png": "[encoded data removed]",
      "text/plain": [
       "<matplotlib.figure.Figure at 0x7febf1634da0>"
      ]
     },
     "metadata": {},
     "output_type": "display_data"
    },
    {
     "name": "stdout",
     "output_type": "stream",
     "text": [
      "File = 1556571188_3_5\n",
      "Game = kuhn_3_5\n",
      "Total iterations = 50000\n",
      "Check every iteration = 20\n",
      "Logged 2500 out of 2500.0 datapoints in 14629.60904121399 seconds (aka 4.063780289226108 hours)\n",
      "Average duration of batch = 5.851843616485596 seconds (aka 0.0016255121156904433 hours)\n",
      "Solved in 14721.197874546051 seconds\n",
      "Solved in 245.35329790910086 minutes\n",
      "Solved in 4.089221631818347 hours\n",
      "Final utility = [-0.03469373683824155, 0.0128829694491404, 0.021810767389101145]\n",
      "Social welfare = -3.469446951953614e-18\n",
      "Average iterations per second = 3.3964627353086114\n"
     ]
    },
    {
     "data": {
      "image/png": "[encoded data removed]",
      "text/plain": [
       "<matplotlib.figure.Figure at 0x7febf1795080>"
      ]
     },
     "metadata": {},
     "output_type": "display_data"
    },
    {
     "data": {
      "image/png": "[encoded data removed]",
      "text/plain": [
       "<matplotlib.figure.Figure at 0x7febf14dccf8>"
      ]
     },
     "metadata": {},
     "output_type": "display_data"
    },
    {
     "name": "stdout",
     "output_type": "stream",
     "text": [
      "File = 1556571199_3_5\n",
      "Game = kuhn_3_5\n",
      "Total iterations = 50000\n",
      "Check every iteration = 20\n",
      "Logged 2500 out of 2500.0 datapoints in 14688.581914186478 seconds (aka 4.0801616428295775 hours)\n",
      "Average duration of batch = 5.875432765674591 seconds (aka 0.0016320646571318308 hours)\n",
      "Solved in 14783.258353948593 seconds\n",
      "Solved in 246.38763923247654 minutes\n",
      "Solved in 4.106460653874609 hours\n",
      "Final utility = [-0.03469373683824155, 0.0128829694491404, 0.021810767389101145]\n",
      "Social welfare = -3.469446951953614e-18\n",
      "Average iterations per second = 3.3822043018442582\n"
     ]
    },
    {
     "data": {
      "image/png": "[encoded data removed]",
      "text/plain": [
       "<matplotlib.figure.Figure at 0x7febf1346160>"
      ]
     },
     "metadata": {},
     "output_type": "display_data"
    },
    {
     "data": {
      "image/png": "[encoded data removed]",
      "text/plain": [
       "<matplotlib.figure.Figure at 0x7febf13c8f28>"
      ]
     },
     "metadata": {},
     "output_type": "display_data"
    },
    {
     "name": "stdout",
     "output_type": "stream",
     "text": [
      "File = 1556571159_3_5\n",
      "Game = kuhn_3_5\n",
      "Total iterations = 50000\n",
      "Check every iteration = 20\n",
      "Logged 2500 out of 2500.0 datapoints in 14020.349813222885 seconds (aka 3.894541614784135 hours)\n",
      "Average duration of batch = 5.608139925289154 seconds (aka 0.001557816645913654 hours)\n",
      "Solved in 14116.58747267723 seconds\n",
      "Solved in 235.27645787795385 minutes\n",
      "Solved in 3.9212742979658977 hours\n",
      "Final utility = [-0.03469373683824155, 0.0128829694491404, 0.021810767389101145]\n",
      "Social welfare = -3.469446951953614e-18\n",
      "Average iterations per second = 3.5419325029349626\n"
     ]
    },
    {
     "data": {
      "image/png": "[encoded data removed]",
      "text/plain": [
       "<matplotlib.figure.Figure at 0x7febf17e2198>"
      ]
     },
     "metadata": {},
     "output_type": "display_data"
    },
    {
     "data": {
      "image/png": "[encoded data removed]",
      "text/plain": [
       "<matplotlib.figure.Figure at 0x7febf126b940>"
      ]
     },
     "metadata": {},
     "output_type": "display_data"
    },
    {
     "name": "stdout",
     "output_type": "stream",
     "text": [
      "File = 1556571212_3_5\n",
      "Game = kuhn_3_5\n",
      "Total iterations = 50000\n",
      "Check every iteration = 20\n",
      "Logged 2500 out of 2500.0 datapoints in 13946.212455749512 seconds (aka 3.8739479043748646 hours)\n",
      "Average duration of batch = 5.578484982299805 seconds (aka 0.0015495791617499456 hours)\n",
      "Solved in 14038.498877286911 seconds\n",
      "Solved in 233.97498128811517 minutes\n",
      "Solved in 3.8995830214685863 hours\n",
      "Final utility = [-0.03469373683824155, 0.0128829694491404, 0.021810767389101145]\n",
      "Social welfare = -3.469446951953614e-18\n",
      "Average iterations per second = 3.5616343625525175\n"
     ]
    },
    {
     "data": {
      "image/png": "[encoded data removed]",
      "text/plain": [
       "<matplotlib.figure.Figure at 0x7febf1369d30>"
      ]
     },
     "metadata": {},
     "output_type": "display_data"
    },
    {
     "data": {
      "image/png": "[encoded data removed]",
      "text/plain": [
       "<matplotlib.figure.Figure at 0x7febf14fc5c0>"
      ]
     },
     "metadata": {},
     "output_type": "display_data"
    },
    {
     "name": "stdout",
     "output_type": "stream",
     "text": [
      "File = 1556571193_3_5\n",
      "Game = kuhn_3_5\n",
      "Total iterations = 50000\n",
      "Check every iteration = 20\n",
      "Logged 2500 out of 2500.0 datapoints in 15142.535593271255 seconds (aka 4.206259887019793 hours)\n",
      "Average duration of batch = 6.057014237308502 seconds (aka 0.0016825039548079173 hours)\n",
      "Solved in 15237.947667598724 seconds\n",
      "Solved in 253.96579445997875 minutes\n",
      "Solved in 4.232763240999645 hours\n",
      "Final utility = [-0.03469373683824155, 0.0128829694491404, 0.021810767389101145]\n",
      "Social welfare = -3.469446951953614e-18\n",
      "Average iterations per second = 3.281281776962505\n"
     ]
    },
    {
     "data": {
      "image/png": "[encoded data removed]",
      "text/plain": [
       "<matplotlib.figure.Figure at 0x7febf1847cc0>"
      ]
     },
     "metadata": {},
     "output_type": "display_data"
    },
    {
     "data": {
      "image/png": "[encoded data removed]",
      "text/plain": [
       "<matplotlib.figure.Figure at 0x7febf14dc358>"
      ]
     },
     "metadata": {},
     "output_type": "display_data"
    },
    {
     "name": "stdout",
     "output_type": "stream",
     "text": [
      "File = 1556571143_3_5\n",
      "Game = kuhn_3_5\n",
      "Total iterations = 50000\n",
      "Check every iteration = 20\n",
      "Logged 2500 out of 2500.0 datapoints in 14702.407687425613 seconds (aka 4.084002135396004 hours)\n",
      "Average duration of batch = 5.8809630749702455 seconds (aka 0.0016336008541584016 hours)\n",
      "Solved in 14798.696454524994 seconds\n",
      "Solved in 246.6449409087499 minutes\n",
      "Solved in 4.1107490151458315 hours\n",
      "Final utility = [-0.03469373683824155, 0.0128829694491404, 0.021810767389101145]\n",
      "Social welfare = -3.469446951953614e-18\n",
      "Average iterations per second = 3.378675963362402\n"
     ]
    },
    {
     "data": {
      "image/png": "[encoded data removed]",
      "text/plain": [
       "<matplotlib.figure.Figure at 0x7febf1666978>"
      ]
     },
     "metadata": {},
     "output_type": "display_data"
    },
    {
     "data": {
      "image/png": "[encoded data removed]",
      "text/plain": [
       "<matplotlib.figure.Figure at 0x7febf1252780>"
      ]
     },
     "metadata": {},
     "output_type": "display_data"
    },
    {
     "name": "stdout",
     "output_type": "stream",
     "text": [
      "File = 1556571154_3_5\n",
      "Game = kuhn_3_5\n",
      "Total iterations = 50000\n",
      "Check every iteration = 20\n",
      "Logged 2500 out of 2500.0 datapoints in 14481.12450003624 seconds (aka 4.0225345833434 hours)\n",
      "Average duration of batch = 5.792449800014496 seconds (aka 0.00160901383333736 hours)\n",
      "Solved in 14574.923192501068 seconds\n",
      "Solved in 242.91538654168446 minutes\n",
      "Solved in 4.048589775694741 hours\n",
      "Final utility = [-0.03469373683824155, 0.0128829694491404, 0.021810767389101145]\n",
      "Social welfare = -3.469446951953614e-18\n",
      "Average iterations per second = 3.4305498107685026\n"
     ]
    },
    {
     "data": {
      "image/png": "[encoded data removed]",
      "text/plain": [
       "<matplotlib.figure.Figure at 0x7febf154c470>"
      ]
     },
     "metadata": {},
     "output_type": "display_data"
    },
    {
     "data": {
      "image/png": "[encoded data removed]",
      "text/plain": [
       "<matplotlib.figure.Figure at 0x7febf15ccac8>"
      ]
     },
     "metadata": {},
     "output_type": "display_data"
    }
   ],
   "source": [
    "target_epsilons = [0.1, 0.01, 0.001, 0.0001, 0.00001]\n",
    "data_per_instance = {}\n",
    "\n",
    "for name in file_names:\n",
    "    analyze(name, target_epsilons, data_per_instance)\n",
    "    \n",
    "# Average if needed\n",
    "new_data_per_instance = {}\n",
    "for (s, data) in data_per_instance.items():\n",
    "    if type(data) != list:\n",
    "        new_data_per_instance[s] = data\n",
    "    elif len(data) > 1:\n",
    "        tot_time = [0 for _ in target_epsilons]\n",
    "        tot_it = [0 for _ in target_epsilons]\n",
    "        for d in data:\n",
    "            for i in range(len(target_epsilons)):\n",
    "                tot_time[i] += d['time_to_target'][i]\n",
    "                tot_it[i] += d['iterations_to_target'][i]\n",
    "        for i in range(len(target_epsilons)):\n",
    "            tot_time[i] /= len(data)\n",
    "            tot_it[i] /= len(data)\n",
    "        new_data_per_instance[s] = {'time_to_target': tot_time,\n",
    "                                    'iterations_to_target': tot_it,\n",
    "                                    'parameters': data[0]['parameters']}\n",
    "    \n",
    "data_per_instance = new_data_per_instance"
   ]
  },
  {
   "cell_type": "code",
   "execution_count": 50,
   "metadata": {},
   "outputs": [],
   "source": [
    "size_data = {\n",
    "    'kuhn_3_6': (72, 147),\n",
    "    'kuhn_3_7': (84, 171),\n",
    "    'kuhn_3_8': (96, 195),\n",
    "    'kuhn_3_9': (108, 219),\n",
    "    'kuhn_3_10': (120, 243),\n",
    "    \n",
    "    'leduc_3_3_3': (684, 1371),\n",
    "    'leduc_3_3_4': (1200, 2403),\n",
    "    'leduc_3_3_5': (1860, 3723),\n",
    "    'leduc_3_3_6': (2664, 5331),\n",
    "    'leduc_3_3_7': (3612, 7227),\n",
    "    'leduc_3_3_8': (4704, 9411),\n",
    "    \n",
    "    'goofspiel_3_3_accumulate': (194, 396),\n",
    "    'goofspiel_3_3_discard_if_all': (194, 396),\n",
    "    'goofspiel_3_3_discard_if_high': (194, 396),\n",
    "    'goofspiel_3_3_discard_always': (194, 396),\n",
    "    'goofspiel_3_4_accumulate': (48966, 98523),\n",
    "    'goofspiel_3_4_discard_if_all': (48966, 98523),\n",
    "    'goofspiel_3_4_discard_if_high': (48966, 98523),\n",
    "    'goofspiel_3_4_discard_always': (48966, 98523),\n",
    "    \n",
    "    # Random sized are taken from specific dat files\n",
    "    'random_2_5_2': (24, 46),\n",
    "    'random_2_6_2': (52, 102),\n",
    "    'random_2_7_2': (94, 186),\n",
    "    'random_2_8_2': (186, 370),\n",
    "    'random_2_9_2': (383, 764),\n",
    "    'random_2_10_2': (776, 1550),\n",
    "    'random_3_5_2': (29, 55),\n",
    "    'random_3_6_2': (49, 95),\n",
    "    'random_3_7_2': (100, 197),\n",
    "    'random_3_8_2': (206, 409),\n",
    "    'random_3_9_2': (378, 753),\n",
    "    'random_3_10_2': (757, 1541),\n",
    "}"
   ]
  },
  {
   "cell_type": "code",
   "execution_count": 51,
   "metadata": {},
   "outputs": [],
   "source": [
    "def count_sequences(cfr_tree):\n",
    "    all_nodes = reduce(lambda x, y: x + y.nodes, cfr_tree.information_sets.values(), [])\n",
    "    all_leaves = list(filter(lambda n: n.isLeaf(), reduce(lambda x, y: x + y.children, all_nodes, [])))\n",
    "    all_nodes = all_nodes + all_leaves\n",
    "    \n",
    "    count = 0\n",
    "\n",
    "    for p in range(cfr_tree.numOfPlayers):\n",
    "        Q_raw = list(filter(lambda q: q != {}, map(lambda n: n.base_node.getSequence(p), all_nodes)))\n",
    "        Q = [{}] + [dict(t) for t in {tuple(d.items()) for d in Q_raw}]\n",
    "        count += len(Q)\n",
    "        \n",
    "    return count\n",
    "\n",
    "def count_infosets(cfr_tree):\n",
    "    return len(cfr_tree.information_sets)\n",
    "\n",
    "def get_size_data(par):\n",
    "    name = parameters_to_string(par)\n",
    "    if name not in size_data:\n",
    "        if par['game'] == 'kuhn':\n",
    "            cfr_tree = CFRTree(build_kuhn_tree(par['players'], par['rank']))\n",
    "        elif par['game'] == 'leduc':\n",
    "            cfr_tree = CFRTree(build_leduc_tree(par['players'], par['suits'], par['rank'], \n",
    "                                                par['betting_parameters']))\n",
    "        elif par['game'] == 'goofspiel':\n",
    "            # Tie solver is not needed to determine the size of the game\n",
    "            cfr_tree = CFRTree(build_goofspiel_tree(par['players'], par['rank']))\n",
    "        size_data[name] = (count_infosets(cfr_tree), count_sequences(cfr_tree))\n",
    "        \n",
    "    return size_data[name]"
   ]
  },
  {
   "cell_type": "code",
   "execution_count": 52,
   "metadata": {},
   "outputs": [],
   "source": [
    "from IPython.display import HTML, display\n",
    "import tabulate"
   ]
  },
  {
   "cell_type": "code",
   "execution_count": 53,
   "metadata": {},
   "outputs": [
    {
     "name": "stdout",
     "output_type": "stream",
     "text": [
      "kuhn_3_5 done\n",
      "kuhn_3_5_ done\n",
      "kuhn_3_5__ done\n",
      "kuhn_3_5___ done\n",
      "kuhn_3_5____ done\n",
      "kuhn_3_5_____ done\n",
      "kuhn_3_5______ done\n",
      "kuhn_3_5_______ done\n",
      "kuhn_3_5________ done\n",
      "kuhn_3_5_________ done\n",
      "kuhn_3_5_average done\n"
     ]
    }
   ],
   "source": [
    "table_text = [['Game', 'Inf.', 'Seq.', 'Delta'] + (list(map(lambda el: str(el) + '%', target_epsilons)))]\n",
    "for (game, data) in sorted(data_per_instance.items()):\n",
    "    par = data['parameters']\n",
    "    \n",
    "    size = get_size_data(par)\n",
    "    \n",
    "    line_text = [game, size[0], size[1]]\n",
    "    line_text.append(delta_utility(par['game'], par['players'], par['rank'], par['betting_parameters']))\n",
    "    line_text += list(map(lambda t: 'n/a' if t == -1 else str(t), data['time_to_target']))\n",
    "    \n",
    "    table_text.append(line_text)\n",
    "    \n",
    "    print(game + \" done\")"
   ]
  },
  {
   "cell_type": "code",
   "execution_count": 54,
   "metadata": {},
   "outputs": [
    {
     "data": {
      "text/html": [
       "<table>\n",
       "<tbody>\n",
       "<tr><td>Game             </td><td>Inf.</td><td>Seq.</td><td>Delta</td><td>0.1%              </td><td>0.01%   </td><td>0.001%   </td><td>0.0001%          </td><td>1e-05%</td></tr>\n",
       "<tr><td>kuhn_3_5         </td><td>60  </td><td>123 </td><td>6    </td><td>0.53581           </td><td>1.69557 </td><td>86.84386 </td><td>8417.02746       </td><td>n/a   </td></tr>\n",
       "<tr><td>kuhn_3_5_        </td><td>60  </td><td>123 </td><td>6    </td><td>0.49513           </td><td>1.5817  </td><td>86.74697 </td><td>8556.13384       </td><td>n/a   </td></tr>\n",
       "<tr><td>kuhn_3_5__       </td><td>60  </td><td>123 </td><td>6    </td><td>0.50299           </td><td>1.60558 </td><td>85.90345 </td><td>8195.66668       </td><td>n/a   </td></tr>\n",
       "<tr><td>kuhn_3_5___      </td><td>60  </td><td>123 </td><td>6    </td><td>0.46344           </td><td>1.47437 </td><td>83.88319 </td><td>8275.03435       </td><td>n/a   </td></tr>\n",
       "<tr><td>kuhn_3_5____     </td><td>60  </td><td>123 </td><td>6    </td><td>0.48344           </td><td>1.51559 </td><td>83.79027 </td><td>8312.38025       </td><td>n/a   </td></tr>\n",
       "<tr><td>kuhn_3_5_____    </td><td>60  </td><td>123 </td><td>6    </td><td>0.52113           </td><td>1.67604 </td><td>83.21023 </td><td>7931.35881       </td><td>n/a   </td></tr>\n",
       "<tr><td>kuhn_3_5______   </td><td>60  </td><td>123 </td><td>6    </td><td>0.48235           </td><td>1.55748 </td><td>85.52368 </td><td>7966.50593       </td><td>n/a   </td></tr>\n",
       "<tr><td>kuhn_3_5_______  </td><td>60  </td><td>123 </td><td>6    </td><td>0.49132           </td><td>1.60434 </td><td>86.86475 </td><td>8569.44546       </td><td>n/a   </td></tr>\n",
       "<tr><td>kuhn_3_5________ </td><td>60  </td><td>123 </td><td>6    </td><td>0.51066           </td><td>1.63461 </td><td>86.21523 </td><td>8334.5817        </td><td>n/a   </td></tr>\n",
       "<tr><td>kuhn_3_5_________</td><td>60  </td><td>123 </td><td>6    </td><td>0.50918           </td><td>1.61135 </td><td>83.82415 </td><td>8200.66281       </td><td>n/a   </td></tr>\n",
       "<tr><td>kuhn_3_5_average </td><td>60  </td><td>123 </td><td>6    </td><td>0.4995449999999999</td><td>1.595663</td><td>85.280578</td><td>8275.879728999998</td><td>n/a   </td></tr>\n",
       "</tbody>\n",
       "</table>"
      ],
      "text/plain": [
       "<IPython.core.display.HTML object>"
      ]
     },
     "metadata": {},
     "output_type": "display_data"
    }
   ],
   "source": [
    "display(HTML(tabulate.tabulate(table_text, tablefmt='html')))"
   ]
  },
  {
   "cell_type": "code",
   "execution_count": null,
   "metadata": {},
   "outputs": [],
   "source": [
    "display(HTML(tabulate.tabulate(table_text, tablefmt='html')))"
   ]
  },
  {
   "cell_type": "markdown",
   "metadata": {},
   "source": [
    "### Table for number of iterations instead of running time"
   ]
  },
  {
   "cell_type": "code",
   "execution_count": null,
   "metadata": {},
   "outputs": [],
   "source": [
    "table_text2 = [['Targets'] + (list(map(str, target_epsilons)))]\n",
    "for (game, data) in sorted(data_per_instance.items()):\n",
    "    line_text = [game] + list(map(lambda t: 'n/a' if t == -1 else str(t), data['iterations_to_target']))\n",
    "    table_text2.append(line_text)"
   ]
  },
  {
   "cell_type": "code",
   "execution_count": null,
   "metadata": {},
   "outputs": [],
   "source": [
    "display(HTML(tabulate.tabulate(table_text2, tablefmt='html')))"
   ]
  },
  {
   "cell_type": "markdown",
   "metadata": {},
   "source": [
    "## Time comparisons"
   ]
  },
  {
   "cell_type": "code",
   "execution_count": null,
   "metadata": {},
   "outputs": [],
   "source": [
    "def compare(files, xlims_time = None, xlims_iter = None, ylims = None, legend = None, title = 'Comparison'):\n",
    "    fig_time, ax_time = plt.subplots()\n",
    "    fig_iter, ax_iter = plt.subplots()\n",
    "    \n",
    "    for filename in files:\n",
    "        file = open(filename, \"r\")\n",
    "        data = json.load(file)\n",
    "        file.close()\n",
    "\n",
    "        print(\"File = \" + filename)\n",
    "        print(\"Game = \" + parameters_to_string(data['parameters']))\n",
    "\n",
    "        print(\"Total iterations = \" + str(data['parameters']['number_iterations']))\n",
    "        print(\"Check every iteration = \" + str(data['parameters']['check_every_iteration']))\n",
    "\n",
    "        durations = list(map(lambda el: el['duration'], data['data']))\n",
    "\n",
    "        du = delta_utility(data['parameters']['game'], data['parameters']['players'], data['parameters']['rank'],\n",
    "                   data['parameters']['betting_parameters'], data['parameters']['color_distribution'], \n",
    "                   data['parameters']['suits'])\n",
    "\n",
    "        iteration_counts = list(map(lambda el: el['iteration_number'], data['data']))\n",
    "        epsilons = list(map(lambda el: max(0, -min(el['epsilon'])), data['data']))\n",
    "        percent_epsilons = list(map(lambda el: el / du, epsilons))\n",
    "        cum_durations = [sum(durations[:i]) for i in range(len(durations))]\n",
    "        \n",
    "        ax_time.plot(cum_durations, percent_epsilons)\n",
    "        ax_iter.plot(iteration_counts, percent_epsilons)\n",
    "        \n",
    "    if legend == None:\n",
    "        legend = [\"Result \" + str(i+1) for i in range(len(files))]\n",
    "    ax_time.legend(legend)\n",
    "    ax_iter.legend(legend)\n",
    "    ax_time.set(xlabel = \"Time [s]\", ylabel = \"Epsilon [%]\")\n",
    "    ax_iter.set(xlabel = \"Iterations\", ylabel = \"Epsilon [%]\")\n",
    "    if ylims != None:\n",
    "        ax_time.set_ylim(ylims)\n",
    "        ax_iter.set_ylim(ylims)\n",
    "    if xlims_time != None:\n",
    "        ax_time.set_xlim(xlims_time)\n",
    "    if xlims_iter != None:\n",
    "        ax_iter.set_xlim(xlims_iter)\n",
    "    ax_time.set_title(title)\n",
    "    ax_iter.set_title(title)"
   ]
  },
  {
   "cell_type": "code",
   "execution_count": null,
   "metadata": {
    "scrolled": true
   },
   "outputs": [],
   "source": [
    "compare(['results/remote/RCFR/kuhn/1553957872_3_8', 'results/remote/kuhn_20190120/1547765102_3_8'],\n",
    "        xlims = (0, 15000), ylims = (0, 0.02), legend = ['RCFR', 'SCFR'], title = 'Kuhn 3_8')\n",
    "compare(['results/remote/RCFR/kuhn/1553957872_3_8', 'results/remote/kuhn_short_20190121/1548008650_3_8'],\n",
    "        xlims = (0, 15000), ylims = (0, 0.02), legend = ['RCFR', 'SCFR'], title = 'Kuhn 3_8')\n",
    "compare(['results/remote/RCFR/kuhn/1553957868_3_7', 'results/remote/kuhn_20190120/1547765096_3_7'],\n",
    "        xlims = (0, 7000), ylims = (0, 0.02), legend = ['RCFR', 'SCFR'], title = 'Kuhn 3_7')"
   ]
  },
  {
   "cell_type": "code",
   "execution_count": null,
   "metadata": {},
   "outputs": [],
   "source": [
    "compare(['results/remote/RCFR/kuhn/1553957883_3_10', 'results/remote/RCFR_notopt/kuhn/1554108461_3_10'],\n",
    "        xlims = (0, 10000), legend = ['RCFR', 'RCFR_nopt'], title = 'Kuhn 3_10')"
   ]
  },
  {
   "cell_type": "code",
   "execution_count": null,
   "metadata": {
    "scrolled": true
   },
   "outputs": [],
   "source": [
    "compare(['results/remote/RCFR/kuhn/1553957872_3_8', 'results/remote/RCFR_notopt/kuhn/1554108461_3_8',\n",
    "         'results/remote/kuhn_20190120/1547765102_3_8'],\n",
    "        xlims = (0, 5000), legend = ['RCFR', 'RCFR_nopt', 'SCFR'], title = 'Kuhn 3_8')\n",
    "compare(['results/remote/RCFR/kuhn/1553957872_3_8', 'results/remote/RCFR_notopt/kuhn/1554108461_3_8',\n",
    "         'results/remote/kuhn_20190120/1547765102_3_8'],\n",
    "        xlims = (0, 1000), ylims = (0, 0.05), legend = ['RCFR', 'RCFR_nopt', 'SCFR'], title = 'Kuhn 3_8')"
   ]
  },
  {
   "cell_type": "code",
   "execution_count": null,
   "metadata": {
    "scrolled": true
   },
   "outputs": [],
   "source": [
    "compare(['results/remote/RCFR_notopt/goofspiel/1554199851_3_4', \n",
    "         'results/remote/goofspiel_long_20180122/1548105218_3_4'], legend = [\"RCFR_nopt\", \"SCFR\"],\n",
    "         title = \"Goofspiel 3_4\")\n",
    "\n",
    "compare(['results/remote/RCFR_notopt/goofspiel/1554382206_3_4', \n",
    "         'results/remote/goofspiel_long_20180122/1548105218_3_4'], legend = [\"RCFR_nopt\", \"SCFR\"],\n",
    "         title = \"Goofspiel 3_4\")"
   ]
  },
  {
   "cell_type": "code",
   "execution_count": null,
   "metadata": {},
   "outputs": [],
   "source": [
    "compare(['results/remote/RCFR_notopt/hanabi/1554413019_2_2_[2_1]_1_1', \n",
    "         'results/remote/SCFR_hanabi/hanabi/1554461737_2_2_[2_1]_1_1'], legend = [\"RCFR_nopt\", \"SCFR\"],\n",
    "         title = \"Hanabi 2 colors [2, 1] distribution\")"
   ]
  },
  {
   "cell_type": "code",
   "execution_count": null,
   "metadata": {},
   "outputs": [],
   "source": [
    "compare(['results/remote/hanabi_tests/RCFR_nopt/hanabi/1554739324_3_1_[2_2_1]_1_1',\n",
    "         'results/remote/hanabi_tests/SCFR/hanabi/1554739324_3_1_[2_2_1]_1_1'], ylims = (0, 0.02), \n",
    "        legend = [\"RCFR\", \"SCFR\"])"
   ]
  },
  {
   "cell_type": "code",
   "execution_count": null,
   "metadata": {},
   "outputs": [],
   "source": [
    "compare(['results/remote/hanabi_tests/RCFR/hanabi/1554830690_2_1_[2_2_1]_1_1',\n",
    "         'results/remote/hanabi_tests/RCFR_nopt/hanabi/1554830690_2_1_[2_2_1]_1_1',\n",
    "         'results/remote/hanabi_tests/SCFR/hanabi/1554830690_2_1_[2_2_1]_1_1'], \n",
    "         legend = [\"RCFR\", \"RCFR_nopt\", \"SCFR\"], xlims = (0, 10000), ylims = (0, 0.05))"
   ]
  },
  {
   "cell_type": "code",
   "execution_count": null,
   "metadata": {},
   "outputs": [],
   "source": [
    "compare(['results/remote/hanabi_tests/SCFR/hanabi/1554741241_3_2_[2_1]_1_1',\n",
    "         'results/remote/hanabi_tests/RCFR_nopt/hanabi/1554741154_3_2_[2_1]_1_1'], \n",
    "         legend = [\"SCFR\", \"RCFR_nopt\"])"
   ]
  },
  {
   "cell_type": "code",
   "execution_count": null,
   "metadata": {},
   "outputs": [],
   "source": [
    "compare(['results/remote/hanabi_tests/RCFR_nopt/hanabi/1554831012_2_2_[2_1]_1_1',\n",
    "         'results/remote/hanabi_tests/SCFR/hanabi/1554831004_2_2_[2_1]_1_1'], ylims = (0, 0.2), \n",
    "        legend = [\"RCFR_nopt\", \"SCFR\"])"
   ]
  },
  {
   "cell_type": "markdown",
   "metadata": {},
   "source": [
    "---"
   ]
  },
  {
   "cell_type": "markdown",
   "metadata": {},
   "source": [
    "## SCFR/CFR/CFR+ comparisons"
   ]
  },
  {
   "cell_type": "code",
   "execution_count": null,
   "metadata": {},
   "outputs": [],
   "source": [
    "import numpy as np"
   ]
  },
  {
   "cell_type": "code",
   "execution_count": null,
   "metadata": {},
   "outputs": [],
   "source": [
    "def compare_algorithms(filename, filename_cfr, filename_cfr_plus, cumsum_durations = False):\n",
    "    file = open(filename, \"r\")\n",
    "    data = json.load(file)\n",
    "    file.close()\n",
    "\n",
    "    file_cfr = open(filename_cfr, \"r\")\n",
    "    data_cfr = json.load(file_cfr)\n",
    "    file_cfr.close()\n",
    "\n",
    "    file_cfr_plus = open(filename_cfr_plus, \"r\")\n",
    "    data_cfr_plus = json.load(file_cfr_plus)\n",
    "    file_cfr_plus.close()    \n",
    "\n",
    "    durations = list(map(lambda el: el['duration'], data['data']))\n",
    "    durations_cfr = list(map(lambda el: el['duration'], data_cfr['data']))\n",
    "    durations_cfr_plus = list(map(lambda el: el['duration'], data_cfr_plus['data']))\n",
    "\n",
    "    du = delta_utility(data['parameters']['game'], data['parameters']['players'], data['parameters']['rank'],\n",
    "                   data['parameters']['betting_parameters'])\n",
    "    du_cfr = delta_utility(data_cfr['parameters']['game'], data_cfr['parameters']['players'], \n",
    "                           data_cfr['parameters']['rank'], data_cfr['parameters']['betting_parameters'])\n",
    "    du_cfr_plus = delta_utility(data_cfr_plus['parameters']['game'], data_cfr_plus['parameters']['players'], \n",
    "                           data_cfr_plus['parameters']['rank'], data_cfr_plus['parameters']['betting_parameters'])\n",
    "\n",
    "    iteration_counts = list(map(lambda el: el['iteration_number'], data['data']))\n",
    "    epsilons = list(map(lambda el: max(0, -min(el['epsilon'])), data['data']))\n",
    "    percent_epsilons = list(map(lambda el: el / du, epsilons))\n",
    "    iteration_counts_cfr = list(map(lambda el: el['iteration_number'], data_cfr['data']))\n",
    "    epsilons_cfr = list(map(lambda el: max(0, -min(el['epsilon'])), data_cfr['data']))\n",
    "    percent_epsilons_cfr = list(map(lambda el: el / du_cfr, epsilons_cfr))\n",
    "    iteration_counts_cfr_plus = list(map(lambda el: el['iteration_number'], data_cfr_plus['data']))\n",
    "    epsilons_cfr_plus = list(map(lambda el: max(0, -min(el['epsilon'])), data_cfr_plus['data']))\n",
    "    percent_epsilons_cfr_plus = list(map(lambda el: el / du_cfr_plus, epsilons_cfr_plus))\n",
    "    utilities = list(map(lambda el: el['utility'], data['data']))\n",
    "    utilities_cfr = list(map(lambda el: el['utility'], data_cfr['data']))\n",
    "    utilities_cfr_plus = list(map(lambda el: el['utility'], data_cfr_plus['data']))\n",
    "\n",
    "    print(data['parameters'])\n",
    "    if 'total_duration' in data:\n",
    "        print(\"Duration = \" + str(data['total_duration']) + \" seconds\")\n",
    "        print(\"Utility = \" + str(data['utility']))\n",
    "        print(\"Social welfare = \" + str(sum(data['utility'])))\n",
    "        print(\"Max delta utility = \" + str(max(data['utility']) - min(data['utility'])))\n",
    "    else:\n",
    "        print(\"--- Computation was stopped before the end ---\")\n",
    "        print(\"Duration = \" + str(sum(durations)) + \" seconds\")\n",
    "        print(\"Last logged utility = \" + str(utilities[len(utilities)-1]))\n",
    "        print(\"Social welfare = \" + str(sum(utilities[len(utilities)-1])))\n",
    "        print(\"Max delta utility = \" + str(max(utilities[len(utilities)-1]) - min(utilities[len(utilities)-1])))\n",
    "    print('')\n",
    "    print(data_cfr['parameters'])\n",
    "    if 'total_duration' in data_cfr:\n",
    "        print(\"Duration = \" + str(data_cfr['total_duration']) + \" seconds\")\n",
    "        print(\"Utility = \" + str(data_cfr['utility']))\n",
    "        print(\"Social welfare = \" + str(sum(data_cfr['utility'])))\n",
    "        print(\"Max delta utility = \" + str(max(data_cfr['utility']) - min(data_cfr['utility'])))\n",
    "    else:\n",
    "        print(\"--- Computation was stopped before the end ---\")\n",
    "        print(\"Duration = \" + str(sum(durations_cfr)) + \" seconds\")\n",
    "        print(\"Last logged utility = \" + str(utilities_cfr[len(utilities_cfr)-1]))\n",
    "        print(\"Social welfare = \" + str(sum(utilities_cfr[len(utilities_cfr)-1])))\n",
    "        print(\"Max delta utility = \" + str(max(utilities_cfr[len(utilities_cfr)-1]) - \\\n",
    "                                           min(utilities_cfr[len(utilities_cfr)-1])))\n",
    "    print('')\n",
    "    print(data_cfr_plus['parameters'])\n",
    "    if 'total_duration' in data_cfr_plus:\n",
    "        print(\"Duration = \" + str(data_cfr_plus['total_duration']) + \" seconds\")\n",
    "        print(\"Utility = \" + str(data_cfr_plus['utility']))\n",
    "        print(\"Social welfare = \" + str(sum(data_cfr_plus['utility'])))\n",
    "        print(\"Max delta utility = \" + str(max(data_cfr_plus['utility']) - min(data_cfr_plus['utility'])))\n",
    "    else:\n",
    "        print(\"--- Computation was stopped before the end ---\")\n",
    "        print(\"Duration = \" + str(sum(durations_cfr_plus)) + \" seconds\")\n",
    "        print(\"Last logged utility = \" + str(utilities_cfr_plus[len(utilities_cfr_plus)-1]))\n",
    "        print(\"Social welfare = \" + str(sum(utilities_cfr_plus[len(utilities_cfr_plus)-1])))\n",
    "        print(\"Max delta utility = \" + str(max(utilities_cfr_plus[len(utilities_cfr_plus)-1]) - \\\n",
    "                                           min(utilities_cfr_plus[len(utilities_cfr_plus)-1])))\n",
    "    print('')\n",
    "\n",
    "    #plt.plot(iteration_counts, epsilons)\n",
    "    #plt.plot(iteration_counts_cfr, epsilons_cfr)\n",
    "    #plt.plot(iteration_counts_cfr_plus, epsilons_cfr_plus)\n",
    "    #plt.show()\n",
    "    \n",
    "    plt.plot(iteration_counts, percent_epsilons)\n",
    "    plt.plot(iteration_counts_cfr, percent_epsilons_cfr)\n",
    "    plt.plot(iteration_counts_cfr_plus, percent_epsilons_cfr_plus)\n",
    "    plt.legend(['scfr','cfr', 'cfr+'])\n",
    "    plt.show()\n",
    "    \n",
    "    plt.plot(np.cumsum(durations), percent_epsilons)\n",
    "    plt.plot(np.cumsum(durations_cfr) if cumsum_durations else durations_cfr, percent_epsilons_cfr)\n",
    "    plt.plot(np.cumsum(durations_cfr_plus) if cumsum_durations else durations_cfr_plus, percent_epsilons_cfr_plus)\n",
    "    plt.legend(['scfr','cfr', 'cfr+'])\n",
    "    plt.show()"
   ]
  },
  {
   "cell_type": "code",
   "execution_count": null,
   "metadata": {},
   "outputs": [],
   "source": [
    "compare_algorithms('results/remote/goofspiel_cfr_comparisons_20190122/goofspiel_3_4_scfr_accumulate',\n",
    "                   'results/remote/goofspiel_cfr_comparisons_20190122/goofspiel_3_4_cfr_accumulate',\n",
    "                   'results/remote/goofspiel_cfr_comparisons_20190122/goofspiel_3_4_cfr_plus_accumulate')"
   ]
  },
  {
   "cell_type": "code",
   "execution_count": null,
   "metadata": {},
   "outputs": [],
   "source": [
    "compare_algorithms('results/remote/goofspiel_cfr_comparisons_20190122/goofspiel_3_3_scfr_accumulate',\n",
    "                   'results/remote/goofspiel_cfr_comparisons_20190122/goofspiel_3_3_cfr_accumulate',\n",
    "                   'results/remote/goofspiel_cfr_comparisons_20190122/goofspiel_3_3_cfr_plus_accumulate',\n",
    "                   cumsum_durations = True)"
   ]
  },
  {
   "cell_type": "code",
   "execution_count": null,
   "metadata": {},
   "outputs": [],
   "source": [
    "compare_algorithms('results/remote/goofspiel_cfr_comparisons_20190122/goofspiel_3_3_scfr_discard_if_all',\n",
    "                   'results/remote/goofspiel_cfr_comparisons_20190122/goofspiel_3_3_cfr_discard_if_all', \n",
    "                   'results/remote/goofspiel_cfr_comparisons_20190122/goofspiel_3_3_cfr_plus_discard_if_all',\n",
    "                   cumsum_durations = True)"
   ]
  },
  {
   "cell_type": "code",
   "execution_count": null,
   "metadata": {},
   "outputs": [],
   "source": [
    "compare_algorithms('results/remote/goofspiel_cfr_comparisons_20190122/goofspiel_3_3_scfr_discard_if_high',\n",
    "                   'results/remote/goofspiel_cfr_comparisons_20190122/goofspiel_3_3_cfr_discard_if_high',\n",
    "                   'results/remote/goofspiel_cfr_comparisons_20190122/goofspiel_3_3_cfr_plus_discard_if_high',\n",
    "                   cumsum_durations = True)"
   ]
  },
  {
   "cell_type": "code",
   "execution_count": null,
   "metadata": {},
   "outputs": [],
   "source": [
    "compare_algorithms('results/remote/goofspiel_cfr_comparisons_20190122/goofspiel_3_3_scfr_discard_always',\n",
    "                   'results/remote/goofspiel_cfr_comparisons_20190122/goofspiel_3_3_cfr_discard_always',\n",
    "                   'results/remote/goofspiel_cfr_comparisons_20190122/goofspiel_3_3_cfr_plus_discard_always',\n",
    "                   cumsum_durations = True)"
   ]
  },
  {
   "cell_type": "code",
   "execution_count": null,
   "metadata": {},
   "outputs": [],
   "source": [
    "compare_algorithms('results/remote/goofspiel_long_20180122/1548105233_3_4',\n",
    "                   'results/remote/goofspiel_cfr_comparisons_20190122/goofspiel_3_4_cfr_discard_always_ALBO',\n",
    "                   'results/remote/goofspiel_cfr_comparisons_20190122/goofspiel_3_4_cfr_plus_discard_always_ALBO',\n",
    "                   cumsum_durations = True)"
   ]
  },
  {
   "cell_type": "code",
   "execution_count": null,
   "metadata": {},
   "outputs": [],
   "source": [
    "compare_algorithms('results/remote/goofspiel_long_20180122/1548105230_3_4',\n",
    "                   'results/remote/goofspiel_cfr_comparisons_20190122/goofspiel_3_4_cfr_discard_if_high_ALBO',\n",
    "                   'results/remote/goofspiel_cfr_comparisons_20190122/goofspiel_3_4_cfr_plus_discard_if_high_ALBO',\n",
    "                   cumsum_durations = True)"
   ]
  },
  {
   "cell_type": "code",
   "execution_count": null,
   "metadata": {},
   "outputs": [],
   "source": [
    "compare_algorithms('results/remote/goofspiel_long_20180122/1548105224_3_4',\n",
    "                   'results/remote/goofspiel_cfr_comparisons_20190122/goofspiel_3_4_cfr_discard_if_all_ALBO',\n",
    "                   'results/remote/goofspiel_cfr_comparisons_20190122/goofspiel_3_4_cfr_plus_discard_if_all_ALBO',\n",
    "                   cumsum_durations = True)"
   ]
  },
  {
   "cell_type": "markdown",
   "metadata": {},
   "source": [
    "## Data to CSV for tikz"
   ]
  },
  {
   "cell_type": "code",
   "execution_count": null,
   "metadata": {},
   "outputs": [],
   "source": [
    "f1 = open('results/remote/goofspiel_long_20180122/1548105233_3_4', 'r')\n",
    "f2 = open('results/remote/goofspiel_cfr_comparisons_20190122/goofspiel_3_4_cfr_discard_always_ALBO', 'r')\n",
    "f3 = open('results/remote/goofspiel_cfr_comparisons_20190122/goofspiel_3_4_cfr_plus_discard_always_ALBO', 'r')\n",
    "\n",
    "f4 = open('results/remote/goofspiel_cfr_comparisons_20190122/goofspiel_3_4_scfr_accumulate', 'r')\n",
    "f5 = open('results/remote/goofspiel_cfr_comparisons_20190122/goofspiel_3_4_cfr_accumulate', 'r')\n",
    "f6 = open('results/remote/goofspiel_cfr_comparisons_20190122/goofspiel_3_4_cfr_plus_accumulate', 'r')\n",
    "\n",
    "data1 = json.load(f1)\n",
    "data2 = json.load(f2)\n",
    "data3 = json.load(f3)\n",
    "\n",
    "data4 = json.load(f4)\n",
    "data5 = json.load(f5)\n",
    "data6 = json.load(f6)\n",
    "\n",
    "durations1 = list(map(lambda el: el['duration'], data1['data']))\n",
    "durations2 = list(map(lambda el: el['duration'], data2['data']))\n",
    "durations3 = list(map(lambda el: el['duration'], data3['data']))\n",
    "\n",
    "durations4 = list(map(lambda el: el['duration'], data4['data']))\n",
    "durations5 = list(map(lambda el: el['duration'], data5['data']))\n",
    "durations6 = list(map(lambda el: el['duration'], data6['data']))\n",
    "\n",
    "du = delta_utility('goofspiel', 3, 4)\n",
    "\n",
    "with open(\"cfr_comparison_3_4_discard_always_scfr.csv\", 'w') as o:\n",
    "    o.write('iteration, epsilon, t\\n')\n",
    "    \n",
    "    for i in range(len(data1['data'])):\n",
    "        d = data1['data'][i]\n",
    "        o.write(str(d['iteration_number']) + ', ' + str(-min(d['epsilon']) / du) + ', ' + \\\n",
    "                str(sum(durations1[:i+1])) + \"\\n\")\n",
    "        \n",
    "with open(\"cfr_comparison_3_4_discard_always_cfr.csv\", 'w') as o:\n",
    "    o.write('iteration, epsilon, t\\n')\n",
    "    \n",
    "    for i in range(len(data2['data'])):\n",
    "        d = data2['data'][i]\n",
    "        o.write(str(d['iteration_number']) + ', ' + str(-min(d['epsilon']) / du) + ', ' + \\\n",
    "                str(sum(durations2[:i+1])) + \"\\n\")\n",
    "        \n",
    "with open(\"cfr_comparison_3_4_discard_always_cfr_plus.csv\", 'w') as o:\n",
    "    o.write('iteration, epsilon, t\\n')\n",
    "    \n",
    "    for i in range(len(data3['data'])):\n",
    "        d = data3['data'][i]\n",
    "        o.write(str(d['iteration_number']) + ', ' + str(-min(d['epsilon']) / du) + ', ' + \\\n",
    "                str(sum(durations3[:i+1])) + \"\\n\")\n",
    "\n",
    "with open(\"cfr_comparison_3_4_accumulate.csv\", 'w') as o:\n",
    "    o.write('iteration, scfr, cfr, cfr+\\n')\n",
    "    \n",
    "    iterations = list(map(lambda el: el['iteration_number'], data4['data']))\n",
    "    epsilons4 = list(map(lambda el: -min(el['epsilon']) / du, data4['data']))\n",
    "    epsilons5 = list(map(lambda el: -min(el['epsilon']) / du, data5['data']))\n",
    "    epsilons6 = list(map(lambda el: -min(el['epsilon']) / du, data6['data']))\n",
    "    \n",
    "    for (it, s, c, cp) in zip(iterations, epsilons4, epsilons5, epsilons6):\n",
    "        o.write(str(it) + ', ' + str(s) + ', ' + str(c) + ', ' + str(cp) + '\\n')\n",
    "        \n",
    "f1.close()\n",
    "f2.close()\n",
    "f3.close()\n",
    "\n",
    "f4.close()\n",
    "f5.close()\n",
    "f6.close()"
   ]
  },
  {
   "cell_type": "code",
   "execution_count": null,
   "metadata": {},
   "outputs": [],
   "source": [
    "icml_data_folder  = \"../../../../Dropbox/Honours Programme/Shared Material/ICML-19/imgs/data/\""
   ]
  },
  {
   "cell_type": "code",
   "execution_count": null,
   "metadata": {},
   "outputs": [],
   "source": [
    "def print_csv(name1, name2, name3):\n",
    "    f1 = open(name1, 'r')\n",
    "    f2 = open(name2, 'r')\n",
    "    f3 = open(name3, 'r')\n",
    "\n",
    "    data1 = json.load(f1)\n",
    "    data2 = json.load(f2)\n",
    "    data3 = json.load(f3)\n",
    "\n",
    "    durations1 = list(map(lambda el: el['duration'], data1['data']))\n",
    "    durations2 = list(map(lambda el: el['duration'], data2['data']))\n",
    "    durations3 = list(map(lambda el: el['duration'], data3['data']))\n",
    "\n",
    "    du = delta_utility('goofspiel', 3, 4)\n",
    "\n",
    "    shortest_run = min(sum(durations1), sum(durations2), sum(durations3))\n",
    "    \n",
    "    ts = data1['parameters']['tie_solver']\n",
    "\n",
    "    with open(icml_data_folder + \"cfr_comparison_3_4_\" + ts + \"_scfr.csv\", 'w') as o:\n",
    "        o.write('iteration, epsilon, t\\n')\n",
    "\n",
    "        for i in range(len(data1['data'])):\n",
    "            if sum(durations1[:i+1]) > shortest_run:\n",
    "                break\n",
    "\n",
    "            d = data1['data'][i]\n",
    "            o.write(str(d['iteration_number']) + ', ' + str(-min(d['epsilon'] + [0]) / du) + ', ' + \\\n",
    "                    str(sum(durations1[:i+1])) + \"\\n\")\n",
    "\n",
    "    with open(icml_data_folder + \"cfr_comparison_3_4_\" + ts + \"_cfr.csv\", 'w') as o:\n",
    "        o.write('iteration, epsilon, t\\n')\n",
    "\n",
    "        for i in range(len(data2['data'])):\n",
    "            if sum(durations2[:i+1]) > shortest_run:\n",
    "                break\n",
    "\n",
    "            d = data2['data'][i]\n",
    "            o.write(str(d['iteration_number']) + ', ' + str(-min(d['epsilon'] + [0]) / du) + ', ' + \\\n",
    "                    str(sum(durations2[:i+1])) + \"\\n\")\n",
    "\n",
    "    with open(icml_data_folder + \"cfr_comparison_3_4_\" + ts + \"_cfr_plus.csv\", 'w') as o:\n",
    "        o.write('iteration, epsilon, t\\n')\n",
    "\n",
    "        for i in range(len(data3['data'])):\n",
    "            if sum(durations3[:i+1]) > shortest_run:\n",
    "                break\n",
    "\n",
    "            d = data3['data'][i]\n",
    "            o.write(str(d['iteration_number']) + ', ' + str(-min(d['epsilon'] + [0]) / du) + ', ' + \\\n",
    "                    str(sum(durations3[:i+1])) + \"\\n\")\n",
    "\n",
    "    f1.close()\n",
    "    f2.close()\n",
    "    f3.close()"
   ]
  },
  {
   "cell_type": "code",
   "execution_count": null,
   "metadata": {},
   "outputs": [],
   "source": [
    "print_csv('results/remote/goofspiel_long_20180122/1548105233_3_4',\n",
    "          'results/remote/goofspiel_cfr_comparisons_20190122/goofspiel_3_4_cfr_discard_always_ALBO',\n",
    "          'results/remote/goofspiel_cfr_comparisons_20190122/goofspiel_3_4_cfr_plus_discard_always_ALBO')"
   ]
  },
  {
   "cell_type": "code",
   "execution_count": null,
   "metadata": {},
   "outputs": [],
   "source": [
    "print_csv('results/remote/goofspiel_long_20180122/1548105230_3_4',\n",
    "                   'results/remote/goofspiel_cfr_comparisons_20190122/goofspiel_3_4_cfr_discard_if_high_ALBO',\n",
    "                   'results/remote/goofspiel_cfr_comparisons_20190122/goofspiel_3_4_cfr_plus_discard_if_high_ALBO')"
   ]
  },
  {
   "cell_type": "code",
   "execution_count": null,
   "metadata": {},
   "outputs": [],
   "source": [
    "print_csv('results/remote/goofspiel_long_20180122/1548105224_3_4',\n",
    "                   'results/remote/goofspiel_cfr_comparisons_20190122/goofspiel_3_4_cfr_discard_if_all_ALBO',\n",
    "                   'results/remote/goofspiel_cfr_comparisons_20190122/goofspiel_3_4_cfr_plus_discard_if_all_ALBO')"
   ]
  },
  {
   "cell_type": "code",
   "execution_count": null,
   "metadata": {},
   "outputs": [],
   "source": []
  }
 ],
 "metadata": {
  "kernelspec": {
   "display_name": "Python 3",
   "language": "python",
   "name": "python3"
  },
  "language_info": {
   "codemirror_mode": {
    "name": "ipython",
    "version": 3
   },
   "file_extension": ".py",
   "mimetype": "text/x-python",
   "name": "python",
   "nbconvert_exporter": "python",
   "pygments_lexer": "ipython3",
   "version": "3.5.2"
  }
 },
 "nbformat": 4,
 "nbformat_minor": 2
}
