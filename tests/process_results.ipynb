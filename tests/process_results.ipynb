{
 "cells": [
  {
   "cell_type": "code",
   "execution_count": 1,
   "metadata": {},
   "outputs": [
    {
     "name": "stdout",
     "output_type": "stream",
     "text": [
      "/home/tommy/Scrivania/Polimi/Honours Programme/SCFR\n"
     ]
    }
   ],
   "source": [
    "cd .."
   ]
  },
  {
   "cell_type": "code",
   "execution_count": 100,
   "metadata": {},
   "outputs": [],
   "source": [
    "from os import listdir, path\n",
    "import json\n",
    "import matplotlib.pyplot as plt\n",
    "\n",
    "from data_structures.cfr_trees import CFRTree\n",
    "from games.goofspiel import build_goofspiel_tree\n",
    "from games.kuhn import build_kuhn_tree\n",
    "from games.leduc import build_leduc_tree\n",
    "from functools import reduce\n",
    "import math\n",
    "\n",
    "import numpy as np"
   ]
  },
  {
   "cell_type": "code",
   "execution_count": 3,
   "metadata": {},
   "outputs": [],
   "source": [
    "def parameters_to_string(par):\n",
    "    if(par['game'] == 'kuhn'):\n",
    "        return 'kuhn_' + str(par['players']) + '_' + str(par['rank'])\n",
    "    if(par['game'] == 'leduc'):\n",
    "        return 'leduc_' + str(par['players']) + '_' + str(par['suits']) + '_' + str(par['rank'])\n",
    "    if(par['game'] == 'goofspiel'):\n",
    "        return 'goofspiel_' + str(par['players']) + '_' + str(par['rank']) + '_' + str(par['tie_solver'])\n",
    "    if(par['game'] == 'random'):\n",
    "        return 'random_' + str(par['players']) + '_' + str(par['depth']) + '_' + str(par['branching_factor'])\n",
    "    if(par['game'] == 'hanabi'):\n",
    "        return 'hanabi_' + str(par['players']) + '_' + str(par['suits']) + '_' + \\\n",
    "                str(par['color_distribution']).replace(' ','').replace(',','_') + '_' + \\\n",
    "                str(par['cards_per_player']) + '_' + str(par['starting_clue_tokens'])"
   ]
  },
  {
   "cell_type": "code",
   "execution_count": 4,
   "metadata": {},
   "outputs": [],
   "source": [
    "# TODO: check it, in particular for bigger versions of goofspiel\n",
    "# TODO: implement different goofspiel TieSolver\n",
    "\n",
    "def delta_utility(game, players, rank, betting_parameters = [2, 4], color_distribution = None, suits = 1):\n",
    "    if game == 'kuhn':\n",
    "        return 2 * players\n",
    "    if game == 'leduc':\n",
    "        return players + players * betting_parameters[0] + players * betting_parameters[1]\n",
    "    if game == 'goofspiel':\n",
    "        return sum(list(range(1, rank+1)))\n",
    "    if game == 'random':\n",
    "        return 1\n",
    "    if game == 'hanabi':\n",
    "        return (len(color_distribution) + 1) * suits"
   ]
  },
  {
   "cell_type": "code",
   "execution_count": 5,
   "metadata": {},
   "outputs": [],
   "source": [
    "def max_social_welfare(game, players, rank, betting_parameters = [2, 4], color_distribution = None, suits = 1):\n",
    "    if game == 'kuhn' or game == 'leduc':\n",
    "        return 0\n",
    "    if game == 'goofspiel':\n",
    "        return sum(list(range(1, rank+1)))\n",
    "    if game == 'random':\n",
    "        return players\n",
    "    if game == 'hanabi':\n",
    "        return (len(color_distribution)) * suits * players"
   ]
  },
  {
   "cell_type": "code",
   "execution_count": 111,
   "metadata": {},
   "outputs": [],
   "source": [
    "target_directory = \"results/remote/nips/RCFR/goofspiel/\""
   ]
  },
  {
   "cell_type": "code",
   "execution_count": 112,
   "metadata": {},
   "outputs": [],
   "source": [
    "file_names = listdir(target_directory)"
   ]
  },
  {
   "cell_type": "code",
   "execution_count": 113,
   "metadata": {},
   "outputs": [],
   "source": [
    "def analyze(name, target_epsilons, data_per_instance, print_graphs = False):\n",
    "    if path.isdir(target_directory + name):\n",
    "        return\n",
    "    \n",
    "    print(\"\\n---------------------\")\n",
    "    print(\"File = \" + name)\n",
    "    \n",
    "    file = open(target_directory + name, \"r\")\n",
    "    data = json.load(file)\n",
    "    \n",
    "    print(\"Game = \" + parameters_to_string(data['parameters']))\n",
    "    \n",
    "    print(\"Total iterations = \" + str(data['parameters']['number_iterations']))\n",
    "    print(\"Check every iteration = \" + str(data['parameters']['check_every_iteration']))\n",
    "    \n",
    "    # --------- SKIP 2 PLAYERS LEDUC AND GOOFSPIEL (AND RANDOM) ---------\n",
    "    #if data['parameters']['game'] in ['goofspiel', 'leduc', 'random'] and data['parameters']['players'] == 2:\n",
    "    #    print(\"---------------------------\")\n",
    "    #    print(\"Skipping 2 player versions\")\n",
    "    #    print(\"---------------------------\")\n",
    "    #    print(\"\")\n",
    "    #    return\n",
    "    # ------------------------------------------------------\n",
    "    \n",
    "    durations = list(map(lambda el: el['duration'], data['data']))\n",
    "    \n",
    "    target_datapoint_amount = int(data['parameters']['number_iterations']) / int(data['parameters']['check_every_iteration'])\n",
    "    run_time = sum(durations)\n",
    "    avg_time = run_time / len(durations)\n",
    "    print(\"Logged \" + str(len(data['data'])) + \" out of \" + str(target_datapoint_amount) + \" datapoints in \" + \\\n",
    "          str(run_time) + \" seconds (aka \" + str(run_time/3600) + \" hours)\")\n",
    "    print(\"Average duration of batch = \" + str(avg_time) + \" seconds (aka \" + str(avg_time/3600) + \" hours)\")\n",
    "\n",
    "    if 'total_duration' in data:\n",
    "        running_time = data['total_duration']\n",
    "        print(\"Solved in \" + str(running_time) + \" seconds\")\n",
    "        print(\"Solved in \" + str(running_time / 60) + \" minutes\")\n",
    "        print(\"Solved in \" + str(running_time / 3600) + \" hours\")\n",
    "        \n",
    "    if 'utility' in data:\n",
    "        u = data['utility']\n",
    "    elif 'utility' in data['data'][-1]:\n",
    "        u = data['data'][-1]['utility']\n",
    "    else:\n",
    "        u = [-1]\n",
    "        \n",
    "    if 'color_distribution' not in data['parameters']:\n",
    "        data['parameters']['color_distribution'] = []\n",
    "        \n",
    "    du = delta_utility(data['parameters']['game'], data['parameters']['players'], data['parameters']['rank'],\n",
    "                   data['parameters']['betting_parameters'], data['parameters']['color_distribution'], \n",
    "                   data['parameters']['suits'])\n",
    "        \n",
    "    sw = sum(u)\n",
    "    print(\"Final utility = \" + str(u))\n",
    "    print(\"Final epsilon = \" + str(-min(data['data'][-1]['epsilon']) / du) + \"%\")\n",
    "    print(\"Social welfare = \" + str(sw))\n",
    "    max_sw = max_social_welfare(data['parameters']['game'], data['parameters']['players'], \n",
    "                                data['parameters']['rank'], data['parameters']['betting_parameters'],\n",
    "                                data['parameters']['color_distribution'], data['parameters']['suits'])\n",
    "    if max_sw != 0:\n",
    "        print(\"Max social welfare = \" + str(max_sw) + \" (obtained \" + \\\n",
    "              str(sw / max_sw * 100) + \"%)\")\n",
    "\n",
    "    if 'total_duration' in data:\n",
    "        print(\"Average iterations per second = \" + str(data['average_iterations_per_second']))\n",
    "    else:\n",
    "        print(\"Average iterations per second = \" + str(data['parameters']['check_every_iteration'] / avg_time))\n",
    "\n",
    "    iteration_counts = list(map(lambda el: el['iteration_number'], data['data']))\n",
    "    epsilons = list(map(lambda el: max(0, -min(el['epsilon'])), data['data']))\n",
    "    percent_epsilons = list(map(lambda el: el / du, epsilons))\n",
    "    if 'utility' in data['data'][0]:\n",
    "        utilities = list(map(lambda el: sum(el['utility']), data['data']))\n",
    "    if max_sw != 0 and 'utility' in data['data'][0]:\n",
    "        percent_utilities = list(map(lambda el: el / max_sw, utilities))\n",
    "    #absolute_joint_sizes = list(map(lambda el: el['absolute_joint_size'], data['data']))\n",
    "    #relative_joint_sizes = list(map(lambda el: el['relative_joint_size'], data['data']))\n",
    "    #max_plan_frequencies = list(map(lambda el: el['max_plan_frequency'], data['data']))\n",
    "    #joint_support_sizes = list(map(lambda el: el['joint_support_size'], data['data']))\n",
    "    \n",
    "    if print_graphs:\n",
    "        plt.plot(iteration_counts, epsilons)\n",
    "        plt.title('Epsilons')\n",
    "        plt.show()\n",
    "        plt.plot(iteration_counts, percent_epsilons)\n",
    "        plt.title('Percent epsilons')\n",
    "        plt.show()\n",
    "        if max_sw != 0 and 'utility' in data['data'][0]:\n",
    "            plt.plot(iteration_counts, percent_utilities)\n",
    "            plt.title('Percent social welfare')\n",
    "            plt.show()\n",
    "    \n",
    "    time_to_target = []\n",
    "    iterations_to_target = []\n",
    "    \n",
    "    for t in target_epsilons:\n",
    "        indices_below_t = [i for i in range(len(epsilons)) if percent_epsilons[i] <= t]\n",
    "        if len(indices_below_t) > 0:\n",
    "            time_to_t = sum(durations[:indices_below_t[0]+1])\n",
    "            iterations_to_target.append((indices_below_t[0]+1) * int(data['parameters']['check_every_iteration']))\n",
    "        else:\n",
    "            time_to_t = -1\n",
    "            iterations_to_target.append(-1)\n",
    "        time_to_target.append(round(time_to_t, 5))\n",
    "    \n",
    "    s = parameters_to_string(data['parameters'])\n",
    "    \n",
    "    d = {'time_to_target': time_to_target,\n",
    "        'iterations_to_target': iterations_to_target,\n",
    "        'parameters': data['parameters'],\n",
    "        'percent_sw': sw / max_sw * 100 if max_sw > 0 else 0}\n",
    "    \n",
    "    if (s + '_average') not in data_per_instance:\n",
    "        data_per_instance[s + '_average'] = []\n",
    "    data_per_instance[s + '_average'].append(d)\n",
    "    \n",
    "    while s in data_per_instance:\n",
    "        s += '_'\n",
    "    data_per_instance[s] = d"
   ]
  },
  {
   "cell_type": "code",
   "execution_count": 114,
   "metadata": {
    "scrolled": true
   },
   "outputs": [
    {
     "name": "stdout",
     "output_type": "stream",
     "text": [
      "\n",
      "---------------------\n",
      "File = 1558511958_2_4_Accumulate\n",
      "Game = goofspiel_2_4_accumulate\n",
      "Total iterations = 50000\n",
      "Check every iteration = 50\n",
      "Logged 54 out of 1000.0 datapoints in 27910.14758348465 seconds (aka 7.752818773190181 hours)\n",
      "Average duration of batch = 516.8545848793453 seconds (aka 0.14357071802204038 hours)\n",
      "Final utility = [4.412867065811921, 5.528114184945171]\n",
      "Final epsilon = 0.007435714816454641%\n",
      "Social welfare = 9.94098125075709\n",
      "Max social welfare = 10 (obtained 99.4098125075709%)\n",
      "Average iterations per second = 0.0967390083453976\n",
      "\n",
      "---------------------\n",
      "File = 1558511967_2_4_DiscardIfAll\n",
      "Game = goofspiel_2_4_discard_if_all\n",
      "Total iterations = 50000\n",
      "Check every iteration = 50\n",
      "Logged 180 out of 1000.0 datapoints in 28425.518405675888 seconds (aka 7.895977334909969 hours)\n",
      "Average duration of batch = 157.91954669819938 seconds (aka 0.043866540749499826 hours)\n",
      "Final utility = [4.861147365120243, 4.899753119748684]\n",
      "Final epsilon = 0.002330567340476275%\n",
      "Social welfare = 9.760900484868927\n",
      "Max social welfare = 10 (obtained 97.60900484868927%)\n",
      "Average iterations per second = 0.3166169169390739\n",
      "\n",
      "---------------------\n",
      "File = 1558511977_2_4_DiscardAlways\n",
      "Game = goofspiel_2_4_discard_always\n",
      "Total iterations = 50000\n",
      "Check every iteration = 50\n",
      "Logged 184 out of 1000.0 datapoints in 28232.741972208023 seconds (aka 7.84242832561334 hours)\n",
      "Average duration of batch = 153.43881506634796 seconds (aka 0.04262189307398554 hours)\n",
      "Final utility = [4.857640461651579, 4.907709723560516]\n",
      "Final epsilon = 0.002295206099837621%\n",
      "Social welfare = 9.765350185212096\n",
      "Max social welfare = 10 (obtained 97.65350185212097%)\n",
      "Average iterations per second = 0.3258627875767919\n",
      "\n",
      "---------------------\n",
      "File = 1558511971_2_4_DiscardIfHigh\n",
      "Game = goofspiel_2_4_discard_if_high\n",
      "Total iterations = 50000\n",
      "Check every iteration = 50\n",
      "Logged 181 out of 1000.0 datapoints in 28372.20421242714 seconds (aka 7.881167836785316 hours)\n",
      "Average duration of batch = 156.75250946092342 seconds (aka 0.04354236373914539 hours)\n",
      "Final utility = [4.860475038015296, 4.9016784798842234]\n",
      "Final epsilon = 0.002328439009171124%\n",
      "Social welfare = 9.76215351789952\n",
      "Max social welfare = 10 (obtained 97.6215351789952%)\n",
      "Average iterations per second = 0.3189741597882643\n"
     ]
    }
   ],
   "source": [
    "target_epsilons = [0.1, 0.05, 0.01, 0.005, 0.001, 0.0005]\n",
    "data_per_instance = {}\n",
    "\n",
    "for name in file_names:\n",
    "    analyze(name, target_epsilons, data_per_instance)\n",
    "    \n",
    "# Average if needed\n",
    "new_data_per_instance = {}\n",
    "for (s, data) in data_per_instance.items():\n",
    "    if type(data) != list:\n",
    "        new_data_per_instance[s] = data\n",
    "    elif len(data) > 1:\n",
    "        tot_time = [0 for _ in target_epsilons]\n",
    "        tot_it = [0 for _ in target_epsilons]\n",
    "        count = [0 for _ in target_epsilons]\n",
    "        if 'nodes_amount' in data[0]['parameters']:\n",
    "            node_count = sum(map(lambda d: d['parameters']['nodes_amount'] + d['parameters']['leaves_amount'], data)) / len(data)\n",
    "            infoset_count = sum(map(lambda d: d['parameters']['infoset_amount'], data)) / len(data)\n",
    "        else:\n",
    "            node_count = -1\n",
    "            infoset_count = -1\n",
    "        avg_sw = sum(map(lambda d: d['percent_sw'], data)) / len(data)\n",
    "        for d in data:\n",
    "            for i in range(len(target_epsilons)):\n",
    "                if d['time_to_target'][i] > 0:\n",
    "                    tot_time[i] += d['time_to_target'][i]\n",
    "                    tot_it[i] += d['iterations_to_target'][i]\n",
    "                    count[i] += 1   \n",
    "        for i in range(len(target_epsilons)):\n",
    "            if count[i] > 0:\n",
    "                tot_time[i] /= count[i]\n",
    "                tot_it[i] /= count[i]\n",
    "            else:\n",
    "                tot_time[i] = -1\n",
    "                tot_it[i] = -1\n",
    "        # Compute variance\n",
    "        variance = [-1 for _ in target_epsilons]\n",
    "        confidence = [-1 for _ in target_epsilons]\n",
    "        for i in range(len(target_epsilons)):\n",
    "            if count[i] > 1:\n",
    "                v = 0\n",
    "                for d in data:\n",
    "                    if d['time_to_target'][i] > 0:\n",
    "                        v += (d['time_to_target'][i] - tot_time[i]) ** 2\n",
    "                variance[i] = v / (count[i] - 1)\n",
    "                confidence[i] = 1.96 * math.sqrt(variance[i]) / math.sqrt(count[i])\n",
    "        new_data_per_instance[s] = {'time_to_target': tot_time,\n",
    "                                    'time_to_target_variance': variance,\n",
    "                                    'time_to_target_confidence': confidence,\n",
    "                                    'iterations_to_target': tot_it,\n",
    "                                    'parameters': data[0]['parameters'],\n",
    "                                    'avg_node_count': node_count,\n",
    "                                    'avg_infoset_count': infoset_count,\n",
    "                                    'avg_sw': avg_sw}\n",
    "    \n",
    "data_per_instance = new_data_per_instance"
   ]
  },
  {
   "cell_type": "code",
   "execution_count": 115,
   "metadata": {},
   "outputs": [],
   "source": [
    "size_data = {\n",
    "    'kuhn_3_6': (72, 147),\n",
    "    'kuhn_3_7': (84, 171),\n",
    "    'kuhn_3_8': (96, 195),\n",
    "    'kuhn_3_9': (108, 219),\n",
    "    'kuhn_3_10': (120, 243),\n",
    "    \n",
    "    'leduc_3_3_3': (684, 1371),\n",
    "    'leduc_3_3_4': (1200, 2403),\n",
    "    'leduc_3_3_5': (1860, 3723),\n",
    "    'leduc_3_3_6': (2664, 5331),\n",
    "    'leduc_3_3_7': (3612, 7227),\n",
    "    'leduc_3_3_8': (4704, 9411),\n",
    "    \n",
    "    'goofspiel_3_3_accumulate': (194, 396),\n",
    "    'goofspiel_3_3_discard_if_all': (194, 396),\n",
    "    'goofspiel_3_3_discard_if_high': (194, 396),\n",
    "    'goofspiel_3_3_discard_always': (194, 396),\n",
    "    'goofspiel_3_4_accumulate': (48966, 98523),\n",
    "    'goofspiel_3_4_discard_if_all': (48966, 98523),\n",
    "    'goofspiel_3_4_discard_if_high': (48966, 98523),\n",
    "    'goofspiel_3_4_discard_always': (48966, 98523),\n",
    "    \n",
    "    # Random sized are taken from specific dat files\n",
    "    'random_2_5_2': (24, 46),\n",
    "    'random_2_6_2': (52, 102),\n",
    "    'random_2_7_2': (94, 186),\n",
    "    'random_2_8_2': (186, 370),\n",
    "    'random_2_9_2': (383, 764),\n",
    "    'random_2_10_2': (776, 1550),\n",
    "    'random_3_5_2': (29, 55),\n",
    "    'random_3_6_2': (49, 95),\n",
    "    'random_3_7_2': (100, 197),\n",
    "    'random_3_8_2': (206, 409),\n",
    "    'random_3_9_2': (378, 753),\n",
    "    'random_3_10_2': (757, 1541),\n",
    "}"
   ]
  },
  {
   "cell_type": "code",
   "execution_count": 116,
   "metadata": {},
   "outputs": [],
   "source": [
    "def count_sequences(cfr_tree):\n",
    "    all_nodes = reduce(lambda x, y: x + y.nodes, cfr_tree.information_sets.values(), [])\n",
    "    all_leaves = list(filter(lambda n: n.isLeaf(), reduce(lambda x, y: x + y.children, all_nodes, [])))\n",
    "    all_nodes = all_nodes + all_leaves\n",
    "    \n",
    "    count = 0\n",
    "\n",
    "    for p in range(cfr_tree.numOfPlayers):\n",
    "        Q_raw = list(filter(lambda q: q != {}, map(lambda n: n.base_node.getSequence(p), all_nodes)))\n",
    "        Q = [{}] + [dict(t) for t in {tuple(d.items()) for d in Q_raw}]\n",
    "        count += len(Q)\n",
    "        \n",
    "    return count\n",
    "\n",
    "def count_infosets(cfr_tree):\n",
    "    return len(cfr_tree.information_sets)\n",
    "\n",
    "def get_size_data(par):\n",
    "    if 'infoset_amount' in par:\n",
    "        return (par['infoset_amount'], -1)\n",
    "    \n",
    "    name = parameters_to_string(par)\n",
    "    if name not in size_data:\n",
    "        if par['game'] == 'kuhn':\n",
    "            cfr_tree = CFRTree(build_kuhn_tree(par['players'], par['rank']))\n",
    "        elif par['game'] == 'leduc':\n",
    "            cfr_tree = CFRTree(build_leduc_tree(par['players'], par['suits'], par['rank'], \n",
    "                                                par['betting_parameters']))\n",
    "        elif par['game'] == 'goofspiel':\n",
    "            # Tie solver is not needed to determine the size of the game\n",
    "            cfr_tree = CFRTree(build_goofspiel_tree(par['players'], par['rank']))\n",
    "        size_data[name] = (count_infosets(cfr_tree), count_sequences(cfr_tree))\n",
    "        \n",
    "    return size_data[name]"
   ]
  },
  {
   "cell_type": "code",
   "execution_count": 117,
   "metadata": {},
   "outputs": [],
   "source": [
    "from IPython.display import HTML, display\n",
    "import tabulate"
   ]
  },
  {
   "cell_type": "code",
   "execution_count": 118,
   "metadata": {},
   "outputs": [
    {
     "name": "stdout",
     "output_type": "stream",
     "text": [
      "goofspiel_2_4_accumulate done\n",
      "goofspiel_2_4_discard_always done\n",
      "goofspiel_2_4_discard_if_all done\n",
      "goofspiel_2_4_discard_if_high done\n"
     ]
    }
   ],
   "source": [
    "table_text = [['Game', 'Inf.', 'Delta'] + (list(map(lambda el: str(el) + '%', target_epsilons))) + ['social welfare']]\n",
    "for (game, data) in sorted(data_per_instance.items()):\n",
    "    \n",
    "    #if 'average' not in game:\n",
    "    #    continue\n",
    "    \n",
    "    par = data['parameters']\n",
    "    \n",
    "    if 'avg_infoset_count' in data:\n",
    "        size = (data['avg_infoset_count'], -1)\n",
    "    size = get_size_data(par)\n",
    "    \n",
    "    line_text = [game, size[0]]\n",
    "    line_text.append(delta_utility(par['game'], par['players'], par['rank'], par['betting_parameters']))\n",
    "    #line_text += list(map(lambda t: 'n/a' if t == -1 else str(t), data['time_to_target']))\n",
    "    \n",
    "    for (i, t) in enumerate(data['time_to_target']):\n",
    "        if t == -1:\n",
    "            line_text.append('n/a')\n",
    "            continue\n",
    "        \n",
    "        s = str(round(t, 2))\n",
    "        if 'time_to_target_variance' in data:\n",
    "            s += \" (+- \" + str(round(data['time_to_target_confidence'][i], 2)) + \")\"\n",
    "        line_text.append(s)\n",
    "        \n",
    "    if 'avg_sw' in data:\n",
    "        line_text.append(str(data['avg_sw']) + \"%\")\n",
    "    else:\n",
    "        line_text.append(str(data['percent_sw']) + \"%\")\n",
    "    \n",
    "    table_text.append(line_text)\n",
    "    \n",
    "    print(game + \" done\")"
   ]
  },
  {
   "cell_type": "code",
   "execution_count": 119,
   "metadata": {},
   "outputs": [
    {
     "data": {
      "text/html": [
       "<table>\n",
       "<tbody>\n",
       "<tr><td>Game                         </td><td>Inf.</td><td>Delta</td><td>0.1%  </td><td>0.05%  </td><td>0.01%   </td><td>0.005% </td><td>0.001%</td><td>0.0005%</td><td>social welfare    </td></tr>\n",
       "<tr><td>goofspiel_2_4_accumulate     </td><td>4856</td><td>10   </td><td>328.99</td><td>1223.09</td><td>14580.62</td><td>n/a    </td><td>n/a   </td><td>n/a    </td><td>99.4098125075709% </td></tr>\n",
       "<tr><td>goofspiel_2_4_discard_always </td><td>4856</td><td>10   </td><td>70.38 </td><td>108.03 </td><td>902.1   </td><td>3343.22</td><td>n/a   </td><td>n/a    </td><td>97.65350185212097%</td></tr>\n",
       "<tr><td>goofspiel_2_4_discard_if_all </td><td>4856</td><td>10   </td><td>63.94 </td><td>96.07  </td><td>871.48  </td><td>3366.59</td><td>n/a   </td><td>n/a    </td><td>97.60900484868927%</td></tr>\n",
       "<tr><td>goofspiel_2_4_discard_if_high</td><td>4856</td><td>10   </td><td>70.69 </td><td>111.1  </td><td>987.11  </td><td>3956.53</td><td>n/a   </td><td>n/a    </td><td>97.6215351789952% </td></tr>\n",
       "</tbody>\n",
       "</table>"
      ],
      "text/plain": [
       "<IPython.core.display.HTML object>"
      ]
     },
     "metadata": {},
     "output_type": "display_data"
    }
   ],
   "source": [
    "display(HTML(tabulate.tabulate(table_text, tablefmt='html')))"
   ]
  },
  {
   "cell_type": "code",
   "execution_count": 99,
   "metadata": {},
   "outputs": [
    {
     "data": {
      "text/html": [
       "<table>\n",
       "<tbody>\n",
       "<tr><td>Game                                  </td><td>Inf. </td><td>Delta</td><td>0.1%             </td><td>0.05%              </td><td>0.01%                 </td><td>0.005%                </td><td>0.001%                </td><td>0.0005%              </td><td>social welfare     </td></tr>\n",
       "<tr><td>goofspiel_2_4_accumulate              </td><td>4856 </td><td>10   </td><td>79.85            </td><td>691.71             </td><td>n/a                   </td><td>n/a                   </td><td>n/a                   </td><td>n/a                  </td><td>97.90946288613114% </td></tr>\n",
       "<tr><td>goofspiel_2_4_accumulate_             </td><td>4856 </td><td>10   </td><td>88.71            </td><td>498.53             </td><td>n/a                   </td><td>n/a                   </td><td>n/a                   </td><td>n/a                  </td><td>97.8264339445266%  </td></tr>\n",
       "<tr><td>goofspiel_2_4_accumulate__            </td><td>4856 </td><td>10   </td><td>60.8             </td><td>525.74             </td><td>n/a                   </td><td>n/a                   </td><td>n/a                   </td><td>n/a                  </td><td>97.70888111888354% </td></tr>\n",
       "<tr><td>goofspiel_2_4_accumulate___           </td><td>4856 </td><td>10   </td><td>59.95            </td><td>635.93             </td><td>n/a                   </td><td>n/a                   </td><td>n/a                   </td><td>n/a                  </td><td>97.79359784644231% </td></tr>\n",
       "<tr><td>goofspiel_2_4_accumulate____          </td><td>4856 </td><td>10   </td><td>65.33            </td><td>777.48             </td><td>n/a                   </td><td>n/a                   </td><td>n/a                   </td><td>n/a                  </td><td>97.84545133991885% </td></tr>\n",
       "<tr><td>goofspiel_2_4_accumulate_____         </td><td>4856 </td><td>10   </td><td>90.97            </td><td>709.52             </td><td>n/a                   </td><td>n/a                   </td><td>n/a                   </td><td>n/a                  </td><td>97.95882559774715% </td></tr>\n",
       "<tr><td>goofspiel_2_4_accumulate______        </td><td>4856 </td><td>10   </td><td>62.58            </td><td>592.62             </td><td>n/a                   </td><td>n/a                   </td><td>n/a                   </td><td>n/a                  </td><td>97.9797287899877%  </td></tr>\n",
       "<tr><td>goofspiel_2_4_accumulate_______       </td><td>4856 </td><td>10   </td><td>64.1             </td><td>631.31             </td><td>n/a                   </td><td>n/a                   </td><td>n/a                   </td><td>n/a                  </td><td>97.94281367041265% </td></tr>\n",
       "<tr><td>goofspiel_2_4_accumulate________      </td><td>4856 </td><td>10   </td><td>71.22            </td><td>650.28             </td><td>n/a                   </td><td>n/a                   </td><td>n/a                   </td><td>n/a                  </td><td>97.86465017820501% </td></tr>\n",
       "<tr><td>goofspiel_2_4_accumulate_________     </td><td>4856 </td><td>10   </td><td>72.44            </td><td>602.49             </td><td>n/a                   </td><td>n/a                   </td><td>n/a                   </td><td>n/a                  </td><td>97.77315340904529% </td></tr>\n",
       "<tr><td>goofspiel_2_4_accumulate_average      </td><td>4856 </td><td>10   </td><td>71.6 (+- 7.05)   </td><td>631.56 (+- 51.7)   </td><td>n/a                   </td><td>n/a                   </td><td>n/a                   </td><td>n/a                  </td><td>97.86029987813002% </td></tr>\n",
       "<tr><td>goofspiel_2_4_discard_always          </td><td>4856 </td><td>10   </td><td>7.66             </td><td>79.17              </td><td>1526.08               </td><td>3434.84               </td><td>7443.37               </td><td>11946.35             </td><td>90.63317438693494% </td></tr>\n",
       "<tr><td>goofspiel_2_4_discard_always_         </td><td>4856 </td><td>10   </td><td>16.18            </td><td>70.09              </td><td>5222.69               </td><td>9537.8                </td><td>11468.7               </td><td>11636.33             </td><td>91.35389784946607% </td></tr>\n",
       "<tr><td>goofspiel_2_4_discard_always__        </td><td>4856 </td><td>10   </td><td>22.07            </td><td>81.01              </td><td>2443.23               </td><td>2968.88               </td><td>n/a                   </td><td>n/a                  </td><td>90.88001722652926% </td></tr>\n",
       "<tr><td>goofspiel_2_4_discard_always___       </td><td>4856 </td><td>10   </td><td>11.16            </td><td>247.28             </td><td>2922.18               </td><td>4674.02               </td><td>16866.25              </td><td>17478.99             </td><td>90.96306306306303% </td></tr>\n",
       "<tr><td>goofspiel_2_4_discard_always____      </td><td>4856 </td><td>10   </td><td>20.83            </td><td>124.92             </td><td>828.53                </td><td>2161.28               </td><td>3982.17               </td><td>4143.58              </td><td>90.62939435336965% </td></tr>\n",
       "<tr><td>goofspiel_2_4_discard_always_____     </td><td>4856 </td><td>10   </td><td>12.21            </td><td>122.73             </td><td>4020.58               </td><td>8551.78               </td><td>18455.65              </td><td>18879.46             </td><td>91.25004084967514% </td></tr>\n",
       "<tr><td>goofspiel_2_4_discard_always______    </td><td>4856 </td><td>10   </td><td>20.07            </td><td>113.18             </td><td>2254.52               </td><td>5076.54               </td><td>18414.92              </td><td>18958.69             </td><td>90.33990514904995% </td></tr>\n",
       "<tr><td>goofspiel_2_4_discard_always_______   </td><td>4856 </td><td>10   </td><td>15.61            </td><td>166.41             </td><td>3217.68               </td><td>7585.41               </td><td>14555.18              </td><td>14746.69             </td><td>91.62084462511203% </td></tr>\n",
       "<tr><td>goofspiel_2_4_discard_always________  </td><td>4856 </td><td>10   </td><td>11.88            </td><td>104.84             </td><td>1015.68               </td><td>6362.48               </td><td>15149.11              </td><td>16947.6              </td><td>91.83778229448912% </td></tr>\n",
       "<tr><td>goofspiel_2_4_discard_always_________ </td><td>4856 </td><td>10   </td><td>12.38            </td><td>125.89             </td><td>2529.67               </td><td>5742.44               </td><td>9805.72               </td><td>10147.89             </td><td>90.29287878787251% </td></tr>\n",
       "<tr><td>goofspiel_2_4_discard_always_average  </td><td>4856 </td><td>10   </td><td>15.01 (+- 2.95)  </td><td>123.55 (+- 32.17)  </td><td>2598.08 (+- 834.94)   </td><td>5609.55 (+- 1508.75)  </td><td>12904.56 (+- 3313.17) </td><td>13876.18 (+- 3195.67)</td><td>90.98009985855616% </td></tr>\n",
       "<tr><td>goofspiel_2_4_discard_if_all          </td><td>4856 </td><td>10   </td><td>8.19             </td><td>105.02             </td><td>2136.94               </td><td>4172.25               </td><td>10673.97              </td><td>11715.85             </td><td>91.54256104485951% </td></tr>\n",
       "<tr><td>goofspiel_2_4_discard_if_all_         </td><td>4856 </td><td>10   </td><td>14.05            </td><td>123.44             </td><td>3174.69               </td><td>21875.05              </td><td>45447.79              </td><td>n/a                  </td><td>91.473644406393%   </td></tr>\n",
       "<tr><td>goofspiel_2_4_discard_if_all__        </td><td>4856 </td><td>10   </td><td>8.17             </td><td>117.44             </td><td>2128.0                </td><td>10953.62              </td><td>13802.23              </td><td>19703.05             </td><td>92.20984072810147% </td></tr>\n",
       "<tr><td>goofspiel_2_4_discard_if_all___       </td><td>4856 </td><td>10   </td><td>12.42            </td><td>127.61             </td><td>1695.68               </td><td>2504.82               </td><td>3134.16               </td><td>5940.23              </td><td>92.27349415204657% </td></tr>\n",
       "<tr><td>goofspiel_2_4_discard_if_all____      </td><td>4856 </td><td>10   </td><td>11.71            </td><td>128.79             </td><td>3259.69               </td><td>4183.74               </td><td>9581.45               </td><td>9833.85              </td><td>91.69087020649857% </td></tr>\n",
       "<tr><td>goofspiel_2_4_discard_if_all_____     </td><td>4856 </td><td>10   </td><td>14.73            </td><td>92.19              </td><td>4678.19               </td><td>5641.95               </td><td>14205.9               </td><td>14702.28             </td><td>92.62215411558807% </td></tr>\n",
       "<tr><td>goofspiel_2_4_discard_if_all______    </td><td>4856 </td><td>10   </td><td>15.15            </td><td>220.43             </td><td>8565.08               </td><td>57273.2               </td><td>n/a                   </td><td>n/a                  </td><td>92.0212605042034%  </td></tr>\n",
       "<tr><td>goofspiel_2_4_discard_if_all_______   </td><td>4856 </td><td>10   </td><td>7.54             </td><td>81.09              </td><td>1657.36               </td><td>1981.53               </td><td>5224.85               </td><td>5529.93              </td><td>92.04325731982547% </td></tr>\n",
       "<tr><td>goofspiel_2_4_discard_if_all________  </td><td>4856 </td><td>10   </td><td>20.65            </td><td>115.95             </td><td>2652.44               </td><td>7360.83               </td><td>29631.57              </td><td>30320.7              </td><td>91.2776836158209%  </td></tr>\n",
       "<tr><td>goofspiel_2_4_discard_if_all_________ </td><td>4856 </td><td>10   </td><td>15.72            </td><td>106.36             </td><td>2134.01               </td><td>9117.26               </td><td>23871.41              </td><td>25628.76             </td><td>91.13620591581464% </td></tr>\n",
       "<tr><td>goofspiel_2_4_discard_if_all_average  </td><td>4856 </td><td>10   </td><td>12.83 (+- 2.55)  </td><td>121.83 (+- 23.48)  </td><td>3208.21 (+- 1295.69)  </td><td>12506.42 (+- 10389.57)</td><td>17285.93 (+- 8823.98) </td><td>15421.83 (+- 6295.33)</td><td>91.82909720091517% </td></tr>\n",
       "<tr><td>goofspiel_3_4_accumulate              </td><td>98508</td><td>10   </td><td>406.45           </td><td>7000.79            </td><td>n/a                   </td><td>n/a                   </td><td>n/a                   </td><td>n/a                  </td><td>99.57955486542527% </td></tr>\n",
       "<tr><td>goofspiel_3_4_accumulate_             </td><td>98508</td><td>10   </td><td>301.02           </td><td>5553.81            </td><td>n/a                   </td><td>n/a                   </td><td>n/a                   </td><td>n/a                  </td><td>99.61256684489535% </td></tr>\n",
       "<tr><td>goofspiel_3_4_accumulate__            </td><td>98508</td><td>10   </td><td>537.75           </td><td>6688.8             </td><td>n/a                   </td><td>n/a                   </td><td>n/a                   </td><td>n/a                  </td><td>99.58686943620206% </td></tr>\n",
       "<tr><td>goofspiel_3_4_accumulate___           </td><td>98508</td><td>10   </td><td>373.74           </td><td>7964.11            </td><td>n/a                   </td><td>n/a                   </td><td>n/a                   </td><td>n/a                  </td><td>99.57372954349744% </td></tr>\n",
       "<tr><td>goofspiel_3_4_accumulate____          </td><td>98508</td><td>10   </td><td>404.62           </td><td>5686.9             </td><td>n/a                   </td><td>n/a                   </td><td>n/a                   </td><td>n/a                  </td><td>99.55828557784206% </td></tr>\n",
       "<tr><td>goofspiel_3_4_accumulate_____         </td><td>98508</td><td>10   </td><td>366.03           </td><td>4616.02            </td><td>n/a                   </td><td>n/a                   </td><td>n/a                   </td><td>n/a                  </td><td>99.6076190476192%  </td></tr>\n",
       "<tr><td>goofspiel_3_4_accumulate______        </td><td>98508</td><td>10   </td><td>304.56           </td><td>5687.51            </td><td>n/a                   </td><td>n/a                   </td><td>n/a                   </td><td>n/a                  </td><td>99.55954179254893% </td></tr>\n",
       "<tr><td>goofspiel_3_4_accumulate_______       </td><td>98508</td><td>10   </td><td>321.74           </td><td>3847.22            </td><td>n/a                   </td><td>n/a                   </td><td>n/a                   </td><td>n/a                  </td><td>99.56517412935426% </td></tr>\n",
       "<tr><td>goofspiel_3_4_accumulate________      </td><td>98508</td><td>10   </td><td>405.67           </td><td>4135.57            </td><td>n/a                   </td><td>n/a                   </td><td>n/a                   </td><td>n/a                  </td><td>99.53674004192746% </td></tr>\n",
       "<tr><td>goofspiel_3_4_accumulate_________     </td><td>98508</td><td>10   </td><td>370.56           </td><td>4760.48            </td><td>n/a                   </td><td>n/a                   </td><td>n/a                   </td><td>n/a                  </td><td>99.56344169246591% </td></tr>\n",
       "<tr><td>goofspiel_3_4_accumulate_average      </td><td>98508</td><td>10   </td><td>379.21 (+- 42.59)</td><td>5594.12 (+- 817.15)</td><td>n/a                   </td><td>n/a                   </td><td>n/a                   </td><td>n/a                  </td><td>99.57435229717778% </td></tr>\n",
       "<tr><td>goofspiel_3_4_discard_always          </td><td>98508</td><td>10   </td><td>126.11           </td><td>1873.04            </td><td>n/a                   </td><td>n/a                   </td><td>n/a                   </td><td>n/a                  </td><td>68.05678007889611% </td></tr>\n",
       "<tr><td>goofspiel_3_4_discard_always_         </td><td>98508</td><td>10   </td><td>127.58           </td><td>2152.22            </td><td>49828.04              </td><td>n/a                   </td><td>n/a                   </td><td>n/a                  </td><td>66.87705278592037% </td></tr>\n",
       "<tr><td>goofspiel_3_4_discard_always__        </td><td>98508</td><td>10   </td><td>135.99           </td><td>1499.24            </td><td>28844.32              </td><td>63919.12              </td><td>77262.34              </td><td>83875.77             </td><td>71.70032552083549% </td></tr>\n",
       "<tr><td>goofspiel_3_4_discard_always___       </td><td>98508</td><td>10   </td><td>129.31           </td><td>1568.93            </td><td>40088.99              </td><td>62167.07              </td><td>n/a                   </td><td>n/a                  </td><td>68.74897624897638% </td></tr>\n",
       "<tr><td>goofspiel_3_4_discard_always____      </td><td>98508</td><td>10   </td><td>197.87           </td><td>2196.78            </td><td>19901.71              </td><td>75844.44              </td><td>n/a                   </td><td>n/a                  </td><td>63.015833333329276%</td></tr>\n",
       "<tr><td>goofspiel_3_4_discard_always_____     </td><td>98508</td><td>10   </td><td>131.08           </td><td>1643.95            </td><td>23867.74              </td><td>35868.55              </td><td>42294.92              </td><td>66097.3              </td><td>67.81684164479385% </td></tr>\n",
       "<tr><td>goofspiel_3_4_discard_always______    </td><td>98508</td><td>10   </td><td>194.01           </td><td>908.06             </td><td>15457.38              </td><td>26778.31              </td><td>38286.04              </td><td>39085.24             </td><td>70.07190618762384% </td></tr>\n",
       "<tr><td>goofspiel_3_4_discard_always_______   </td><td>98508</td><td>10   </td><td>64.13            </td><td>2333.63            </td><td>53767.15              </td><td>n/a                   </td><td>n/a                   </td><td>n/a                  </td><td>69.62293859649135% </td></tr>\n",
       "<tr><td>goofspiel_3_4_discard_always________  </td><td>98508</td><td>10   </td><td>128.83           </td><td>2900.17            </td><td>56083.64              </td><td>n/a                   </td><td>n/a                   </td><td>n/a                  </td><td>74.19980158730313% </td></tr>\n",
       "<tr><td>goofspiel_3_4_discard_always_________ </td><td>98508</td><td>10   </td><td>197.77           </td><td>2465.74            </td><td>49865.9               </td><td>71169.41              </td><td>n/a                   </td><td>n/a                  </td><td>72.2488985868598%  </td></tr>\n",
       "<tr><td>goofspiel_3_4_discard_always_average  </td><td>98508</td><td>10   </td><td>143.27 (+- 26.08)</td><td>1954.18 (+- 354.93)</td><td>37522.76 (+- 10272.88)</td><td>55957.82 (+- 15938.51)</td><td>52614.43 (+- 24261.21)</td><td>63019.44 (+- 25521.5)</td><td>69.23593545710295% </td></tr>\n",
       "<tr><td>goofspiel_3_4_discard_if_all          </td><td>98508</td><td>10   </td><td>565.39           </td><td>5261.43            </td><td>61936.24              </td><td>n/a                   </td><td>n/a                   </td><td>n/a                  </td><td>98.67557870370533% </td></tr>\n",
       "<tr><td>goofspiel_3_4_discard_if_all_         </td><td>98508</td><td>10   </td><td>499.15           </td><td>4930.22            </td><td>n/a                   </td><td>n/a                   </td><td>n/a                   </td><td>n/a                  </td><td>98.62173802242786% </td></tr>\n",
       "<tr><td>goofspiel_3_4_discard_if_all__        </td><td>98508</td><td>10   </td><td>731.78           </td><td>5823.61            </td><td>n/a                   </td><td>n/a                   </td><td>n/a                   </td><td>n/a                  </td><td>98.68108384458161% </td></tr>\n",
       "<tr><td>goofspiel_3_4_discard_if_all___       </td><td>98508</td><td>10   </td><td>556.17           </td><td>2695.86            </td><td>n/a                   </td><td>n/a                   </td><td>n/a                   </td><td>n/a                  </td><td>98.70601325755229% </td></tr>\n",
       "<tr><td>goofspiel_3_4_discard_if_all____      </td><td>98508</td><td>10   </td><td>477.75           </td><td>4991.96            </td><td>n/a                   </td><td>n/a                   </td><td>n/a                   </td><td>n/a                  </td><td>98.37899999999968% </td></tr>\n",
       "<tr><td>goofspiel_3_4_discard_if_all_____     </td><td>98508</td><td>10   </td><td>550.27           </td><td>4002.08            </td><td>n/a                   </td><td>n/a                   </td><td>n/a                   </td><td>n/a                  </td><td>98.6006572769995%  </td></tr>\n",
       "<tr><td>goofspiel_3_4_discard_if_all______    </td><td>98508</td><td>10   </td><td>647.4            </td><td>4373.89            </td><td>n/a                   </td><td>n/a                   </td><td>n/a                   </td><td>n/a                  </td><td>98.6774974515819%  </td></tr>\n",
       "<tr><td>goofspiel_3_4_discard_if_all_______   </td><td>98508</td><td>10   </td><td>414.1            </td><td>2594.99            </td><td>n/a                   </td><td>n/a                   </td><td>n/a                   </td><td>n/a                  </td><td>98.86996977547389% </td></tr>\n",
       "<tr><td>goofspiel_3_4_discard_if_all________  </td><td>98508</td><td>10   </td><td>492.49           </td><td>3329.13            </td><td>n/a                   </td><td>n/a                   </td><td>n/a                   </td><td>n/a                  </td><td>98.76875637105167% </td></tr>\n",
       "<tr><td>goofspiel_3_4_discard_if_all_________ </td><td>98508</td><td>10   </td><td>645.23           </td><td>6380.62            </td><td>n/a                   </td><td>n/a                   </td><td>n/a                   </td><td>n/a                  </td><td>98.6307164633943%  </td></tr>\n",
       "<tr><td>goofspiel_3_4_discard_if_all_average  </td><td>98508</td><td>10   </td><td>557.97 (+- 58.74)</td><td>4438.38 (+- 794.18)</td><td>61936.24 (+- -1)      </td><td>n/a                   </td><td>n/a                   </td><td>n/a                  </td><td>98.6611011166768%  </td></tr>\n",
       "<tr><td>goofspiel_3_4_discard_if_high         </td><td>98508</td><td>10   </td><td>248.16           </td><td>3554.8             </td><td>35179.68              </td><td>n/a                   </td><td>n/a                   </td><td>n/a                  </td><td>85.34506610009345% </td></tr>\n",
       "<tr><td>goofspiel_3_4_discard_if_high_        </td><td>98508</td><td>10   </td><td>381.84           </td><td>3061.76            </td><td>n/a                   </td><td>n/a                   </td><td>n/a                   </td><td>n/a                  </td><td>89.70528571428548% </td></tr>\n",
       "<tr><td>goofspiel_3_4_discard_if_high__       </td><td>98508</td><td>10   </td><td>328.05           </td><td>2716.63            </td><td>46541.6               </td><td>n/a                   </td><td>n/a                   </td><td>n/a                  </td><td>89.19498502994315% </td></tr>\n",
       "<tr><td>goofspiel_3_4_discard_if_high___      </td><td>98508</td><td>10   </td><td>262.83           </td><td>2596.43            </td><td>26067.53              </td><td>n/a                   </td><td>n/a                   </td><td>n/a                  </td><td>89.95068389057745% </td></tr>\n",
       "<tr><td>goofspiel_3_4_discard_if_high____     </td><td>98508</td><td>10   </td><td>253.4            </td><td>2818.58            </td><td>39491.23              </td><td>81188.15              </td><td>n/a                   </td><td>n/a                  </td><td>89.64890895409371% </td></tr>\n",
       "<tr><td>goofspiel_3_4_discard_if_high_____    </td><td>98508</td><td>10   </td><td>326.46           </td><td>2726.2             </td><td>27923.78              </td><td>80809.91              </td><td>n/a                   </td><td>n/a                  </td><td>90.1212328767146%  </td></tr>\n",
       "<tr><td>goofspiel_3_4_discard_if_high______   </td><td>98508</td><td>10   </td><td>452.37           </td><td>2834.81            </td><td>68247.27              </td><td>n/a                   </td><td>n/a                   </td><td>n/a                  </td><td>86.32673160173906% </td></tr>\n",
       "<tr><td>goofspiel_3_4_discard_if_high_______  </td><td>98508</td><td>10   </td><td>258.47           </td><td>1867.84            </td><td>56400.43              </td><td>n/a                   </td><td>n/a                   </td><td>n/a                  </td><td>88.63913502109882% </td></tr>\n",
       "<tr><td>goofspiel_3_4_discard_if_high________ </td><td>98508</td><td>10   </td><td>281.44           </td><td>3147.09            </td><td>40687.39              </td><td>50430.84              </td><td>79885.63              </td><td>n/a                  </td><td>88.46973995272037% </td></tr>\n",
       "<tr><td>goofspiel_3_4_discard_if_high_________</td><td>98508</td><td>10   </td><td>450.22           </td><td>3213.63            </td><td>43849.89              </td><td>n/a                   </td><td>n/a                   </td><td>n/a                  </td><td>89.09878559464308% </td></tr>\n",
       "<tr><td>goofspiel_3_4_discard_if_high_average </td><td>98508</td><td>10   </td><td>324.32 (+- 49.05)</td><td>2853.78 (+- 279.12)</td><td>42709.87 (+- 8711.42) </td><td>70809.63 (+- 19972.36)</td><td>79885.63 (+- -1)      </td><td>n/a                  </td><td>88.65005547359092% </td></tr>\n",
       "</tbody>\n",
       "</table>"
      ],
      "text/plain": [
       "<IPython.core.display.HTML object>"
      ]
     },
     "metadata": {},
     "output_type": "display_data"
    }
   ],
   "source": [
    "display(HTML(tabulate.tabulate(table_text, tablefmt='html')))"
   ]
  },
  {
   "cell_type": "markdown",
   "metadata": {},
   "source": [
    "### Random"
   ]
  },
  {
   "cell_type": "markdown",
   "metadata": {},
   "source": [
    "#### SCFR"
   ]
  },
  {
   "cell_type": "code",
   "execution_count": 47,
   "metadata": {
    "scrolled": false
   },
   "outputs": [
    {
     "data": {
      "text/html": [
       "<table>\n",
       "<tbody>\n",
       "<tr><td>Game                 </td><td>Inf. </td><td>Delta</td><td>0.1%             </td><td>0.05%              </td><td>0.01%               </td><td>0.005%               </td><td>0.001%                </td><td>0.0005%              </td><td>social welfare    </td></tr>\n",
       "<tr><td>random_3_12_2_average</td><td>3071 </td><td>1    </td><td>45.0 (+- 4.95)   </td><td>104.08 (+- 10.71)  </td><td>790.41 (+- 96.39)   </td><td>2138.05 (+- 394.46)  </td><td>36537.92 (+- 10024.92)</td><td>11338.0 (+- 11514.69)</td><td>90.68533764113121%</td></tr>\n",
       "<tr><td>random_3_15_2_average</td><td>24542</td><td>1    </td><td>605.67 (+- 74.98)</td><td>1290.57 (+- 146.11)</td><td>7522.02 (+- 1069.77)</td><td>16128.21 (+- 2686.78)</td><td>12348.02 (+- -1)      </td><td>28211.59 (+- -1)     </td><td>92.41492052055774%</td></tr>\n",
       "</tbody>\n",
       "</table>"
      ],
      "text/plain": [
       "<IPython.core.display.HTML object>"
      ]
     },
     "metadata": {},
     "output_type": "display_data"
    }
   ],
   "source": [
    "display(HTML(tabulate.tabulate(table_text, tablefmt='html')))"
   ]
  },
  {
   "cell_type": "markdown",
   "metadata": {},
   "source": [
    "#### RCFR"
   ]
  },
  {
   "cell_type": "code",
   "execution_count": 38,
   "metadata": {},
   "outputs": [
    {
     "data": {
      "text/html": [
       "<table>\n",
       "<tbody>\n",
       "<tr><td>Game                 </td><td>Inf. </td><td>Delta</td><td>0.1%              </td><td>0.05%             </td><td>0.01%             </td><td>0.005%            </td><td>0.001%              </td><td>0.0005%              </td><td>social welfare    </td></tr>\n",
       "<tr><td>random_3_12_2_average</td><td>3052 </td><td>1    </td><td>7.67 (+- 2.53)    </td><td>16.94 (+- 5.83)   </td><td>97.13 (+- 33.43)  </td><td>199.93 (+- 68.45) </td><td>1021.24 (+- 356.19) </td><td>1446.79 (+- 582.55)  </td><td>89.72752028122675%</td></tr>\n",
       "<tr><td>random_3_15_2_average</td><td>24588</td><td>1    </td><td>190.43 (+- 107.94)</td><td>214.98 (+- 107.65)</td><td>541.78 (+- 344.72)</td><td>893.84 (+- 599.86)</td><td>4763.04 (+- 2871.42)</td><td>10985.92 (+- 7169.26)</td><td>93.11019014090292%</td></tr>\n",
       "</tbody>\n",
       "</table>"
      ],
      "text/plain": [
       "<IPython.core.display.HTML object>"
      ]
     },
     "metadata": {},
     "output_type": "display_data"
    }
   ],
   "source": [
    "display(HTML(tabulate.tabulate(table_text, tablefmt='html')))"
   ]
  },
  {
   "cell_type": "markdown",
   "metadata": {},
   "source": [
    "### Goofspiel 3_4 (NIPS)"
   ]
  },
  {
   "cell_type": "markdown",
   "metadata": {},
   "source": [
    "#### SCFR"
   ]
  },
  {
   "cell_type": "code",
   "execution_count": 74,
   "metadata": {},
   "outputs": [
    {
     "data": {
      "text/html": [
       "<table>\n",
       "<tbody>\n",
       "<tr><td>Game                                 </td><td>Inf. </td><td>Delta</td><td>0.1%             </td><td>0.05%              </td><td>0.01%                 </td><td>0.005%                </td><td>0.001%                </td><td>0.0005%              </td><td>social welfare    </td></tr>\n",
       "<tr><td>goofspiel_3_4_accumulate_average     </td><td>98508</td><td>10   </td><td>379.21 (+- 42.59)</td><td>5594.12 (+- 817.15)</td><td>n/a                   </td><td>n/a                   </td><td>n/a                   </td><td>n/a                  </td><td>99.57435229717778%</td></tr>\n",
       "<tr><td>goofspiel_3_4_discard_always_average </td><td>98508</td><td>10   </td><td>143.27 (+- 26.08)</td><td>1954.18 (+- 354.93)</td><td>37522.76 (+- 10272.88)</td><td>55957.82 (+- 15938.51)</td><td>52614.43 (+- 24261.21)</td><td>63019.44 (+- 25521.5)</td><td>69.23593545710295%</td></tr>\n",
       "<tr><td>goofspiel_3_4_discard_if_all_average </td><td>98508</td><td>10   </td><td>557.97 (+- 58.74)</td><td>4438.38 (+- 794.18)</td><td>61936.24 (+- -1)      </td><td>n/a                   </td><td>n/a                   </td><td>n/a                  </td><td>98.6611011166768% </td></tr>\n",
       "<tr><td>goofspiel_3_4_discard_if_high_average</td><td>98508</td><td>10   </td><td>324.32 (+- 49.05)</td><td>2853.78 (+- 279.12)</td><td>42709.87 (+- 8711.42) </td><td>70809.63 (+- 19972.36)</td><td>79885.63 (+- -1)      </td><td>n/a                  </td><td>88.65005547359092%</td></tr>\n",
       "</tbody>\n",
       "</table>"
      ],
      "text/plain": [
       "<IPython.core.display.HTML object>"
      ]
     },
     "metadata": {},
     "output_type": "display_data"
    }
   ],
   "source": [
    "display(HTML(tabulate.tabulate(table_text, tablefmt='html')))"
   ]
  },
  {
   "cell_type": "markdown",
   "metadata": {},
   "source": [
    "#### RCFR (temporary)"
   ]
  },
  {
   "cell_type": "code",
   "execution_count": 25,
   "metadata": {},
   "outputs": [
    {
     "data": {
      "text/html": [
       "<table>\n",
       "<tbody>\n",
       "<tr><td>Game                                 </td><td>Inf. </td><td>Delta</td><td>0.1%                </td><td>0.05%               </td><td>0.01%                 </td><td>0.005%                </td><td>0.001%                </td><td>0.0005%               </td><td>social welfare    </td></tr>\n",
       "<tr><td>goofspiel_3_4_accumulate_average     </td><td>48966</td><td>10   </td><td>3621.61 (+- 5306.55)</td><td>3798.92 (+- 5267.07)</td><td>11007.57 (+- 17719.01)</td><td>15216.13 (+- 23511.25)</td><td>18263.62 (+- 31747.88)</td><td>2065.72 (+- -1)       </td><td>99.99999999999848%</td></tr>\n",
       "<tr><td>goofspiel_3_4_discard_always_average </td><td>48966</td><td>10   </td><td>835.17 (+- 657.87)  </td><td>4903.94 (+- 7994.93)</td><td>5908.29 (+- 4031.5)   </td><td>18002.43 (+- 4579.89) </td><td>n/a                   </td><td>n/a                   </td><td>73.03009198004492%</td></tr>\n",
       "<tr><td>goofspiel_3_4_discard_if_all_average </td><td>48966</td><td>10   </td><td>565.9 (+- 184.9)    </td><td>738.69 (+- 210.12)  </td><td>3715.39 (+- 733.98)   </td><td>6625.16 (+- 2251.05)  </td><td>n/a                   </td><td>n/a                   </td><td>100.0%            </td></tr>\n",
       "<tr><td>goofspiel_3_4_discard_if_high_average</td><td>48966</td><td>10   </td><td>839.58 (+- 692.41)  </td><td>998.0 (+- 659.98)   </td><td>8498.78 (+- 11262.09) </td><td>14902.04 (+- 16386.67)</td><td>31848.43 (+- 11462.4) </td><td>55633.34 (+- 27736.58)</td><td>100.0%            </td></tr>\n",
       "</tbody>\n",
       "</table>"
      ],
      "text/plain": [
       "<IPython.core.display.HTML object>"
      ]
     },
     "metadata": {},
     "output_type": "display_data"
    }
   ],
   "source": [
    "display(HTML(tabulate.tabulate(table_text, tablefmt='html')))"
   ]
  },
  {
   "cell_type": "markdown",
   "metadata": {},
   "source": [
    "### Leduc (NIPS)"
   ]
  },
  {
   "cell_type": "markdown",
   "metadata": {},
   "source": [
    "#### SCFR"
   ]
  },
  {
   "cell_type": "code",
   "execution_count": 78,
   "metadata": {
    "scrolled": true
   },
   "outputs": [
    {
     "data": {
      "text/html": [
       "<table>\n",
       "<tbody>\n",
       "<tr><td>Game               </td><td>Inf.</td><td>Seq.</td><td>Delta</td><td>0.1%           </td><td>0.05%               </td><td>0.01%</td><td>0.005%</td><td>0.001%</td><td>0.0005%</td></tr>\n",
       "<tr><td>leduc_3_3_4_average</td><td>1200</td><td>2403</td><td>21   </td><td>4.0 (+- 2.3)   </td><td>633.25 (+- 154.35)  </td><td>n/a  </td><td>n/a   </td><td>n/a   </td><td>n/a    </td></tr>\n",
       "<tr><td>leduc_3_3_6_average</td><td>2664</td><td>5331</td><td>21   </td><td>21.54 (+- 9.72)</td><td>7514.08 (+- 202.58) </td><td>n/a  </td><td>n/a   </td><td>n/a   </td><td>n/a    </td></tr>\n",
       "<tr><td>leduc_3_3_8_average</td><td>4704</td><td>9411</td><td>21   </td><td>35.3 (+- 20.21)</td><td>50103.64 (+- 5373.3)</td><td>n/a  </td><td>n/a   </td><td>n/a   </td><td>n/a    </td></tr>\n",
       "</tbody>\n",
       "</table>"
      ],
      "text/plain": [
       "<IPython.core.display.HTML object>"
      ]
     },
     "metadata": {},
     "output_type": "display_data"
    }
   ],
   "source": [
    "display(HTML(tabulate.tabulate(table_text, tablefmt='html')))"
   ]
  },
  {
   "cell_type": "markdown",
   "metadata": {},
   "source": [
    "#### RCFR"
   ]
  },
  {
   "cell_type": "code",
   "execution_count": 35,
   "metadata": {},
   "outputs": [
    {
     "data": {
      "text/html": [
       "<table>\n",
       "<tbody>\n",
       "<tr><td>Game       </td><td>Inf.</td><td>Delta</td><td>0.1%  </td><td>0.05%  </td><td>0.01%   </td><td>0.005%  </td><td>0.001%</td><td>0.0005%</td><td>social welfare</td></tr>\n",
       "<tr><td>leduc_3_3_4</td><td>1200</td><td>21   </td><td>1.71  </td><td>75.83  </td><td>3717.32 </td><td>22244.01</td><td>n/a   </td><td>n/a    </td><td>0%            </td></tr>\n",
       "<tr><td>leduc_3_3_6</td><td>2664</td><td>21   </td><td>8.2   </td><td>160.21 </td><td>9314.02 </td><td>40771.38</td><td>n/a   </td><td>n/a    </td><td>0%            </td></tr>\n",
       "<tr><td>leduc_3_3_8</td><td>4704</td><td>21   </td><td>464.89</td><td>1222.42</td><td>63152.23</td><td>n/a     </td><td>n/a   </td><td>n/a    </td><td>0%            </td></tr>\n",
       "</tbody>\n",
       "</table>"
      ],
      "text/plain": [
       "<IPython.core.display.HTML object>"
      ]
     },
     "metadata": {},
     "output_type": "display_data"
    }
   ],
   "source": [
    "display(HTML(tabulate.tabulate(table_text, tablefmt='html')))"
   ]
  },
  {
   "cell_type": "markdown",
   "metadata": {},
   "source": [
    "### Kuhn (NIPS)"
   ]
  },
  {
   "cell_type": "markdown",
   "metadata": {},
   "source": [
    "#### SCFR"
   ]
  },
  {
   "cell_type": "code",
   "execution_count": 69,
   "metadata": {},
   "outputs": [
    {
     "data": {
      "text/html": [
       "<table>\n",
       "<tbody>\n",
       "<tr><td>Game             </td><td>Inf.</td><td>Seq.</td><td>Delta</td><td>0.1%          </td><td>0.05%          </td><td>0.01%                </td><td>0.005%                </td><td>0.001%</td><td>0.0005%</td></tr>\n",
       "<tr><td>kuhn_3_10_average</td><td>120 </td><td>243 </td><td>6    </td><td>1.89 (+- 0.66)</td><td>22.69 (+- 5.96)</td><td>40749.64 (+- 6292.85)</td><td>n/a                   </td><td>n/a   </td><td>n/a    </td></tr>\n",
       "<tr><td>kuhn_3_6_average </td><td>72  </td><td>147 </td><td>6    </td><td>0.22 (+- 0.06)</td><td>1.41 (+- 0.38) </td><td>1460.04 (+- 265.44)  </td><td>33334.91 (+- 7179.25) </td><td>n/a   </td><td>n/a    </td></tr>\n",
       "<tr><td>kuhn_3_7_average </td><td>84  </td><td>171 </td><td>6    </td><td>0.62 (+- 0.31)</td><td>4.22 (+- 1.36) </td><td>3825.62 (+- 1569.9)  </td><td>61871.17 (+- 21964.93)</td><td>n/a   </td><td>n/a    </td></tr>\n",
       "</tbody>\n",
       "</table>"
      ],
      "text/plain": [
       "<IPython.core.display.HTML object>"
      ]
     },
     "metadata": {},
     "output_type": "display_data"
    }
   ],
   "source": [
    "display(HTML(tabulate.tabulate(table_text, tablefmt='html')))"
   ]
  },
  {
   "cell_type": "markdown",
   "metadata": {},
   "source": [
    "#### RCFR"
   ]
  },
  {
   "cell_type": "code",
   "execution_count": 25,
   "metadata": {},
   "outputs": [
    {
     "data": {
      "text/html": [
       "<table>\n",
       "<tbody>\n",
       "<tr><td>Game             </td><td>Inf.</td><td>Delta</td><td>0.1%          </td><td>0.05%         </td><td>0.01%         </td><td>0.005%         </td><td>0.001%            </td><td>0.0005%             </td><td>social welfare</td></tr>\n",
       "<tr><td>kuhn_3_10_average</td><td>120 </td><td>6    </td><td>7.21 (+- 0.19)</td><td>7.21 (+- 0.19)</td><td>17.2 (+- 0.45)</td><td>72.78 (+- 1.56)</td><td>1901.22 (+- 20.62)</td><td>15086.15 (+- 187.72)</td><td>-1%           </td></tr>\n",
       "<tr><td>kuhn_3_6_average </td><td>72  </td><td>6    </td><td>1.03 (+- 0.03)</td><td>1.03 (+- 0.03)</td><td>4.55 (+- 0.1) </td><td>13.41 (+- 0.26)</td><td>67.86 (+- 0.77)   </td><td>681.55 (+- 10.16)   </td><td>-1%           </td></tr>\n",
       "<tr><td>kuhn_3_7_average </td><td>84  </td><td>6    </td><td>2.35 (+- 0.34)</td><td>2.35 (+- 0.34)</td><td>7.92 (+- 1.25)</td><td>14.33 (+- 2.4) </td><td>649.72 (+- 12.36) </td><td>3087.58 (+- 29.1)   </td><td>-1%           </td></tr>\n",
       "</tbody>\n",
       "</table>"
      ],
      "text/plain": [
       "<IPython.core.display.HTML object>"
      ]
     },
     "metadata": {},
     "output_type": "display_data"
    }
   ],
   "source": [
    "display(HTML(tabulate.tabulate(table_text, tablefmt='html')))"
   ]
  },
  {
   "cell_type": "markdown",
   "metadata": {},
   "source": [
    "### Table for number of iterations instead of running time"
   ]
  },
  {
   "cell_type": "code",
   "execution_count": 24,
   "metadata": {},
   "outputs": [],
   "source": [
    "table_text2 = [['Targets'] + (list(map(str, target_epsilons)))]\n",
    "for (game, data) in sorted(data_per_instance.items()):\n",
    "    line_text = [game] + list(map(lambda t: 'n/a' if t == -1 else str(t), data['iterations_to_target']))\n",
    "    table_text2.append(line_text)"
   ]
  },
  {
   "cell_type": "code",
   "execution_count": 25,
   "metadata": {},
   "outputs": [
    {
     "data": {
      "text/html": [
       "<table>\n",
       "<tbody>\n",
       "<tr><td>Targets             </td><td style=\"text-align: right;\">  0.1</td><td style=\"text-align: right;\">   0.05</td><td>0.01</td><td>0.005</td><td>0.001</td><td>0.0005</td></tr>\n",
       "<tr><td>leduc_3_3_4         </td><td style=\"text-align: right;\"> 50  </td><td style=\"text-align: right;\">1500   </td><td>n/a </td><td>n/a  </td><td>n/a  </td><td>n/a   </td></tr>\n",
       "<tr><td>leduc_3_3_4_        </td><td style=\"text-align: right;\"> 50  </td><td style=\"text-align: right;\">1400   </td><td>n/a </td><td>n/a  </td><td>n/a  </td><td>n/a   </td></tr>\n",
       "<tr><td>leduc_3_3_4__       </td><td style=\"text-align: right;\"> 50  </td><td style=\"text-align: right;\">1450   </td><td>n/a </td><td>n/a  </td><td>n/a  </td><td>n/a   </td></tr>\n",
       "<tr><td>leduc_3_3_4___      </td><td style=\"text-align: right;\"> 50  </td><td style=\"text-align: right;\">1400   </td><td>n/a </td><td>n/a  </td><td>n/a  </td><td>n/a   </td></tr>\n",
       "<tr><td>leduc_3_3_4____     </td><td style=\"text-align: right;\"> 50  </td><td style=\"text-align: right;\">1450   </td><td>n/a </td><td>n/a  </td><td>n/a  </td><td>n/a   </td></tr>\n",
       "<tr><td>leduc_3_3_4_____    </td><td style=\"text-align: right;\">100  </td><td style=\"text-align: right;\">1450   </td><td>n/a </td><td>n/a  </td><td>n/a  </td><td>n/a   </td></tr>\n",
       "<tr><td>leduc_3_3_4______   </td><td style=\"text-align: right;\"> 50  </td><td style=\"text-align: right;\">1400   </td><td>n/a </td><td>n/a  </td><td>n/a  </td><td>n/a   </td></tr>\n",
       "<tr><td>leduc_3_3_4_______  </td><td style=\"text-align: right;\">150  </td><td style=\"text-align: right;\">1800   </td><td>n/a </td><td>n/a  </td><td>n/a  </td><td>n/a   </td></tr>\n",
       "<tr><td>leduc_3_3_4________ </td><td style=\"text-align: right;\">150  </td><td style=\"text-align: right;\">1700   </td><td>n/a </td><td>n/a  </td><td>n/a  </td><td>n/a   </td></tr>\n",
       "<tr><td>leduc_3_3_4_________</td><td style=\"text-align: right;\">100  </td><td style=\"text-align: right;\">1300   </td><td>n/a </td><td>n/a  </td><td>n/a  </td><td>n/a   </td></tr>\n",
       "<tr><td>leduc_3_3_4_average </td><td style=\"text-align: right;\"> 80  </td><td style=\"text-align: right;\">1485   </td><td>n/a </td><td>n/a  </td><td>n/a  </td><td>n/a   </td></tr>\n",
       "<tr><td>leduc_3_3_6         </td><td style=\"text-align: right;\"> 50  </td><td style=\"text-align: right;\">2450   </td><td>n/a </td><td>n/a  </td><td>n/a  </td><td>n/a   </td></tr>\n",
       "<tr><td>leduc_3_3_6_        </td><td style=\"text-align: right;\">100  </td><td style=\"text-align: right;\">2450   </td><td>n/a </td><td>n/a  </td><td>n/a  </td><td>n/a   </td></tr>\n",
       "<tr><td>leduc_3_3_6__       </td><td style=\"text-align: right;\">150  </td><td style=\"text-align: right;\">2350   </td><td>n/a </td><td>n/a  </td><td>n/a  </td><td>n/a   </td></tr>\n",
       "<tr><td>leduc_3_3_6___      </td><td style=\"text-align: right;\"> 50  </td><td style=\"text-align: right;\">2400   </td><td>n/a </td><td>n/a  </td><td>n/a  </td><td>n/a   </td></tr>\n",
       "<tr><td>leduc_3_3_6____     </td><td style=\"text-align: right;\">100  </td><td style=\"text-align: right;\">2350   </td><td>n/a </td><td>n/a  </td><td>n/a  </td><td>n/a   </td></tr>\n",
       "<tr><td>leduc_3_3_6_____    </td><td style=\"text-align: right;\"> 50  </td><td style=\"text-align: right;\">2450   </td><td>n/a </td><td>n/a  </td><td>n/a  </td><td>n/a   </td></tr>\n",
       "<tr><td>leduc_3_3_6______   </td><td style=\"text-align: right;\"> 50  </td><td style=\"text-align: right;\">2400   </td><td>n/a </td><td>n/a  </td><td>n/a  </td><td>n/a   </td></tr>\n",
       "<tr><td>leduc_3_3_6_______  </td><td style=\"text-align: right;\">150  </td><td style=\"text-align: right;\">2350   </td><td>n/a </td><td>n/a  </td><td>n/a  </td><td>n/a   </td></tr>\n",
       "<tr><td>leduc_3_3_6________ </td><td style=\"text-align: right;\">100  </td><td style=\"text-align: right;\">2300   </td><td>n/a </td><td>n/a  </td><td>n/a  </td><td>n/a   </td></tr>\n",
       "<tr><td>leduc_3_3_6_________</td><td style=\"text-align: right;\">150  </td><td style=\"text-align: right;\">2450   </td><td>n/a </td><td>n/a  </td><td>n/a  </td><td>n/a   </td></tr>\n",
       "<tr><td>leduc_3_3_6_average </td><td style=\"text-align: right;\"> 95  </td><td style=\"text-align: right;\">2395   </td><td>n/a </td><td>n/a  </td><td>n/a  </td><td>n/a   </td></tr>\n",
       "<tr><td>leduc_3_3_8         </td><td style=\"text-align: right;\"> 50  </td><td style=\"text-align: right;\">3350   </td><td>n/a </td><td>n/a  </td><td>n/a  </td><td>n/a   </td></tr>\n",
       "<tr><td>leduc_3_3_8_        </td><td style=\"text-align: right;\"> 50  </td><td style=\"text-align: right;\">3500   </td><td>n/a </td><td>n/a  </td><td>n/a  </td><td>n/a   </td></tr>\n",
       "<tr><td>leduc_3_3_8__       </td><td style=\"text-align: right;\"> 50  </td><td style=\"text-align: right;\">3150   </td><td>n/a </td><td>n/a  </td><td>n/a  </td><td>n/a   </td></tr>\n",
       "<tr><td>leduc_3_3_8___      </td><td style=\"text-align: right;\"> 50  </td><td style=\"text-align: right;\">3800   </td><td>n/a </td><td>n/a  </td><td>n/a  </td><td>n/a   </td></tr>\n",
       "<tr><td>leduc_3_3_8____     </td><td style=\"text-align: right;\"> 50  </td><td style=\"text-align: right;\">3600   </td><td>n/a </td><td>n/a  </td><td>n/a  </td><td>n/a   </td></tr>\n",
       "<tr><td>leduc_3_3_8_____    </td><td style=\"text-align: right;\"> 50  </td><td style=\"text-align: right;\">3800   </td><td>n/a </td><td>n/a  </td><td>n/a  </td><td>n/a   </td></tr>\n",
       "<tr><td>leduc_3_3_8______   </td><td style=\"text-align: right;\"> 50  </td><td style=\"text-align: right;\">3600   </td><td>n/a </td><td>n/a  </td><td>n/a  </td><td>n/a   </td></tr>\n",
       "<tr><td>leduc_3_3_8_______  </td><td style=\"text-align: right;\">150  </td><td style=\"text-align: right;\">3100   </td><td>n/a </td><td>n/a  </td><td>n/a  </td><td>n/a   </td></tr>\n",
       "<tr><td>leduc_3_3_8________ </td><td style=\"text-align: right;\"> 50  </td><td style=\"text-align: right;\">3500   </td><td>n/a </td><td>n/a  </td><td>n/a  </td><td>n/a   </td></tr>\n",
       "<tr><td>leduc_3_3_8_________</td><td style=\"text-align: right;\"> 50  </td><td style=\"text-align: right;\">3050   </td><td>n/a </td><td>n/a  </td><td>n/a  </td><td>n/a   </td></tr>\n",
       "<tr><td>leduc_3_3_8_average </td><td style=\"text-align: right;\"> 60  </td><td style=\"text-align: right;\">3445   </td><td>n/a </td><td>n/a  </td><td>n/a  </td><td>n/a   </td></tr>\n",
       "</tbody>\n",
       "</table>"
      ],
      "text/plain": [
       "<IPython.core.display.HTML object>"
      ]
     },
     "metadata": {},
     "output_type": "display_data"
    }
   ],
   "source": [
    "display(HTML(tabulate.tabulate(table_text2, tablefmt='html')))"
   ]
  },
  {
   "cell_type": "markdown",
   "metadata": {},
   "source": [
    "## Time comparisons"
   ]
  },
  {
   "cell_type": "code",
   "execution_count": null,
   "metadata": {},
   "outputs": [],
   "source": [
    "def compare(files, xlims_time = None, xlims_iter = None, ylims = None, legend = None, title = 'Comparison'):\n",
    "    fig_time, ax_time = plt.subplots()\n",
    "    fig_iter, ax_iter = plt.subplots()\n",
    "    \n",
    "    for filename in files:\n",
    "        file = open(filename, \"r\")\n",
    "        data = json.load(file)\n",
    "        file.close()\n",
    "\n",
    "        print(\"File = \" + filename)\n",
    "        print(\"Game = \" + parameters_to_string(data['parameters']))\n",
    "\n",
    "        print(\"Total iterations = \" + str(data['parameters']['number_iterations']))\n",
    "        print(\"Check every iteration = \" + str(data['parameters']['check_every_iteration']))\n",
    "\n",
    "        durations = list(map(lambda el: el['duration'], data['data']))\n",
    "\n",
    "        du = delta_utility(data['parameters']['game'], data['parameters']['players'], data['parameters']['rank'],\n",
    "                   data['parameters']['betting_parameters'], data['parameters']['color_distribution'], \n",
    "                   data['parameters']['suits'])\n",
    "\n",
    "        iteration_counts = list(map(lambda el: el['iteration_number'], data['data']))\n",
    "        epsilons = list(map(lambda el: max(0, -min(el['epsilon'])), data['data']))\n",
    "        percent_epsilons = list(map(lambda el: el / du, epsilons))\n",
    "        cum_durations = [sum(durations[:i]) for i in range(len(durations))]\n",
    "        \n",
    "        ax_time.plot(cum_durations, percent_epsilons)\n",
    "        ax_iter.plot(iteration_counts, percent_epsilons)\n",
    "        \n",
    "    if legend == None:\n",
    "        legend = [\"Result \" + str(i+1) for i in range(len(files))]\n",
    "    ax_time.legend(legend)\n",
    "    ax_iter.legend(legend)\n",
    "    ax_time.set(xlabel = \"Time [s]\", ylabel = \"Epsilon [%]\")\n",
    "    ax_iter.set(xlabel = \"Iterations\", ylabel = \"Epsilon [%]\")\n",
    "    if ylims != None:\n",
    "        ax_time.set_ylim(ylims)\n",
    "        ax_iter.set_ylim(ylims)\n",
    "    if xlims_time != None:\n",
    "        ax_time.set_xlim(xlims_time)\n",
    "    if xlims_iter != None:\n",
    "        ax_iter.set_xlim(xlims_iter)\n",
    "    ax_time.set_title(title)\n",
    "    ax_iter.set_title(title)"
   ]
  },
  {
   "cell_type": "code",
   "execution_count": null,
   "metadata": {
    "scrolled": true
   },
   "outputs": [],
   "source": [
    "compare(['results/remote/RCFR/kuhn/1553957872_3_8', 'results/remote/kuhn_20190120/1547765102_3_8'],\n",
    "        xlims = (0, 15000), ylims = (0, 0.02), legend = ['RCFR', 'SCFR'], title = 'Kuhn 3_8')\n",
    "compare(['results/remote/RCFR/kuhn/1553957872_3_8', 'results/remote/kuhn_short_20190121/1548008650_3_8'],\n",
    "        xlims = (0, 15000), ylims = (0, 0.02), legend = ['RCFR', 'SCFR'], title = 'Kuhn 3_8')\n",
    "compare(['results/remote/RCFR/kuhn/1553957868_3_7', 'results/remote/kuhn_20190120/1547765096_3_7'],\n",
    "        xlims = (0, 7000), ylims = (0, 0.02), legend = ['RCFR', 'SCFR'], title = 'Kuhn 3_7')"
   ]
  },
  {
   "cell_type": "code",
   "execution_count": null,
   "metadata": {},
   "outputs": [],
   "source": [
    "compare(['results/remote/RCFR/kuhn/1553957883_3_10', 'results/remote/RCFR_notopt/kuhn/1554108461_3_10'],\n",
    "        xlims = (0, 10000), legend = ['RCFR', 'RCFR_nopt'], title = 'Kuhn 3_10')"
   ]
  },
  {
   "cell_type": "code",
   "execution_count": null,
   "metadata": {
    "scrolled": true
   },
   "outputs": [],
   "source": [
    "compare(['results/remote/RCFR/kuhn/1553957872_3_8', 'results/remote/RCFR_notopt/kuhn/1554108461_3_8',\n",
    "         'results/remote/kuhn_20190120/1547765102_3_8'],\n",
    "        xlims = (0, 5000), legend = ['RCFR', 'RCFR_nopt', 'SCFR'], title = 'Kuhn 3_8')\n",
    "compare(['results/remote/RCFR/kuhn/1553957872_3_8', 'results/remote/RCFR_notopt/kuhn/1554108461_3_8',\n",
    "         'results/remote/kuhn_20190120/1547765102_3_8'],\n",
    "        xlims = (0, 1000), ylims = (0, 0.05), legend = ['RCFR', 'RCFR_nopt', 'SCFR'], title = 'Kuhn 3_8')"
   ]
  },
  {
   "cell_type": "code",
   "execution_count": null,
   "metadata": {
    "scrolled": true
   },
   "outputs": [],
   "source": [
    "compare(['results/remote/RCFR_notopt/goofspiel/1554199851_3_4', \n",
    "         'results/remote/goofspiel_long_20180122/1548105218_3_4'], legend = [\"RCFR_nopt\", \"SCFR\"],\n",
    "         title = \"Goofspiel 3_4\")\n",
    "\n",
    "compare(['results/remote/RCFR_notopt/goofspiel/1554382206_3_4', \n",
    "         'results/remote/goofspiel_long_20180122/1548105218_3_4'], legend = [\"RCFR_nopt\", \"SCFR\"],\n",
    "         title = \"Goofspiel 3_4\")"
   ]
  },
  {
   "cell_type": "code",
   "execution_count": null,
   "metadata": {},
   "outputs": [],
   "source": [
    "compare(['results/remote/RCFR_notopt/hanabi/1554413019_2_2_[2_1]_1_1', \n",
    "         'results/remote/SCFR_hanabi/hanabi/1554461737_2_2_[2_1]_1_1'], legend = [\"RCFR_nopt\", \"SCFR\"],\n",
    "         title = \"Hanabi 2 colors [2, 1] distribution\")"
   ]
  },
  {
   "cell_type": "code",
   "execution_count": null,
   "metadata": {},
   "outputs": [],
   "source": [
    "compare(['results/remote/hanabi_tests/RCFR_nopt/hanabi/1554739324_3_1_[2_2_1]_1_1',\n",
    "         'results/remote/hanabi_tests/SCFR/hanabi/1554739324_3_1_[2_2_1]_1_1'], ylims = (0, 0.02), \n",
    "        legend = [\"RCFR\", \"SCFR\"])"
   ]
  },
  {
   "cell_type": "code",
   "execution_count": null,
   "metadata": {},
   "outputs": [],
   "source": [
    "compare(['results/remote/hanabi_tests/RCFR/hanabi/1554830690_2_1_[2_2_1]_1_1',\n",
    "         'results/remote/hanabi_tests/RCFR_nopt/hanabi/1554830690_2_1_[2_2_1]_1_1',\n",
    "         'results/remote/hanabi_tests/SCFR/hanabi/1554830690_2_1_[2_2_1]_1_1'], \n",
    "         legend = [\"RCFR\", \"RCFR_nopt\", \"SCFR\"], xlims = (0, 10000), ylims = (0, 0.05))"
   ]
  },
  {
   "cell_type": "code",
   "execution_count": null,
   "metadata": {},
   "outputs": [],
   "source": [
    "compare(['results/remote/hanabi_tests/SCFR/hanabi/1554741241_3_2_[2_1]_1_1',\n",
    "         'results/remote/hanabi_tests/RCFR_nopt/hanabi/1554741154_3_2_[2_1]_1_1'], \n",
    "         legend = [\"SCFR\", \"RCFR_nopt\"])"
   ]
  },
  {
   "cell_type": "code",
   "execution_count": null,
   "metadata": {},
   "outputs": [],
   "source": [
    "compare(['results/remote/hanabi_tests/RCFR_nopt/hanabi/1554831012_2_2_[2_1]_1_1',\n",
    "         'results/remote/hanabi_tests/SCFR/hanabi/1554831004_2_2_[2_1]_1_1'], ylims = (0, 0.2), \n",
    "        legend = [\"RCFR_nopt\", \"SCFR\"])"
   ]
  },
  {
   "cell_type": "markdown",
   "metadata": {},
   "source": [
    "---"
   ]
  },
  {
   "cell_type": "markdown",
   "metadata": {},
   "source": [
    "## SCFR/CFR/CFR+ comparisons"
   ]
  },
  {
   "cell_type": "code",
   "execution_count": null,
   "metadata": {},
   "outputs": [],
   "source": [
    "import numpy as np"
   ]
  },
  {
   "cell_type": "code",
   "execution_count": null,
   "metadata": {},
   "outputs": [],
   "source": [
    "def compare_algorithms(filename, filename_cfr, filename_cfr_plus, cumsum_durations = False):\n",
    "    file = open(filename, \"r\")\n",
    "    data = json.load(file)\n",
    "    file.close()\n",
    "\n",
    "    file_cfr = open(filename_cfr, \"r\")\n",
    "    data_cfr = json.load(file_cfr)\n",
    "    file_cfr.close()\n",
    "\n",
    "    file_cfr_plus = open(filename_cfr_plus, \"r\")\n",
    "    data_cfr_plus = json.load(file_cfr_plus)\n",
    "    file_cfr_plus.close()    \n",
    "\n",
    "    durations = list(map(lambda el: el['duration'], data['data']))\n",
    "    durations_cfr = list(map(lambda el: el['duration'], data_cfr['data']))\n",
    "    durations_cfr_plus = list(map(lambda el: el['duration'], data_cfr_plus['data']))\n",
    "\n",
    "    du = delta_utility(data['parameters']['game'], data['parameters']['players'], data['parameters']['rank'],\n",
    "                   data['parameters']['betting_parameters'])\n",
    "    du_cfr = delta_utility(data_cfr['parameters']['game'], data_cfr['parameters']['players'], \n",
    "                           data_cfr['parameters']['rank'], data_cfr['parameters']['betting_parameters'])\n",
    "    du_cfr_plus = delta_utility(data_cfr_plus['parameters']['game'], data_cfr_plus['parameters']['players'], \n",
    "                           data_cfr_plus['parameters']['rank'], data_cfr_plus['parameters']['betting_parameters'])\n",
    "\n",
    "    iteration_counts = list(map(lambda el: el['iteration_number'], data['data']))\n",
    "    epsilons = list(map(lambda el: max(0, -min(el['epsilon'])), data['data']))\n",
    "    percent_epsilons = list(map(lambda el: el / du, epsilons))\n",
    "    iteration_counts_cfr = list(map(lambda el: el['iteration_number'], data_cfr['data']))\n",
    "    epsilons_cfr = list(map(lambda el: max(0, -min(el['epsilon'])), data_cfr['data']))\n",
    "    percent_epsilons_cfr = list(map(lambda el: el / du_cfr, epsilons_cfr))\n",
    "    iteration_counts_cfr_plus = list(map(lambda el: el['iteration_number'], data_cfr_plus['data']))\n",
    "    epsilons_cfr_plus = list(map(lambda el: max(0, -min(el['epsilon'])), data_cfr_plus['data']))\n",
    "    percent_epsilons_cfr_plus = list(map(lambda el: el / du_cfr_plus, epsilons_cfr_plus))\n",
    "    utilities = list(map(lambda el: el['utility'], data['data']))\n",
    "    utilities_cfr = list(map(lambda el: el['utility'], data_cfr['data']))\n",
    "    utilities_cfr_plus = list(map(lambda el: el['utility'], data_cfr_plus['data']))\n",
    "\n",
    "    print(data['parameters'])\n",
    "    if 'total_duration' in data:\n",
    "        print(\"Duration = \" + str(data['total_duration']) + \" seconds\")\n",
    "        print(\"Utility = \" + str(data['utility']))\n",
    "        print(\"Social welfare = \" + str(sum(data['utility'])))\n",
    "        print(\"Max delta utility = \" + str(max(data['utility']) - min(data['utility'])))\n",
    "    else:\n",
    "        print(\"--- Computation was stopped before the end ---\")\n",
    "        print(\"Duration = \" + str(sum(durations)) + \" seconds\")\n",
    "        print(\"Last logged utility = \" + str(utilities[len(utilities)-1]))\n",
    "        print(\"Social welfare = \" + str(sum(utilities[len(utilities)-1])))\n",
    "        print(\"Max delta utility = \" + str(max(utilities[len(utilities)-1]) - min(utilities[len(utilities)-1])))\n",
    "    print('')\n",
    "    print(data_cfr['parameters'])\n",
    "    if 'total_duration' in data_cfr:\n",
    "        print(\"Duration = \" + str(data_cfr['total_duration']) + \" seconds\")\n",
    "        print(\"Utility = \" + str(data_cfr['utility']))\n",
    "        print(\"Social welfare = \" + str(sum(data_cfr['utility'])))\n",
    "        print(\"Max delta utility = \" + str(max(data_cfr['utility']) - min(data_cfr['utility'])))\n",
    "    else:\n",
    "        print(\"--- Computation was stopped before the end ---\")\n",
    "        print(\"Duration = \" + str(sum(durations_cfr)) + \" seconds\")\n",
    "        print(\"Last logged utility = \" + str(utilities_cfr[len(utilities_cfr)-1]))\n",
    "        print(\"Social welfare = \" + str(sum(utilities_cfr[len(utilities_cfr)-1])))\n",
    "        print(\"Max delta utility = \" + str(max(utilities_cfr[len(utilities_cfr)-1]) - \\\n",
    "                                           min(utilities_cfr[len(utilities_cfr)-1])))\n",
    "    print('')\n",
    "    print(data_cfr_plus['parameters'])\n",
    "    if 'total_duration' in data_cfr_plus:\n",
    "        print(\"Duration = \" + str(data_cfr_plus['total_duration']) + \" seconds\")\n",
    "        print(\"Utility = \" + str(data_cfr_plus['utility']))\n",
    "        print(\"Social welfare = \" + str(sum(data_cfr_plus['utility'])))\n",
    "        print(\"Max delta utility = \" + str(max(data_cfr_plus['utility']) - min(data_cfr_plus['utility'])))\n",
    "    else:\n",
    "        print(\"--- Computation was stopped before the end ---\")\n",
    "        print(\"Duration = \" + str(sum(durations_cfr_plus)) + \" seconds\")\n",
    "        print(\"Last logged utility = \" + str(utilities_cfr_plus[len(utilities_cfr_plus)-1]))\n",
    "        print(\"Social welfare = \" + str(sum(utilities_cfr_plus[len(utilities_cfr_plus)-1])))\n",
    "        print(\"Max delta utility = \" + str(max(utilities_cfr_plus[len(utilities_cfr_plus)-1]) - \\\n",
    "                                           min(utilities_cfr_plus[len(utilities_cfr_plus)-1])))\n",
    "    print('')\n",
    "\n",
    "    #plt.plot(iteration_counts, epsilons)\n",
    "    #plt.plot(iteration_counts_cfr, epsilons_cfr)\n",
    "    #plt.plot(iteration_counts_cfr_plus, epsilons_cfr_plus)\n",
    "    #plt.show()\n",
    "    \n",
    "    plt.plot(iteration_counts, percent_epsilons)\n",
    "    plt.plot(iteration_counts_cfr, percent_epsilons_cfr)\n",
    "    plt.plot(iteration_counts_cfr_plus, percent_epsilons_cfr_plus)\n",
    "    plt.legend(['scfr','cfr', 'cfr+'])\n",
    "    plt.show()\n",
    "    \n",
    "    plt.plot(np.cumsum(durations), percent_epsilons)\n",
    "    plt.plot(np.cumsum(durations_cfr) if cumsum_durations else durations_cfr, percent_epsilons_cfr)\n",
    "    plt.plot(np.cumsum(durations_cfr_plus) if cumsum_durations else durations_cfr_plus, percent_epsilons_cfr_plus)\n",
    "    plt.legend(['scfr','cfr', 'cfr+'])\n",
    "    plt.show()"
   ]
  },
  {
   "cell_type": "code",
   "execution_count": null,
   "metadata": {},
   "outputs": [],
   "source": [
    "compare_algorithms('results/remote/goofspiel_cfr_comparisons_20190122/goofspiel_3_4_scfr_accumulate',\n",
    "                   'results/remote/goofspiel_cfr_comparisons_20190122/goofspiel_3_4_cfr_accumulate',\n",
    "                   'results/remote/goofspiel_cfr_comparisons_20190122/goofspiel_3_4_cfr_plus_accumulate')"
   ]
  },
  {
   "cell_type": "code",
   "execution_count": null,
   "metadata": {},
   "outputs": [],
   "source": [
    "compare_algorithms('results/remote/goofspiel_cfr_comparisons_20190122/goofspiel_3_3_scfr_accumulate',\n",
    "                   'results/remote/goofspiel_cfr_comparisons_20190122/goofspiel_3_3_cfr_accumulate',\n",
    "                   'results/remote/goofspiel_cfr_comparisons_20190122/goofspiel_3_3_cfr_plus_accumulate',\n",
    "                   cumsum_durations = True)"
   ]
  },
  {
   "cell_type": "code",
   "execution_count": null,
   "metadata": {},
   "outputs": [],
   "source": [
    "compare_algorithms('results/remote/goofspiel_cfr_comparisons_20190122/goofspiel_3_3_scfr_discard_if_all',\n",
    "                   'results/remote/goofspiel_cfr_comparisons_20190122/goofspiel_3_3_cfr_discard_if_all', \n",
    "                   'results/remote/goofspiel_cfr_comparisons_20190122/goofspiel_3_3_cfr_plus_discard_if_all',\n",
    "                   cumsum_durations = True)"
   ]
  },
  {
   "cell_type": "code",
   "execution_count": null,
   "metadata": {},
   "outputs": [],
   "source": [
    "compare_algorithms('results/remote/goofspiel_cfr_comparisons_20190122/goofspiel_3_3_scfr_discard_if_high',\n",
    "                   'results/remote/goofspiel_cfr_comparisons_20190122/goofspiel_3_3_cfr_discard_if_high',\n",
    "                   'results/remote/goofspiel_cfr_comparisons_20190122/goofspiel_3_3_cfr_plus_discard_if_high',\n",
    "                   cumsum_durations = True)"
   ]
  },
  {
   "cell_type": "code",
   "execution_count": null,
   "metadata": {},
   "outputs": [],
   "source": [
    "compare_algorithms('results/remote/goofspiel_cfr_comparisons_20190122/goofspiel_3_3_scfr_discard_always',\n",
    "                   'results/remote/goofspiel_cfr_comparisons_20190122/goofspiel_3_3_cfr_discard_always',\n",
    "                   'results/remote/goofspiel_cfr_comparisons_20190122/goofspiel_3_3_cfr_plus_discard_always',\n",
    "                   cumsum_durations = True)"
   ]
  },
  {
   "cell_type": "code",
   "execution_count": null,
   "metadata": {},
   "outputs": [],
   "source": [
    "compare_algorithms('results/remote/goofspiel_long_20180122/1548105233_3_4',\n",
    "                   'results/remote/goofspiel_cfr_comparisons_20190122/goofspiel_3_4_cfr_discard_always_ALBO',\n",
    "                   'results/remote/goofspiel_cfr_comparisons_20190122/goofspiel_3_4_cfr_plus_discard_always_ALBO',\n",
    "                   cumsum_durations = True)"
   ]
  },
  {
   "cell_type": "code",
   "execution_count": null,
   "metadata": {},
   "outputs": [],
   "source": [
    "compare_algorithms('results/remote/goofspiel_long_20180122/1548105230_3_4',\n",
    "                   'results/remote/goofspiel_cfr_comparisons_20190122/goofspiel_3_4_cfr_discard_if_high_ALBO',\n",
    "                   'results/remote/goofspiel_cfr_comparisons_20190122/goofspiel_3_4_cfr_plus_discard_if_high_ALBO',\n",
    "                   cumsum_durations = True)"
   ]
  },
  {
   "cell_type": "code",
   "execution_count": null,
   "metadata": {},
   "outputs": [],
   "source": [
    "compare_algorithms('results/remote/goofspiel_long_20180122/1548105224_3_4',\n",
    "                   'results/remote/goofspiel_cfr_comparisons_20190122/goofspiel_3_4_cfr_discard_if_all_ALBO',\n",
    "                   'results/remote/goofspiel_cfr_comparisons_20190122/goofspiel_3_4_cfr_plus_discard_if_all_ALBO',\n",
    "                   cumsum_durations = True)"
   ]
  },
  {
   "cell_type": "markdown",
   "metadata": {},
   "source": [
    "## Data to CSV for tikz"
   ]
  },
  {
   "cell_type": "code",
   "execution_count": null,
   "metadata": {},
   "outputs": [],
   "source": [
    "f1 = open('results/remote/goofspiel_long_20180122/1548105233_3_4', 'r')\n",
    "f2 = open('results/remote/goofspiel_cfr_comparisons_20190122/goofspiel_3_4_cfr_discard_always_ALBO', 'r')\n",
    "f3 = open('results/remote/goofspiel_cfr_comparisons_20190122/goofspiel_3_4_cfr_plus_discard_always_ALBO', 'r')\n",
    "\n",
    "f4 = open('results/remote/goofspiel_cfr_comparisons_20190122/goofspiel_3_4_scfr_accumulate', 'r')\n",
    "f5 = open('results/remote/goofspiel_cfr_comparisons_20190122/goofspiel_3_4_cfr_accumulate', 'r')\n",
    "f6 = open('results/remote/goofspiel_cfr_comparisons_20190122/goofspiel_3_4_cfr_plus_accumulate', 'r')\n",
    "\n",
    "data1 = json.load(f1)\n",
    "data2 = json.load(f2)\n",
    "data3 = json.load(f3)\n",
    "\n",
    "data4 = json.load(f4)\n",
    "data5 = json.load(f5)\n",
    "data6 = json.load(f6)\n",
    "\n",
    "durations1 = list(map(lambda el: el['duration'], data1['data']))\n",
    "durations2 = list(map(lambda el: el['duration'], data2['data']))\n",
    "durations3 = list(map(lambda el: el['duration'], data3['data']))\n",
    "\n",
    "durations4 = list(map(lambda el: el['duration'], data4['data']))\n",
    "durations5 = list(map(lambda el: el['duration'], data5['data']))\n",
    "durations6 = list(map(lambda el: el['duration'], data6['data']))\n",
    "\n",
    "du = delta_utility('goofspiel', 3, 4)\n",
    "\n",
    "with open(\"cfr_comparison_3_4_discard_always_scfr.csv\", 'w') as o:\n",
    "    o.write('iteration, epsilon, t\\n')\n",
    "    \n",
    "    for i in range(len(data1['data'])):\n",
    "        d = data1['data'][i]\n",
    "        o.write(str(d['iteration_number']) + ', ' + str(-min(d['epsilon']) / du) + ', ' + \\\n",
    "                str(sum(durations1[:i+1])) + \"\\n\")\n",
    "        \n",
    "with open(\"cfr_comparison_3_4_discard_always_cfr.csv\", 'w') as o:\n",
    "    o.write('iteration, epsilon, t\\n')\n",
    "    \n",
    "    for i in range(len(data2['data'])):\n",
    "        d = data2['data'][i]\n",
    "        o.write(str(d['iteration_number']) + ', ' + str(-min(d['epsilon']) / du) + ', ' + \\\n",
    "                str(sum(durations2[:i+1])) + \"\\n\")\n",
    "        \n",
    "with open(\"cfr_comparison_3_4_discard_always_cfr_plus.csv\", 'w') as o:\n",
    "    o.write('iteration, epsilon, t\\n')\n",
    "    \n",
    "    for i in range(len(data3['data'])):\n",
    "        d = data3['data'][i]\n",
    "        o.write(str(d['iteration_number']) + ', ' + str(-min(d['epsilon']) / du) + ', ' + \\\n",
    "                str(sum(durations3[:i+1])) + \"\\n\")\n",
    "\n",
    "with open(\"cfr_comparison_3_4_accumulate.csv\", 'w') as o:\n",
    "    o.write('iteration, scfr, cfr, cfr+\\n')\n",
    "    \n",
    "    iterations = list(map(lambda el: el['iteration_number'], data4['data']))\n",
    "    epsilons4 = list(map(lambda el: -min(el['epsilon']) / du, data4['data']))\n",
    "    epsilons5 = list(map(lambda el: -min(el['epsilon']) / du, data5['data']))\n",
    "    epsilons6 = list(map(lambda el: -min(el['epsilon']) / du, data6['data']))\n",
    "    \n",
    "    for (it, s, c, cp) in zip(iterations, epsilons4, epsilons5, epsilons6):\n",
    "        o.write(str(it) + ', ' + str(s) + ', ' + str(c) + ', ' + str(cp) + '\\n')\n",
    "        \n",
    "f1.close()\n",
    "f2.close()\n",
    "f3.close()\n",
    "\n",
    "f4.close()\n",
    "f5.close()\n",
    "f6.close()"
   ]
  },
  {
   "cell_type": "code",
   "execution_count": 29,
   "metadata": {},
   "outputs": [],
   "source": [
    "nips_data_folder  = \"../../../../Dropbox/Honours Programme/Shared Material/Nips-19/imgs/data/\""
   ]
  },
  {
   "cell_type": "code",
   "execution_count": 30,
   "metadata": {},
   "outputs": [],
   "source": [
    "def print_csv(name1, name2, name3):\n",
    "    f1 = open(name1, 'r')\n",
    "    f2 = open(name2, 'r')\n",
    "    f3 = open(name3, 'r')\n",
    "\n",
    "    data1 = json.load(f1)\n",
    "    data2 = json.load(f2)\n",
    "    data3 = json.load(f3)\n",
    "\n",
    "    durations1 = list(map(lambda el: el['duration'], data1['data']))\n",
    "    durations2 = list(map(lambda el: el['duration'], data2['data']))\n",
    "    durations3 = list(map(lambda el: el['duration'], data3['data']))\n",
    "\n",
    "    du = delta_utility('goofspiel', 3, 4)\n",
    "\n",
    "    shortest_run = min(sum(durations1), sum(durations2), sum(durations3))\n",
    "    \n",
    "    ts = data1['parameters']['tie_solver']\n",
    "\n",
    "    with open(icml_data_folder + \"cfr_comparison_3_4_\" + ts + \"_scfr.csv\", 'w') as o:\n",
    "        o.write('iteration, epsilon, t\\n')\n",
    "\n",
    "        for i in range(len(data1['data'])):\n",
    "            if sum(durations1[:i+1]) > shortest_run:\n",
    "                break\n",
    "\n",
    "            d = data1['data'][i]\n",
    "            o.write(str(d['iteration_number']) + ', ' + str(-min(d['epsilon'] + [0]) / du) + ', ' + \\\n",
    "                    str(sum(durations1[:i+1])) + \"\\n\")\n",
    "\n",
    "    with open(icml_data_folder + \"cfr_comparison_3_4_\" + ts + \"_cfr.csv\", 'w') as o:\n",
    "        o.write('iteration, epsilon, t\\n')\n",
    "\n",
    "        for i in range(len(data2['data'])):\n",
    "            if sum(durations2[:i+1]) > shortest_run:\n",
    "                break\n",
    "\n",
    "            d = data2['data'][i]\n",
    "            o.write(str(d['iteration_number']) + ', ' + str(-min(d['epsilon'] + [0]) / du) + ', ' + \\\n",
    "                    str(sum(durations2[:i+1])) + \"\\n\")\n",
    "\n",
    "    with open(icml_data_folder + \"cfr_comparison_3_4_\" + ts + \"_cfr_plus.csv\", 'w') as o:\n",
    "        o.write('iteration, epsilon, t\\n')\n",
    "\n",
    "        for i in range(len(data3['data'])):\n",
    "            if sum(durations3[:i+1]) > shortest_run:\n",
    "                break\n",
    "\n",
    "            d = data3['data'][i]\n",
    "            o.write(str(d['iteration_number']) + ', ' + str(-min(d['epsilon'] + [0]) / du) + ', ' + \\\n",
    "                    str(sum(durations3[:i+1])) + \"\\n\")\n",
    "\n",
    "    f1.close()\n",
    "    f2.close()\n",
    "    f3.close()"
   ]
  },
  {
   "cell_type": "code",
   "execution_count": null,
   "metadata": {},
   "outputs": [],
   "source": [
    "print_csv('results/remote/goofspiel_long_20180122/1548105233_3_4',\n",
    "          'results/remote/goofspiel_cfr_comparisons_20190122/goofspiel_3_4_cfr_discard_always_ALBO',\n",
    "          'results/remote/goofspiel_cfr_comparisons_20190122/goofspiel_3_4_cfr_plus_discard_always_ALBO')"
   ]
  },
  {
   "cell_type": "code",
   "execution_count": null,
   "metadata": {},
   "outputs": [],
   "source": [
    "print_csv('results/remote/goofspiel_long_20180122/1548105230_3_4',\n",
    "                   'results/remote/goofspiel_cfr_comparisons_20190122/goofspiel_3_4_cfr_discard_if_high_ALBO',\n",
    "                   'results/remote/goofspiel_cfr_comparisons_20190122/goofspiel_3_4_cfr_plus_discard_if_high_ALBO')"
   ]
  },
  {
   "cell_type": "code",
   "execution_count": null,
   "metadata": {},
   "outputs": [],
   "source": [
    "print_csv('results/remote/goofspiel_long_20180122/1548105224_3_4',\n",
    "                   'results/remote/goofspiel_cfr_comparisons_20190122/goofspiel_3_4_cfr_discard_if_all_ALBO',\n",
    "                   'results/remote/goofspiel_cfr_comparisons_20190122/goofspiel_3_4_cfr_plus_discard_if_all_ALBO')"
   ]
  },
  {
   "cell_type": "code",
   "execution_count": null,
   "metadata": {},
   "outputs": [],
   "source": []
  },
  {
   "cell_type": "code",
   "execution_count": null,
   "metadata": {},
   "outputs": [],
   "source": []
  },
  {
   "cell_type": "markdown",
   "metadata": {},
   "source": [
    "## CSVs for tikz for NeurIPS"
   ]
  },
  {
   "cell_type": "code",
   "execution_count": 89,
   "metadata": {},
   "outputs": [],
   "source": [
    "def print_csv(path, filenames, result_files, x_callback, y_callback, use_full_x_callback = False):\n",
    "    data = [json.load(open(res_file, 'r')) for res_file in result_files]\n",
    "    \n",
    "    if use_full_x_callback == True:\n",
    "        x_values = [x_callback(d['data']) for d in data]\n",
    "    else:\n",
    "        x_values = [list(map(lambda el: x_callback(el), d['data'])) for d in data]\n",
    "    y_values = [list(map(lambda el: y_callback(el), d['data'])) for d in data]\n",
    "    \n",
    "    for i in range(len(data)):\n",
    "        with open(path + filenames[i] + \".csv\", 'w') as o:\n",
    "            o.write('x,y\\n')\n",
    "\n",
    "            for t in range(len(x_values[i])):\n",
    "                o.write(str(x_values[i][t]) + ',' + str(y_values[i][t]) + '\\n')"
   ]
  },
  {
   "cell_type": "code",
   "execution_count": 105,
   "metadata": {},
   "outputs": [],
   "source": [
    "def print_csv_avg(path, filename, result_files, x_callback, y_callback, use_full_x_callback = False):\n",
    "    data = [json.load(open(res_file, 'r')) for res_file in result_files]\n",
    "    \n",
    "    if use_full_x_callback == True:\n",
    "        x_values = [x_callback(d['data']) for d in data]\n",
    "    else:\n",
    "        x_values = [list(map(lambda el: x_callback(el), d['data'])) for d in data]\n",
    "    y_values = [list(map(lambda el: y_callback(el), d['data'])) for d in data]\n",
    "    \n",
    "    with open(path + filename + \".csv\", 'w') as o:\n",
    "        o.write('x,y_mean,y_upper,y_lower\\n')\n",
    "\n",
    "        for t in range(min(map(lambda el: len(el), x_values))):\n",
    "            mean = np.mean([y_val[t] for y_val in y_values])\n",
    "            std = np.std([y_val[t] for y_val in y_values])\n",
    "            lower = max(mean - std, 0)\n",
    "            upper = mean + std\n",
    "            o.write(str(x_values[i][t]) + ',' + str(mean) + ',' + str(upper) + ',' + str(lower) + ',' + '\\n')"
   ]
  },
  {
   "cell_type": "code",
   "execution_count": 56,
   "metadata": {},
   "outputs": [],
   "source": [
    "nips_data_folder  = \"../../../../Dropbox/Honours Programme/Shared Material/NIPS-19/imgs/data/\""
   ]
  },
  {
   "cell_type": "code",
   "execution_count": 62,
   "metadata": {},
   "outputs": [],
   "source": [
    "print_csv(nips_data_folder, ['goofspiel_2_4_rcfr', 'goofspiel_2_4_cfr'],\n",
    "          ['results/remote/goofspiel_RCFR_nopt/goofspiel/1557389973_2_4_DiscardAlways',\n",
    "           'results/remote/goofspiel_CFR_new/goofspiel/1557392468_2_4_DiscardAlways'],\n",
    "          lambda el: el['iteration_number'], lambda el: -min(el['epsilon']) / 10)"
   ]
  },
  {
   "cell_type": "code",
   "execution_count": 106,
   "metadata": {},
   "outputs": [],
   "source": [
    "print_csv_avg(nips_data_folder, 'goofspiel_2_4_scfr_avg',\n",
    "              ['results/remote/nips/SCFR/goofspiel/1558511903_2_4_DiscardAlways',\n",
    "               'results/remote/nips/SCFR/goofspiel/1558511903_2_4_DiscardAlways_',\n",
    "               'results/remote/nips/SCFR/goofspiel/1558511904_2_4_DiscardAlways',\n",
    "               'results/remote/nips/SCFR/goofspiel/1558511905_2_4_DiscardAlways',\n",
    "               'results/remote/nips/SCFR/goofspiel/1558511905_2_4_DiscardAlways_',\n",
    "               'results/remote/nips/SCFR/goofspiel/1558511906_2_4_DiscardAlways',\n",
    "               'results/remote/nips/SCFR/goofspiel/1558511907_2_4_DiscardAlways',\n",
    "               'results/remote/nips/SCFR/goofspiel/1558511907_2_4_DiscardAlways_',\n",
    "               'results/remote/nips/SCFR/goofspiel/1558511908_2_4_DiscardAlways',\n",
    "               'results/remote/nips/SCFR/goofspiel/1558511909_2_4_DiscardAlways'],\n",
    "               lambda el: el['iteration_number'], lambda el: max(0, -min(el['epsilon'])) / 10)"
   ]
  },
  {
   "cell_type": "code",
   "execution_count": 63,
   "metadata": {},
   "outputs": [],
   "source": [
    "print_csv(nips_data_folder, ['goofspiel_2_4_rcfr_sw', 'goofspiel_2_4_cfr_sw'],\n",
    "          ['results/remote/goofspiel_RCFR_nopt/goofspiel/1557389973_2_4_DiscardAlways',\n",
    "           'results/remote/goofspiel_CFR_new/goofspiel/1557392468_2_4_DiscardAlways'],\n",
    "          lambda el: el['iteration_number'], lambda el: sum(el['utility']) / 10)"
   ]
  },
  {
   "cell_type": "code",
   "execution_count": 120,
   "metadata": {},
   "outputs": [],
   "source": [
    "print_csv_avg(nips_data_folder, 'goofspiel_2_4_scfr_sw_avg',\n",
    "              ['results/remote/nips/SCFR/goofspiel/1558511903_2_4_DiscardAlways',\n",
    "               'results/remote/nips/SCFR/goofspiel/1558511903_2_4_DiscardAlways_',\n",
    "               'results/remote/nips/SCFR/goofspiel/1558511904_2_4_DiscardAlways',\n",
    "               'results/remote/nips/SCFR/goofspiel/1558511905_2_4_DiscardAlways',\n",
    "               'results/remote/nips/SCFR/goofspiel/1558511905_2_4_DiscardAlways_',\n",
    "               'results/remote/nips/SCFR/goofspiel/1558511906_2_4_DiscardAlways',\n",
    "               'results/remote/nips/SCFR/goofspiel/1558511907_2_4_DiscardAlways',\n",
    "               'results/remote/nips/SCFR/goofspiel/1558511907_2_4_DiscardAlways_',\n",
    "               'results/remote/nips/SCFR/goofspiel/1558511908_2_4_DiscardAlways',\n",
    "               'results/remote/nips/SCFR/goofspiel/1558511909_2_4_DiscardAlways'],\n",
    "               lambda el: el['iteration_number'], lambda el: sum(el['utility']) / 10)"
   ]
  },
  {
   "cell_type": "code",
   "execution_count": 64,
   "metadata": {},
   "outputs": [],
   "source": [
    "print_csv(nips_data_folder, \n",
    "          ['rec_rate_1_iterations', 'rec_rate_2_iterations', 'rec_rate_5_iterations', 'rec_rate_10_iterations', \n",
    "           'rec_rate_20_iterations', 'rec_rate_50_iterations', 'rec_rate_100_iterations'],\n",
    "          ['results/prova/kuhn/1558470999_3_6_rate1',\n",
    "           'results/prova/kuhn/1558470107_3_6_rate2',\n",
    "           'results/prova/kuhn/1558471014_3_6_rate5',\n",
    "           'results/prova/kuhn/1558471021_3_6_rate10',\n",
    "           'results/prova/kuhn/1558469688_3_6_rate20',\n",
    "           'results/prova/kuhn/1558471031_3_6_rate50',\n",
    "           'results/prova/kuhn/1558471039_3_6_rate100'],\n",
    "           lambda el: el['iteration_number'], lambda el: -min(el['epsilon']) / 6)"
   ]
  },
  {
   "cell_type": "code",
   "execution_count": 91,
   "metadata": {},
   "outputs": [],
   "source": [
    "def map_time(d):\n",
    "    durations = list(map(lambda el: el['duration'], d))\n",
    "    return [sum(durations[:i+1]) for i in range(len(durations))]\n",
    "\n",
    "print_csv(nips_data_folder, \n",
    "          ['rec_rate_1_time', 'rec_rate_2_time', 'rec_rate_5_time', 'rec_rate_10_time', \n",
    "           'rec_rate_20_time', 'rec_rate_50_time', 'rec_rate_100_time'],\n",
    "          ['results/prova/kuhn/1558470999_3_6_rate1',\n",
    "           'results/prova/kuhn/1558470107_3_6_rate2',\n",
    "           'results/prova/kuhn/1558471014_3_6_rate5',\n",
    "           'results/prova/kuhn/1558471021_3_6_rate10',\n",
    "           'results/prova/kuhn/1558469688_3_6_rate20',\n",
    "           'results/prova/kuhn/1558471031_3_6_rate50',\n",
    "           'results/prova/kuhn/1558471039_3_6_rate100'],\n",
    "           lambda d: map_time(d), lambda el: -min(el['epsilon']) / 6, use_full_x_callback = True)"
   ]
  },
  {
   "cell_type": "code",
   "execution_count": 59,
   "metadata": {},
   "outputs": [],
   "source": [
    "print_csv(nips_data_folder, \n",
    "          ['rec_rate_1_size', 'rec_rate_2_size', 'rec_rate_5_size', 'rec_rate_10_size', \n",
    "           'rec_rate_20_size', 'rec_rate_50_size', 'rec_rate_100_size'],\n",
    "          ['results/prova/kuhn/1558470999_3_6_rate1',\n",
    "           'results/prova/kuhn/1558470107_3_6_rate2',\n",
    "           'results/prova/kuhn/1558471014_3_6_rate5',\n",
    "           'results/prova/kuhn/1558471021_3_6_rate10',\n",
    "           'results/prova/kuhn/1558469688_3_6_rate20',\n",
    "           'results/prova/kuhn/1558471031_3_6_rate50',\n",
    "           'results/prova/kuhn/1558471039_3_6_rate100'],\n",
    "           lambda el: el['iteration_number'], lambda el: el['joint_support_size'])"
   ]
  },
  {
   "cell_type": "code",
   "execution_count": null,
   "metadata": {},
   "outputs": [],
   "source": []
  }
 ],
 "metadata": {
  "kernelspec": {
   "display_name": "Python 3",
   "language": "python",
   "name": "python3"
  },
  "language_info": {
   "codemirror_mode": {
    "name": "ipython",
    "version": 3
   },
   "file_extension": ".py",
   "mimetype": "text/x-python",
   "name": "python",
   "nbconvert_exporter": "python",
   "pygments_lexer": "ipython3",
   "version": "3.5.2"
  }
 },
 "nbformat": 4,
 "nbformat_minor": 2
}
